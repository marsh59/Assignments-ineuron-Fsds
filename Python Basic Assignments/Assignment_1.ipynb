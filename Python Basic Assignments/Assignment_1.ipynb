{
 "cells": [
  {
   "cell_type": "markdown",
   "id": "72776c18",
   "metadata": {},
   "source": [
    "### 1. In the below elements which of them are values or an expression? eg:- values ### can be\n",
    "### integer or string and expressions will be mathematical operators.\n",
    "### *\n",
    "### 'hello'\n",
    "### -87.8\n",
    "### -\n",
    "### /\n",
    "### +\n",
    "### 6"
   ]
  },
  {
   "cell_type": "code",
   "execution_count": null,
   "id": "3ade9de5",
   "metadata": {},
   "outputs": [],
   "source": []
  },
  {
   "cell_type": "markdown",
   "id": "bb195b41",
   "metadata": {},
   "source": [
    "#### solution"
   ]
  },
  {
   "cell_type": "code",
   "execution_count": null,
   "id": "8990e34a",
   "metadata": {},
   "outputs": [],
   "source": [
    "['hello' , -87.8 , 6 ] are the values.\n",
    "[- , /, +, * ]   are the expressions"
   ]
  },
  {
   "cell_type": "code",
   "execution_count": null,
   "id": "e8e7d50c",
   "metadata": {},
   "outputs": [],
   "source": []
  },
  {
   "cell_type": "markdown",
   "id": "2f385680",
   "metadata": {},
   "source": [
    "### 2. What is the difference between string and variable?"
   ]
  },
  {
   "cell_type": "markdown",
   "id": "012713a9",
   "metadata": {},
   "source": [
    "#### solution"
   ]
  },
  {
   "cell_type": "code",
   "execution_count": null,
   "id": "acc8c2e1",
   "metadata": {},
   "outputs": [],
   "source": [
    "### Variable are used to store information and string  are a kind of data that can be stored in a variable."
   ]
  },
  {
   "cell_type": "code",
   "execution_count": null,
   "id": "dd41a585",
   "metadata": {},
   "outputs": [],
   "source": []
  },
  {
   "cell_type": "markdown",
   "id": "455f1c3c",
   "metadata": {},
   "source": [
    "### 3. Describe three different data types."
   ]
  },
  {
   "cell_type": "markdown",
   "id": "03e9d9b5",
   "metadata": {},
   "source": [
    "#### solution"
   ]
  },
  {
   "cell_type": "code",
   "execution_count": null,
   "id": "0527eee4",
   "metadata": {},
   "outputs": [],
   "source": [
    "### 1) int : This is a numeric data type,consisting of whole numbers.\n",
    "### eg: 23\n",
    "### 2) float : This is also a numeric data type ,consisting of decimal numbers. \n",
    "### eg: 23.23\n",
    "### 3) complex : This represent the  complex numbers which is in the form (real part)+(imaginary part)j\n",
    "### eg: 8+1j"
   ]
  },
  {
   "cell_type": "code",
   "execution_count": null,
   "id": "f66c36c6",
   "metadata": {},
   "outputs": [],
   "source": []
  },
  {
   "cell_type": "code",
   "execution_count": null,
   "id": "fab33446",
   "metadata": {},
   "outputs": [],
   "source": []
  },
  {
   "cell_type": "markdown",
   "id": "bf105c58",
   "metadata": {},
   "source": [
    "### 4. What is an expression made up of? What do all expressions do?"
   ]
  },
  {
   "cell_type": "markdown",
   "id": "79dd527d",
   "metadata": {},
   "source": [
    "### solution"
   ]
  },
  {
   "cell_type": "markdown",
   "id": "d3847799",
   "metadata": {},
   "source": [
    " Expressions are made of values,operators, variables.As mentioned expressions are the combination\n",
    " of values,opetators,variables in a syntaxical sequence which makes sense and can intepret to give its  value.\n",
    "           "
   ]
  },
  {
   "cell_type": "code",
   "execution_count": null,
   "id": "57adae9e",
   "metadata": {},
   "outputs": [],
   "source": []
  },
  {
   "cell_type": "markdown",
   "id": "3873441d",
   "metadata": {},
   "source": [
    "### 5. This assignment statements, like spam = 10. What is the difference between ### an\n",
    "### expression and a statement?"
   ]
  },
  {
   "cell_type": "code",
   "execution_count": null,
   "id": "9439d071",
   "metadata": {},
   "outputs": [],
   "source": []
  },
  {
   "cell_type": "code",
   "execution_count": null,
   "id": "227694a5",
   "metadata": {},
   "outputs": [],
   "source": [
    "Expression are the combinations of operators, values, variable which python interpret and gives us the values.        \n",
    "Statement are different code which can save values and expressions to other variables.\n",
    "eg of expression = 9*7\n",
    "eg of statement =  b=6"
   ]
  },
  {
   "cell_type": "code",
   "execution_count": null,
   "id": "dc6e06b5",
   "metadata": {},
   "outputs": [],
   "source": []
  },
  {
   "cell_type": "markdown",
   "id": "18291f9e",
   "metadata": {},
   "source": [
    "### 6. After running the following code, what does the variable bacon contain?\n",
    "### bacon = 22\n",
    "### bacon + 1"
   ]
  },
  {
   "cell_type": "code",
   "execution_count": null,
   "id": "9db8defd",
   "metadata": {},
   "outputs": [],
   "source": []
  },
  {
   "cell_type": "code",
   "execution_count": null,
   "id": "f7d6592a",
   "metadata": {},
   "outputs": [],
   "source": [
    "The variable bacon contain 22 "
   ]
  },
  {
   "cell_type": "code",
   "execution_count": null,
   "id": "6ebfc26e",
   "metadata": {},
   "outputs": [],
   "source": []
  },
  {
   "cell_type": "markdown",
   "id": "86ba9fb8",
   "metadata": {},
   "source": [
    "### 7. What should the values of the following two terms be?\n",
    "### 'spam' + 'spamspam'\n",
    "###   'spam' * 3"
   ]
  },
  {
   "cell_type": "code",
   "execution_count": null,
   "id": "7bc5dfd4",
   "metadata": {},
   "outputs": [],
   "source": []
  },
  {
   "cell_type": "code",
   "execution_count": 1,
   "id": "e656d418",
   "metadata": {},
   "outputs": [
    {
     "data": {
      "text/plain": [
       "'spamspamspam'"
      ]
     },
     "execution_count": 1,
     "metadata": {},
     "output_type": "execute_result"
    }
   ],
   "source": [
    "'spam' + 'spamspam'\n"
   ]
  },
  {
   "cell_type": "code",
   "execution_count": 3,
   "id": "57c183df",
   "metadata": {},
   "outputs": [
    {
     "data": {
      "text/plain": [
       "'spamspamspam'"
      ]
     },
     "execution_count": 3,
     "metadata": {},
     "output_type": "execute_result"
    }
   ],
   "source": [
    "'spam' * 3"
   ]
  },
  {
   "cell_type": "code",
   "execution_count": null,
   "id": "f5ffcbdb",
   "metadata": {},
   "outputs": [],
   "source": []
  },
  {
   "cell_type": "markdown",
   "id": "9cc217e1",
   "metadata": {},
   "source": [
    "### 8. Why is eggs a valid variable name while 100 is invalid?"
   ]
  },
  {
   "cell_type": "code",
   "execution_count": null,
   "id": "7eb243b4",
   "metadata": {},
   "outputs": [],
   "source": []
  },
  {
   "cell_type": "code",
   "execution_count": 5,
   "id": "2291a2e5",
   "metadata": {},
   "outputs": [
    {
     "data": {
      "text/plain": [
       "'iam back'"
      ]
     },
     "execution_count": 5,
     "metadata": {},
     "output_type": "execute_result"
    }
   ],
   "source": [
    "eggs= 'iam back'\n",
    "eggs # this is valid "
   ]
  },
  {
   "cell_type": "code",
   "execution_count": null,
   "id": "ce0b0cf1",
   "metadata": {},
   "outputs": [],
   "source": [
    "100 is a number that can be stored in a variable."
   ]
  },
  {
   "cell_type": "code",
   "execution_count": null,
   "id": "3bb4428f",
   "metadata": {},
   "outputs": [],
   "source": []
  },
  {
   "cell_type": "markdown",
   "id": "04817a20",
   "metadata": {},
   "source": [
    "### 9.What three functions can be used to get the integer,floating-point number,or ### string version of a value?"
   ]
  },
  {
   "cell_type": "code",
   "execution_count": 7,
   "id": "c11d7927",
   "metadata": {},
   "outputs": [
    {
     "data": {
      "text/plain": [
       "2"
      ]
     },
     "execution_count": 7,
     "metadata": {},
     "output_type": "execute_result"
    }
   ],
   "source": [
    "int(2.5)"
   ]
  },
  {
   "cell_type": "code",
   "execution_count": 8,
   "id": "341ca016",
   "metadata": {},
   "outputs": [
    {
     "data": {
      "text/plain": [
       "8.0"
      ]
     },
     "execution_count": 8,
     "metadata": {},
     "output_type": "execute_result"
    }
   ],
   "source": [
    "float(8)"
   ]
  },
  {
   "cell_type": "code",
   "execution_count": 9,
   "id": "dd7f8e7e",
   "metadata": {},
   "outputs": [
    {
     "data": {
      "text/plain": [
       "'9'"
      ]
     },
     "execution_count": 9,
     "metadata": {},
     "output_type": "execute_result"
    }
   ],
   "source": [
    "str(9)"
   ]
  },
  {
   "cell_type": "code",
   "execution_count": null,
   "id": "427d950c",
   "metadata": {},
   "outputs": [],
   "source": []
  },
  {
   "cell_type": "markdown",
   "id": "6b3810bb",
   "metadata": {},
   "source": [
    "### 10. Why does this expression cause an error? How can you fix it?\n",
    "### 'I have eaten' + 99 + ' burritos.'"
   ]
  },
  {
   "cell_type": "code",
   "execution_count": null,
   "id": "bfa77362",
   "metadata": {},
   "outputs": [],
   "source": []
  },
  {
   "cell_type": "code",
   "execution_count": 15,
   "id": "26215cab",
   "metadata": {},
   "outputs": [
    {
     "data": {
      "text/plain": [
       "'I have eaten 99 burritos.'"
      ]
     },
     "execution_count": 15,
     "metadata": {},
     "output_type": "execute_result"
    }
   ],
   "source": [
    "'I have eaten ' +  str(99) + ' burritos.'"
   ]
  },
  {
   "cell_type": "code",
   "execution_count": null,
   "id": "c0cae769",
   "metadata": {},
   "outputs": [],
   "source": []
  }
 ],
 "metadata": {
  "kernelspec": {
   "display_name": "Python 3 (ipykernel)",
   "language": "python",
   "name": "python3"
  },
  "language_info": {
   "codemirror_mode": {
    "name": "ipython",
    "version": 3
   },
   "file_extension": ".py",
   "mimetype": "text/x-python",
   "name": "python",
   "nbconvert_exporter": "python",
   "pygments_lexer": "ipython3",
   "version": "3.9.7"
  }
 },
 "nbformat": 4,
 "nbformat_minor": 5
}
