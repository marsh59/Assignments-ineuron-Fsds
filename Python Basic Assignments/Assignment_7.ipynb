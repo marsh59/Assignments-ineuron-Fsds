{
 "cells": [
  {
   "cell_type": "code",
   "execution_count": null,
   "id": "6f2c57a1",
   "metadata": {},
   "outputs": [],
   "source": []
  },
  {
   "cell_type": "markdown",
   "id": "d416e2ac",
   "metadata": {},
   "source": [
    "# q"
   ]
  },
  {
   "cell_type": "markdown",
   "id": "53fe854b",
   "metadata": {},
   "source": [
    "1.What is the name of the feature responsible for generating Regex objects?"
   ]
  },
  {
   "cell_type": "markdown",
   "id": "d0bf3b63",
   "metadata": {},
   "source": [
    "# ans"
   ]
  },
  {
   "cell_type": "markdown",
   "id": "63427710",
   "metadata": {},
   "source": [
    "re.compile() is used for generating Regex objects."
   ]
  },
  {
   "cell_type": "markdown",
   "id": "e12331b5",
   "metadata": {},
   "source": [
    "# q"
   ]
  },
  {
   "cell_type": "markdown",
   "id": "96e9acb4",
   "metadata": {},
   "source": [
    "2.Why do raw strings often appear in Regex objects?"
   ]
  },
  {
   "cell_type": "markdown",
   "id": "4bfc26f2",
   "metadata": {},
   "source": [
    "# ans"
   ]
  },
  {
   "cell_type": "markdown",
   "id": "f6700867",
   "metadata": {},
   "source": [
    "Raw strings are used ,so that backslashes do not escape. "
   ]
  },
  {
   "cell_type": "markdown",
   "id": "6026ceba",
   "metadata": {},
   "source": [
    "# q"
   ]
  },
  {
   "cell_type": "markdown",
   "id": "de765296",
   "metadata": {},
   "source": [
    "3.What is the return value of the search() method?"
   ]
  },
  {
   "cell_type": "markdown",
   "id": "8a06ddaf",
   "metadata": {},
   "source": [
    "# ans"
   ]
  },
  {
   "cell_type": "markdown",
   "id": "57fd1bd1",
   "metadata": {},
   "source": [
    "In search method, if a pattern is not observed, then it returns None."
   ]
  },
  {
   "cell_type": "code",
   "execution_count": null,
   "id": "ba323310",
   "metadata": {},
   "outputs": [],
   "source": []
  },
  {
   "cell_type": "markdown",
   "id": "cc037bfb",
   "metadata": {},
   "source": [
    "# q"
   ]
  },
  {
   "cell_type": "markdown",
   "id": "9dd89d60",
   "metadata": {},
   "source": [
    "4.From a Match item, how do you get the actual strings that match the pattern?"
   ]
  },
  {
   "cell_type": "markdown",
   "id": "9ee5547b",
   "metadata": {},
   "source": [
    "# ans"
   ]
  },
  {
   "cell_type": "markdown",
   "id": "1bb76dcc",
   "metadata": {},
   "source": [
    "group() is used to get the actual strings that match the pattern given in the data. "
   ]
  },
  {
   "cell_type": "code",
   "execution_count": null,
   "id": "4241f63a",
   "metadata": {},
   "outputs": [],
   "source": []
  },
  {
   "cell_type": "code",
   "execution_count": 6,
   "id": "b3610a54",
   "metadata": {},
   "outputs": [
    {
     "name": "stdout",
     "output_type": "stream",
     "text": [
      "lon\n"
     ]
    }
   ],
   "source": [
    "import re\n",
    "text = re.search('lon','barcelon')\n",
    "print(text.group())"
   ]
  },
  {
   "cell_type": "code",
   "execution_count": null,
   "id": "5d424ed2",
   "metadata": {},
   "outputs": [],
   "source": []
  },
  {
   "cell_type": "markdown",
   "id": "c4931c0f",
   "metadata": {},
   "source": [
    "# q"
   ]
  },
  {
   "cell_type": "markdown",
   "id": "9cb89006",
   "metadata": {},
   "source": [
    "5.In the regex which created from the r&#39;(\\d\\d\\d)-(\\d\\d\\d-\\d\\d\\d\\d)&#39;, what does group zero cover?\n",
    "Group 2? Group 1?"
   ]
  },
  {
   "cell_type": "markdown",
   "id": "657daea3",
   "metadata": {},
   "source": [
    "# ans"
   ]
  },
  {
   "cell_type": "markdown",
   "id": "2826fc2c",
   "metadata": {},
   "source": [
    "In the r'(\\d\\d\\d)-(\\d\\d\\d-\\d\\d\\d\\d)' the group zero covers the entire pattern match, where the group 1 cover (\\d\\d\\d) and the group 2 cover (\\d\\d\\d-\\d\\d\\d\\d)"
   ]
  },
  {
   "cell_type": "code",
   "execution_count": null,
   "id": "f47015df",
   "metadata": {},
   "outputs": [],
   "source": []
  },
  {
   "cell_type": "markdown",
   "id": "2b58726b",
   "metadata": {},
   "source": [
    "# q"
   ]
  },
  {
   "cell_type": "markdown",
   "id": "d0a66012",
   "metadata": {},
   "source": [
    "6.In standard expression syntax, parentheses and intervals have distinct meanings. How can you tell\n",
    "a regex that you want it to fit real parentheses and periods?"
   ]
  },
  {
   "cell_type": "markdown",
   "id": "a67f5a36",
   "metadata": {},
   "source": [
    "# ans"
   ]
  },
  {
   "cell_type": "code",
   "execution_count": 40,
   "id": "fd593924",
   "metadata": {},
   "outputs": [
    {
     "name": "stdout",
     "output_type": "stream",
     "text": [
      "(685) 76-428\n"
     ]
    }
   ],
   "source": [
    "import re\n",
    "num_regex = re.compile(r'(\\(\\d\\d\\d\\)) (\\d\\d-\\d\\d\\d)') # we use '\\'  '\\)'  '(\\'\n",
    "kd = num_regex.search('My phone number is (685) 76-4287')\n",
    "print(kd.group())"
   ]
  },
  {
   "cell_type": "code",
   "execution_count": null,
   "id": "4073cd55",
   "metadata": {},
   "outputs": [],
   "source": []
  },
  {
   "cell_type": "markdown",
   "id": "31af1f11",
   "metadata": {},
   "source": [
    "# q"
   ]
  },
  {
   "cell_type": "markdown",
   "id": "7e0045e0",
   "metadata": {},
   "source": [
    "7.The findall() method returns a string list or a list of string tuples. What causes it to return one of\n",
    "the two options?"
   ]
  },
  {
   "cell_type": "markdown",
   "id": "c1d3fbca",
   "metadata": {},
   "source": [
    "# ans"
   ]
  },
  {
   "cell_type": "code",
   "execution_count": 45,
   "id": "5dc4e725",
   "metadata": {},
   "outputs": [
    {
     "name": "stdout",
     "output_type": "stream",
     "text": [
      "[('(57)', '654-3210')]\n",
      "['987-654-3210']\n"
     ]
    }
   ],
   "source": [
    "import re\n",
    "ph1= re.compile(r'(\\(\\d\\d\\)) (\\d\\d\\d-\\d\\d\\d\\d)')\n",
    "po = ph1.findall('call me (57) 654-3210.')\n",
    "print(po)\n",
    "\n",
    "\n",
    "ph2= re.compile(r'\\d{3}-\\d{3}-\\d{4}')\n",
    "hj =ph2.findall('call me 987-654-3210')\n",
    "print(hj)"
   ]
  },
  {
   "cell_type": "markdown",
   "id": "5ed3893d",
   "metadata": {},
   "source": [
    "# q"
   ]
  },
  {
   "cell_type": "markdown",
   "id": "55073c1a",
   "metadata": {},
   "source": [
    "8.In standard expressions, what does the | character mean?"
   ]
  },
  {
   "cell_type": "markdown",
   "id": "a0322055",
   "metadata": {},
   "source": [
    "# ans"
   ]
  },
  {
   "cell_type": "markdown",
   "id": "ee0cb413",
   "metadata": {},
   "source": [
    "'|' means OR operator in standard expressions."
   ]
  },
  {
   "cell_type": "markdown",
   "id": "3e5fbd0a",
   "metadata": {},
   "source": [
    "# q"
   ]
  },
  {
   "cell_type": "markdown",
   "id": "ac103c2c",
   "metadata": {},
   "source": [
    "9.In regular expressions, what does the character ? stand for?"
   ]
  },
  {
   "cell_type": "markdown",
   "id": "9adb1d2d",
   "metadata": {},
   "source": [
    "# ans"
   ]
  },
  {
   "cell_type": "markdown",
   "id": "e0471fa4",
   "metadata": {},
   "source": [
    "It stands for  zero match or one match of the preceding group."
   ]
  },
  {
   "cell_type": "code",
   "execution_count": null,
   "id": "1fc8918d",
   "metadata": {},
   "outputs": [],
   "source": []
  },
  {
   "cell_type": "markdown",
   "id": "8879b699",
   "metadata": {},
   "source": [
    "# q"
   ]
  },
  {
   "cell_type": "markdown",
   "id": "32087d32",
   "metadata": {},
   "source": [
    "10.In regular expressions, what is the difference between the + and * characters?"
   ]
  },
  {
   "cell_type": "markdown",
   "id": "0b7beeed",
   "metadata": {},
   "source": [
    "# ans"
   ]
  },
  {
   "cell_type": "markdown",
   "id": "ce74352f",
   "metadata": {},
   "source": [
    " ' + ' refers one or more occurences.\n",
    "' * ' refers zero or more occurences."
   ]
  },
  {
   "cell_type": "code",
   "execution_count": null,
   "id": "3cdd1907",
   "metadata": {},
   "outputs": [],
   "source": []
  },
  {
   "cell_type": "markdown",
   "id": "d35a98f3",
   "metadata": {},
   "source": [
    "# q"
   ]
  },
  {
   "cell_type": "markdown",
   "id": "7b885387",
   "metadata": {},
   "source": [
    "11.What is the difference between {4} and {4,5} in regular expression?"
   ]
  },
  {
   "cell_type": "markdown",
   "id": "3e5c9388",
   "metadata": {},
   "source": [
    "# ans"
   ]
  },
  {
   "cell_type": "markdown",
   "id": "caa61648",
   "metadata": {},
   "source": [
    "{4} is preceding character should be repeated 4 times.\n",
    "{4,5} is preceding character is repeated  4 times minimum and to maximum 5 times."
   ]
  },
  {
   "cell_type": "code",
   "execution_count": null,
   "id": "4d44e197",
   "metadata": {},
   "outputs": [],
   "source": []
  },
  {
   "cell_type": "markdown",
   "id": "770ce8a9",
   "metadata": {},
   "source": [
    "# q"
   ]
  },
  {
   "cell_type": "markdown",
   "id": "9033def6",
   "metadata": {},
   "source": [
    "12.What do you mean by the \\d, \\w, and \\s shorthand character classes signify in regular\n",
    "expressions?"
   ]
  },
  {
   "cell_type": "markdown",
   "id": "f7dcc409",
   "metadata": {},
   "source": [
    "# ans"
   ]
  },
  {
   "cell_type": "markdown",
   "id": "bd968048",
   "metadata": {},
   "source": [
    "\\d =  this represents numbers btw 0-9\n",
    "\n",
    "\\w = this represents a-z,A-Z,0-9, and this underscore,  _\n",
    "\n",
    "\\s = this matches whitespace characters, which include the \\t, \\n, \\r, and space characters."
   ]
  },
  {
   "cell_type": "markdown",
   "id": "77ece922",
   "metadata": {},
   "source": [
    "# q"
   ]
  },
  {
   "cell_type": "markdown",
   "id": "3909ab8e",
   "metadata": {},
   "source": [
    "13.What do means by \\D, \\W, and \\S shorthand character classes signify in regular expressions?"
   ]
  },
  {
   "cell_type": "markdown",
   "id": "74ca42cf",
   "metadata": {},
   "source": [
    "# ans"
   ]
  },
  {
   "cell_type": "markdown",
   "id": "c497b979",
   "metadata": {},
   "source": [
    "\\D signify any non-digits. \n",
    "\\W signify any non-word characters.\n",
    "\\S signifies non-whitespace characters."
   ]
  },
  {
   "cell_type": "code",
   "execution_count": null,
   "id": "ba272f79",
   "metadata": {},
   "outputs": [],
   "source": []
  },
  {
   "cell_type": "markdown",
   "id": "57147243",
   "metadata": {},
   "source": [
    "# q"
   ]
  },
  {
   "cell_type": "markdown",
   "id": "ca7faf61",
   "metadata": {},
   "source": [
    "14.What is the difference between .*? and .*?"
   ]
  },
  {
   "cell_type": "markdown",
   "id": "453d3101",
   "metadata": {},
   "source": [
    "# ans"
   ]
  },
  {
   "cell_type": "markdown",
   "id": "ad5c55d4",
   "metadata": {},
   "source": [
    "' . ' accepts as many sequence as available(Greedy approach).\n",
    "' .? ' accepts the first matched sequence and then stops. Also called as (Non-Greedy approach)."
   ]
  },
  {
   "cell_type": "markdown",
   "id": "b45eca52",
   "metadata": {},
   "source": [
    "# q"
   ]
  },
  {
   "cell_type": "markdown",
   "id": "76fb63a1",
   "metadata": {},
   "source": [
    "15.What is the syntax for matching both numbers and lowercase letters with a character class?"
   ]
  },
  {
   "cell_type": "markdown",
   "id": "666c35da",
   "metadata": {},
   "source": [
    "# ans"
   ]
  },
  {
   "cell_type": "markdown",
   "id": "38f2c18d",
   "metadata": {},
   "source": [
    "The syntax is [a-z0-9]."
   ]
  },
  {
   "cell_type": "code",
   "execution_count": null,
   "id": "3d9aeda3",
   "metadata": {},
   "outputs": [],
   "source": []
  },
  {
   "cell_type": "markdown",
   "id": "16a2b6a3",
   "metadata": {},
   "source": [
    "# q"
   ]
  },
  {
   "cell_type": "markdown",
   "id": "6a34a17d",
   "metadata": {},
   "source": [
    "16.what is the procedure for making a normal expression in regax case insensitive?"
   ]
  },
  {
   "cell_type": "markdown",
   "id": "0256a563",
   "metadata": {},
   "source": [
    "# ans"
   ]
  },
  {
   "cell_type": "markdown",
   "id": "b0645270",
   "metadata": {},
   "source": [
    "we use  re.IGNORECASE to make regex case insensitive. "
   ]
  },
  {
   "cell_type": "code",
   "execution_count": null,
   "id": "8fffeede",
   "metadata": {},
   "outputs": [],
   "source": []
  },
  {
   "cell_type": "markdown",
   "id": "fa711949",
   "metadata": {},
   "source": [
    "# q"
   ]
  },
  {
   "cell_type": "markdown",
   "id": "25ef4990",
   "metadata": {},
   "source": [
    "17.What does the . character normally match? What does it match if re.DOTALL is passed as 2nd\n",
    "argument in re.compile()?"
   ]
  },
  {
   "cell_type": "markdown",
   "id": "b91407f1",
   "metadata": {},
   "source": [
    "# ans"
   ]
  },
  {
   "cell_type": "markdown",
   "id": "fda782bf",
   "metadata": {},
   "source": [
    "' . ' character pass any character except newline character. With the help of re.DOTALL, we make dot character  match any character including newline."
   ]
  },
  {
   "cell_type": "code",
   "execution_count": null,
   "id": "9ee3f0ff",
   "metadata": {},
   "outputs": [],
   "source": []
  },
  {
   "cell_type": "markdown",
   "id": "96aff2ea",
   "metadata": {},
   "source": [
    "# q"
   ]
  },
  {
   "cell_type": "markdown",
   "id": "189a59ba",
   "metadata": {},
   "source": [
    "18.If numReg = re.compile(r&#39;\\d+&#39;), what will numRegex.sub(&#39;X&#39;, &#39;11 drummers, 10 pipers, five rings, 4\n",
    "hen&#39;) return?"
   ]
  },
  {
   "cell_type": "markdown",
   "id": "7f9384b7",
   "metadata": {},
   "source": [
    "# ans"
   ]
  },
  {
   "cell_type": "code",
   "execution_count": 52,
   "id": "67bdf153",
   "metadata": {},
   "outputs": [
    {
     "data": {
      "text/plain": [
       "'X drummers, X pipers, five rings, X hen'"
      ]
     },
     "execution_count": 52,
     "metadata": {},
     "output_type": "execute_result"
    }
   ],
   "source": [
    "numReg = re.compile(r'\\d+')\n",
    "numReg.sub('X', '11 drummers, 10 pipers, five rings, 4 hen') \n"
   ]
  },
  {
   "cell_type": "code",
   "execution_count": null,
   "id": "e3e5ea46",
   "metadata": {},
   "outputs": [],
   "source": []
  },
  {
   "cell_type": "code",
   "execution_count": null,
   "id": "3735ed5e",
   "metadata": {},
   "outputs": [],
   "source": []
  },
  {
   "cell_type": "markdown",
   "id": "bbe9f068",
   "metadata": {},
   "source": [
    "# q"
   ]
  },
  {
   "cell_type": "markdown",
   "id": "6b08c14b",
   "metadata": {},
   "source": [
    "19.What does passing re.VERBOSE as the 2nd argument to re.compile() allow to do?"
   ]
  },
  {
   "cell_type": "markdown",
   "id": "67a0c1fd",
   "metadata": {},
   "source": [
    "# ans"
   ]
  },
  {
   "cell_type": "markdown",
   "id": "70289247",
   "metadata": {},
   "source": [
    "re.VERBOSE  allows you to write regular expressions that look nicer and also make more readable by allowing you to visually separate logical sections of the pattern and add comments."
   ]
  },
  {
   "cell_type": "code",
   "execution_count": null,
   "id": "776c9999",
   "metadata": {},
   "outputs": [],
   "source": []
  },
  {
   "cell_type": "code",
   "execution_count": null,
   "id": "b0de9cc1",
   "metadata": {},
   "outputs": [],
   "source": []
  }
 ],
 "metadata": {
  "kernelspec": {
   "display_name": "Python 3 (ipykernel)",
   "language": "python",
   "name": "python3"
  },
  "language_info": {
   "codemirror_mode": {
    "name": "ipython",
    "version": 3
   },
   "file_extension": ".py",
   "mimetype": "text/x-python",
   "name": "python",
   "nbconvert_exporter": "python",
   "pygments_lexer": "ipython3",
   "version": "3.9.7"
  }
 },
 "nbformat": 4,
 "nbformat_minor": 5
}
