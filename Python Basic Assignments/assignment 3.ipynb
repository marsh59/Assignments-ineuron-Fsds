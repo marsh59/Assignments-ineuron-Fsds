{
 "cells": [
  {
   "cell_type": "markdown",
   "id": "c7461234",
   "metadata": {},
   "source": [
    "# quest"
   ]
  },
  {
   "cell_type": "markdown",
   "id": "cbb14b99",
   "metadata": {},
   "source": [
    "### 1. Why are functions advantageous to have in your programs?"
   ]
  },
  {
   "cell_type": "markdown",
   "id": "5fa94255",
   "metadata": {},
   "source": [
    "# ans"
   ]
  },
  {
   "cell_type": "markdown",
   "id": "7a84ca84",
   "metadata": {},
   "source": [
    "Functions increases the reusablity of code in different circumstances without actually writing the raw code again and again. Functions make the code easy to understant."
   ]
  },
  {
   "cell_type": "markdown",
   "id": "5e4d838c",
   "metadata": {},
   "source": [
    "# quest"
   ]
  },
  {
   "cell_type": "markdown",
   "id": "7b6f16ae",
   "metadata": {},
   "source": [
    "### 2. When does the code in a function run: when it's specified or when it's called?"
   ]
  },
  {
   "cell_type": "markdown",
   "id": "2a6bab10",
   "metadata": {},
   "source": [
    "# ans\n"
   ]
  },
  {
   "cell_type": "markdown",
   "id": "8102daea",
   "metadata": {},
   "source": [
    "When its called only functions run."
   ]
  },
  {
   "cell_type": "markdown",
   "id": "2d5e2dbb",
   "metadata": {},
   "source": [
    "# quest"
   ]
  },
  {
   "cell_type": "markdown",
   "id": "b1af8cc0",
   "metadata": {},
   "source": [
    "### 3. What statement creates a function?"
   ]
  },
  {
   "cell_type": "markdown",
   "id": "21861952",
   "metadata": {},
   "source": [
    "# ans"
   ]
  },
  {
   "cell_type": "markdown",
   "id": "9eb4c012",
   "metadata": {},
   "source": [
    "The 'def'  defines a function like below:="
   ]
  },
  {
   "cell_type": "code",
   "execution_count": 3,
   "id": "9563c133",
   "metadata": {},
   "outputs": [],
   "source": [
    "def funct():\n",
    "    return 'Hello Milkyway'\n"
   ]
  },
  {
   "cell_type": "code",
   "execution_count": 4,
   "id": "7c779e58",
   "metadata": {},
   "outputs": [
    {
     "data": {
      "text/plain": [
       "'Hello Milkyway'"
      ]
     },
     "execution_count": 4,
     "metadata": {},
     "output_type": "execute_result"
    }
   ],
   "source": [
    "funct()"
   ]
  },
  {
   "cell_type": "markdown",
   "id": "bfbaf1ee",
   "metadata": {},
   "source": [
    "# ques"
   ]
  },
  {
   "cell_type": "markdown",
   "id": "235aaca5",
   "metadata": {},
   "source": [
    "### 4. What is the difference between a function and a function call?"
   ]
  },
  {
   "cell_type": "markdown",
   "id": "361a6ec7",
   "metadata": {},
   "source": [
    "# "
   ]
  },
  {
   "cell_type": "code",
   "execution_count": null,
   "id": "f22e72bc",
   "metadata": {},
   "outputs": [],
   "source": [
    "def funct():\n",
    "    return 'Hello Milkyway'  # this is function"
   ]
  },
  {
   "cell_type": "code",
   "execution_count": null,
   "id": "b7342e2e",
   "metadata": {},
   "outputs": [],
   "source": [
    "funct() # this is function call"
   ]
  },
  {
   "cell_type": "markdown",
   "id": "4a621630",
   "metadata": {},
   "source": [
    "# ques"
   ]
  },
  {
   "cell_type": "markdown",
   "id": "a21e9b33",
   "metadata": {},
   "source": [
    "### 5. How many global scopes are there in a Python program? How many local scopes?"
   ]
  },
  {
   "cell_type": "markdown",
   "id": "0e957e1e",
   "metadata": {},
   "source": [
    "# ans"
   ]
  },
  {
   "cell_type": "markdown",
   "id": "b52cc391",
   "metadata": {},
   "source": [
    "There is only one global scope.\n",
    "Local scopes are created whenever a function is called."
   ]
  },
  {
   "cell_type": "markdown",
   "id": "42d230d5",
   "metadata": {},
   "source": [
    "# ques"
   ]
  },
  {
   "cell_type": "markdown",
   "id": "d78f55d2",
   "metadata": {},
   "source": [
    "### 6. What happens to variables in a local scope when the function call returns?"
   ]
  },
  {
   "cell_type": "markdown",
   "id": "a6c36ac1",
   "metadata": {},
   "source": [
    "# ans"
   ]
  },
  {
   "cell_type": "markdown",
   "id": "e10386e8",
   "metadata": {},
   "source": [
    "when the function call returns, the local variables are all are forgotten."
   ]
  },
  {
   "cell_type": "markdown",
   "id": "ea246ef4",
   "metadata": {},
   "source": [
    "# ques"
   ]
  },
  {
   "cell_type": "markdown",
   "id": "fb17ca42",
   "metadata": {},
   "source": [
    "### 7. What is the concept of a return value? Is it possible to have a return value in an expression?"
   ]
  },
  {
   "cell_type": "markdown",
   "id": "a19974c5",
   "metadata": {},
   "source": [
    "# ans "
   ]
  },
  {
   "cell_type": "markdown",
   "id": "9a1ab8a5",
   "metadata": {},
   "source": [
    "A return value is a value that the function returns into or gives into. Yes, it is possible to have a return value in an expression."
   ]
  },
  {
   "cell_type": "markdown",
   "id": "69703d71",
   "metadata": {},
   "source": [
    "# ques"
   ]
  },
  {
   "cell_type": "markdown",
   "id": "bd39cd6a",
   "metadata": {},
   "source": [
    "### 8. If a function does not have a return statement, what is the return value of a call to that function?"
   ]
  },
  {
   "cell_type": "markdown",
   "id": "8f11ae95",
   "metadata": {},
   "source": [
    "# ans"
   ]
  },
  {
   "cell_type": "markdown",
   "id": "c66baadd",
   "metadata": {},
   "source": [
    "If the function have no return statement then the value actually return value is none."
   ]
  },
  {
   "cell_type": "markdown",
   "id": "d1585721",
   "metadata": {},
   "source": [
    "# ques"
   ]
  },
  {
   "cell_type": "markdown",
   "id": "c7d8e7ae",
   "metadata": {},
   "source": [
    "### 9. How do you make a function variable refer to the global variable?"
   ]
  },
  {
   "cell_type": "markdown",
   "id": "dd824389",
   "metadata": {},
   "source": [
    "# ans"
   ]
  },
  {
   "cell_type": "markdown",
   "id": "48464aa7",
   "metadata": {},
   "source": [
    " A function variable refer to the  global variable by using the global keyword."
   ]
  },
  {
   "cell_type": "markdown",
   "id": "cafa9fd8",
   "metadata": {},
   "source": [
    "# ques"
   ]
  },
  {
   "cell_type": "markdown",
   "id": "4870fccc",
   "metadata": {},
   "source": [
    "### 10) What is the data type of None?"
   ]
  },
  {
   "cell_type": "markdown",
   "id": "48157305",
   "metadata": {},
   "source": [
    "# ans\n"
   ]
  },
  {
   "cell_type": "markdown",
   "id": "61065746",
   "metadata": {},
   "source": [
    "Nonetype"
   ]
  },
  {
   "cell_type": "markdown",
   "id": "9e253b8b",
   "metadata": {},
   "source": [
    "# ques"
   ]
  },
  {
   "cell_type": "markdown",
   "id": "19740368",
   "metadata": {},
   "source": [
    "### 11. What does the sentence import areallyourpetsnamederic do?"
   ]
  },
  {
   "cell_type": "markdown",
   "id": "9bc1a2c4",
   "metadata": {},
   "source": [
    "# ans"
   ]
  },
  {
   "cell_type": "markdown",
   "id": "35081cf7",
   "metadata": {},
   "source": [
    "this imports areallyourpetnamederic library."
   ]
  },
  {
   "cell_type": "code",
   "execution_count": null,
   "id": "bed9c835",
   "metadata": {},
   "outputs": [],
   "source": []
  },
  {
   "cell_type": "markdown",
   "id": "28648ddc",
   "metadata": {},
   "source": [
    "# ques"
   ]
  },
  {
   "cell_type": "markdown",
   "id": "84f88f18",
   "metadata": {},
   "source": [
    "### 12. If you had a bacon() feature in a spam module, what would you call it after importing spam?"
   ]
  },
  {
   "cell_type": "markdown",
   "id": "6192b289",
   "metadata": {},
   "source": [
    "# ans"
   ]
  },
  {
   "cell_type": "code",
   "execution_count": null,
   "id": "98b6f8ca",
   "metadata": {},
   "outputs": [],
   "source": [
    "spam.bacon()"
   ]
  },
  {
   "cell_type": "markdown",
   "id": "8fcaf14c",
   "metadata": {},
   "source": [
    "# ques"
   ]
  },
  {
   "cell_type": "markdown",
   "id": "7fbd035e",
   "metadata": {},
   "source": [
    "### 13. What can you do to save a programme from crashing if it encounters an error?"
   ]
  },
  {
   "cell_type": "markdown",
   "id": "c9dff84b",
   "metadata": {},
   "source": [
    "# ans"
   ]
  },
  {
   "cell_type": "markdown",
   "id": "d0aed96e",
   "metadata": {},
   "source": [
    "If it is crashing then put in a try clause and then write that particular error to show in except clause."
   ]
  },
  {
   "cell_type": "code",
   "execution_count": 5,
   "id": "c6a5fca8",
   "metadata": {},
   "outputs": [
    {
     "name": "stdout",
     "output_type": "stream",
     "text": [
      "division by zero\n"
     ]
    }
   ],
   "source": [
    "try:\n",
    "    6/0\n",
    "except Exception as e:\n",
    "    print(e)"
   ]
  },
  {
   "cell_type": "markdown",
   "id": "53ff64d1",
   "metadata": {},
   "source": [
    "# ques"
   ]
  },
  {
   "cell_type": "markdown",
   "id": "212fe46b",
   "metadata": {},
   "source": [
    "### 14. What is the purpose of the try clause? What is the purpose of the except clause?"
   ]
  },
  {
   "cell_type": "markdown",
   "id": "bdb7c763",
   "metadata": {},
   "source": [
    "# ans"
   ]
  },
  {
   "cell_type": "markdown",
   "id": "aa858e05",
   "metadata": {},
   "source": [
    "WE put those code which can sometimes cause error to go under try clause and if it is causing error then the error definition will be shown in the except clause. The purpose is to inform us and later execute the whole function to which it is written into."
   ]
  },
  {
   "cell_type": "code",
   "execution_count": null,
   "id": "8d6252af",
   "metadata": {},
   "outputs": [],
   "source": []
  }
 ],
 "metadata": {
  "kernelspec": {
   "display_name": "Python 3 (ipykernel)",
   "language": "python",
   "name": "python3"
  },
  "language_info": {
   "codemirror_mode": {
    "name": "ipython",
    "version": 3
   },
   "file_extension": ".py",
   "mimetype": "text/x-python",
   "name": "python",
   "nbconvert_exporter": "python",
   "pygments_lexer": "ipython3",
   "version": "3.9.7"
  }
 },
 "nbformat": 4,
 "nbformat_minor": 5
}
