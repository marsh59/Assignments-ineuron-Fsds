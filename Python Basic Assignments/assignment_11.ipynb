{
 "cells": [
  {
   "cell_type": "code",
   "execution_count": null,
   "id": "6f2c57a1",
   "metadata": {},
   "outputs": [],
   "source": []
  },
  {
   "cell_type": "markdown",
   "id": "d416e2ac",
   "metadata": {},
   "source": [
    "# q"
   ]
  },
  {
   "cell_type": "markdown",
   "id": "53fe854b",
   "metadata": {},
   "source": [
    "1.Create an assert statement that throws an AssertionError if the variable spam is a negative\n",
    "integer."
   ]
  },
  {
   "cell_type": "markdown",
   "id": "d0bf3b63",
   "metadata": {},
   "source": [
    "# ans"
   ]
  },
  {
   "cell_type": "code",
   "execution_count": 3,
   "id": "475ac32d",
   "metadata": {},
   "outputs": [
    {
     "ename": "AssertionError",
     "evalue": "spam cannot be negative integer",
     "output_type": "error",
     "traceback": [
      "\u001b[1;31m---------------------------------------------------------------------------\u001b[0m",
      "\u001b[1;31mAssertionError\u001b[0m                            Traceback (most recent call last)",
      "\u001b[1;32m~\\AppData\\Local\\Temp\\ipykernel_8608\\773552419.py\u001b[0m in \u001b[0;36m<module>\u001b[1;34m\u001b[0m\n\u001b[0;32m      1\u001b[0m \u001b[0mspam\u001b[0m\u001b[1;33m=\u001b[0m\u001b[1;33m-\u001b[0m\u001b[1;36m9\u001b[0m\u001b[1;33m\u001b[0m\u001b[1;33m\u001b[0m\u001b[0m\n\u001b[1;32m----> 2\u001b[1;33m \u001b[1;32massert\u001b[0m \u001b[0mspam\u001b[0m\u001b[1;33m>\u001b[0m\u001b[1;36m0\u001b[0m \u001b[1;33m,\u001b[0m \u001b[1;34m\"spam cannot be negative integer\"\u001b[0m\u001b[1;33m\u001b[0m\u001b[1;33m\u001b[0m\u001b[0m\n\u001b[0m",
      "\u001b[1;31mAssertionError\u001b[0m: spam cannot be negative integer"
     ]
    }
   ],
   "source": [
    "spam=-9\n",
    "assert spam>0 , \"spam cannot be a negative integer\""
   ]
  },
  {
   "cell_type": "markdown",
   "id": "e12331b5",
   "metadata": {},
   "source": [
    "# q"
   ]
  },
  {
   "cell_type": "markdown",
   "id": "96e9acb4",
   "metadata": {},
   "source": [
    "2.Write an assert statement that triggers an AssertionError if the variables eggs and bacon contain\n",
    "strings that are the same as each other, even if their cases are different (that is, &#39;hello&#39; and &#39;hello&#39; are\n",
    "considered the same, and &#39;goodbye&#39; and &#39;GOODbye&#39; are also considered the same)."
   ]
  },
  {
   "cell_type": "markdown",
   "id": "4bfc26f2",
   "metadata": {},
   "source": [
    "# ans"
   ]
  },
  {
   "cell_type": "code",
   "execution_count": 8,
   "id": "544cca53",
   "metadata": {},
   "outputs": [
    {
     "ename": "AssertionError",
     "evalue": "These cannot be  same",
     "output_type": "error",
     "traceback": [
      "\u001b[1;31m---------------------------------------------------------------------------\u001b[0m",
      "\u001b[1;31mAssertionError\u001b[0m                            Traceback (most recent call last)",
      "\u001b[1;32m~\\AppData\\Local\\Temp\\ipykernel_8608\\2230535586.py\u001b[0m in \u001b[0;36m<module>\u001b[1;34m\u001b[0m\n\u001b[0;32m      1\u001b[0m \u001b[0meggs\u001b[0m\u001b[1;33m=\u001b[0m\u001b[1;34m'hello'\u001b[0m\u001b[1;33m\u001b[0m\u001b[1;33m\u001b[0m\u001b[0m\n\u001b[0;32m      2\u001b[0m \u001b[0mbacon\u001b[0m\u001b[1;33m=\u001b[0m\u001b[1;34m'hello'\u001b[0m\u001b[1;33m\u001b[0m\u001b[1;33m\u001b[0m\u001b[0m\n\u001b[1;32m----> 3\u001b[1;33m \u001b[1;32massert\u001b[0m \u001b[0meggs\u001b[0m\u001b[1;33m.\u001b[0m\u001b[0mlower\u001b[0m\u001b[1;33m(\u001b[0m\u001b[1;33m)\u001b[0m \u001b[1;33m!=\u001b[0m \u001b[0mbacon\u001b[0m\u001b[1;33m.\u001b[0m\u001b[0mlower\u001b[0m\u001b[1;33m(\u001b[0m\u001b[1;33m)\u001b[0m \u001b[1;33m,\u001b[0m \u001b[1;34m'These cannot be  same'\u001b[0m\u001b[1;33m\u001b[0m\u001b[1;33m\u001b[0m\u001b[0m\n\u001b[0m",
      "\u001b[1;31mAssertionError\u001b[0m: These cannot be  same"
     ]
    }
   ],
   "source": [
    "eggs='hello'\n",
    "bacon='hello'\n",
    "assert eggs.lower() != bacon.lower() , 'These cannot be  same'"
   ]
  },
  {
   "cell_type": "code",
   "execution_count": 9,
   "id": "16dc3177",
   "metadata": {},
   "outputs": [
    {
     "ename": "AssertionError",
     "evalue": "eggs and bacon cannot be the same",
     "output_type": "error",
     "traceback": [
      "\u001b[1;31m---------------------------------------------------------------------------\u001b[0m",
      "\u001b[1;31mAssertionError\u001b[0m                            Traceback (most recent call last)",
      "\u001b[1;32m~\\AppData\\Local\\Temp\\ipykernel_8608\\3006686782.py\u001b[0m in \u001b[0;36m<module>\u001b[1;34m\u001b[0m\n\u001b[0;32m      1\u001b[0m \u001b[0meggs\u001b[0m\u001b[1;33m=\u001b[0m\u001b[1;34m'goodbye'\u001b[0m\u001b[1;33m\u001b[0m\u001b[1;33m\u001b[0m\u001b[0m\n\u001b[0;32m      2\u001b[0m \u001b[0mbacon\u001b[0m\u001b[1;33m=\u001b[0m\u001b[1;34m'GOODbye'\u001b[0m\u001b[1;33m\u001b[0m\u001b[1;33m\u001b[0m\u001b[0m\n\u001b[1;32m----> 3\u001b[1;33m \u001b[1;32massert\u001b[0m \u001b[0meggs\u001b[0m\u001b[1;33m.\u001b[0m\u001b[0mlower\u001b[0m\u001b[1;33m(\u001b[0m\u001b[1;33m)\u001b[0m\u001b[1;33m!=\u001b[0m\u001b[0mbacon\u001b[0m\u001b[1;33m.\u001b[0m\u001b[0mlower\u001b[0m\u001b[1;33m(\u001b[0m\u001b[1;33m)\u001b[0m \u001b[1;33m,\u001b[0m \u001b[1;34m'eggs and bacon cannot be the same'\u001b[0m\u001b[1;33m\u001b[0m\u001b[1;33m\u001b[0m\u001b[0m\n\u001b[0m",
      "\u001b[1;31mAssertionError\u001b[0m: eggs and bacon cannot be the same"
     ]
    }
   ],
   "source": [
    "eggs='goodbye'\n",
    "bacon='GOODbye'\n",
    "assert eggs.lower()!=bacon.lower() , 'These also  cannot be the same'"
   ]
  },
  {
   "cell_type": "code",
   "execution_count": null,
   "id": "d5b02ca1",
   "metadata": {},
   "outputs": [],
   "source": []
  },
  {
   "cell_type": "markdown",
   "id": "6026ceba",
   "metadata": {},
   "source": [
    "# q"
   ]
  },
  {
   "cell_type": "markdown",
   "id": "de765296",
   "metadata": {},
   "source": [
    "3.Create an assert statement that throws an AssertionError every time."
   ]
  },
  {
   "cell_type": "markdown",
   "id": "8a06ddaf",
   "metadata": {},
   "source": [
    "# ans"
   ]
  },
  {
   "cell_type": "code",
   "execution_count": 16,
   "id": "c9ce7dcf",
   "metadata": {},
   "outputs": [],
   "source": [
    "def start_assertion():\n",
    "    assert 3==8 , 'throws an AssertionError every time'\n",
    "    "
   ]
  },
  {
   "cell_type": "code",
   "execution_count": 17,
   "id": "172667e8",
   "metadata": {},
   "outputs": [
    {
     "ename": "AssertionError",
     "evalue": "throws an AssertionError every time",
     "output_type": "error",
     "traceback": [
      "\u001b[1;31m---------------------------------------------------------------------------\u001b[0m",
      "\u001b[1;31mAssertionError\u001b[0m                            Traceback (most recent call last)",
      "\u001b[1;32m~\\AppData\\Local\\Temp\\ipykernel_8608\\1540893410.py\u001b[0m in \u001b[0;36m<module>\u001b[1;34m\u001b[0m\n\u001b[1;32m----> 1\u001b[1;33m \u001b[0mstart_assertion\u001b[0m\u001b[1;33m(\u001b[0m\u001b[1;33m)\u001b[0m\u001b[1;33m\u001b[0m\u001b[1;33m\u001b[0m\u001b[0m\n\u001b[0m",
      "\u001b[1;32m~\\AppData\\Local\\Temp\\ipykernel_8608\\936108024.py\u001b[0m in \u001b[0;36mstart_assertion\u001b[1;34m()\u001b[0m\n\u001b[0;32m      1\u001b[0m \u001b[1;32mdef\u001b[0m \u001b[0mstart_assertion\u001b[0m\u001b[1;33m(\u001b[0m\u001b[1;33m)\u001b[0m\u001b[1;33m:\u001b[0m\u001b[1;33m\u001b[0m\u001b[1;33m\u001b[0m\u001b[0m\n\u001b[1;32m----> 2\u001b[1;33m     \u001b[1;32massert\u001b[0m \u001b[1;36m3\u001b[0m\u001b[1;33m==\u001b[0m\u001b[1;36m8\u001b[0m \u001b[1;33m,\u001b[0m \u001b[1;34m'throws an AssertionError every time'\u001b[0m\u001b[1;33m\u001b[0m\u001b[1;33m\u001b[0m\u001b[0m\n\u001b[0m\u001b[0;32m      3\u001b[0m \u001b[1;33m\u001b[0m\u001b[0m\n",
      "\u001b[1;31mAssertionError\u001b[0m: throws an AssertionError every time"
     ]
    }
   ],
   "source": [
    "start_assertion()"
   ]
  },
  {
   "cell_type": "markdown",
   "id": "cc037bfb",
   "metadata": {},
   "source": [
    "# q"
   ]
  },
  {
   "cell_type": "markdown",
   "id": "9dd89d60",
   "metadata": {},
   "source": [
    "4.What are the two lines that must be present in your software in order to call logging.debug()?"
   ]
  },
  {
   "cell_type": "markdown",
   "id": "9ee5547b",
   "metadata": {},
   "source": [
    "# ans"
   ]
  },
  {
   "cell_type": "code",
   "execution_count": null,
   "id": "39be6478",
   "metadata": {},
   "outputs": [],
   "source": [
    "import logging\n",
    "logging.basicConfig(fiename,level=logging.DEBUG)"
   ]
  },
  {
   "cell_type": "markdown",
   "id": "c4931c0f",
   "metadata": {},
   "source": [
    "# q"
   ]
  },
  {
   "cell_type": "markdown",
   "id": "9cb89006",
   "metadata": {},
   "source": [
    "5.What are the two lines that your program must have in order to have logging.debug() send a\n",
    "logging message to a file named programLog.txt?"
   ]
  },
  {
   "cell_type": "markdown",
   "id": "657daea3",
   "metadata": {},
   "source": [
    "# ans"
   ]
  },
  {
   "cell_type": "code",
   "execution_count": null,
   "id": "c2e50421",
   "metadata": {},
   "outputs": [],
   "source": [
    "import logging\n",
    "logging.basicConfig(fiename= 'programLog.txt',level=logging.DEBUG,format='%(message)s - %(asctime)s - %(levelname)s')             "
   ]
  },
  {
   "cell_type": "code",
   "execution_count": null,
   "id": "b5cf45fa",
   "metadata": {},
   "outputs": [],
   "source": [
    "logging.debug('start debugging')"
   ]
  },
  {
   "cell_type": "code",
   "execution_count": null,
   "id": "3f73ffbd",
   "metadata": {},
   "outputs": [],
   "source": []
  },
  {
   "cell_type": "markdown",
   "id": "2b58726b",
   "metadata": {},
   "source": [
    "# q"
   ]
  },
  {
   "cell_type": "markdown",
   "id": "d0a66012",
   "metadata": {},
   "source": [
    "6.What are the five levels of logging?"
   ]
  },
  {
   "cell_type": "markdown",
   "id": "a67f5a36",
   "metadata": {},
   "source": [
    "# ans"
   ]
  },
  {
   "cell_type": "markdown",
   "id": "090fd1bf",
   "metadata": {},
   "source": [
    "Debug, INFO, WARNINGS, ERROR, CRITICAL"
   ]
  },
  {
   "cell_type": "markdown",
   "id": "31af1f11",
   "metadata": {},
   "source": [
    "# q"
   ]
  },
  {
   "cell_type": "markdown",
   "id": "7e0045e0",
   "metadata": {},
   "source": [
    "7.What line of code would you add to your software to disable all logging messages?"
   ]
  },
  {
   "cell_type": "markdown",
   "id": "c1d3fbca",
   "metadata": {},
   "source": [
    "# ans"
   ]
  },
  {
   "cell_type": "code",
   "execution_count": null,
   "id": "95d7cc7d",
   "metadata": {},
   "outputs": [],
   "source": [
    "logging.disable = True"
   ]
  },
  {
   "cell_type": "code",
   "execution_count": null,
   "id": "39832c6a",
   "metadata": {},
   "outputs": [],
   "source": []
  },
  {
   "cell_type": "markdown",
   "id": "5ed3893d",
   "metadata": {},
   "source": [
    "# q"
   ]
  },
  {
   "cell_type": "markdown",
   "id": "55073c1a",
   "metadata": {},
   "source": [
    "8.Why is using logging messages better than using print() to display the same message?"
   ]
  },
  {
   "cell_type": "markdown",
   "id": "a0322055",
   "metadata": {},
   "source": [
    "# ans"
   ]
  },
  {
   "cell_type": "markdown",
   "id": "1139bdcd",
   "metadata": {},
   "source": [
    "logging is used to record all events like error, info, warnings, debug messages, timestamps and many more critical events and is far more superior than the print()."
   ]
  },
  {
   "cell_type": "code",
   "execution_count": null,
   "id": "9386bafa",
   "metadata": {},
   "outputs": [],
   "source": []
  },
  {
   "cell_type": "markdown",
   "id": "3e5fbd0a",
   "metadata": {},
   "source": [
    "# q"
   ]
  },
  {
   "cell_type": "markdown",
   "id": "ac103c2c",
   "metadata": {},
   "source": [
    "9.What are the differences between the Step Over, Step In, and Step Out buttons in the debugger?"
   ]
  },
  {
   "cell_type": "markdown",
   "id": "9adb1d2d",
   "metadata": {},
   "source": [
    "# ans"
   ]
  },
  {
   "cell_type": "markdown",
   "id": "a020c2bd",
   "metadata": {},
   "source": [
    "Step Over = This button will step over the code similar to the Step In button. The function’s code will be executed at full speed, and the debugger will pause as soon as the function call returns.\n",
    "\n",
    "\n",
    "Step In = This helps in debugging line by line through the code.\n",
    "\n",
    "\n",
    "Step Out = This breaks out of the debugging activity."
   ]
  },
  {
   "cell_type": "markdown",
   "id": "62eed827",
   "metadata": {},
   "source": [
    "# q"
   ]
  },
  {
   "cell_type": "markdown",
   "id": "cab7fd42",
   "metadata": {},
   "source": [
    "10.After you click Continue, when will the debugger stop ?"
   ]
  },
  {
   "cell_type": "markdown",
   "id": "e4231e95",
   "metadata": {},
   "source": [
    "# ans"
   ]
  },
  {
   "cell_type": "markdown",
   "id": "4dd21404",
   "metadata": {},
   "source": [
    "This will cause the program to continue running normally, without pausing for debugging untill it terminates or reaches a breakpoint."
   ]
  },
  {
   "cell_type": "markdown",
   "id": "8879b699",
   "metadata": {},
   "source": [
    "# q"
   ]
  },
  {
   "cell_type": "markdown",
   "id": "32087d32",
   "metadata": {},
   "source": [
    "11.What is the concept of a breakpoint?"
   ]
  },
  {
   "cell_type": "markdown",
   "id": "0b7beeed",
   "metadata": {},
   "source": [
    "# ans"
   ]
  },
  {
   "cell_type": "markdown",
   "id": "9a9b21cd",
   "metadata": {},
   "source": [
    "Breakpoint is a setting on a line of code that causes the debugger to pause when the program execution reaches the line."
   ]
  }
 ],
 "metadata": {
  "kernelspec": {
   "display_name": "Python 3 (ipykernel)",
   "language": "python",
   "name": "python3"
  },
  "language_info": {
   "codemirror_mode": {
    "name": "ipython",
    "version": 3
   },
   "file_extension": ".py",
   "mimetype": "text/x-python",
   "name": "python",
   "nbconvert_exporter": "python",
   "pygments_lexer": "ipython3",
   "version": "3.9.7"
  }
 },
 "nbformat": 4,
 "nbformat_minor": 5
}
