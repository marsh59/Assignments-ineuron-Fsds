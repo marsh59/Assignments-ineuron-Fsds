{
 "cells": [
  {
   "cell_type": "code",
   "execution_count": null,
   "id": "6f2c57a1",
   "metadata": {},
   "outputs": [],
   "source": []
  },
  {
   "cell_type": "markdown",
   "id": "d416e2ac",
   "metadata": {},
   "source": [
    "# q"
   ]
  },
  {
   "cell_type": "markdown",
   "id": "53fe854b",
   "metadata": {},
   "source": [
    "1.How many seconds are in an hour? Use the interactive interpreter as a calculator and multiply the\n",
    "number of seconds in a minute (60) by the number of minutes in an hour (also 60).\n",
    "\n",
    "sol. 60"
   ]
  },
  {
   "cell_type": "markdown",
   "id": "d0bf3b63",
   "metadata": {},
   "source": [
    "# ans"
   ]
  },
  {
   "cell_type": "code",
   "execution_count": 1,
   "id": "475ac32d",
   "metadata": {},
   "outputs": [
    {
     "data": {
      "text/plain": [
       "3600"
      ]
     },
     "execution_count": 1,
     "metadata": {},
     "output_type": "execute_result"
    }
   ],
   "source": [
    "60 * 60"
   ]
  },
  {
   "cell_type": "markdown",
   "id": "e12331b5",
   "metadata": {},
   "source": [
    "# q"
   ]
  },
  {
   "cell_type": "markdown",
   "id": "96e9acb4",
   "metadata": {},
   "source": [
    "2.Assign the result from the previous task (seconds in an hour) to a variable called\n",
    "seconds_per_hour."
   ]
  },
  {
   "cell_type": "markdown",
   "id": "4bfc26f2",
   "metadata": {},
   "source": [
    "# ans"
   ]
  },
  {
   "cell_type": "code",
   "execution_count": 3,
   "id": "544cca53",
   "metadata": {},
   "outputs": [
    {
     "data": {
      "text/plain": [
       "3600"
      ]
     },
     "execution_count": 3,
     "metadata": {},
     "output_type": "execute_result"
    }
   ],
   "source": [
    "seconds_per_hour = 60 * 60\n",
    "seconds_per_hour"
   ]
  },
  {
   "cell_type": "markdown",
   "id": "6026ceba",
   "metadata": {},
   "source": [
    "# q"
   ]
  },
  {
   "cell_type": "markdown",
   "id": "de765296",
   "metadata": {},
   "source": [
    "3.How many seconds do you think there are in a day? Make use of the variables seconds per hour\n",
    "and minutes per hour."
   ]
  },
  {
   "cell_type": "markdown",
   "id": "8a06ddaf",
   "metadata": {},
   "source": [
    "# ans"
   ]
  },
  {
   "cell_type": "code",
   "execution_count": 8,
   "id": "c9ce7dcf",
   "metadata": {},
   "outputs": [
    {
     "name": "stdout",
     "output_type": "stream",
     "text": [
      "86400 seconds in a day\n"
     ]
    }
   ],
   "source": [
    "minutes_per_hour = 60\n",
    "seconds_per_hour = 3600\n",
    "print(f\"{seconds_per_hour*24} seconds in a day\")\n"
   ]
  },
  {
   "cell_type": "code",
   "execution_count": null,
   "id": "e0a78321",
   "metadata": {},
   "outputs": [],
   "source": []
  },
  {
   "cell_type": "markdown",
   "id": "cc037bfb",
   "metadata": {},
   "source": [
    "# q"
   ]
  },
  {
   "cell_type": "markdown",
   "id": "9dd89d60",
   "metadata": {},
   "source": [
    "4.Calculate seconds per day again, but this time save the result in a variable called seconds_per_day"
   ]
  },
  {
   "cell_type": "markdown",
   "id": "9ee5547b",
   "metadata": {},
   "source": [
    "# ans"
   ]
  },
  {
   "cell_type": "code",
   "execution_count": 9,
   "id": "39be6478",
   "metadata": {},
   "outputs": [
    {
     "data": {
      "text/plain": [
       "86400"
      ]
     },
     "execution_count": 9,
     "metadata": {},
     "output_type": "execute_result"
    }
   ],
   "source": [
    "seconds_per_day=seconds_per_hour*24\n",
    "seconds_per_day"
   ]
  },
  {
   "cell_type": "markdown",
   "id": "c4931c0f",
   "metadata": {},
   "source": [
    "# q"
   ]
  },
  {
   "cell_type": "markdown",
   "id": "9cb89006",
   "metadata": {},
   "source": [
    "5.Divide seconds_per_day by seconds_per_hour. Use floating-point (/) division."
   ]
  },
  {
   "cell_type": "markdown",
   "id": "657daea3",
   "metadata": {},
   "source": [
    "# ans"
   ]
  },
  {
   "cell_type": "code",
   "execution_count": 10,
   "id": "9c3a7bae",
   "metadata": {},
   "outputs": [
    {
     "data": {
      "text/plain": [
       "24.0"
      ]
     },
     "execution_count": 10,
     "metadata": {},
     "output_type": "execute_result"
    }
   ],
   "source": [
    "seconds_per_day/seconds_per_hour"
   ]
  },
  {
   "cell_type": "markdown",
   "id": "2b58726b",
   "metadata": {},
   "source": [
    "# q"
   ]
  },
  {
   "cell_type": "markdown",
   "id": "d0a66012",
   "metadata": {},
   "source": [
    "6.Divide seconds_per_day by seconds_per_hour, using integer (//) division. Did this number agree\n",
    "with the floating-point value from the previous question, aside from the final .0?"
   ]
  },
  {
   "cell_type": "markdown",
   "id": "a67f5a36",
   "metadata": {},
   "source": [
    "# ans"
   ]
  },
  {
   "cell_type": "code",
   "execution_count": 11,
   "id": "fd593924",
   "metadata": {},
   "outputs": [
    {
     "data": {
      "text/plain": [
       "24"
      ]
     },
     "execution_count": 11,
     "metadata": {},
     "output_type": "execute_result"
    }
   ],
   "source": [
    "seconds_per_day//seconds_per_hour"
   ]
  },
  {
   "cell_type": "markdown",
   "id": "31af1f11",
   "metadata": {},
   "source": [
    "# q"
   ]
  },
  {
   "cell_type": "markdown",
   "id": "7e0045e0",
   "metadata": {},
   "source": [
    "7.Write a generator, genPrimes, that returns the sequence of prime numbers on successive calls to\n",
    "its next() method: 2, 3, 5, 7, 11, ..."
   ]
  },
  {
   "cell_type": "markdown",
   "id": "c1d3fbca",
   "metadata": {},
   "source": [
    "# ans"
   ]
  },
  {
   "cell_type": "code",
   "execution_count": 14,
   "id": "5dc4e725",
   "metadata": {},
   "outputs": [],
   "source": [
    "def getPrimes():\n",
    "    prime = []\n",
    "    n = 2\n",
    "    while True:\n",
    "        \n",
    "        for i in prime:\n",
    "            if n%i==0:\n",
    "                break\n",
    "        else:\n",
    "            prime.append(n)\n",
    "            yield n\n",
    "        n=n+1\n",
    "gen = getPrimes()"
   ]
  },
  {
   "cell_type": "code",
   "execution_count": 15,
   "id": "d28e47f2",
   "metadata": {},
   "outputs": [
    {
     "data": {
      "text/plain": [
       "2"
      ]
     },
     "execution_count": 15,
     "metadata": {},
     "output_type": "execute_result"
    }
   ],
   "source": [
    "next(gen)"
   ]
  },
  {
   "cell_type": "code",
   "execution_count": 16,
   "id": "af8b7620",
   "metadata": {},
   "outputs": [
    {
     "data": {
      "text/plain": [
       "3"
      ]
     },
     "execution_count": 16,
     "metadata": {},
     "output_type": "execute_result"
    }
   ],
   "source": [
    "next(gen)"
   ]
  },
  {
   "cell_type": "code",
   "execution_count": 17,
   "id": "2a6e21b5",
   "metadata": {},
   "outputs": [
    {
     "data": {
      "text/plain": [
       "5"
      ]
     },
     "execution_count": 17,
     "metadata": {},
     "output_type": "execute_result"
    }
   ],
   "source": [
    "next(gen)"
   ]
  },
  {
   "cell_type": "code",
   "execution_count": null,
   "id": "2efe320b",
   "metadata": {},
   "outputs": [],
   "source": []
  }
 ],
 "metadata": {
  "kernelspec": {
   "display_name": "Python 3 (ipykernel)",
   "language": "python",
   "name": "python3"
  },
  "language_info": {
   "codemirror_mode": {
    "name": "ipython",
    "version": 3
   },
   "file_extension": ".py",
   "mimetype": "text/x-python",
   "name": "python",
   "nbconvert_exporter": "python",
   "pygments_lexer": "ipython3",
   "version": "3.9.7"
  }
 },
 "nbformat": 4,
 "nbformat_minor": 5
}
