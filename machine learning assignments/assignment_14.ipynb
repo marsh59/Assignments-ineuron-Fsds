{
 "cells": [
  {
   "cell_type": "code",
   "execution_count": null,
   "id": "6f2c57a1",
   "metadata": {},
   "outputs": [],
   "source": []
  },
  {
   "cell_type": "markdown",
   "id": "d416e2ac",
   "metadata": {},
   "source": [
    "# q"
   ]
  },
  {
   "cell_type": "markdown",
   "id": "53fe854b",
   "metadata": {},
   "source": [
    "1.What is the concept of supervised learning? What is the significance of the name?"
   ]
  },
  {
   "cell_type": "markdown",
   "id": "d0bf3b63",
   "metadata": {},
   "source": [
    "# ans"
   ]
  },
  {
   "cell_type": "markdown",
   "id": "158b74d6",
   "metadata": {},
   "source": [
    "Supervised learning, also known as supervised machine learning, is a subcategory of machine learning and artificial intelligence. It is defined by its use of labeled datasets to train algorithms that to classify data or predict outcomes accurately."
   ]
  },
  {
   "cell_type": "markdown",
   "id": "e12331b5",
   "metadata": {},
   "source": [
    "# q"
   ]
  },
  {
   "cell_type": "markdown",
   "id": "96e9acb4",
   "metadata": {},
   "source": [
    "2.In the hospital sector, offer an example of supervised learning."
   ]
  },
  {
   "cell_type": "markdown",
   "id": "4bfc26f2",
   "metadata": {},
   "source": [
    "# ans"
   ]
  },
  {
   "cell_type": "markdown",
   "id": "1397af1d",
   "metadata": {},
   "source": [
    "Supervised learning uses a training set to teach models to yield the desired output. This training dataset includes inputs and correct outputs, which allow the model to learn over time. The algorithm measures its accuracy through the loss function, adjusting until the error has been sufficiently minimized."
   ]
  },
  {
   "cell_type": "markdown",
   "id": "6026ceba",
   "metadata": {},
   "source": [
    "# q"
   ]
  },
  {
   "cell_type": "markdown",
   "id": "de765296",
   "metadata": {},
   "source": [
    "3.Give three supervised learning examples."
   ]
  },
  {
   "cell_type": "markdown",
   "id": "8a06ddaf",
   "metadata": {},
   "source": [
    "# ans"
   ]
  },
  {
   "cell_type": "markdown",
   "id": "23603e6e",
   "metadata": {},
   "source": [
    "Decision Trees.\n",
    "Support Vector Machine (SVM)\n",
    "Random Forest.\n"
   ]
  },
  {
   "cell_type": "code",
   "execution_count": null,
   "id": "ba323310",
   "metadata": {},
   "outputs": [],
   "source": []
  },
  {
   "cell_type": "markdown",
   "id": "cc037bfb",
   "metadata": {},
   "source": [
    "# q"
   ]
  },
  {
   "cell_type": "markdown",
   "id": "9dd89d60",
   "metadata": {},
   "source": [
    "4.In supervised learning, what are classification and regression?"
   ]
  },
  {
   "cell_type": "markdown",
   "id": "9ee5547b",
   "metadata": {},
   "source": [
    "# ans"
   ]
  },
  {
   "cell_type": "markdown",
   "id": "c18040e8",
   "metadata": {},
   "source": [
    "Fundamentally, classification is about predicting a label and regression is about predicting a quantity. That classification is the problem of predicting a discrete class label output for an example. That regression is the problem of predicting a continuous quantity output for an example."
   ]
  },
  {
   "cell_type": "markdown",
   "id": "c4931c0f",
   "metadata": {},
   "source": [
    "# q"
   ]
  },
  {
   "cell_type": "markdown",
   "id": "9cb89006",
   "metadata": {},
   "source": [
    "5.Give some popular classification algorithms as examples."
   ]
  },
  {
   "cell_type": "markdown",
   "id": "657daea3",
   "metadata": {},
   "source": [
    "# ans"
   ]
  },
  {
   "cell_type": "markdown",
   "id": "740cfda0",
   "metadata": {},
   "source": [
    "k-Nearest Neighbors\n",
    "Decision Trees\n",
    "Naive Bayes"
   ]
  },
  {
   "cell_type": "markdown",
   "id": "2b58726b",
   "metadata": {},
   "source": [
    "# q"
   ]
  },
  {
   "cell_type": "markdown",
   "id": "d0a66012",
   "metadata": {},
   "source": [
    "6.Briefly describe the SVM model."
   ]
  },
  {
   "cell_type": "markdown",
   "id": "a67f5a36",
   "metadata": {},
   "source": [
    "# ans"
   ]
  },
  {
   "cell_type": "markdown",
   "id": "00dd156a",
   "metadata": {},
   "source": [
    " A support vector machine (SVM) is a supervised machine learning model that uses classification algorithms for two-group classification problems. After giving an SVM model sets of labeled training data for each category, they're able to categorize new text."
   ]
  },
  {
   "cell_type": "markdown",
   "id": "31af1f11",
   "metadata": {},
   "source": [
    "# q"
   ]
  },
  {
   "cell_type": "markdown",
   "id": "7e0045e0",
   "metadata": {},
   "source": [
    "7.In SVM, what is the cost of misclassification?"
   ]
  },
  {
   "cell_type": "markdown",
   "id": "c1d3fbca",
   "metadata": {},
   "source": [
    "# ans"
   ]
  },
  {
   "cell_type": "markdown",
   "id": "8b6270e4",
   "metadata": {},
   "source": [
    "In cost-sensitive learning instead of each instance being either correctly or incorrectly classified, each class (or instance) is given a misclassification cost. Thus, instead of trying to optimize the accuracy, the problem is then to minimize the total misclassification cost."
   ]
  },
  {
   "cell_type": "markdown",
   "id": "5ed3893d",
   "metadata": {},
   "source": [
    "# q"
   ]
  },
  {
   "cell_type": "markdown",
   "id": "55073c1a",
   "metadata": {},
   "source": [
    "8.In the SVM model, define Support Vectors."
   ]
  },
  {
   "cell_type": "markdown",
   "id": "a0322055",
   "metadata": {},
   "source": [
    "# ans"
   ]
  },
  {
   "cell_type": "markdown",
   "id": "b9a24808",
   "metadata": {},
   "source": [
    "Support vectors are data points that are closer to the hyperplane and influence the position and orientation of the hyperplane. Using these support vectors, we maximize the margin of the classifier. Deleting the support vectors will change the position of the hyperplane. These are the points that help us build our SVM."
   ]
  },
  {
   "cell_type": "markdown",
   "id": "3e5fbd0a",
   "metadata": {},
   "source": [
    "# q"
   ]
  },
  {
   "cell_type": "markdown",
   "id": "ac103c2c",
   "metadata": {},
   "source": [
    "9.In the SVM model, define the kernel."
   ]
  },
  {
   "cell_type": "markdown",
   "id": "9adb1d2d",
   "metadata": {},
   "source": [
    "# ans"
   ]
  },
  {
   "cell_type": "markdown",
   "id": "45521c09",
   "metadata": {},
   "source": [
    "SVM algorithms use a set of mathematical functions that are defined as the kernel. The function of kernel is to take data as input and transform it into the required form. These functions can be different types. For example linear, nonlinear, polynomial, radial basis function (RBF), and sigmoid."
   ]
  },
  {
   "cell_type": "markdown",
   "id": "62eed827",
   "metadata": {},
   "source": [
    "# q"
   ]
  },
  {
   "cell_type": "markdown",
   "id": "cab7fd42",
   "metadata": {},
   "source": [
    "10.What are the factors that influence SVM&#39;s effectiveness?"
   ]
  },
  {
   "cell_type": "markdown",
   "id": "e4231e95",
   "metadata": {},
   "source": [
    "# ans"
   ]
  },
  {
   "cell_type": "markdown",
   "id": "a6c98c47",
   "metadata": {},
   "source": [
    "SVM or Support Vector Machine is a linear model for classification and regression problems. It can solve linear and non-linear problems and work well for many practical problems. The idea of SVM is simple: The algorithm creates a line or a hyperplane which separates the data into classes."
   ]
  },
  {
   "cell_type": "markdown",
   "id": "8879b699",
   "metadata": {},
   "source": [
    "# q"
   ]
  },
  {
   "cell_type": "markdown",
   "id": "32087d32",
   "metadata": {},
   "source": [
    "11.What are the benefits of using the SVM model?"
   ]
  },
  {
   "cell_type": "markdown",
   "id": "0b7beeed",
   "metadata": {},
   "source": [
    "# ans"
   ]
  },
  {
   "cell_type": "markdown",
   "id": "514105fc",
   "metadata": {},
   "source": [
    "SVM works relatively well when there is a clear margin of separation between classes. SVM is more effective in high dimensional spaces. SVM is effective in cases where the number of dimensions is greater than the number of samples.SVM is relatively memory efficient."
   ]
  },
  {
   "cell_type": "markdown",
   "id": "d35a98f3",
   "metadata": {},
   "source": [
    "# q"
   ]
  },
  {
   "cell_type": "markdown",
   "id": "7b885387",
   "metadata": {},
   "source": [
    "12.What are the drawbacks of using the SVM model?"
   ]
  },
  {
   "cell_type": "markdown",
   "id": "3e5c9388",
   "metadata": {},
   "source": [
    "# ans"
   ]
  },
  {
   "cell_type": "markdown",
   "id": "0360d967",
   "metadata": {},
   "source": [
    "SVM algorithm is not suitable for large data sets. SVM does not perform very well when the data set has more noise i.e. target classes are overlapping. In cases where the number of features for each data point exceeds the number of training data samples, the SVM will underperform."
   ]
  },
  {
   "cell_type": "code",
   "execution_count": null,
   "id": "4d44e197",
   "metadata": {},
   "outputs": [],
   "source": []
  },
  {
   "cell_type": "markdown",
   "id": "77ece922",
   "metadata": {},
   "source": [
    "# q"
   ]
  },
  {
   "cell_type": "markdown",
   "id": "3909ab8e",
   "metadata": {},
   "source": [
    "13.Notes should be written on\n",
    "1. The kNN algorithm has a validation flaw.\n",
    "\n",
    "2. In the kNN algorithm, the k value is chosen.\n",
    "\n",
    "3. A decision tree with inductive bias"
   ]
  },
  {
   "cell_type": "markdown",
   "id": "74ca42cf",
   "metadata": {},
   "source": [
    "# ans"
   ]
  },
  {
   "cell_type": "markdown",
   "id": "5e31b5aa",
   "metadata": {},
   "source": [
    "* The kNN algorithm has a validation flaw.\n",
    "\n",
    "    The relatively low accuracy of kNN is caused by several factors. One of them is that every characteristic of the method has the same result on calculating distance. The solution of this problem is to give weight to each data characteristic.\n",
    "\n",
    "* In the kNN algorithm, the k value is chosen.\n",
    "\n",
    "    The optimal K value usually found is the square root of N, where N is the total number of samples. Use an error plot or accuracy plot to find the most favorable K value. KNN performs well with multi-label classes, but you must be aware of the outliers.\n",
    "\n",
    "* A decision tree with inductive bias\n",
    "\n",
    "    Shorter trees are preferred over longer ones. Trees that place high information gain attributes close to the root are preferred over those that do not."
   ]
  },
  {
   "cell_type": "code",
   "execution_count": null,
   "id": "ba272f79",
   "metadata": {},
   "outputs": [],
   "source": []
  },
  {
   "cell_type": "markdown",
   "id": "57147243",
   "metadata": {},
   "source": [
    "# q"
   ]
  },
  {
   "cell_type": "markdown",
   "id": "ca7faf61",
   "metadata": {},
   "source": [
    "14.What are some of the benefits of the kNN algorithm?"
   ]
  },
  {
   "cell_type": "markdown",
   "id": "453d3101",
   "metadata": {},
   "source": [
    "# ans"
   ]
  },
  {
   "cell_type": "markdown",
   "id": "899ba9ec",
   "metadata": {},
   "source": [
    "* Simple algorithm – to interpret.\n",
    "* Versatile – useful for regression and classification.\n",
    "* High accuracy – you do not need to compare with better-supervised learning models."
   ]
  },
  {
   "cell_type": "code",
   "execution_count": null,
   "id": "cd02f45e",
   "metadata": {},
   "outputs": [],
   "source": []
  },
  {
   "cell_type": "markdown",
   "id": "b45eca52",
   "metadata": {},
   "source": [
    "# q"
   ]
  },
  {
   "cell_type": "markdown",
   "id": "76fb63a1",
   "metadata": {},
   "source": [
    "15.What are some of the kNN algorithm&#39;s drawbacks?"
   ]
  },
  {
   "cell_type": "markdown",
   "id": "666c35da",
   "metadata": {},
   "source": [
    "# ans"
   ]
  },
  {
   "cell_type": "markdown",
   "id": "f312d737",
   "metadata": {},
   "source": [
    "* With large data, the prediction stage might be slow.\n",
    "* Sensitive to the scale of the data and irrelevant features.\n",
    "* Require high memory – need to store all of the training data."
   ]
  },
  {
   "cell_type": "code",
   "execution_count": null,
   "id": "3d9aeda3",
   "metadata": {},
   "outputs": [],
   "source": []
  },
  {
   "cell_type": "markdown",
   "id": "16a2b6a3",
   "metadata": {},
   "source": [
    "# q"
   ]
  },
  {
   "cell_type": "markdown",
   "id": "6a34a17d",
   "metadata": {},
   "source": [
    "16.Explain the decision tree algorithm in a few words."
   ]
  },
  {
   "cell_type": "markdown",
   "id": "0256a563",
   "metadata": {},
   "source": [
    "# ans"
   ]
  },
  {
   "cell_type": "markdown",
   "id": "4b61e0ba",
   "metadata": {},
   "source": [
    "A decision tree is a graphical representation of all the possible solutions to a decision based on certain conditions. Tree models where the target variable can take a finite set of values are called classification trees and target variable can take continuous values (numbers) are called regression trees."
   ]
  },
  {
   "cell_type": "code",
   "execution_count": null,
   "id": "8fffeede",
   "metadata": {},
   "outputs": [],
   "source": []
  },
  {
   "cell_type": "markdown",
   "id": "fa711949",
   "metadata": {},
   "source": [
    "# q"
   ]
  },
  {
   "cell_type": "markdown",
   "id": "25ef4990",
   "metadata": {},
   "source": [
    "17.What is the difference between a node and a leaf in a decision tree?"
   ]
  },
  {
   "cell_type": "markdown",
   "id": "b91407f1",
   "metadata": {},
   "source": [
    "# ans"
   ]
  },
  {
   "cell_type": "markdown",
   "id": "12d1ebc6",
   "metadata": {},
   "source": [
    " A decision tree is a flowchart-like structure in which each internal node represents a \"test\" on an attribute (e.g. whether a coin flip comes up heads or tails), each branch represents the outcome of the test, and each leaf node represents a class label ."
   ]
  },
  {
   "cell_type": "code",
   "execution_count": null,
   "id": "9ee3f0ff",
   "metadata": {},
   "outputs": [],
   "source": []
  },
  {
   "cell_type": "markdown",
   "id": "96aff2ea",
   "metadata": {},
   "source": [
    "# q"
   ]
  },
  {
   "cell_type": "markdown",
   "id": "189a59ba",
   "metadata": {},
   "source": [
    "18.What is a decision tree&#39;s entropy?"
   ]
  },
  {
   "cell_type": "markdown",
   "id": "7f9384b7",
   "metadata": {},
   "source": [
    "# ans"
   ]
  },
  {
   "cell_type": "markdown",
   "id": "2e1a4190",
   "metadata": {},
   "source": [
    " Entropy helps us to build an appropriate decision tree for selecting the best splitter. Entropy can be defined as a measure of the purity of the sub split. Entropy always lies between 0 to 1. The entropy of any split can be calculate by this formula."
   ]
  },
  {
   "cell_type": "code",
   "execution_count": null,
   "id": "e3e5ea46",
   "metadata": {},
   "outputs": [],
   "source": []
  },
  {
   "cell_type": "code",
   "execution_count": null,
   "id": "3735ed5e",
   "metadata": {},
   "outputs": [],
   "source": []
  },
  {
   "cell_type": "markdown",
   "id": "bbe9f068",
   "metadata": {},
   "source": [
    "# q"
   ]
  },
  {
   "cell_type": "markdown",
   "id": "6b08c14b",
   "metadata": {},
   "source": [
    "19.In a decision tree, define knowledge gain."
   ]
  },
  {
   "cell_type": "markdown",
   "id": "67a0c1fd",
   "metadata": {},
   "source": [
    "# ans"
   ]
  },
  {
   "cell_type": "markdown",
   "id": "6168eed3",
   "metadata": {},
   "source": [
    "Information gain is the reduction in entropy or surprise by transforming a dataset and is often used in training decision trees.Information gain is calculated by comparing the entropy of the dataset before and after a transformation."
   ]
  },
  {
   "cell_type": "markdown",
   "id": "f0138410",
   "metadata": {},
   "source": [
    "# q"
   ]
  },
  {
   "cell_type": "markdown",
   "id": "04952d06",
   "metadata": {},
   "source": [
    "20.Choose three advantages of the decision tree approach and write them down."
   ]
  },
  {
   "cell_type": "code",
   "execution_count": null,
   "id": "fbc3bc89",
   "metadata": {},
   "outputs": [],
   "source": []
  },
  {
   "cell_type": "markdown",
   "id": "2379692d",
   "metadata": {},
   "source": [
    "# ans"
   ]
  },
  {
   "cell_type": "markdown",
   "id": "ce45e419",
   "metadata": {},
   "source": [
    "* Easy to read and interpret. One of the advantages of decision trees is that their outputs are easy to read and interpret without requiring statistical knowledge.\n",
    "\n",
    "* Easy to prepare.\n",
    "\n",
    "* Less data cleaning required."
   ]
  },
  {
   "cell_type": "markdown",
   "id": "1c77a539",
   "metadata": {},
   "source": [
    "# q"
   ]
  },
  {
   "cell_type": "markdown",
   "id": "93bb2e51",
   "metadata": {},
   "source": [
    "21.Make a list of three flaws in the decision tree process."
   ]
  },
  {
   "cell_type": "markdown",
   "id": "f0784cbf",
   "metadata": {},
   "source": [
    "# ans"
   ]
  },
  {
   "cell_type": "markdown",
   "id": "faf3332d",
   "metadata": {},
   "source": [
    "* Handling continuous valued attributes.\n",
    "* Handling missing attribute values.\n",
    "* Handling attributes with differing costs."
   ]
  },
  {
   "cell_type": "markdown",
   "id": "575780a5",
   "metadata": {},
   "source": [
    "# q"
   ]
  },
  {
   "cell_type": "markdown",
   "id": "d1ff2d1f",
   "metadata": {},
   "source": [
    "22.Briefly describe the random forest model."
   ]
  },
  {
   "cell_type": "markdown",
   "id": "f77f01f2",
   "metadata": {},
   "source": [
    "# ans"
   ]
  },
  {
   "cell_type": "markdown",
   "id": "e172d89e",
   "metadata": {},
   "source": [
    "The random forest is a classification algorithm consisting of many decisions trees. It uses bagging and feature randomness when building each individual tree to try to create an uncorrelated forest of trees whose prediction by committee is more accurate than that of any individual tree."
   ]
  },
  {
   "cell_type": "code",
   "execution_count": null,
   "id": "5c63ed7a",
   "metadata": {},
   "outputs": [],
   "source": []
  }
 ],
 "metadata": {
  "kernelspec": {
   "display_name": "Python 3 (ipykernel)",
   "language": "python",
   "name": "python3"
  },
  "language_info": {
   "codemirror_mode": {
    "name": "ipython",
    "version": 3
   },
   "file_extension": ".py",
   "mimetype": "text/x-python",
   "name": "python",
   "nbconvert_exporter": "python",
   "pygments_lexer": "ipython3",
   "version": "3.9.7"
  }
 },
 "nbformat": 4,
 "nbformat_minor": 5
}
