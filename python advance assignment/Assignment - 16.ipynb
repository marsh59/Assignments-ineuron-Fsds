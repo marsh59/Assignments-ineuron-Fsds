{
 "cells": [
  {
   "cell_type": "code",
   "execution_count": null,
   "id": "6f2c57a1",
   "metadata": {},
   "outputs": [],
   "source": []
  },
  {
   "cell_type": "markdown",
   "id": "d416e2ac",
   "metadata": {},
   "source": [
    "# q"
   ]
  },
  {
   "cell_type": "markdown",
   "id": "53fe854b",
   "metadata": {},
   "source": [
    "Q1.What is the benefit of regular expressions?"
   ]
  },
  {
   "cell_type": "markdown",
   "id": "d0bf3b63",
   "metadata": {},
   "source": [
    "# ans"
   ]
  },
  {
   "cell_type": "markdown",
   "id": "0b43c1f2",
   "metadata": {},
   "source": [
    "regex  are used to match strings of text such as particular characters, words, or patterns of characters. It helps to find texts in much faster way."
   ]
  },
  {
   "cell_type": "markdown",
   "id": "e12331b5",
   "metadata": {},
   "source": [
    "# q"
   ]
  },
  {
   "cell_type": "markdown",
   "id": "96e9acb4",
   "metadata": {},
   "source": [
    "Q2.Describe the difference between the effects of &quot;(ab)c+&quot; and &quot;a(bc)+.&quot; Which of these, if any, is the\n",
    "unqualified pattern &quot;abc+&quot;?"
   ]
  },
  {
   "cell_type": "markdown",
   "id": "4bfc26f2",
   "metadata": {},
   "source": [
    "# ans"
   ]
  },
  {
   "cell_type": "markdown",
   "id": "3c1d3768",
   "metadata": {},
   "source": [
    "Both (ab)c+ and a(bc)+ are valid patterns. The difference between both these patterns is in (ab)c+ ab is group whereas in a(bc)+ bc is a group."
   ]
  },
  {
   "cell_type": "markdown",
   "id": "6026ceba",
   "metadata": {},
   "source": [
    "# q"
   ]
  },
  {
   "cell_type": "markdown",
   "id": "de765296",
   "metadata": {},
   "source": [
    "Q3. How much do you need to use the following sentence while using regular expressions?\n",
    "import re"
   ]
  },
  {
   "cell_type": "markdown",
   "id": "8a06ddaf",
   "metadata": {},
   "source": [
    "# ans"
   ]
  },
  {
   "cell_type": "markdown",
   "id": "ea3db950",
   "metadata": {},
   "source": [
    "* Only one time."
   ]
  },
  {
   "cell_type": "code",
   "execution_count": null,
   "id": "ba323310",
   "metadata": {},
   "outputs": [],
   "source": []
  },
  {
   "cell_type": "markdown",
   "id": "cc037bfb",
   "metadata": {},
   "source": [
    "# q"
   ]
  },
  {
   "cell_type": "markdown",
   "id": "9dd89d60",
   "metadata": {},
   "source": [
    "Q4.Which characters have special significance in square brackets when expressing a range, and\n",
    "under what circumstances?"
   ]
  },
  {
   "cell_type": "markdown",
   "id": "9ee5547b",
   "metadata": {},
   "source": [
    "# ans"
   ]
  },
  {
   "cell_type": "markdown",
   "id": "3a0eb2cc",
   "metadata": {},
   "source": [
    "The Characters .,*,?,^,or,(), have a special signiface when used with square brackets. They need not be be explicitly escaped by \\ as in case of pattern texts in a raw string."
   ]
  },
  {
   "cell_type": "markdown",
   "id": "c4931c0f",
   "metadata": {},
   "source": [
    "# q"
   ]
  },
  {
   "cell_type": "markdown",
   "id": "9cb89006",
   "metadata": {},
   "source": [
    "Q5.How does compiling a regular-expression object benefit you?"
   ]
  },
  {
   "cell_type": "markdown",
   "id": "657daea3",
   "metadata": {},
   "source": [
    "# ans"
   ]
  },
  {
   "cell_type": "markdown",
   "id": "91ff7f04",
   "metadata": {},
   "source": [
    "We can Combine a regular expression pattern into pattern Objects. It can be used for pattern matching. It also helps to search a pattern again without rewritting it."
   ]
  },
  {
   "cell_type": "markdown",
   "id": "2b58726b",
   "metadata": {},
   "source": [
    "# q"
   ]
  },
  {
   "cell_type": "markdown",
   "id": "d0a66012",
   "metadata": {},
   "source": [
    "Q6.What are some examples of how to use the match object returned by re.match and re.search?"
   ]
  },
  {
   "cell_type": "markdown",
   "id": "a67f5a36",
   "metadata": {},
   "source": [
    "# ans"
   ]
  },
  {
   "cell_type": "code",
   "execution_count": 2,
   "id": "a414f84f",
   "metadata": {},
   "outputs": [],
   "source": [
    "import re"
   ]
  },
  {
   "cell_type": "code",
   "execution_count": 3,
   "id": "fd593924",
   "metadata": {},
   "outputs": [
    {
     "name": "stdout",
     "output_type": "stream",
     "text": [
      "<re.Match object; span=(11, 15), match='well'>\n",
      "<re.Match object; span=(0, 4), match='Well'>\n"
     ]
    }
   ],
   "source": [
    "pattern = 'well'\n",
    "search_string=re.search(pattern, 'There is a well', re.IGNORECASE)\n",
    "print(search_string)\n",
    "match_string=re.match(pattern, 'Well, things are going to end', re.IGNORECASE)\n",
    "print(match_string)"
   ]
  },
  {
   "cell_type": "markdown",
   "id": "31af1f11",
   "metadata": {},
   "source": [
    "# q"
   ]
  },
  {
   "cell_type": "markdown",
   "id": "7e0045e0",
   "metadata": {},
   "source": [
    "Q7.What is the difference between using a vertical bar (|) as an alteration and using square brackets\n",
    "as a character set?"
   ]
  },
  {
   "cell_type": "markdown",
   "id": "c1d3fbca",
   "metadata": {},
   "source": [
    "# ans"
   ]
  },
  {
   "cell_type": "markdown",
   "id": "2e87db1b",
   "metadata": {},
   "source": [
    "When | us used then patterns searches for or option. i.e <pattern_1>|<pattern_2> means it searches as <pattern_1>or<<pattern_2> in the searched string. the first occurance of matched string will be returned as the Match Object. Using Character set in square Brackets searches for all the character set in the square bracket and if match is found, it returns it."
   ]
  },
  {
   "cell_type": "markdown",
   "id": "5ed3893d",
   "metadata": {},
   "source": [
    "# q"
   ]
  },
  {
   "cell_type": "markdown",
   "id": "55073c1a",
   "metadata": {},
   "source": [
    "Q8.In regular-expression search patterns, why is it necessary to use the raw-string indicator (r)? In  \n",
    "replacement strings?"
   ]
  },
  {
   "cell_type": "markdown",
   "id": "a0322055",
   "metadata": {},
   "source": [
    "# ans"
   ]
  },
  {
   "cell_type": "markdown",
   "id": "c928cc88",
   "metadata": {},
   "source": [
    "The issue with using a normal string to write regexes that contain a \\ is that you end up having to write \\ for every . raw-string gets especially useful if you want to write a regular expression that matches against backslashes."
   ]
  }
 ],
 "metadata": {
  "kernelspec": {
   "display_name": "Python 3 (ipykernel)",
   "language": "python",
   "name": "python3"
  },
  "language_info": {
   "codemirror_mode": {
    "name": "ipython",
    "version": 3
   },
   "file_extension": ".py",
   "mimetype": "text/x-python",
   "name": "python",
   "nbconvert_exporter": "python",
   "pygments_lexer": "ipython3",
   "version": "3.9.7"
  }
 },
 "nbformat": 4,
 "nbformat_minor": 5
}
