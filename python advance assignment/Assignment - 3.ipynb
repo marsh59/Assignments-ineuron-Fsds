{
 "cells": [
  {
   "cell_type": "code",
   "execution_count": null,
   "id": "6f2c57a1",
   "metadata": {},
   "outputs": [],
   "source": []
  },
  {
   "cell_type": "markdown",
   "id": "d416e2ac",
   "metadata": {},
   "source": [
    "# q"
   ]
  },
  {
   "cell_type": "markdown",
   "id": "53fe854b",
   "metadata": {},
   "source": [
    "1.What is the concept of an abstract superclass?"
   ]
  },
  {
   "cell_type": "markdown",
   "id": "d0bf3b63",
   "metadata": {},
   "source": [
    "# ans"
   ]
  },
  {
   "cell_type": "markdown",
   "id": "2c68ec09",
   "metadata": {},
   "source": [
    "* We use  abstract class to create a blueprint for other classes.\n",
    "* an abstract method is an method without an implementation.\n",
    "* It allows us to create a set of methods that must be created within any child classes built from the abstract class."
   ]
  },
  {
   "cell_type": "code",
   "execution_count": null,
   "id": "1d2cf18b",
   "metadata": {},
   "outputs": [],
   "source": []
  },
  {
   "cell_type": "code",
   "execution_count": 3,
   "id": "b37a9916",
   "metadata": {},
   "outputs": [],
   "source": [
    "from abc import ABC , abstractmethod"
   ]
  },
  {
   "cell_type": "code",
   "execution_count": 9,
   "id": "475ac32d",
   "metadata": {},
   "outputs": [],
   "source": [
    "class Polygon(ABC): # Abstract Class\n",
    "    @abstractmethod\n",
    "    def noofsides(self): # Abstract Method\n",
    "        pass\n",
    "class Triangle(Polygon):\n",
    "    def noofsides(self):  # overriding abstract method in child class Triangle\n",
    "        print(\"I have 7 sides\")\n",
    "class Pentagon(Polygon):\n",
    "    def noofsides(self): # overriding abstract method in child class Pentagon\n",
    "        print(\"I have 77 sides\")"
   ]
  },
  {
   "cell_type": "code",
   "execution_count": 10,
   "id": "a3a1031b",
   "metadata": {},
   "outputs": [],
   "source": [
    "obj=Pentagon()"
   ]
  },
  {
   "cell_type": "code",
   "execution_count": 12,
   "id": "e3d77832",
   "metadata": {},
   "outputs": [
    {
     "name": "stdout",
     "output_type": "stream",
     "text": [
      "I have 77 sides\n"
     ]
    }
   ],
   "source": [
    "obj.noofsides()"
   ]
  },
  {
   "cell_type": "code",
   "execution_count": 13,
   "id": "153cb2a8",
   "metadata": {},
   "outputs": [
    {
     "name": "stdout",
     "output_type": "stream",
     "text": [
      "I have 7 sides\n"
     ]
    }
   ],
   "source": [
    "obj=Triangle()\n",
    "obj.noofsides()"
   ]
  },
  {
   "cell_type": "code",
   "execution_count": null,
   "id": "e714677e",
   "metadata": {},
   "outputs": [],
   "source": []
  },
  {
   "cell_type": "code",
   "execution_count": null,
   "id": "ddce72a6",
   "metadata": {},
   "outputs": [],
   "source": []
  },
  {
   "cell_type": "markdown",
   "id": "e12331b5",
   "metadata": {},
   "source": [
    "# q"
   ]
  },
  {
   "cell_type": "markdown",
   "id": "96e9acb4",
   "metadata": {},
   "source": [
    "2.What happens when a class statement&#39;s top level contains a basic assignment statement?"
   ]
  },
  {
   "cell_type": "markdown",
   "id": "4bfc26f2",
   "metadata": {},
   "source": [
    "# ans"
   ]
  },
  {
   "cell_type": "markdown",
   "id": "56dec3be",
   "metadata": {},
   "source": [
    "Then it is treated as a class attribute."
   ]
  },
  {
   "cell_type": "code",
   "execution_count": 20,
   "id": "544cca53",
   "metadata": {},
   "outputs": [],
   "source": [
    "class music():\n",
    "    result='entertainment' # this is the class attribute \n",
    "    def __init__(self,audience,musicians):\n",
    "        self.audience=audience\n",
    "        self.musicians=musicians   "
   ]
  },
  {
   "cell_type": "code",
   "execution_count": 21,
   "id": "89913792",
   "metadata": {},
   "outputs": [],
   "source": [
    "audiolover=music('crowd','john')"
   ]
  },
  {
   "cell_type": "code",
   "execution_count": 23,
   "id": "505ea89d",
   "metadata": {},
   "outputs": [
    {
     "data": {
      "text/plain": [
       "'entertainment'"
      ]
     },
     "execution_count": 23,
     "metadata": {},
     "output_type": "execute_result"
    }
   ],
   "source": [
    "audiolover.result "
   ]
  },
  {
   "cell_type": "markdown",
   "id": "6026ceba",
   "metadata": {},
   "source": [
    "# q"
   ]
  },
  {
   "cell_type": "markdown",
   "id": "de765296",
   "metadata": {},
   "source": [
    "3.Why does a class need to manually call a superclass&#39;s __init__ method?"
   ]
  },
  {
   "cell_type": "markdown",
   "id": "8a06ddaf",
   "metadata": {},
   "source": [
    "# ans"
   ]
  },
  {
   "cell_type": "markdown",
   "id": "e155cfec",
   "metadata": {},
   "source": [
    "a Class need to manually call a superclass's init method by super() method so that we will inherit the parameters of parent class. "
   ]
  },
  {
   "cell_type": "code",
   "execution_count": null,
   "id": "ba323310",
   "metadata": {},
   "outputs": [],
   "source": []
  },
  {
   "cell_type": "markdown",
   "id": "cc037bfb",
   "metadata": {},
   "source": [
    "# q"
   ]
  },
  {
   "cell_type": "markdown",
   "id": "9dd89d60",
   "metadata": {},
   "source": [
    "4.How can you augment, instead of completely replacing, an inherited method?"
   ]
  },
  {
   "cell_type": "markdown",
   "id": "9ee5547b",
   "metadata": {},
   "source": [
    "# ans"
   ]
  },
  {
   "cell_type": "markdown",
   "id": "f3347d3c",
   "metadata": {},
   "source": [
    "super() method can be used to augment, instead of completely replacing, an inherited method."
   ]
  },
  {
   "cell_type": "markdown",
   "id": "c4931c0f",
   "metadata": {},
   "source": [
    "# q"
   ]
  },
  {
   "cell_type": "markdown",
   "id": "9cb89006",
   "metadata": {},
   "source": [
    "5.How is the local scope of a class different from that of a function?"
   ]
  },
  {
   "cell_type": "markdown",
   "id": "657daea3",
   "metadata": {},
   "source": [
    "# ans"
   ]
  },
  {
   "cell_type": "markdown",
   "id": "a06de1e1",
   "metadata": {},
   "source": [
    "Inside a class, there is a function and inside function, there is a variable, the only way to call this variable from outside is by accessing that function. \n",
    "Instead inside a class, if a variable is given like inside constructor then we can call that variable by calling class.variable_name and is accessible to all the other function. "
   ]
  },
  {
   "cell_type": "code",
   "execution_count": null,
   "id": "65134244",
   "metadata": {},
   "outputs": [],
   "source": []
  }
 ],
 "metadata": {
  "kernelspec": {
   "display_name": "Python 3 (ipykernel)",
   "language": "python",
   "name": "python3"
  },
  "language_info": {
   "codemirror_mode": {
    "name": "ipython",
    "version": 3
   },
   "file_extension": ".py",
   "mimetype": "text/x-python",
   "name": "python",
   "nbconvert_exporter": "python",
   "pygments_lexer": "ipython3",
   "version": "3.9.7"
  }
 },
 "nbformat": 4,
 "nbformat_minor": 5
}
