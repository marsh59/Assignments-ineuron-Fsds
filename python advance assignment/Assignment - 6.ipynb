{
 "cells": [
  {
   "cell_type": "code",
   "execution_count": null,
   "id": "6f2c57a1",
   "metadata": {},
   "outputs": [],
   "source": []
  },
  {
   "cell_type": "markdown",
   "id": "d416e2ac",
   "metadata": {},
   "source": [
    "# q"
   ]
  },
  {
   "cell_type": "markdown",
   "id": "53fe854b",
   "metadata": {},
   "source": [
    "Q1.Describe three applications for exception processing."
   ]
  },
  {
   "cell_type": "markdown",
   "id": "d0bf3b63",
   "metadata": {},
   "source": [
    "# ans"
   ]
  },
  {
   "cell_type": "markdown",
   "id": "a44fc785",
   "metadata": {},
   "source": [
    "Exception Processing is important to find exceptions that causes the runtime error. As runtime errors Halt the program execution when exception occurs.\n",
    "\n",
    "Exception Processing is used in Various Applications, Some of them are:=\n",
    "\n",
    "* Checking Appropriate use of input in an application\n",
    "* Checking for Arithmetic exceptions in mathematical executions\n",
    "* Checking File I/O exceptions during File handling"
   ]
  },
  {
   "cell_type": "markdown",
   "id": "e12331b5",
   "metadata": {},
   "source": [
    "# q"
   ]
  },
  {
   "cell_type": "markdown",
   "id": "96e9acb4",
   "metadata": {},
   "source": [
    "Q2.What happens if you don&#39;t do something extra to treat an exception?"
   ]
  },
  {
   "cell_type": "markdown",
   "id": "4bfc26f2",
   "metadata": {},
   "source": [
    "# ans"
   ]
  },
  {
   "cell_type": "markdown",
   "id": "d9e5ec21",
   "metadata": {},
   "source": [
    "If Exceptions are not handled flow of program will be broken during the run time which leads to a abnormal termination of the running program. "
   ]
  },
  {
   "cell_type": "markdown",
   "id": "6026ceba",
   "metadata": {},
   "source": [
    "# q"
   ]
  },
  {
   "cell_type": "markdown",
   "id": "de765296",
   "metadata": {},
   "source": [
    "Q3.What are your options for recovering from an exception in your script?"
   ]
  },
  {
   "cell_type": "markdown",
   "id": "8a06ddaf",
   "metadata": {},
   "source": [
    "# ans"
   ]
  },
  {
   "cell_type": "markdown",
   "id": "5febdea2",
   "metadata": {},
   "source": [
    "We use try and except statements for handling exception in the program."
   ]
  },
  {
   "cell_type": "code",
   "execution_count": null,
   "id": "ba323310",
   "metadata": {},
   "outputs": [],
   "source": []
  },
  {
   "cell_type": "markdown",
   "id": "cc037bfb",
   "metadata": {},
   "source": [
    "# q"
   ]
  },
  {
   "cell_type": "markdown",
   "id": "9dd89d60",
   "metadata": {},
   "source": [
    "Q4.Describe two methods for triggering exceptions in your script."
   ]
  },
  {
   "cell_type": "markdown",
   "id": "9ee5547b",
   "metadata": {},
   "source": [
    "# ans"
   ]
  },
  {
   "cell_type": "markdown",
   "id": "a44d356e",
   "metadata": {},
   "source": [
    "raise and assert are two methods that can be used to trigger manual exceptions in our script.\n",
    "\n",
    "* raise method triggers an exception, if condition provided to it is true. \n",
    "* assert will let the program to continue execution if condition is true and if condition is false,then exception will be raised."
   ]
  },
  {
   "cell_type": "code",
   "execution_count": 2,
   "id": "13e485a2",
   "metadata": {},
   "outputs": [
    {
     "ename": "Exception",
     "evalue": "x value should should not become 0, present value of x is 1",
     "output_type": "error",
     "traceback": [
      "\u001b[1;31m---------------------------------------------------------------------------\u001b[0m",
      "\u001b[1;31mException\u001b[0m                                 Traceback (most recent call last)",
      "\u001b[1;32m~\\AppData\\Local\\Temp\\ipykernel_8380\\3625864479.py\u001b[0m in \u001b[0;36m<module>\u001b[1;34m\u001b[0m\n\u001b[0;32m      1\u001b[0m \u001b[0mx\u001b[0m \u001b[1;33m=\u001b[0m \u001b[1;36m1\u001b[0m\u001b[1;33m\u001b[0m\u001b[1;33m\u001b[0m\u001b[0m\n\u001b[1;32m----> 2\u001b[1;33m \u001b[1;32mraise\u001b[0m \u001b[0mException\u001b[0m\u001b[1;33m(\u001b[0m\u001b[1;34mf'x value should should not become 0, present value of x is {x}'\u001b[0m\u001b[1;33m)\u001b[0m\u001b[1;33m\u001b[0m\u001b[1;33m\u001b[0m\u001b[0m\n\u001b[0m",
      "\u001b[1;31mException\u001b[0m: x value should should not become 0, present value of x is 1"
     ]
    }
   ],
   "source": [
    "x = 1\n",
    "raise Exception(f'x value should should not become 0,the present value of x is {x}')"
   ]
  },
  {
   "cell_type": "code",
   "execution_count": 7,
   "id": "a388dbd5",
   "metadata": {},
   "outputs": [
    {
     "ename": "AssertionError",
     "evalue": "x must be greater than 10",
     "output_type": "error",
     "traceback": [
      "\u001b[1;31m---------------------------------------------------------------------------\u001b[0m",
      "\u001b[1;31mAssertionError\u001b[0m                            Traceback (most recent call last)",
      "\u001b[1;32m~\\AppData\\Local\\Temp\\ipykernel_8380\\1916628359.py\u001b[0m in \u001b[0;36m<module>\u001b[1;34m\u001b[0m\n\u001b[0;32m      1\u001b[0m \u001b[0mx\u001b[0m \u001b[1;33m=\u001b[0m \u001b[1;36m10\u001b[0m\u001b[1;33m\u001b[0m\u001b[1;33m\u001b[0m\u001b[0m\n\u001b[1;32m----> 2\u001b[1;33m \u001b[1;32massert\u001b[0m \u001b[0mx\u001b[0m \u001b[1;33m>\u001b[0m \u001b[1;36m11\u001b[0m\u001b[1;33m,\u001b[0m \u001b[1;34m\"x must be greater than 10\"\u001b[0m\u001b[1;33m\u001b[0m\u001b[1;33m\u001b[0m\u001b[0m\n\u001b[0m",
      "\u001b[1;31mAssertionError\u001b[0m: x must be greater than 10"
     ]
    }
   ],
   "source": [
    "x = 10\n",
    "assert x > 11, \"x must be greater than 10\""
   ]
  },
  {
   "cell_type": "code",
   "execution_count": null,
   "id": "4206e518",
   "metadata": {},
   "outputs": [],
   "source": []
  },
  {
   "cell_type": "markdown",
   "id": "c4931c0f",
   "metadata": {},
   "source": [
    "# q"
   ]
  },
  {
   "cell_type": "markdown",
   "id": "9cb89006",
   "metadata": {},
   "source": [
    "Q5.Identify two methods for specifying actions to be executed at termination time, regardless of\n",
    "whether or not an exception exists."
   ]
  },
  {
   "cell_type": "markdown",
   "id": "657daea3",
   "metadata": {},
   "source": [
    "# ans"
   ]
  },
  {
   "cell_type": "markdown",
   "id": "4da912a1",
   "metadata": {},
   "source": []
  },
  {
   "cell_type": "markdown",
   "id": "7bcbba03",
   "metadata": {},
   "source": [
    "else-if exception does not exist.\n",
    "\n",
    "finally- regardless whether or not an exception exists."
   ]
  },
  {
   "cell_type": "code",
   "execution_count": 11,
   "id": "3ceb022d",
   "metadata": {},
   "outputs": [
    {
     "name": "stdout",
     "output_type": "stream",
     "text": [
      "Enter number 1: 5\n",
      "Enter number 2: 8\n",
      "Result:  {13}\n",
      "else statement working\n",
      "finally is printing\n"
     ]
    }
   ],
   "source": [
    "try:\n",
    "    a=int(input(\"Enter number 1: \"))\n",
    "    b=int(input(\"Enter number 2: \"))\n",
    "    num_sum=a+b\n",
    "    print(\"Result: \",{num_sum})\n",
    "except Exception as e:\n",
    "    print(e)\n",
    "else:\n",
    "    print('else statement working')\n",
    "finally:\n",
    "    print('finally is printing')"
   ]
  },
  {
   "cell_type": "code",
   "execution_count": 12,
   "id": "23795666",
   "metadata": {},
   "outputs": [
    {
     "name": "stdout",
     "output_type": "stream",
     "text": [
      "Enter number 1: 5\n",
      "Enter number 2: \n",
      "invalid literal for int() with base 10: ''\n",
      "finally is printing\n"
     ]
    }
   ],
   "source": [
    "try:\n",
    "    a=int(input(\"Enter number 1: \"))\n",
    "    b=int(input(\"Enter number 2: \"))\n",
    "    num_sum=a+b\n",
    "    print(\"Result: \",{num_sum})\n",
    "except Exception as e:\n",
    "    print(e)\n",
    "else:\n",
    "    print('else statement working') # here this statement not works because try statement not executed successfully.\n",
    "finally:\n",
    "    print('finally is printing')"
   ]
  },
  {
   "cell_type": "code",
   "execution_count": null,
   "id": "063d0f99",
   "metadata": {},
   "outputs": [],
   "source": []
  }
 ],
 "metadata": {
  "kernelspec": {
   "display_name": "Python 3 (ipykernel)",
   "language": "python",
   "name": "python3"
  },
  "language_info": {
   "codemirror_mode": {
    "name": "ipython",
    "version": 3
   },
   "file_extension": ".py",
   "mimetype": "text/x-python",
   "name": "python",
   "nbconvert_exporter": "python",
   "pygments_lexer": "ipython3",
   "version": "3.9.7"
  }
 },
 "nbformat": 4,
 "nbformat_minor": 5
}
