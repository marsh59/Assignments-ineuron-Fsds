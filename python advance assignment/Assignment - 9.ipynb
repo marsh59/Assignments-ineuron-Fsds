{
 "cells": [
  {
   "cell_type": "code",
   "execution_count": null,
   "id": "6f2c57a1",
   "metadata": {},
   "outputs": [],
   "source": []
  },
  {
   "cell_type": "markdown",
   "id": "d416e2ac",
   "metadata": {},
   "source": [
    "# q"
   ]
  },
  {
   "cell_type": "markdown",
   "id": "53fe854b",
   "metadata": {},
   "source": [
    "Q1.In Python 3.X, what are the names and functions of string object types?"
   ]
  },
  {
   "cell_type": "markdown",
   "id": "d0bf3b63",
   "metadata": {},
   "source": [
    "# ans"
   ]
  },
  {
   "cell_type": "markdown",
   "id": "f6037b0d",
   "metadata": {},
   "source": [
    "str and bytes objects have a number of methods that allow you to manipulate and work with the data they contain.They are:="
   ]
  },
  {
   "cell_type": "markdown",
   "id": "fdfb22b9",
   "metadata": {},
   "source": [
    "* .isdecimal() -> Returns True if all characters in a string are decimal.\n",
    "* .isalnum() -> Returns True if all characters in the string are AlphaNumeric.\n",
    "* .istitle() -> Returns True if first character in a string is in Uppercase.\n",
    "* .partition() -> Splits string at first occurance of sub string and returns a tuple of 3 elements.\n",
    "* .rpartition() -> Splits string at last occurance of sub string and returns a tuple of 3 elements.\n",
    "* .isidentifier() -> Returns True if give string is a valid identifier name.\n",
    "* len() -> Returns the length of the given string.\n",
    "* .index() -> Returns the lowest index of substring if substring is found in the string.\n",
    "* .rindex() -> Returns the highest index of substring if substring is found in the string.\n",
    "* max() -> Returns the highest Alphabetical Character in the string as per ASCII.\n",
    "* min() -> Returns the lowest Alphabetical Character in the string as per ASCII.\n",
    "* .splitlines() -> Returns a list of lines in the string.\n",
    "* .capitalize() -> Returns the string with first character capitalized.\n",
    "* .upper() -> Returns the string with all characters in uppercase.\n",
    "* .lower() -> Returns the string with all characters in lowercase\n",
    "* .casefold() -> Returns the string in lowercase which can be used for caseless comparisions.\n",
    "* .expandtabs(no_of_spaces) -> Replaces tabs in a string with specified no of spaces default is 8\n",
    "* .find() -> Returns lowest index of substring if substring is found in the string else returns -1.\n",
    "* .rfind() -> Returns highest index of substring if substring is found in the string else returns -1.\n",
    "* .count() -> Returns the no of occurances of the char in the given string.\n",
    "* .split() -> Returns list of words seperated by given sep else seperated by whitespace.\n",
    "* .rsplit() -> Returns list of words seperated by given sep else seperated by whitespace scanning from end.\n",
    "* .lstrip() -> Returns a copy of where leading whitespaces are removed.\n",
    "* .rstrip() -> Returns a copy of where trailed whitespaces are removed.\n",
    "* .strip() -> Returns a copy of where both leading and trailing whitespaces are removed.\n",
    "* .swapcase() -> Swaps lowercase characters with uppercase and vice versa.\n",
    "* .join() -> Concatenates a list or tuple of words with intervening occuernces of sep.\n",
    "* .translate() -> translates the characters using table.\n",
    "* .maketrans() -> Creating a mapping translation tbale usable for .translate()\n",
    "* .replace(,) -> Replace all occurances of char_1 with char_2 in string.\n",
    "* .encode() -> Encodes string into any encoding supported by python. Default encoding is UTF-8.\n",
    "* .ljust() -> Left-justify in a field of given width.\n",
    "* .rjust() -> Right-justify in a field of given width.\n",
    "* .center() -> Center-justify in a field of given width.\n",
    "* .zfill() -> Zfill adds zeros to the begining of string until the specified length is reached."
   ]
  },
  {
   "cell_type": "markdown",
   "id": "e12331b5",
   "metadata": {},
   "source": [
    "# q"
   ]
  },
  {
   "cell_type": "markdown",
   "id": "96e9acb4",
   "metadata": {},
   "source": [
    "Q2.How do the string forms in Python 3.X vary in terms of operations?"
   ]
  },
  {
   "cell_type": "markdown",
   "id": "4bfc26f2",
   "metadata": {},
   "source": [
    "# ans"
   ]
  },
  {
   "cell_type": "markdown",
   "id": "3153d2bd",
   "metadata": {},
   "source": [
    "In Python 3, the default format of strings is Unicode whereas in python 2, you must prefix the string with the u character to create a Unicode string."
   ]
  },
  {
   "cell_type": "markdown",
   "id": "6026ceba",
   "metadata": {},
   "source": [
    "# q"
   ]
  },
  {
   "cell_type": "markdown",
   "id": "de765296",
   "metadata": {},
   "source": [
    "Q3.In 3.X, how do you put non-ASCII Unicode characters in a string?"
   ]
  },
  {
   "cell_type": "markdown",
   "id": "8a06ddaf",
   "metadata": {},
   "source": [
    "# ans"
   ]
  },
  {
   "cell_type": "markdown",
   "id": "6bf60d13",
   "metadata": {},
   "source": [
    "In Python 3.x, unidecode() method from unidecode library can be used to put non-ASCII Unicode Characters in a string."
   ]
  },
  {
   "cell_type": "code",
   "execution_count": 2,
   "id": "ba323310",
   "metadata": {},
   "outputs": [
    {
     "name": "stdout",
     "output_type": "stream",
     "text": [
      "nookkaan enik kllliyuN\n",
      "arigatou\n"
     ]
    }
   ],
   "source": [
    "from unidecode import unidecode\n",
    "print(unidecode(\"നോക്കാന്‍ എനിക് കഴിയും\"))\n",
    "print(unidecode(\"ありがとう\"))\n"
   ]
  },
  {
   "cell_type": "markdown",
   "id": "cc037bfb",
   "metadata": {},
   "source": [
    "# q"
   ]
  },
  {
   "cell_type": "markdown",
   "id": "9dd89d60",
   "metadata": {},
   "source": [
    "Q4.In Python 3.X, what are the key differences between text-mode and binary-mode files?"
   ]
  },
  {
   "cell_type": "markdown",
   "id": "9ee5547b",
   "metadata": {},
   "source": [
    "# ans"
   ]
  },
  {
   "cell_type": "markdown",
   "id": "4af70343",
   "metadata": {},
   "source": [
    "In Python, the mode in which a file is opened determines how the data is interpreted and handled.\n",
    "\n",
    "When a file is opened in text mode, the interpreter will automatically decode the bytes into a string using its encoding reading its data automatically decodes its content (as per the platform default or as per provided encoding), and returns it as a str; writing operation takes a str, and automatically encodes it before transferring to the file.\n",
    "\n",
    "When a file is opened in binary mode by adding a b to the mode string argument in the open() call, reading its data does not decode it in any way, and simply returns its content raw and unchanged, as a bytes object; writing takes a bytes object and transfers it to the file unchanged. \n"
   ]
  },
  {
   "cell_type": "markdown",
   "id": "c4931c0f",
   "metadata": {},
   "source": [
    "# q"
   ]
  },
  {
   "cell_type": "markdown",
   "id": "9cb89006",
   "metadata": {},
   "source": [
    "Q5.How can you interpret a Unicode text file containing text encoded in a different encoding than\n",
    "your platform&#39;s default?"
   ]
  },
  {
   "cell_type": "markdown",
   "id": "657daea3",
   "metadata": {},
   "source": [
    "# ans"
   ]
  },
  {
   "cell_type": "markdown",
   "id": "94df8aca",
   "metadata": {},
   "source": [
    "Use of encode() and decode() method can be used to you interpret a Unicode text file containing text encoded in a different encoding than your platform's default, by default encoding parameter is UTF-8."
   ]
  },
  {
   "cell_type": "markdown",
   "id": "2b58726b",
   "metadata": {},
   "source": [
    "# q"
   ]
  },
  {
   "cell_type": "markdown",
   "id": "d0a66012",
   "metadata": {},
   "source": [
    "Q6.What is the best way to make a Unicode text file in a particular encoding format?"
   ]
  },
  {
   "cell_type": "markdown",
   "id": "a67f5a36",
   "metadata": {},
   "source": [
    "# ans"
   ]
  },
  {
   "cell_type": "markdown",
   "id": "ee320802",
   "metadata": {},
   "source": [
    "Use str.encode() and file.write() to make a Unicode text file in a particular encoding format, default encoding format is UTF-18."
   ]
  },
  {
   "cell_type": "code",
   "execution_count": 1,
   "id": "f8d67947",
   "metadata": {},
   "outputs": [
    {
     "name": "stdout",
     "output_type": "stream",
     "text": [
      "b'\\xe0\\xb4\\xaa\\xe0\\xb5\\x8d\\xe0\\xb4\\xb0\\xe0\\xb4\\xaf\\xe0\\xb5\\x8b\\xe0\\xb4\\x97\\xe0\\xb4\\xbf\\xe0\\xb4\\x9a\\xe0\\xb5\\x8d\\xe0\\xb4\\x9a\\xe0\\xb5\\x81 \\xe0\\xb4\\xa8\\xe0\\xb5\\x8b\\xe0\\xb4\\x95\\xe0\\xb5\\x8d\\xe0\\xb4\\x95\\xe0\\xb4\\xbe\\xe0\\xb4\\xa8\\xe0\\xb5\\x8d\\xe2\\x80\\x8d \\xe0\\xb4\\x8e\\xe0\\xb4\\xa8\\xe0\\xb4\\xbf\\xe0\\xb4\\x95\\xe0\\xb5\\x8d\\xe0\\xb4\\x95\\xe0\\xb5\\x8d \\xe0\\xb4\\x87\\xe0\\xb4\\xa4\\xe0\\xb5\\x8d \\xe0\\xb4\\x95\\xe0\\xb4\\xb4\\xe0\\xb4\\xbf\\xe0\\xb4\\xaf\\xe0\\xb5\\x81'\n",
      "\n",
      "b'\\xe0\\xb4\\xaa\\xe0\\xb5\\x8d\\xe0\\xb4\\xb0\\xe0\\xb4\\xaf\\xe0\\xb5\\x8b\\xe0\\xb4\\x97\\xe0\\xb4\\xbf\\xe0\\xb4\\x9a\\xe0\\xb5\\x8d\\xe0\\xb4\\x9a\\xe0\\xb5\\x81 \\xe0\\xb4\\xa8\\xe0\\xb5\\x8b\\xe0\\xb4\\x95\\xe0\\xb5\\x8d\\xe0\\xb4\\x95\\xe0\\xb4\\xbe\\xe0\\xb4\\xa8\\xe0\\xb5\\x8d\\xe2\\x80\\x8d \\xe0\\xb4\\x8e\\xe0\\xb4\\xa8\\xe0\\xb4\\xbf\\xe0\\xb4\\x95\\xe0\\xb5\\x8d\\xe0\\xb4\\x95\\xe0\\xb5\\x8d \\xe0\\xb4\\x87\\xe0\\xb4\\xa4\\xe0\\xb5\\x8d \\xe0\\xb4\\x95\\xe0\\xb4\\xb4\\xe0\\xb4\\xbf\\xe0\\xb4\\xaf\\xe0\\xb5\\x81'\n"
     ]
    }
   ],
   "source": [
    "unicode_text = u\"പ്രയോഗിച്ചു നോക്കാന്‍ എനിക്ക് ഇത് കഴിയു\"\n",
    "encoded_text = unicode_text.encode(\"utf-8\")\n",
    "print(encoded_text,end=\"\\n\\n\")\n",
    "\n",
    "file = open(\"file.txt\",\"wb\")\n",
    "file.write(encoded_text)\n",
    "file.close()\n",
    "\n",
    "file = open(\"file.txt\",\"rb\")\n",
    "data = file.read()\n",
    "print(data)"
   ]
  },
  {
   "cell_type": "markdown",
   "id": "31af1f11",
   "metadata": {},
   "source": [
    "# q"
   ]
  },
  {
   "cell_type": "markdown",
   "id": "7e0045e0",
   "metadata": {},
   "source": [
    "Q7.What qualifies ASCII text as a form of Unicode text?"
   ]
  },
  {
   "cell_type": "markdown",
   "id": "c1d3fbca",
   "metadata": {},
   "source": [
    "# ans"
   ]
  },
  {
   "cell_type": "markdown",
   "id": "2ce7af92",
   "metadata": {},
   "source": [
    "ASCII is a character encoding system that represents 128 specific characters, including the English alphabet, numbers, and some special characters.\n",
    "The difference between ASCII and Unicode is that ASCII represents lowercase letters (a-z), uppercase letters (A-Z), digits (0–9) and symbols such as punctuation marks while Unicode represents letters of English, Arabic, Greek etc."
   ]
  },
  {
   "cell_type": "markdown",
   "id": "5ed3893d",
   "metadata": {},
   "source": [
    "# q"
   ]
  },
  {
   "cell_type": "markdown",
   "id": "55073c1a",
   "metadata": {},
   "source": [
    "Q8.How much of an effect does the change in string types in Python 3.X have on your code?"
   ]
  },
  {
   "cell_type": "markdown",
   "id": "a0322055",
   "metadata": {},
   "source": [
    "# ans"
   ]
  },
  {
   "cell_type": "markdown",
   "id": "d27c192f",
   "metadata": {},
   "source": [
    "The change in string types in  Python 3.X can have an effect on our code if  we are working with text data,which was before encoded by such as ASCII or Latin-1.\n",
    "\n",
    "In Python 3, we can treat the text data as a Unicode string, since all strings are Unicode strings by default."
   ]
  }
 ],
 "metadata": {
  "kernelspec": {
   "display_name": "Python 3 (ipykernel)",
   "language": "python",
   "name": "python3"
  },
  "language_info": {
   "codemirror_mode": {
    "name": "ipython",
    "version": 3
   },
   "file_extension": ".py",
   "mimetype": "text/x-python",
   "name": "python",
   "nbconvert_exporter": "python",
   "pygments_lexer": "ipython3",
   "version": "3.9.7"
  }
 },
 "nbformat": 4,
 "nbformat_minor": 5
}
