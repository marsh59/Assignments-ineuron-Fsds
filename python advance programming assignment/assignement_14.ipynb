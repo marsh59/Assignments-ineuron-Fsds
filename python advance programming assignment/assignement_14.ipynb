{
 "cells": [
  {
   "cell_type": "code",
   "execution_count": null,
   "id": "6f2c57a1",
   "metadata": {},
   "outputs": [],
   "source": []
  },
  {
   "cell_type": "markdown",
   "id": "d416e2ac",
   "metadata": {},
   "source": [
    "# q"
   ]
  },
  {
   "cell_type": "markdown",
   "id": "53fe854b",
   "metadata": {},
   "source": [
    "1.Given a list of numbers, create a function that removes 25% from every\n",
    "\n",
    "number in the list except the smallest number, and adds the total amount\n",
    "\n",
    "removed to the smallest number.\n",
    "\n",
    "Examples\n",
    "\n",
    "show_the_love([4, 1, 4]) ➞ [3, 3, 3]\n",
    "\n",
    "show_the_love([16, 10, 8]) ➞ [12, 7.5, 14.5]\n",
    "\n",
    "show_the_love([2, 100]) ➞ [27, 75]"
   ]
  },
  {
   "cell_type": "markdown",
   "id": "d0bf3b63",
   "metadata": {},
   "source": [
    "# ans"
   ]
  },
  {
   "cell_type": "code",
   "execution_count": 1,
   "id": "475ac32d",
   "metadata": {},
   "outputs": [
    {
     "name": "stdout",
     "output_type": "stream",
     "text": [
      "show_the_love([4, 1, 4]) = [3.0, 3.0, 3.0]\n",
      "show_the_love([16, 10, 8]) = [12.0, 7.5, 14.5]\n",
      "show_the_love([2, 100]) = [27.0, 75.0]\n"
     ]
    }
   ],
   "source": [
    "def show_the_love(inp):\n",
    "    result = inp.copy()\n",
    "    sum_num = 0\n",
    "    for item in range(len(result)):\n",
    "        if result[item] is not min(result):\n",
    "            sum_num += result[item]/4\n",
    "            result[item] =  result[item]-(result[item]/4)\n",
    "    result[result.index(min(result))] = sum_num +min(result)\n",
    "    print(f'show_the_love({inp}) = {result}')\n",
    "            \n",
    "show_the_love([4, 1, 4])\n",
    "show_the_love([16, 10, 8])\n",
    "show_the_love([2, 100])"
   ]
  },
  {
   "cell_type": "markdown",
   "id": "e12331b5",
   "metadata": {},
   "source": [
    "# q"
   ]
  },
  {
   "cell_type": "markdown",
   "id": "96e9acb4",
   "metadata": {},
   "source": [
    "2.Create a function that takes in two words as input and returns a list of three\n",
    "\n",
    "elements, in the following order:\n",
    "\n",
    "1.Shared letters between two words.\n",
    "\n",
    "2.Letters unique to word 1.\n",
    "\n",
    "3.Letters unique to word 2.\n",
    "\n",
    "Each element should have unique letters, and have each letter be\n",
    "\n",
    "alphabetically sorted.\n",
    "\n",
    "Examples\n",
    "\n",
    "letters(&quot;sharp&quot;, &quot;soap&quot;) ➞ [&quot;aps&quot;, &quot;hr&quot;, &quot;o&quot;]\n",
    "\n",
    "letters(&quot;board&quot;, &quot;bored&quot;) ➞ [&quot;bdor&quot;, &quot;a&quot;, &quot;e&quot;]\n",
    "\n",
    "letters(&quot;happiness&quot;, &quot;envelope&quot;) ➞ [&quot;enp&quot;, &quot;ahis&quot;, \n",
    "&quot;lov&quot;]\n",
    "\n",
    "letters(&quot;kerfuffle&quot;, &quot;fluffy&quot;) ➞ [&quot;flu&quot;, &quot;ekr&quot;, &quot;y&quot;]\n",
    "\n",
    " Even with multiple matching letters (e.g. 3 f&#39;s), there should\n",
    " \n",
    " only exist a single &quot;f&quot; in your first element.\n",
    " \n",
    "letters(&quot;match&quot;, &quot;ham&quot;) ➞ [&quot;ahm&quot;, &quot;ct&quot;, &quot;&quot;]\n",
    "\n",
    " &quot;ham&quot; does not contain any letters that are not found already\n",
    " \n",
    " in &quot;match&quot;."
   ]
  },
  {
   "cell_type": "markdown",
   "id": "4bfc26f2",
   "metadata": {},
   "source": [
    "# ans"
   ]
  },
  {
   "cell_type": "code",
   "execution_count": 4,
   "id": "544cca53",
   "metadata": {},
   "outputs": [
    {
     "name": "stdout",
     "output_type": "stream",
     "text": [
      "letters('sharp', 'soap') = ['aps', 'hr', 'o']\n",
      "letters('board', 'bored') = ['bdor', 'a', 'e']\n",
      "letters('happiness', 'envelope') = ['enp', 'ahis', 'lov']\n",
      "letters('kerfuffle', 'fluffy') = ['flu', 'ekr', 'y']\n",
      "letters('match', 'ham') = ['ahm', 'ct', '']\n"
     ]
    }
   ],
   "source": [
    "def letters(a,b):\n",
    "    a_set= set(a)\n",
    "    b_set = set(b)\n",
    "    result = []\n",
    "    result.append(''.join(sorted(a_set.intersection(b_set))))\n",
    "    result.append(''.join(sorted(a_set.difference(b_set))))\n",
    "    result.append(''.join(sorted(b_set.difference(a_set)))) \n",
    "    print(f'letters{a,b} = {result}')\n",
    "    \n",
    "letters(\"sharp\", \"soap\")\n",
    "letters(\"board\", \"bored\")\n",
    "letters(\"happiness\", \"envelope\")\n",
    "letters(\"kerfuffle\", \"fluffy\")\n",
    "letters(\"match\", \"ham\")"
   ]
  },
  {
   "cell_type": "markdown",
   "id": "6026ceba",
   "metadata": {},
   "source": [
    "# q"
   ]
  },
  {
   "cell_type": "markdown",
   "id": "de765296",
   "metadata": {},
   "source": [
    "3.Write a function that pairs the first number in an array with the last, the\n",
    "\n",
    "second number with the second to last, etc.\n",
    "\n",
    "Examples\n",
    "\n",
    "pairs([1, 2, 3, 4, 5, 6, 7]) ➞ [[1, 7], [2, 6], [3, 5], [4, 4]]\n",
    "\n",
    "pairs([1, 2, 3, 4, 5, 6]) ➞ [[1, 6], [2, 5], [3, 4]]\n",
    "\n",
    "pairs([5, 9, 8, 1, 2]) ➞ [[5, 2], [9, 1], [8, 8]]\n",
    "\n",
    "pairs([]) ➞ []"
   ]
  },
  {
   "cell_type": "markdown",
   "id": "8a06ddaf",
   "metadata": {},
   "source": [
    "# ans"
   ]
  },
  {
   "cell_type": "code",
   "execution_count": 5,
   "id": "c9ce7dcf",
   "metadata": {},
   "outputs": [
    {
     "name": "stdout",
     "output_type": "stream",
     "text": [
      "pairs([1, 2, 3, 4, 5, 6, 7]) = [[1, 7], [2, 6], [3, 5], [4, 4]]\n",
      "pairs([1, 2, 3, 4, 5, 6]) = [[1, 6], [2, 5], [3, 4]]\n",
      "pairs([5, 9, 8, 1, 2]) = [[5, 2], [9, 1], [8, 8]]\n",
      "pairs([]) = []\n"
     ]
    }
   ],
   "source": [
    "def pairs(inp):\n",
    "    copy = inp.copy()\n",
    "    res = []\n",
    "    while True:\n",
    "        if len(inp) > 0:\n",
    "            if len(inp) == 1:\n",
    "                res.append([inp[0],inp.pop(0)])\n",
    "            else:\n",
    "                res.append([inp.pop(0),inp.pop(-1)])\n",
    "        else:\n",
    "            break\n",
    "    print(f'pairs({copy}) = {res}')\n",
    "            \n",
    "pairs([1, 2, 3, 4, 5, 6, 7])\n",
    "pairs([1, 2, 3, 4, 5, 6])\n",
    "pairs([5, 9, 8, 1, 2])\n",
    "pairs([])"
   ]
  },
  {
   "cell_type": "code",
   "execution_count": null,
   "id": "ba323310",
   "metadata": {},
   "outputs": [],
   "source": []
  },
  {
   "cell_type": "markdown",
   "id": "cc037bfb",
   "metadata": {},
   "source": [
    "# q"
   ]
  },
  {
   "cell_type": "markdown",
   "id": "9dd89d60",
   "metadata": {},
   "source": [
    "4.Write a function that adds two numbers. The catch, however, is that the\n",
    "\n",
    "numbers will be strings.\n",
    "\n",
    "Examples\n",
    "\n",
    "add_str_nums(&quot;4&quot;, &quot;5&quot;) ➞ &quot;9&quot;\n",
    "\n",
    "add_str_nums(&quot;abcdefg&quot;, &quot;3&quot;) ➞ &quot;-1&quot;\n",
    "\n",
    "add_str_nums(&quot;1&quot;, &quot;&quot;) ➞ &quot;1&quot;\n",
    "\n",
    "add_str_nums(&quot;1874682736267235927359283579235789257&quot;,\n",
    "\n",
    "&quot;32652983572985729&quot;) ➞ &quot;1874682736267235927391936562808774986&quot;\n"
   ]
  },
  {
   "cell_type": "markdown",
   "id": "9ee5547b",
   "metadata": {},
   "source": [
    "# ans"
   ]
  },
  {
   "cell_type": "code",
   "execution_count": 7,
   "id": "39be6478",
   "metadata": {},
   "outputs": [
    {
     "name": "stdout",
     "output_type": "stream",
     "text": [
      "add_str_nums('4', '5') = 9\n",
      "add_str_nums('abcdefg', '3') = -1\n",
      "add_str_nums('1', '0') = 1\n",
      "add_str_nums('1874682736267235927359283579235789257', '32652983572985729') = 1874682736267235927391936562808774986\n"
     ]
    }
   ],
   "source": [
    "def add_str_nums(inp_1,inp_2):\n",
    "    inp_1 = inp_1 if len(inp_1) > 0 else \"0\"\n",
    "    inp_2 = inp_2 if len(inp_2) > 0 else \"0\"\n",
    "    if inp_1.isdigit() == False or inp_2.isdigit() == False:\n",
    "        result = -1\n",
    "    else: \n",
    "        result = int(inp_1)+int(inp_2)\n",
    "    print(f'add_str_nums{inp_1,inp_2} = {str(result)}')\n",
    "        \n",
    "add_str_nums(\"4\", \"5\")\n",
    "add_str_nums(\"abcdefg\", \"3\")\n",
    "add_str_nums(\"1\", \"\")\n",
    "add_str_nums(\"1874682736267235927359283579235789257\", \"32652983572985729\")"
   ]
  },
  {
   "cell_type": "markdown",
   "id": "c4931c0f",
   "metadata": {},
   "source": [
    "# q"
   ]
  },
  {
   "cell_type": "markdown",
   "id": "9cb89006",
   "metadata": {},
   "source": [
    "5.lPaeesh le pemu mnxit ehess rtnisg! Oh, sorry, that was supposed to say:\n",
    "\n",
    "Please help me unmix these strings!\n",
    "\n",
    "Somehow my strings have all become mixed up; every pair of characters has\n",
    "\n",
    "been swapped. Help me undo this so I can understand my strings again.\n",
    "\n",
    "Examples\n",
    "\n",
    "unmix(&quot;123456&quot;) ➞ &quot;214365&quot;\n",
    "\n",
    "unmix(&quot;hTsii s aimex dpus rtni.g&quot;) ➞ &quot;This is a mixed up string.&quot;\n",
    "\n",
    "unmix(&quot;badce&quot;) ➞ &quot;abcde&quot;\n"
   ]
  },
  {
   "cell_type": "markdown",
   "id": "657daea3",
   "metadata": {},
   "source": [
    "# ans"
   ]
  },
  {
   "cell_type": "code",
   "execution_count": 9,
   "id": "9c3a7bae",
   "metadata": {},
   "outputs": [
    {
     "name": "stdout",
     "output_type": "stream",
     "text": [
      "unmix(123456) = 214365\n",
      "unmix(hTsii  s aimex dpus rtni.g) = This is a mixed up string.\n",
      "unmix(badce) = abcde\n"
     ]
    }
   ],
   "source": [
    "def unmix(inp):\n",
    "    res = ''\n",
    "    for item in range(0,len(inp)-1,2):\n",
    "        res += inp[item+1]+inp[item]\n",
    "        if (len(inp)%2 != 0 and item == len(inp)//2 ):\n",
    "            res += inp[-1]       \n",
    "    print(f'unmix({inp}) = {res}')\n",
    "\n",
    "unmix(\"123456\")\n",
    "unmix(\"hTsii  s aimex dpus rtni.g\")\n",
    "unmix(\"badce\")"
   ]
  },
  {
   "cell_type": "code",
   "execution_count": null,
   "id": "85abef52",
   "metadata": {},
   "outputs": [],
   "source": []
  }
 ],
 "metadata": {
  "kernelspec": {
   "display_name": "Python 3 (ipykernel)",
   "language": "python",
   "name": "python3"
  },
  "language_info": {
   "codemirror_mode": {
    "name": "ipython",
    "version": 3
   },
   "file_extension": ".py",
   "mimetype": "text/x-python",
   "name": "python",
   "nbconvert_exporter": "python",
   "pygments_lexer": "ipython3",
   "version": "3.9.7"
  }
 },
 "nbformat": 4,
 "nbformat_minor": 5
}
