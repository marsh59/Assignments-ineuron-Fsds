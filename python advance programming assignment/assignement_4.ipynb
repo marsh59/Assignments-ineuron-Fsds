{
 "cells": [
  {
   "cell_type": "code",
   "execution_count": null,
   "id": "6f2c57a1",
   "metadata": {},
   "outputs": [],
   "source": []
  },
  {
   "cell_type": "markdown",
   "id": "d416e2ac",
   "metadata": {},
   "source": [
    "# q"
   ]
  },
  {
   "cell_type": "markdown",
   "id": "53fe854b",
   "metadata": {},
   "source": [
    "1.In mathematics, the Fibonacci numbers, commonly denoted Fn, form a\n",
    "\n",
    "sequence, called the Fibonacci sequence, such that each number is the sum\n",
    "\n",
    "of the two preceding ones, starting from 0 and 1:\n",
    "\n",
    "\n",
    "The beginning of the sequence is this:\n",
    "\n",
    "0, 1, 1, 2, 3, 5, 8, 13, 21, 34, 55, 89, 144, ...\n",
    "\n",
    "The function fastFib(num) returns the fibonacci number Fn, of the given num\n",
    "\n",
    "as an argument.\n",
    "\n",
    "Examples\n",
    "\n",
    "fib_fast(5) ➞ 5\n",
    "\n",
    "fib_fast(10) ➞ 55\n",
    "\n",
    "fib_fast(20) ➞ 6765\n",
    "\n",
    "fib_fast(50) ➞ 12586269025"
   ]
  },
  {
   "cell_type": "markdown",
   "id": "d0bf3b63",
   "metadata": {},
   "source": [
    "# ans"
   ]
  },
  {
   "cell_type": "code",
   "execution_count": 2,
   "id": "475ac32d",
   "metadata": {},
   "outputs": [
    {
     "name": "stdout",
     "output_type": "stream",
     "text": [
      "fib_fast_two(5) = 5\n",
      "fib_fast_two(10) = 55\n",
      "fib_fast_two(20) = 6765\n",
      "fib_fast_two(50) = 12586269025\n"
     ]
    }
   ],
   "source": [
    "def fib_fast(inp):\n",
    "    back_two,back_one,output = 0,1,0\n",
    "    for i in range(inp+1):\n",
    "        if i > 1:\n",
    "            output = back_two+back_one\n",
    "            back_two = back_one\n",
    "            back_one = output\n",
    "    print(f'fib_fast_two({inp}) = {output}')\n",
    "\n",
    "fib_fast(5)\n",
    "fib_fast(10)\n",
    "fib_fast(20)\n",
    "fib_fast(50)  "
   ]
  },
  {
   "cell_type": "markdown",
   "id": "e12331b5",
   "metadata": {},
   "source": [
    "# q"
   ]
  },
  {
   "cell_type": "markdown",
   "id": "96e9acb4",
   "metadata": {},
   "source": [
    "2.Create a function that takes a strings characters as ASCII and returns each\n",
    "\n",
    "characters hexadecimal value as a string.\n",
    "\n",
    "Examples\n",
    "\n",
    "convert_to_hex(&quot;hello world&quot;) ➞ &quot;68 65 6c 6c 6f 20 77 6f 72 6c 64&quot;\n",
    "\n",
    "convert_to_hex(&quot;Big Boi&quot;) ➞ &quot;42 69 67 20 42 6f 69&quot;\n",
    "\n",
    "convert_to_hex(&quot;Marty Poppinson&quot;) ➞ &quot;4d 61 72 74 79 20 50 6f 70 70 69 6e\n",
    "\n",
    "73 6f 6e&quot;"
   ]
  },
  {
   "cell_type": "markdown",
   "id": "4bfc26f2",
   "metadata": {},
   "source": [
    "# ans"
   ]
  },
  {
   "cell_type": "code",
   "execution_count": 4,
   "id": "544cca53",
   "metadata": {},
   "outputs": [
    {
     "name": "stdout",
     "output_type": "stream",
     "text": [
      "convert_to_hex(hello world) = 68 65 6c 6c 6f 20 77 6f 72 6c 64\n",
      "convert_to_hex(Big Boi) = 42 69 67 20 42 6f 69\n",
      "convert_to_hex(Marty Poppinson) = 4d 61 72 74 79 20 50 6f 70 70 69 6e 73 6f 6e\n"
     ]
    }
   ],
   "source": [
    "def convert_to_hex(inp):\n",
    "    outp = []\n",
    "    for i in inp:\n",
    "        outp.append(hex(ord(i))[2:])\n",
    "    print(f'convert_to_hex({inp}) = {\" \".join(outp)}')\n",
    "\n",
    "convert_to_hex(\"hello world\")\n",
    "convert_to_hex(\"Big Boi\")\n",
    "convert_to_hex(\"Marty Poppinson\")"
   ]
  },
  {
   "cell_type": "markdown",
   "id": "6026ceba",
   "metadata": {},
   "source": [
    "# q"
   ]
  },
  {
   "cell_type": "markdown",
   "id": "de765296",
   "metadata": {},
   "source": [
    "3.Someone has attempted to censor my strings by replacing every vowel\n",
    "\n",
    "with a *, l*k* th*s. Luckily, I&#39;ve been able to find the vowels that were\n",
    "\n",
    "removed.\n",
    "\n",
    "Given a censored string and a string of the censored vowels, return the\n",
    "\n",
    "original uncensored string.\n",
    "\n",
    "Example\n",
    "\n",
    "uncensor(&quot;Wh*r* d*d my v*w*ls g*?&quot;, &quot;eeioeo&quot;) ➞ &quot;Where did my vowels go?\n",
    "&quot;\n",
    "\n",
    "uncensor(&quot;abcd&quot;, &quot;&quot;) ➞ &quot;abcd&quot;\n",
    "\n",
    "uncensor(&quot;*PP*RC*S*&quot;, &quot;UEAE&quot;) ➞ &quot;UPPERCASE&quot;"
   ]
  },
  {
   "cell_type": "markdown",
   "id": "8a06ddaf",
   "metadata": {},
   "source": [
    "# ans"
   ]
  },
  {
   "cell_type": "code",
   "execution_count": 5,
   "id": "c9ce7dcf",
   "metadata": {},
   "outputs": [
    {
     "name": "stdout",
     "output_type": "stream",
     "text": [
      "uncensor('Wh*r* d*d my v*w*ls g*?', 'eeioeo') = Where did my vowels go?\n",
      "uncensor('abcd', '') = abcd\n",
      "uncensor('*PP*RC*S*', 'UEAE') = UPPERCASE\n"
     ]
    }
   ],
   "source": [
    "def uncensor(inp_str,inp_vowel):\n",
    "    window = 0\n",
    "    res = ''\n",
    "    for i in inp_str:\n",
    "        if i == '*':\n",
    "            res += inp_vowel[window]\n",
    "            window +=1\n",
    "        else:\n",
    "            res += i\n",
    "    print(f'uncensor{inp_str,inp_vowel} = {res}')\n",
    "\n",
    "uncensor(\"Wh*r* d*d my v*w*ls g*?\", \"eeioeo\")\n",
    "uncensor(\"abcd\", \"\")\n",
    "uncensor(\"*PP*RC*S*\", \"UEAE\")"
   ]
  },
  {
   "cell_type": "code",
   "execution_count": null,
   "id": "ba323310",
   "metadata": {},
   "outputs": [],
   "source": []
  },
  {
   "cell_type": "markdown",
   "id": "cc037bfb",
   "metadata": {},
   "source": [
    "# q"
   ]
  },
  {
   "cell_type": "markdown",
   "id": "9dd89d60",
   "metadata": {},
   "source": [
    "4.Write a function that takes an IP address and returns the domain name\n",
    "\n",
    "using PTR DNS records.\n",
    "\n",
    "Example\n",
    "\n",
    "get_domain(&quot;8.8.8.8&quot;) ➞ &quot;dns.google&quot;\n",
    "\n",
    "get_domain(&quot;8.8.4.4&quot;) ➞ &quot;dns.google&quot;"
   ]
  },
  {
   "cell_type": "markdown",
   "id": "9ee5547b",
   "metadata": {},
   "source": [
    "# ans"
   ]
  },
  {
   "cell_type": "code",
   "execution_count": 6,
   "id": "39be6478",
   "metadata": {},
   "outputs": [
    {
     "name": "stdout",
     "output_type": "stream",
     "text": [
      "get_domain(8.8.8.8) = ('dns.google', [], ['8.8.8.8']) ➞ dns.google\n",
      "get_domain(8.8.4.4) = ('dns.google', [], ['8.8.4.4']) ➞ dns.google\n"
     ]
    }
   ],
   "source": [
    "import socket\n",
    "def get_domain(inp_ip):\n",
    "    print(f'get_domain({inp_ip}) = {socket.gethostbyaddr(inp_ip)} ➞ {socket.gethostbyaddr(inp_ip)[0]}')\n",
    "    \n",
    "get_domain(\"8.8.8.8\")\n",
    "get_domain(\"8.8.4.4\")"
   ]
  },
  {
   "cell_type": "markdown",
   "id": "c4931c0f",
   "metadata": {},
   "source": [
    "# q"
   ]
  },
  {
   "cell_type": "markdown",
   "id": "9cb89006",
   "metadata": {},
   "source": [
    "5.Create a function that takes an integer n and returns the factorial of\n",
    "\n",
    "factorials. See below examples for a better understanding:\n",
    "\n",
    "Examples\n",
    "\n",
    "fact_of_fact(4) ➞ 288\n",
    "\n",
    " 4! * 3! * 2! * 1! = 288\n",
    "\n",
    "fact_of_fact(5) ➞ 34560\n",
    "\n",
    "fact_of_fact(6) ➞ 24883200"
   ]
  },
  {
   "cell_type": "markdown",
   "id": "657daea3",
   "metadata": {},
   "source": [
    "# ans"
   ]
  },
  {
   "cell_type": "code",
   "execution_count": 7,
   "id": "9c3a7bae",
   "metadata": {},
   "outputs": [
    {
     "name": "stdout",
     "output_type": "stream",
     "text": [
      "fact_of_fact(4) = 288\n",
      "fact_of_fact(5) = 34560\n",
      "fact_of_fact(6) = 24883200\n"
     ]
    }
   ],
   "source": [
    "def fact_of_fact(inp):\n",
    "    \n",
    "    def factorial(n):\n",
    "        if n == 1:\n",
    "            return 1\n",
    "        else:\n",
    "            return n*factorial(n-1)      \n",
    "    res = 1\n",
    "    for i in range(1,inp+1):\n",
    "        res *= factorial(i)\n",
    "    print(f'fact_of_fact({inp}) = {res}')\n",
    "\n",
    "fact_of_fact(4)\n",
    "fact_of_fact(5)\n",
    "fact_of_fact(6)"
   ]
  },
  {
   "cell_type": "code",
   "execution_count": null,
   "id": "1d8522f8",
   "metadata": {},
   "outputs": [],
   "source": []
  }
 ],
 "metadata": {
  "kernelspec": {
   "display_name": "Python 3 (ipykernel)",
   "language": "python",
   "name": "python3"
  },
  "language_info": {
   "codemirror_mode": {
    "name": "ipython",
    "version": 3
   },
   "file_extension": ".py",
   "mimetype": "text/x-python",
   "name": "python",
   "nbconvert_exporter": "python",
   "pygments_lexer": "ipython3",
   "version": "3.9.7"
  }
 },
 "nbformat": 4,
 "nbformat_minor": 5
}
