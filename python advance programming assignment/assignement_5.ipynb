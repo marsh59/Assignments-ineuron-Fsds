{
 "cells": [
  {
   "cell_type": "code",
   "execution_count": null,
   "id": "6f2c57a1",
   "metadata": {},
   "outputs": [],
   "source": []
  },
  {
   "cell_type": "markdown",
   "id": "d416e2ac",
   "metadata": {},
   "source": [
    "# q"
   ]
  },
  {
   "cell_type": "markdown",
   "id": "53fe854b",
   "metadata": {},
   "source": [
    "1.Create a function that takes a number n (integer greater than zero) as an\n",
    "\n",
    "argument, and returns 2 if n is odd and 8 if n is even.\n",
    "\n",
    "You can only use the following arithmetic operators: addition of numbers +,\n",
    "\n",
    "subtraction of numbers -, multiplication of number *, division of number /, and\n",
    "\n",
    "exponentiation **.\n",
    "\n",
    "You are not allowed to use any other methods in this challenge (i.e. no if\n",
    "\n",
    "statements, comparison operators, etc).\n",
    "\n",
    "Examples\n",
    "\n",
    "f(1) ➞ 2\n",
    "\n",
    "f(2) ➞ 8\n",
    "\n",
    "f(3) ➞ 2"
   ]
  },
  {
   "cell_type": "markdown",
   "id": "d0bf3b63",
   "metadata": {},
   "source": [
    "# ans"
   ]
  },
  {
   "cell_type": "code",
   "execution_count": 2,
   "id": "475ac32d",
   "metadata": {},
   "outputs": [
    {
     "name": "stdout",
     "output_type": "stream",
     "text": [
      "f(1) = 2\n",
      "f(2) = 8\n",
      "f(3) = 2\n"
     ]
    }
   ],
   "source": [
    "def f(inp):\n",
    "    res = [8,2]\n",
    "    print(f'f({inp}) = {res[inp&1]}')\n",
    "    \n",
    "f(1)\n",
    "f(2)\n",
    "f(3)"
   ]
  },
  {
   "cell_type": "markdown",
   "id": "e12331b5",
   "metadata": {},
   "source": [
    "# q"
   ]
  },
  {
   "cell_type": "markdown",
   "id": "96e9acb4",
   "metadata": {},
   "source": [
    "2.Create a function that returns the majority vote in a list. A majority vote is\n",
    "\n",
    "an element that occurs &gt; N/2 times in a list (where N is the length of the list).\n",
    "\n",
    "Examples\n",
    "\n",
    "majority_vote([&quot;A&quot;, &quot;A&quot;, &quot;B&quot;]) ➞ &quot;A&quot;\n",
    "\n",
    "majority_vote([&quot;A&quot;, &quot;A&quot;, &quot;A&quot;, &quot;B&quot;, &quot;C&quot;, \n",
    "&quot;A&quot;]) ➞ &quot;A&quot;\n",
    "\n",
    "majority_vote([&quot;A&quot;, &quot;B&quot;, &quot;B&quot;, &quot;A&quot;, &quot;C&quot;, \n",
    "&quot;C&quot;]) ➞ None\n"
   ]
  },
  {
   "cell_type": "markdown",
   "id": "4bfc26f2",
   "metadata": {},
   "source": [
    "# ans"
   ]
  },
  {
   "cell_type": "code",
   "execution_count": 5,
   "id": "544cca53",
   "metadata": {},
   "outputs": [
    {
     "name": "stdout",
     "output_type": "stream",
     "text": [
      "majority_vote(['A', 'A', 'B']) = A\n",
      "majority_vote(['A', 'A', 'A', 'B', 'C', 'A']) = A\n",
      "majority_vote(['A', 'B', 'B', 'A', 'C', 'C']) = None\n"
     ]
    }
   ],
   "source": [
    "def majority_vote(inp):\n",
    "    res = None\n",
    "    for i in set(inp):\n",
    "        if inp.count(i) > (len(inp)/2):\n",
    "            res = i\n",
    "    print(f'majority_vote({inp}) = {res}')\n",
    "    \n",
    "majority_vote([\"A\", \"A\", \"B\"])\n",
    "majority_vote([\"A\", \"A\", \"A\", \"B\", \"C\", \"A\"])\n",
    "majority_vote([\"A\", \"B\", \"B\", \"A\", \"C\", \"C\"])"
   ]
  },
  {
   "cell_type": "markdown",
   "id": "6026ceba",
   "metadata": {},
   "source": [
    "# q"
   ]
  },
  {
   "cell_type": "markdown",
   "id": "de765296",
   "metadata": {},
   "source": [
    "3.Create a function that takes a string txt and censors any word from a given\n",
    "\n",
    "list lst. The text removed must be replaced by the given character char.\n",
    "\n",
    "Examples\n",
    "\n",
    "censor_string(&quot;Today is a Wednesday!&quot;, [&quot;Today&quot;, &quot;a&quot;], &quot;-&quot;) ➞ \n",
    "&quot;----- is -\n",
    "Wednesday!&quot;\n",
    "\n",
    "censor_string(&quot;The cow jumped over the moon.&quot;, [&quot;cow&quot;, &quot;over&quot;], \n",
    "&quot;*&quot;), &quot;The ***\n",
    "jumped **** the moon.&quot;)\n",
    "\n",
    "censor_string(&quot;Why did the chicken cross the road?&quot;, [&quot;Did&quot;, &quot;chicken&quot;,\n",
    "\n",
    "&quot;road&quot;], &quot;*&quot;) ➞ &quot;Why *** the ******* cross the ****?&quot;\n"
   ]
  },
  {
   "cell_type": "markdown",
   "id": "8a06ddaf",
   "metadata": {},
   "source": [
    "# ans"
   ]
  },
  {
   "cell_type": "code",
   "execution_count": 9,
   "id": "c9ce7dcf",
   "metadata": {},
   "outputs": [
    {
     "name": "stdout",
     "output_type": "stream",
     "text": [
      "censor_string(Today is a Wednesday!) = ----- is - Wednesday!\n",
      "censor_string(The cow jumped over the moon.) = The *** jumped **** the moon.\n",
      "censor_string(Why did the chicken cross the road ?) = Why *** the ******* cross the **** ?\n"
     ]
    }
   ],
   "source": [
    "def censor_string(inp_1, inp_2, repl_char):\n",
    "    res = []\n",
    "    for i in inp_1.split():\n",
    "        if i.title() in inp_2 or i.lower() in inp_2 or i.upper() in inp_2:\n",
    "            res.append(repl_char*len(i))\n",
    "        else:\n",
    "            res.append(i)\n",
    "    print(f'censor_string({inp_1}) = {\" \".join(res)}')\n",
    "\n",
    "censor_string(\"Today is a Wednesday!\", [\"Today\", \"a\"], \"-\")\n",
    "censor_string(\"The cow jumped over the moon.\", [\"cow\", \"over\"], \"*\")\n",
    "censor_string(\"Why did the chicken cross the road ?\", [\"Did\", \"chicken\", \"road\"], \"*\")"
   ]
  },
  {
   "cell_type": "code",
   "execution_count": null,
   "id": "ba323310",
   "metadata": {},
   "outputs": [],
   "source": []
  },
  {
   "cell_type": "markdown",
   "id": "cc037bfb",
   "metadata": {},
   "source": [
    "# q"
   ]
  },
  {
   "cell_type": "markdown",
   "id": "9dd89d60",
   "metadata": {},
   "source": [
    "4.In mathematics a Polydivisible Number (or magic number) is a number in a\n",
    "\n",
    "given number base with digits abcde... that has the following properties:\n",
    "\n",
    "- Its first digit a is not 0.\n",
    "\n",
    "- The number formed by its first two digits ab is a multiple of 2.\n",
    "\n",
    "- The number formed by its first three digits abc is a multiple of 3.\n",
    "\n",
    "- The number formed by its first four digits abcd is a multiple of 4.\n",
    "\n",
    "Create a function which takes an integer n and returns True if the given\n",
    "\n",
    "number is a Polydivisible Number and False otherwise.\n",
    "\n",
    "Examples\n",
    "\n",
    "is_polydivisible(1232) ➞ True\n",
    "\n",
    " 1 / 1 = 1\n",
    "\n",
    " 12 / 2 = 6\n",
    "\n",
    " 123 / 3 = 41\n",
    "\n",
    " 1232 / 4 = 308\n",
    "\n",
    "\n",
    "is_polydivisible(123220 ) ➞ False\n",
    "\n",
    " 1 / 1 = 1\n",
    "\n",
    " 12 / 2 = 6\n",
    "\n",
    " 123 / 3 = 41\n",
    "\n",
    " 1232 / 4 = 308\n",
    "\n",
    " 12322 / 5 = 2464.4 # Not a Whole Number\n",
    "\n",
    " 123220 /6 = 220536.333... # Not a Whole Number\n"
   ]
  },
  {
   "cell_type": "markdown",
   "id": "9ee5547b",
   "metadata": {},
   "source": [
    "# ans"
   ]
  },
  {
   "cell_type": "code",
   "execution_count": 10,
   "id": "39be6478",
   "metadata": {},
   "outputs": [
    {
     "name": "stdout",
     "output_type": "stream",
     "text": [
      "is_polydivisible(1232) = True\n",
      "is_polydivisible(123220) = False\n"
     ]
    }
   ],
   "source": [
    "def is_polydivisible(inp):\n",
    "    res = False\n",
    "    inp_str = str(inp)\n",
    "    for i in range(len(inp_str)):\n",
    "        if(int(inp_str[:i+1])%(i+1) == 0):\n",
    "            res = True\n",
    "        else:\n",
    "            res = False\n",
    "            break\n",
    "    print(f'is_polydivisible({inp}) = {res}')\n",
    "        \n",
    "is_polydivisible(1232)\n",
    "is_polydivisible(123220)"
   ]
  },
  {
   "cell_type": "markdown",
   "id": "c4931c0f",
   "metadata": {},
   "source": [
    "# q"
   ]
  },
  {
   "cell_type": "markdown",
   "id": "9cb89006",
   "metadata": {},
   "source": [
    "5.Create a function that takes a list of numbers and returns the sum of all\n",
    "\n",
    "prime numbers in the list.\n",
    "\n",
    "Examples\n",
    "\n",
    "sum_primes([1, 2, 3, 4, 5, 6, 7, 8, 9, 10]) ➞ 17\n",
    "\n",
    "sum_primes([2, 3, 4, 11, 20, 50, 71]) ➞ 87\n",
    "\n",
    "sum_primes([]) ➞ None"
   ]
  },
  {
   "cell_type": "markdown",
   "id": "657daea3",
   "metadata": {},
   "source": [
    "# ans"
   ]
  },
  {
   "cell_type": "code",
   "execution_count": 13,
   "id": "9c3a7bae",
   "metadata": {},
   "outputs": [
    {
     "name": "stdout",
     "output_type": "stream",
     "text": [
      "sum_primes([1, 2, 3, 4, 5, 6, 7, 8, 9, 10]) = 17\n",
      "sum_primes([2, 3, 4, 11, 20, 50, 71]) = 87\n",
      "sum_primes([]) = None\n"
     ]
    }
   ],
   "source": [
    "def sum_primes(inp):\n",
    "    res = []\n",
    "    for item in inp:\n",
    "        if item in [2,3]:\n",
    "            res.append(item)\n",
    "        elif item in [6*n-1 for n in range(0,item)] or item in [6*n+1 for n in range(0,item)]:\n",
    "            res.append(item)\n",
    "    if 1 in res:\n",
    "        res.remove(1)\n",
    "    print(f'sum_primes({inp}) = {sum(res) if len(res) > 0 else None}')\n",
    "        \n",
    "sum_primes([1, 2, 3, 4, 5, 6, 7, 8, 9, 10])\n",
    "sum_primes([2, 3, 4, 11, 20, 50, 71])\n",
    "sum_primes([])"
   ]
  },
  {
   "cell_type": "code",
   "execution_count": null,
   "id": "9aed09f8",
   "metadata": {},
   "outputs": [],
   "source": []
  }
 ],
 "metadata": {
  "kernelspec": {
   "display_name": "Python 3 (ipykernel)",
   "language": "python",
   "name": "python3"
  },
  "language_info": {
   "codemirror_mode": {
    "name": "ipython",
    "version": 3
   },
   "file_extension": ".py",
   "mimetype": "text/x-python",
   "name": "python",
   "nbconvert_exporter": "python",
   "pygments_lexer": "ipython3",
   "version": "3.9.7"
  }
 },
 "nbformat": 4,
 "nbformat_minor": 5
}
