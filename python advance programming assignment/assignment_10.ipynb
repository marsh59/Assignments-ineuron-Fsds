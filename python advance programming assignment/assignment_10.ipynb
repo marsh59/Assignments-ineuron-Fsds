{
 "cells": [
  {
   "cell_type": "code",
   "execution_count": null,
   "id": "6f2c57a1",
   "metadata": {},
   "outputs": [],
   "source": []
  },
  {
   "cell_type": "markdown",
   "id": "d416e2ac",
   "metadata": {},
   "source": [
    "# q"
   ]
  },
  {
   "cell_type": "markdown",
   "id": "53fe854b",
   "metadata": {},
   "source": [
    "1.Create a function that takes the width, height and character and returns a\n",
    "\n",
    "picture frame as a 2D list.\n",
    "\n",
    "Examples\n",
    "\n",
    "get_frame(4, 5, &quot;#&quot;) ➞ [\n",
    "\n",
    "[&quot;####&quot;],\n",
    "\n",
    "[&quot;# #&quot;],\n",
    "\n",
    "[&quot;# #&quot;],\n",
    "\n",
    "[&quot;# #&quot;],\n",
    "\n",
    "[&quot;####&quot;]\n",
    "\n",
    "]\n",
    "\n",
    " Frame is 4 characters wide and 5 characters tall.\n",
    " \n",
    "\n",
    "get_frame(10, 3, &quot;*&quot;) ➞ [\n",
    "\n",
    "[&quot;**********&quot;],\n",
    "\n",
    "[&quot;* *&quot;],\n",
    "\n",
    "[&quot;**********&quot;]\n",
    "\n",
    "]\n",
    "\n",
    " Frame is 10 characters and wide and 3 characters tall.\n",
    "\n",
    "get_frame(2, 5, &quot;0&quot;) ➞ &quot;invalid&quot;\n",
    "\n",
    " Frame&#39;s width is not more than 2."
   ]
  },
  {
   "cell_type": "markdown",
   "id": "d0bf3b63",
   "metadata": {},
   "source": [
    "# ans"
   ]
  },
  {
   "cell_type": "code",
   "execution_count": 1,
   "id": "475ac32d",
   "metadata": {},
   "outputs": [
    {
     "name": "stdout",
     "output_type": "stream",
     "text": [
      "['####']\n",
      "['#  #']\n",
      "['#  #']\n",
      "['#  #']\n",
      "['####']\n",
      "\n",
      "['**********']\n",
      "['*        *']\n",
      "['**********']\n",
      "\n",
      "Invalid\n"
     ]
    }
   ],
   "source": [
    "def get_frame(width,height,character):\n",
    "    if width <= 2:\n",
    "        print(\"Invalid\")\n",
    "    else:\n",
    "        result = []\n",
    "        for itm in range(height):\n",
    "            if itm == 0 or itm == height-1:\n",
    "                result.append([width*character])\n",
    "            else:\n",
    "                result.append([character+' '*(width-2)+character])\n",
    "        for elt in result:\n",
    "            print(elt)\n",
    "        print()\n",
    "    \n",
    "get_frame(4, 5, \"#\")\n",
    "get_frame(10, 3, \"*\")\n",
    "get_frame(2, 5, \"0\")"
   ]
  },
  {
   "cell_type": "markdown",
   "id": "e12331b5",
   "metadata": {},
   "source": [
    "# q"
   ]
  },
  {
   "cell_type": "markdown",
   "id": "96e9acb4",
   "metadata": {},
   "source": [
    "2.Write three functions:\n",
    "\n",
    "1. boolean_and\n",
    "\n",
    "2. boolean_or\n",
    "\n",
    "3. boolean_xor\n",
    "\n",
    "These functions should evaluate a list of True and False values, starting from\n",
    "\n",
    "the leftmost element and evaluating pairwise.\n",
    "\n",
    "Examples\n",
    "\n",
    "boolean_and([True, True, False, True]) ➞ False\n",
    "\n",
    " [True, True, False, True] =&gt; [True, False, True] =&gt; [False, True] =&gt; False\n",
    "\n",
    "boolean_or([True, True, False, False]) ➞ True\n",
    "\n",
    " [True, True, False, True] =&gt; [True, False, False] =&gt; [True, False] =&gt; True\n",
    "\n",
    "boolean_xor([True, True, False, False]) ➞ False\n",
    "\n",
    " [True, True, False, False] =&gt; [False, False, False] =&gt; [False, False] =&gt;\n",
    "\n",
    "False"
   ]
  },
  {
   "cell_type": "markdown",
   "id": "4bfc26f2",
   "metadata": {},
   "source": [
    "# ans"
   ]
  },
  {
   "cell_type": "code",
   "execution_count": 2,
   "id": "544cca53",
   "metadata": {},
   "outputs": [
    {
     "name": "stdout",
     "output_type": "stream",
     "text": [
      "boolean_and([True, True, False, True]) = False\n",
      "boolean_or([True, True, False, False]) = True\n",
      "boolean_xor([True, True, False, False]) = False\n"
     ]
    }
   ],
   "source": [
    "def boolean_and(inp):\n",
    "    copy = inp.copy()\n",
    "    while len(inp) != 1:\n",
    "        x = inp.pop(0)\n",
    "        y = inp.pop(0)\n",
    "        inp.insert(0,(x and y))\n",
    "    print(f'boolean_and({copy}) = {inp[0]}')\n",
    "    \n",
    "def boolean_or(inp):\n",
    "    copy = inp.copy()\n",
    "    while len(inp) != 1:\n",
    "        x = inp.pop(0)\n",
    "        y = inp.pop(0)\n",
    "        inp.insert(0,(x or y))\n",
    "    print(f'boolean_or({copy}) = {inp[0]}')\n",
    "    \n",
    "def boolean_xor(inp):\n",
    "    copy = inp.copy()\n",
    "    while len(inp) != 1:\n",
    "        x = inp.pop(0)\n",
    "        y = inp.pop(0)\n",
    "        inp.insert(0,(x ^ y))\n",
    "    print(f'boolean_xor({copy}) = {inp[0]}')\n",
    "    \n",
    "boolean_and([True, True, False, True])\n",
    "boolean_or([True, True, False, False])\n",
    "boolean_xor([True, True, False, False])"
   ]
  },
  {
   "cell_type": "markdown",
   "id": "6026ceba",
   "metadata": {},
   "source": [
    "# q"
   ]
  },
  {
   "cell_type": "markdown",
   "id": "de765296",
   "metadata": {},
   "source": [
    "3.Create a function that creates a box based on dimension n.\n",
    "\n",
    "Examples\n",
    "\n",
    "make_box(5) ➞ [\n",
    "\n",
    "&quot;#####&quot;,\n",
    "\n",
    "&quot;# #&quot;,\n",
    "\n",
    "&quot;# #&quot;,\n",
    "\n",
    "&quot;# #&quot;,\n",
    "\n",
    "&quot;#####&quot;\n",
    "\n",
    "]\n",
    "\n",
    "make_box(3) ➞ [\n",
    "\n",
    "&quot;###&quot;,\n",
    "\n",
    "&quot;# #&quot;,\n",
    "\n",
    "&quot;###&quot;\n",
    "\n",
    "]\n",
    "\n",
    "make_box(2) ➞ [\n",
    "\n",
    "&quot;##&quot;,\n",
    "\n",
    "&quot;##&quot;\n",
    "\n",
    "]\n",
    "make_box(1) ➞ [\n",
    "\n",
    "&quot;#&quot;\n",
    "\n",
    "]"
   ]
  },
  {
   "cell_type": "markdown",
   "id": "8a06ddaf",
   "metadata": {},
   "source": [
    "# ans"
   ]
  },
  {
   "cell_type": "code",
   "execution_count": 3,
   "id": "c9ce7dcf",
   "metadata": {},
   "outputs": [
    {
     "name": "stdout",
     "output_type": "stream",
     "text": [
      "#####\n",
      "#   #\n",
      "#   #\n",
      "#   #\n",
      "#####\n",
      "\n",
      "##\n",
      "##\n",
      "\n",
      "#\n",
      "\n"
     ]
    }
   ],
   "source": [
    "def make_box(inp):\n",
    "    result = []\n",
    "    for item in range(inp):\n",
    "        if item == 0 or item == inp-1:\n",
    "            result.append('#'*inp)\n",
    "        else:\n",
    "            result.append('#'+' '*(inp-2)+'#')\n",
    "    for item in result:\n",
    "        print(item)\n",
    "    print()\n",
    "    \n",
    "make_box(5)   \n",
    "make_box(2)\n",
    "make_box(1)"
   ]
  },
  {
   "cell_type": "code",
   "execution_count": null,
   "id": "ba323310",
   "metadata": {},
   "outputs": [],
   "source": []
  },
  {
   "cell_type": "markdown",
   "id": "cc037bfb",
   "metadata": {},
   "source": [
    "# q"
   ]
  },
  {
   "cell_type": "markdown",
   "id": "9dd89d60",
   "metadata": {},
   "source": [
    "4.Given a common phrase, return False if any individual word in the phrase\n",
    "\n",
    "contains duplicate letters. Return True otherwise.\n",
    "\n",
    "Examples\n",
    "\n",
    "no_duplicate_letters(&quot;Fortune favours the bold.&quot;) ➞ True\n",
    "\n",
    "no_duplicate_letters(&quot;You can lead a horse to water, but you can&#39;t make him\n",
    "\n",
    "drink.&quot;) ➞ True\n",
    "\n",
    "no_duplicate_letters(&quot;Look before you leap.&quot;) ➞ False\n",
    "\n",
    " Duplicate letters in &quot;Look&quot; and &quot;before&quot;.\n",
    " \n",
    "no_duplicate_letters(&quot;An apple a day keeps the doctor away.&quot;) ➞ False\n",
    "\n",
    " Duplicate letters in &quot;apple&quot;, &quot;keeps&quot;, &quot;doctor&quot;, and &quot;away&quot;."
   ]
  },
  {
   "cell_type": "markdown",
   "id": "9ee5547b",
   "metadata": {},
   "source": [
    "# ans"
   ]
  },
  {
   "cell_type": "code",
   "execution_count": 5,
   "id": "39be6478",
   "metadata": {},
   "outputs": [
    {
     "name": "stdout",
     "output_type": "stream",
     "text": [
      "no_duplicate_letters(Fortune favours the bold.) = True\n",
      "no_duplicate_letters(You can lead a horse to water, but you can't make him drink.) = True\n",
      "no_duplicate_letters(Look before you leap.) = False\n",
      "no_duplicate_letters(An apple a day keeps the doctor away.) = False\n"
     ]
    }
   ],
   "source": [
    "def no_duplicate_letters(inp):\n",
    "    result = None\n",
    "    for ele in inp.split(' '):\n",
    "        if len(ele) == len(set(ele)):\n",
    "            result = True\n",
    "        else:\n",
    "            result = False\n",
    "            break\n",
    "    print(f'no_duplicate_letters({inp}) = {result}')\n",
    "    \n",
    "no_duplicate_letters(\"Fortune favours the bold.\")\n",
    "no_duplicate_letters(\"You can lead a horse to water, but you can't make him drink.\")\n",
    "no_duplicate_letters(\"Look before you leap.\")\n",
    "no_duplicate_letters(\"An apple a day keeps the doctor away.\")"
   ]
  },
  {
   "cell_type": "markdown",
   "id": "c4931c0f",
   "metadata": {},
   "source": [
    "# q"
   ]
  },
  {
   "cell_type": "markdown",
   "id": "9cb89006",
   "metadata": {},
   "source": [
    "5.Write a regular expression that will match the states that voted yes to\n",
    "\n",
    "President Trump&#39;s impeachment. You must use RegEx positive lookahead.\n",
    "\n",
    "Example\n",
    "\n",
    "txt = &quot;Texas = no, California = yes, Florida = yes, Michigan = no&quot;\n",
    "\n",
    "pattern = &quot;yourregularexpressionhere&quot;\n",
    "\n",
    "re.findall(pattern, txt) ➞ [&quot;California&quot;, &quot;Florida&quot;]"
   ]
  },
  {
   "cell_type": "markdown",
   "id": "657daea3",
   "metadata": {},
   "source": [
    "# ans"
   ]
  },
  {
   "cell_type": "code",
   "execution_count": 7,
   "id": "9c3a7bae",
   "metadata": {},
   "outputs": [
    {
     "name": "stdout",
     "output_type": "stream",
     "text": [
      "re.findall('\\\\w+(?=\\\\s=\\\\syes*)', 'Texas = no, California = yes, Florida = yes, Michigan = no') := ['California', 'Florida']\n"
     ]
    }
   ],
   "source": [
    "import re\n",
    "txt = \"Texas = no, California = yes, Florida = yes, Michigan = no\"\n",
    "pattern = r'\\w+(?=\\s=\\syes*)'\n",
    "match = re.findall(pattern,txt)\n",
    "print(f're.findall{pattern,txt} := {match}')"
   ]
  },
  {
   "cell_type": "code",
   "execution_count": null,
   "id": "ad38da33",
   "metadata": {},
   "outputs": [],
   "source": []
  }
 ],
 "metadata": {
  "kernelspec": {
   "display_name": "Python 3 (ipykernel)",
   "language": "python",
   "name": "python3"
  },
  "language_info": {
   "codemirror_mode": {
    "name": "ipython",
    "version": 3
   },
   "file_extension": ".py",
   "mimetype": "text/x-python",
   "name": "python",
   "nbconvert_exporter": "python",
   "pygments_lexer": "ipython3",
   "version": "3.9.7"
  }
 },
 "nbformat": 4,
 "nbformat_minor": 5
}
