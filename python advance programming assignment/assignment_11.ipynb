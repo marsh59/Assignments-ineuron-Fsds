{
 "cells": [
  {
   "cell_type": "code",
   "execution_count": null,
   "id": "6f2c57a1",
   "metadata": {},
   "outputs": [],
   "source": []
  },
  {
   "cell_type": "markdown",
   "id": "d416e2ac",
   "metadata": {},
   "source": [
    "# q"
   ]
  },
  {
   "cell_type": "markdown",
   "id": "53fe854b",
   "metadata": {},
   "source": [
    "1.Create a function that takes a list and returns a new list containing only\n",
    "\n",
    "prime numbers.\n",
    "\n",
    "Examples\n",
    "\n",
    "filter_primes([7, 9, 3, 9, 10, 11, 27]) ➞ [7, 3, 11]\n",
    "\n",
    "filter_primes([10007, 1009, 1007, 27, 147, 77, 1001, 70]) ➞ [10007, 1009]\n",
    "\n",
    "filter_primes([1009, 10, 10, 10, 3, 33, 9, 4, 1, 61, 63, 69, 1087, 1091, 1093,\n",
    "\n",
    "1097]) ➞ [1009, 3, 61, 1087, 1091, 1093, 1097]"
   ]
  },
  {
   "cell_type": "markdown",
   "id": "d0bf3b63",
   "metadata": {},
   "source": [
    "# ans"
   ]
  },
  {
   "cell_type": "code",
   "execution_count": 2,
   "id": "475ac32d",
   "metadata": {},
   "outputs": [
    {
     "name": "stdout",
     "output_type": "stream",
     "text": [
      "filter_primes([7, 9, 3, 9, 10, 11, 27]) = [7, 3, 11]\n",
      "filter_primes([10007, 1009, 1007, 27, 147, 77, 1001, 70]) = [10007, 1009]\n",
      "filter_primes([1009, 10, 10, 10, 3, 33, 9, 4, 1, 61, 63, 69, 1087, 1091, 1093, 1097]) = [1009, 3, 61, 1087, 1091, 1093, 1097]\n"
     ]
    }
   ],
   "source": [
    "def filter_primes(inp):\n",
    "    result = []\n",
    "    for item in inp:\n",
    "        if item in [2,3]:\n",
    "            result.append(item)\n",
    "        elif ((item+1) % 6 == 0) or ((item-1) % 6 == 0) and item != 1:\n",
    "            result.append(item)\n",
    "    duplicate = result.copy()\n",
    "    for item in duplicate:\n",
    "        for num in range(2,item):\n",
    "            if item%num == 0:\n",
    "                result.remove(item)\n",
    "                break        \n",
    "    print(f'filter_primes({inp}) = {result}')\n",
    "    \n",
    "filter_primes([7, 9, 3, 9, 10, 11, 27])\n",
    "filter_primes([10007, 1009, 1007, 27, 147, 77, 1001, 70])\n",
    "filter_primes([1009, 10, 10, 10, 3, 33, 9, 4, 1, 61, 63, 69, 1087, 1091, 1093, 1097])"
   ]
  },
  {
   "cell_type": "markdown",
   "id": "e12331b5",
   "metadata": {},
   "source": [
    "# q"
   ]
  },
  {
   "cell_type": "markdown",
   "id": "96e9acb4",
   "metadata": {},
   "source": [
    "2.Once a water balloon pops, is soaks the area around it. The ground gets\n",
    "\n",
    "drier the further away you travel from the balloon.\n",
    "\n",
    "The effect of a water balloon popping can be modeled using a list. Create a\n",
    "\n",
    "function that takes a list which takes the pre-pop state and returns the state\n",
    "\n",
    "after the balloon is popped. The pre-pop state will contain at most a single\n",
    "\n",
    "balloon, whose size is represented by the only non-zero element.\n",
    "\n",
    "Examples\n",
    "\n",
    "pop([0, 0, 0, 0, 4, 0, 0, 0, 0]) ➞ [0, 1, 2, 3, 4, 3, 2, 1, 0]\n",
    "\n",
    "pop([0, 0, 0, 3, 0, 0, 0]) ➞ [0, 1, 2, 3, 2, 1, 0]\n",
    "\n",
    "pop([0, 0, 2, 0, 0]) ➞ [0, 1, 2, 1, 0]\n",
    "\n",
    "pop([0]) ➞ [0]"
   ]
  },
  {
   "cell_type": "markdown",
   "id": "4bfc26f2",
   "metadata": {},
   "source": [
    "# ans"
   ]
  },
  {
   "cell_type": "code",
   "execution_count": 4,
   "id": "544cca53",
   "metadata": {},
   "outputs": [
    {
     "name": "stdout",
     "output_type": "stream",
     "text": [
      "pop([0, 0, 0, 0, 4, 0, 0, 0, 0]) = [0, 1, 2, 3, 4, 3, 2, 1, 0]\n",
      "pop([0, 0, 0, 3, 0, 0, 0]) = [0, 1, 2, 3, 2, 1, 0]\n",
      "pop([0, 0, 2, 0, 0]) = [0, 1, 2, 1, 0]\n",
      "pop([0]) = [0]\n"
     ]
    }
   ],
   "source": [
    "def pop(inp):\n",
    "    pop_number = sorted(inp,reverse=True)[0]\n",
    "    result = []\n",
    "    if pop_number == 0:\n",
    "        result.append(0)\n",
    "    else:\n",
    "        result.extend([x for x in range((len(inp)-1)//2)])\n",
    "        result.append(pop_number)\n",
    "        result.extend([((len(inp)-2)//2)-x for x in range((len(inp)-1)//2)])\n",
    "    print(f'pop({inp}) = {result}')\n",
    "    \n",
    "pop([0, 0, 0, 0, 4, 0, 0, 0, 0])\n",
    "pop([0, 0, 0, 3, 0, 0, 0])\n",
    "pop([0, 0, 2, 0, 0])\n",
    "pop([0])"
   ]
  },
  {
   "cell_type": "markdown",
   "id": "6026ceba",
   "metadata": {},
   "source": [
    "# q"
   ]
  },
  {
   "cell_type": "markdown",
   "id": "de765296",
   "metadata": {},
   "source": [
    "3.&quot;Loves me, loves me not&quot; is a traditional game in which a person plucks off\n",
    "\n",
    "all the petals of a flower one by one, saying the phrase &quot;Loves me&quot; and\n",
    "\n",
    "&quot;Loves me not&quot; when determining whether the one that they love, loves them\n",
    "\n",
    "back.\n",
    "\n",
    "Given a number of petals, return a string which repeats the phrases &quot;Loves\n",
    "\n",
    "me&quot; and &quot;Loves me not&quot; for every alternating petal, and return the last phrase\n",
    "\n",
    "in all caps. Remember to put a comma and space between phrases.\n",
    "\n",
    "Examples\n",
    "\n",
    "loves_me(3) ➞ &quot;Loves me, Loves me not, LOVES ME&quot;\n",
    "\n",
    "loves_me(6) ➞ &quot;Loves me, Loves me not, Loves me, Loves me not, Loves\n",
    "\n",
    "me, LOVES ME NOT&quot;\n",
    "\n",
    "loves_me(1) ➞ &quot;LOVES ME&quot;"
   ]
  },
  {
   "cell_type": "markdown",
   "id": "8a06ddaf",
   "metadata": {},
   "source": [
    "# ans"
   ]
  },
  {
   "cell_type": "code",
   "execution_count": 5,
   "id": "c9ce7dcf",
   "metadata": {},
   "outputs": [
    {
     "name": "stdout",
     "output_type": "stream",
     "text": [
      "loves_me(3) = Loves me, Loves me not, LOVES ME\n",
      "loves_me(6) = Loves me, Loves me not, Loves me, Loves me not, Loves me, LOVES ME NOT\n",
      "loves_me(1) = LOVES ME\n"
     ]
    }
   ],
   "source": [
    "def loves_me(inp):\n",
    "    result = []\n",
    "    for item in range(inp):\n",
    "        if item%2 ==0:\n",
    "            result.append('Loves me')\n",
    "        else:\n",
    "            result.append('Loves me not')\n",
    "    result[-1] = result[-1].upper()\n",
    "    print(f'loves_me({inp}) = {\", \".join(result)}')\n",
    "    \n",
    "loves_me(3)\n",
    "loves_me(6)\n",
    "loves_me(1)"
   ]
  },
  {
   "cell_type": "code",
   "execution_count": null,
   "id": "ba323310",
   "metadata": {},
   "outputs": [],
   "source": []
  },
  {
   "cell_type": "markdown",
   "id": "cc037bfb",
   "metadata": {},
   "source": [
    "# q"
   ]
  },
  {
   "cell_type": "markdown",
   "id": "9dd89d60",
   "metadata": {},
   "source": [
    "4.Write a function that sorts each string in a list by the letter in alphabetic\n",
    "\n",
    "ascending order (a-z).\n",
    "\n",
    "Examples\n",
    "\n",
    "sort_by_letter([&quot;932c&quot;, &quot;832u32&quot;, &quot;2344b&quot;])\n",
    "\n",
    "➞ [&quot;2344b&quot;, &quot;932c&quot;, &quot;832u32&quot;]\n",
    "\n",
    "sort_by_letter([&quot;99a&quot;, &quot;78b&quot;, &quot;c2345&quot;, &quot;11d&quot;])\n",
    "\n",
    "➞ [&quot;99a&quot;, &quot;78b&quot;, &quot;c2345&quot;, &quot;11d&quot;]\n",
    "\n",
    "sort_by_letter([&quot;572z&quot;, &quot;5y5&quot;, &quot;304q2&quot;])\n",
    "\n",
    "➞ [&quot;304q2&quot;, &quot;5y5&quot;, &quot;572z&quot;]\n",
    "\n",
    "sort_by_letter([])\n",
    "\n",
    "➞ []"
   ]
  },
  {
   "cell_type": "markdown",
   "id": "9ee5547b",
   "metadata": {},
   "source": [
    "# ans"
   ]
  },
  {
   "cell_type": "code",
   "execution_count": null,
   "id": "872b115c",
   "metadata": {},
   "outputs": [],
   "source": []
  },
  {
   "cell_type": "markdown",
   "id": "c4931c0f",
   "metadata": {},
   "source": [
    "# q"
   ]
  },
  {
   "cell_type": "markdown",
   "id": "9cb89006",
   "metadata": {},
   "source": [
    "5.There are three cups on a table, at positions A, B, and C. At the start, there\n",
    "\n",
    "is a ball hidden under the cup at position B.\n",
    "\n",
    "However, I perform several swaps on the cups, which is notated as two\n",
    "\n",
    "letters. For example, if I swap the cups at positions A and B, I could notate\n",
    "\n",
    "this as AB or BA.\n",
    "\n",
    "Create a function that returns the letter position that the ball is at, once I finish\n",
    "\n",
    "swapping the cups. The swaps will be given to you as a list.\n",
    "\n",
    "Example\n",
    "\n",
    "cup_swapping([&quot;AB&quot;, &quot;CA&quot;, &quot;AB&quot;]) ➞ &quot;C&quot;\n",
    "\n",
    " Ball begins at position B.\n",
    "\n",
    " Cups A and B swap, so the ball is at position A.\n",
    "\n",
    " Cups C and A swap, so the ball is at position C.\n",
    "\n",
    " Cups A and B swap, but the ball is at position C, so it \n",
    "doesn&#39;t move.\n"
   ]
  },
  {
   "cell_type": "markdown",
   "id": "657daea3",
   "metadata": {},
   "source": [
    "# ans"
   ]
  },
  {
   "cell_type": "code",
   "execution_count": 8,
   "id": "9c3a7bae",
   "metadata": {},
   "outputs": [
    {
     "name": "stdout",
     "output_type": "stream",
     "text": [
      "cup_swapping(['AB', 'CA', 'AB']) = C\n",
      "cup_swapping(['AB', 'CA', 'AB']) = B\n",
      "cup_swapping(['AC', 'BC', 'AB']) = A\n"
     ]
    }
   ],
   "source": [
    "def cup_swapping(swap_list,intitial_ball_pos):\n",
    "    ball_position = intitial_ball_pos\n",
    "    for item in swap_list:\n",
    "        if ball_position in item:\n",
    "            ball_position = item.replace(ball_position,'')\n",
    "    print(f'cup_swapping({swap_list}) = {ball_position}')\n",
    "            \n",
    "cup_swapping([\"AB\", \"CA\", \"AB\"],'B')\n",
    "cup_swapping([\"AB\", \"CA\", \"AB\"],'C')\n",
    "cup_swapping([\"AC\", \"BC\", \"AB\"],'A')"
   ]
  },
  {
   "cell_type": "code",
   "execution_count": null,
   "id": "a4a6ea39",
   "metadata": {},
   "outputs": [],
   "source": []
  }
 ],
 "metadata": {
  "kernelspec": {
   "display_name": "Python 3 (ipykernel)",
   "language": "python",
   "name": "python3"
  },
  "language_info": {
   "codemirror_mode": {
    "name": "ipython",
    "version": 3
   },
   "file_extension": ".py",
   "mimetype": "text/x-python",
   "name": "python",
   "nbconvert_exporter": "python",
   "pygments_lexer": "ipython3",
   "version": "3.9.7"
  }
 },
 "nbformat": 4,
 "nbformat_minor": 5
}
