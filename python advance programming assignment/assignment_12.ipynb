{
 "cells": [
  {
   "cell_type": "code",
   "execution_count": null,
   "id": "6f2c57a1",
   "metadata": {},
   "outputs": [],
   "source": []
  },
  {
   "cell_type": "markdown",
   "id": "d416e2ac",
   "metadata": {},
   "source": [
    "# q"
   ]
  },
  {
   "cell_type": "markdown",
   "id": "53fe854b",
   "metadata": {},
   "source": [
    "1.For this challenge, forget how to add two numbers together. The best\n",
    "\n",
    "explanation on what to do for this function is this meme:\n",
    "\n",
    "Examples\n",
    "\n",
    "meme_sum(26, 39) ➞ 515\n",
    "\n",
    " 2+3 = 5, 6+9 = 15\n",
    "\n",
    " 26 + 39 = 515\n",
    "\n",
    "meme_sum(122, 81) ➞ 1103\n",
    "\n",
    " 1+0 = 1, 2+8 = 10, 2+1 = 3\n",
    "\n",
    " 122 + 81 = 1103\n",
    "\n",
    "meme_sum(1222, 30277) ➞ 31499"
   ]
  },
  {
   "cell_type": "markdown",
   "id": "d0bf3b63",
   "metadata": {},
   "source": [
    "# ans"
   ]
  },
  {
   "cell_type": "code",
   "execution_count": 1,
   "id": "475ac32d",
   "metadata": {},
   "outputs": [
    {
     "name": "stdout",
     "output_type": "stream",
     "text": [
      "meme_sum('26', '39') = 515\n",
      "meme_sum('122', '081') = 1103\n",
      "meme_sum('01222', '30277') = 31499\n"
     ]
    }
   ],
   "source": [
    "def meme_sum(a,b):\n",
    "    a,b = str(a),str(b)\n",
    "    result = ''\n",
    "    while len(a) != len(b):\n",
    "        if len(a) < len(b):\n",
    "            a ='0'+a\n",
    "        else:\n",
    "            b='0'+b\n",
    "    for item in range(len(a)):\n",
    "        result += str(int(a[item])+int(b[item]))\n",
    "    print(f'meme_sum{a,b} = {result}')\n",
    "       \n",
    "meme_sum(26, 39)\n",
    "meme_sum(122, 81)\n",
    "meme_sum(1222, 30277) "
   ]
  },
  {
   "cell_type": "markdown",
   "id": "e12331b5",
   "metadata": {},
   "source": [
    "# q"
   ]
  },
  {
   "cell_type": "markdown",
   "id": "96e9acb4",
   "metadata": {},
   "source": [
    "2.Given an integer, create a function that returns the next prime. If the\n",
    "\n",
    "number is prime, return the number itself.\n",
    "\n",
    "Examples\n",
    "\n",
    "next_prime(12) ➞ 13\n",
    "\n",
    "next_prime(24) ➞ 29\n",
    "\n",
    "next_prime(11) ➞ 11\n",
    "\n",
    " 11 is a prime, so we return the number itself."
   ]
  },
  {
   "cell_type": "markdown",
   "id": "4bfc26f2",
   "metadata": {},
   "source": [
    "# ans"
   ]
  },
  {
   "cell_type": "code",
   "execution_count": 3,
   "id": "544cca53",
   "metadata": {},
   "outputs": [
    {
     "name": "stdout",
     "output_type": "stream",
     "text": [
      "next_prine(12) = 13\n",
      "next_prine(24) = 29\n",
      "next_prine(11) = 11\n"
     ]
    }
   ],
   "source": [
    "def next_prime(inp):\n",
    "    inp_copy = inp\n",
    "    while True:\n",
    "        if (inp-1) % 6 == 0 or (inp+1) % 6 ==0 :\n",
    "            temp = inp\n",
    "            for item in range(3,inp+1):\n",
    "                if inp % item == 0 and item != inp:\n",
    "                    inp = inp+1\n",
    "                    break\n",
    "            if temp == inp:\n",
    "                break\n",
    "        else:\n",
    "            inp += 1\n",
    "    \n",
    "    print(f'next_prine({inp_copy}) = {inp}')\n",
    "        \n",
    "next_prime(12)\n",
    "next_prime(24)\n",
    "next_prime(11)"
   ]
  },
  {
   "cell_type": "markdown",
   "id": "6026ceba",
   "metadata": {},
   "source": [
    "# q"
   ]
  },
  {
   "cell_type": "markdown",
   "id": "de765296",
   "metadata": {},
   "source": [
    "3.If a person traveled up a hill for 18mins at 20mph and then traveled back\n",
    "\n",
    "down the same path at 60mph then their average speed traveled was 30mph.\n",
    "\n",
    "Write a function that returns the average speed traveled given an uphill time,\n",
    "\n",
    "uphill rate and a downhill rate. Uphill time is given in minutes. Return the rate\n",
    "\n",
    "as an integer (mph). No rounding is necessary.\n",
    "\n",
    "Examples\n",
    "\n",
    "ave_spd(18, 20, 60) ➞ 30\n",
    "\n",
    "ave_spd(30, 10, 30) ➞ 15\n",
    "\n",
    "ave_spd(30, 8, 24) ➞ 12"
   ]
  },
  {
   "cell_type": "markdown",
   "id": "8a06ddaf",
   "metadata": {},
   "source": [
    "# ans"
   ]
  },
  {
   "cell_type": "code",
   "execution_count": 4,
   "id": "c9ce7dcf",
   "metadata": {},
   "outputs": [
    {
     "name": "stdout",
     "output_type": "stream",
     "text": [
      "ave_spd(18, 20, 60) = 30\n",
      "ave_spd(30, 10, 30) = 15\n",
      "ave_spd(30, 8, 24) = 12\n"
     ]
    }
   ],
   "source": [
    "def ave_spd(up_time,up_speed,down_speed):\n",
    "    distance = up_speed * (up_time/60)\n",
    "    down_time = distance/down_speed\n",
    "    result = (2 * distance)/((up_time/60)+down_time)\n",
    "    print(f'ave_spd{up_time,up_speed,down_speed} = {int(result)}')\n",
    "    \n",
    "ave_spd(18, 20, 60)\n",
    "ave_spd(30, 10, 30)\n",
    "ave_spd(30, 8, 24)"
   ]
  },
  {
   "cell_type": "code",
   "execution_count": null,
   "id": "ba323310",
   "metadata": {},
   "outputs": [],
   "source": []
  },
  {
   "cell_type": "markdown",
   "id": "cc037bfb",
   "metadata": {},
   "source": [
    "# q"
   ]
  },
  {
   "cell_type": "markdown",
   "id": "9dd89d60",
   "metadata": {},
   "source": [
    "4.The Kempner Function, applied to a composite number, permits to find the\n",
    "\n",
    "smallest integer greater than zero whose factorial is exactly divided by the\n",
    "\n",
    "number.\n",
    "\n",
    "kempner(6) ➞ 3\n",
    "\n",
    "1! = 1 % 6 &gt; 0\n",
    "\n",
    "2! = 2 % 6 &gt; 0\n",
    "\n",
    "3! = 6 % 6 === 0\n",
    "\n",
    "kempner(10) ➞ 5\n",
    "\n",
    "1! = 1 % 10 &gt; 0\n",
    "\n",
    "2! = 2 % 10 &gt; 0\n",
    "\n",
    "3! = 6 % 10 &gt; 0\n",
    "\n",
    "4! = 24 % 10 &gt; 0\n",
    "\n",
    "5! = 120 % 10 === 0\n",
    "\n",
    "A Kempner Function applied to a prime will always return the prime itself.\n",
    "\n",
    "kempner(2) ➞ 2\n",
    "\n",
    "kempner(5) ➞ 5\n",
    "\n",
    "Given an integer n, implement a Kempner Function.\n",
    "\n",
    "Examples\n",
    "\n",
    "kempner(6) ➞ 3\n",
    "\n",
    "kempner(10) ➞ 5\n",
    "\n",
    "kempner(2) ➞ 2"
   ]
  },
  {
   "cell_type": "markdown",
   "id": "9ee5547b",
   "metadata": {},
   "source": [
    "# ans"
   ]
  },
  {
   "cell_type": "code",
   "execution_count": 7,
   "id": "39be6478",
   "metadata": {},
   "outputs": [
    {
     "name": "stdout",
     "output_type": "stream",
     "text": [
      "kempner(6) = 3\n",
      "kempner(10) = 5\n",
      "kempner(2) = 2\n"
     ]
    }
   ],
   "source": [
    "def kempner(inp):\n",
    "    def factorial(inp):\n",
    "        if inp == 1:\n",
    "            return 1\n",
    "        else:\n",
    "            return inp * factorial(inp-1)\n",
    "    for item in range(1,inp+1):\n",
    "        if factorial(item) % inp == 0:\n",
    "            result = item\n",
    "            break\n",
    "    print(f'kempner({inp}) = {result}')\n",
    "            \n",
    "kempner(6)\n",
    "kempner(10)\n",
    "kempner(2)"
   ]
  },
  {
   "cell_type": "markdown",
   "id": "c4931c0f",
   "metadata": {},
   "source": [
    "# q"
   ]
  },
  {
   "cell_type": "markdown",
   "id": "9cb89006",
   "metadata": {},
   "source": [
    "5.You work in a factory, and your job is to take items from a conveyor belt\n",
    "\n",
    "and pack them into boxes. Each box can hold a maximum of 10 kgs. Given a\n",
    "\n",
    "list containing the weight (in kg) of each item, how many boxes would you\n",
    "\n",
    "need to pack all of the items?\n",
    "\n",
    "Example\n",
    "\n",
    "boxes([2, 1, 2, 5, 4, 3, 6, 1, 1, 9, 3, 2]) ➞ 5\n",
    "\n",
    " Box 1 = [2, 1, 2, 5] (10kg)\n",
    "\n",
    " Box 2 = [4, 3] (7kg)\n",
    "\n",
    " Box 3 = [6, 1, 1] (8kg)\n",
    "\n",
    " Box 4 = [9] (9kg)\n",
    "\n",
    " Box 5 = [3, 2] (5kg)\n"
   ]
  },
  {
   "cell_type": "markdown",
   "id": "657daea3",
   "metadata": {},
   "source": [
    "# ans"
   ]
  },
  {
   "cell_type": "code",
   "execution_count": 9,
   "id": "9c3a7bae",
   "metadata": {},
   "outputs": [
    {
     "name": "stdout",
     "output_type": "stream",
     "text": [
      "boxes([2, 1, 2, 5, 4, 3, 6, 1, 1, 9, 3, 2]) ➞ [[2, 1, 2, 5], [4, 3], [6, 1, 1], [9], [3, 2]] ➞ 5\n",
      "boxes([6, 1, 1]) ➞ [[6, 1, 1]] ➞ 1\n"
     ]
    }
   ],
   "source": [
    "def boxes(inp):\n",
    "    in_list_clone = inp.copy()\n",
    "    res = []\n",
    "    temp_box = []\n",
    "    while True:\n",
    "        if len(inp) != 0:\n",
    "            if sum(temp_box) <= 10:\n",
    "                temp_box.append(inp.pop(0))\n",
    "            else:\n",
    "                inp.insert(0,temp_box.pop())\n",
    "                res.append(temp_box)\n",
    "                temp_box = []\n",
    "        else:\n",
    "            res.append(temp_box)\n",
    "            temp_box = []\n",
    "            break\n",
    "    print(f'boxes({in_list_clone}) ➞ {res} ➞ {len(res)}')    \n",
    "    \n",
    "boxes([2, 1, 2, 5, 4, 3, 6, 1, 1, 9, 3, 2])\n",
    "boxes([6,1,1])"
   ]
  },
  {
   "cell_type": "code",
   "execution_count": null,
   "id": "77a43b9c",
   "metadata": {},
   "outputs": [],
   "source": []
  }
 ],
 "metadata": {
  "kernelspec": {
   "display_name": "Python 3 (ipykernel)",
   "language": "python",
   "name": "python3"
  },
  "language_info": {
   "codemirror_mode": {
    "name": "ipython",
    "version": 3
   },
   "file_extension": ".py",
   "mimetype": "text/x-python",
   "name": "python",
   "nbconvert_exporter": "python",
   "pygments_lexer": "ipython3",
   "version": "3.9.7"
  }
 },
 "nbformat": 4,
 "nbformat_minor": 5
}
