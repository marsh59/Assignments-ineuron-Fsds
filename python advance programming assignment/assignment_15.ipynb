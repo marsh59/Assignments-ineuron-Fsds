{
 "cells": [
  {
   "cell_type": "code",
   "execution_count": null,
   "id": "6f2c57a1",
   "metadata": {},
   "outputs": [],
   "source": []
  },
  {
   "cell_type": "markdown",
   "id": "d416e2ac",
   "metadata": {},
   "source": [
    "# q"
   ]
  },
  {
   "cell_type": "markdown",
   "id": "53fe854b",
   "metadata": {},
   "source": [
    "1.Write a function that returns True if a given name can generate an array of\n",
    "\n",
    "words.\n",
    "\n",
    "Examples\n",
    "\n",
    "anagram(&quot;Justin Bieber&quot;, [&quot;injures&quot;, &quot;ebb&quot;, &quot;it&quot;]) ➞ True\n",
    "\n",
    "anagram(&quot;Natalie Portman&quot;, [&quot;ornamental&quot;, &quot;pita&quot;]) ➞ True\n",
    "\n",
    "anagram(&quot;Chris Pratt&quot;, [&quot;chirps&quot;, &quot;rat&quot;]) ➞ False\n",
    "\n",
    " Not all letters are used\n",
    "\n",
    "anagram(&quot;Jeff Goldblum&quot;, [&quot;jog&quot;, &quot;meld&quot;, &quot;bluffs&quot;]) ➞ False\n",
    "\n",
    " &quot;s&quot; does not exist in the original name"
   ]
  },
  {
   "cell_type": "markdown",
   "id": "d0bf3b63",
   "metadata": {},
   "source": [
    "# ans"
   ]
  },
  {
   "cell_type": "code",
   "execution_count": 1,
   "id": "475ac32d",
   "metadata": {},
   "outputs": [
    {
     "name": "stdout",
     "output_type": "stream",
     "text": [
      "anagram('Justin Bieber', ['injures', 'ebb', 'it']) = True\n",
      "anagram('Natalie Portman', ['ornamental', 'pita']) = True\n",
      "anagram('Chris Pratt', ['chirps', 'rat']) = False\n",
      "anagram('Jeff Goldblum', ['jog', 'meld', 'bluffs']) = False\n"
     ]
    }
   ],
   "source": [
    "def anagram(inp_string,inp_list):\n",
    "    inp_string_list = list(inp_string.lower())\n",
    "    inp_string_list.remove(' ')\n",
    "    not_exist_list = []\n",
    "    result = False\n",
    "    for item in inp_list:\n",
    "        for i in item:\n",
    "            if i in inp_string_list:\n",
    "                inp_string_list.remove(i)\n",
    "            else:\n",
    "                not_exist_list.append(i)\n",
    "    if len(inp_string_list) == 0 and len(not_exist_list) == 0:\n",
    "        result = True\n",
    "    print(f'anagram{inp_string,inp_list} = {result}')\n",
    "            \n",
    "anagram(\"Justin Bieber\", [\"injures\", \"ebb\", \"it\"])\n",
    "anagram(\"Natalie Portman\", [\"ornamental\", \"pita\"])\n",
    "anagram(\"Chris Pratt\", [\"chirps\", \"rat\"])\n",
    "anagram(\"Jeff Goldblum\", [\"jog\", \"meld\", \"bluffs\"])"
   ]
  },
  {
   "cell_type": "markdown",
   "id": "e12331b5",
   "metadata": {},
   "source": [
    "# q"
   ]
  },
  {
   "cell_type": "markdown",
   "id": "96e9acb4",
   "metadata": {},
   "source": [
    "2.Given an array of users, each defined by an object with the following\n",
    "\n",
    "properties: name, score, reputation create a function that sorts the array to\n",
    "\n",
    "form the correct leaderboard.\n",
    "\n",
    "The leaderboard takes into consideration the score of each user of course,\n",
    "\n",
    "but an emphasis is put on their reputation in the community, so to get the\n",
    "\n",
    "trueScore, you should add the reputation multiplied by 2 to the score.\n",
    "\n",
    "Once you know the trueScore of each user, sort the array according to it in\n",
    "\n",
    "descending order.\n",
    "\n",
    "Examples\n",
    "\n",
    "leaderboards([\n",
    "\n",
    "{ &quot;name&quot;: &quot;a&quot;, &quot;score&quot;: 100, &quot;reputation&quot;: 20 },\n",
    "\n",
    "{ &quot;name&quot;: &quot;b&quot;, &quot;score&quot;: 90, &quot;reputation&quot;: 40 },\n",
    "\n",
    "{ &quot;name&quot;: &quot;c&quot;, &quot;score&quot;: 115, &quot;reputation&quot;: 30 },\n",
    "\n",
    "]) ➞ [\n",
    "\n",
    "{ &quot;name&quot;: &quot;c&quot;, &quot;score&quot;: 115, &quot;reputation&quot;: 30 }, # trueScore = \n",
    "175\n",
    "{ &quot;name&quot;: &quot;b&quot;, &quot;score&quot;: 90, &quot;reputation&quot;: 40 }, # trueScore = 170\n",
    "{ &quot;name&quot;: &quot;a&quot;, &quot;score&quot;: 100, &quot;reputation&quot;: 20 } # trueScore = 140\n",
    "\n",
    "]"
   ]
  },
  {
   "cell_type": "markdown",
   "id": "4bfc26f2",
   "metadata": {},
   "source": [
    "# ans"
   ]
  },
  {
   "cell_type": "code",
   "execution_count": 2,
   "id": "544cca53",
   "metadata": {},
   "outputs": [
    {
     "name": "stdout",
     "output_type": "stream",
     "text": [
      "leaderboards([{'name': 'a', 'score': 100, 'reputation': 20}, {'name': 'b', 'score': 90, 'reputation': 40}, {'name': 'c', 'score': 115, 'reputation': 30}]) = [{'name': 'c', 'score': 115, 'reputation': 30}, {'name': 'b', 'score': 90, 'reputation': 40}, {'name': 'a', 'score': 100, 'reputation': 20}]\n"
     ]
    }
   ],
   "source": [
    "def leaderboards(inp):\n",
    "    temp_dict = {}\n",
    "    output = []\n",
    "    for item in inp:\n",
    "        temp_dict[(item['reputation'] * 2)+item['score']] = item\n",
    "    for item in sorted(temp_dict.keys(),reverse=True):\n",
    "        output.append(temp_dict[item])\n",
    "    print(f'leaderboards({inp}) = {output}')\n",
    "    \n",
    "leaderboards([\n",
    "  { \"name\": \"a\", \"score\": 100, \"reputation\": 20 },\n",
    "  { \"name\": \"b\", \"score\": 90, \"reputation\": 40 },\n",
    "  { \"name\": \"c\", \"score\": 115, \"reputation\": 30 },\n",
    "])"
   ]
  },
  {
   "cell_type": "markdown",
   "id": "6026ceba",
   "metadata": {},
   "source": [
    "# q"
   ]
  },
  {
   "cell_type": "markdown",
   "id": "de765296",
   "metadata": {},
   "source": [
    "3.Create a function that, given a phrase and a number of letters guessed,\n",
    "\n",
    "returns a string with hyphens - for every letter of the phrase not guessed, and\n",
    "\n",
    "each letter guessed in place.\n",
    "\n",
    "Examples\n",
    "\n",
    "hangman(&quot;helicopter&quot;, [&quot;o&quot;, &quot;e&quot;, &quot;s&quot;]) ➞ &quot;-e---o--e-\n",
    "&quot;\n",
    "\n",
    "hangman(&quot;tree&quot;, [&quot;r&quot;, &quot;t&quot;, &quot;e&quot;]) ➞ &quot;tree&quot;\n",
    "\n",
    "hangman(&quot;Python rules&quot;, [&quot;a&quot;, &quot;n&quot;, &quot;p&quot;, &quot;r&quot;, \n",
    "&quot;z&quot;]) ➞ &quot;P----n r----&quot;\n",
    "\n",
    "hangman(&quot;He&quot;s a very naughty boy!&quot;, [&quot;e&quot;, &quot;a&quot;, &quot;y&quot;]) ➞ \n",
    "&quot;-e&quot;- a -e-y -a----y –y!&quot;\n",
    "\n"
   ]
  },
  {
   "cell_type": "markdown",
   "id": "8a06ddaf",
   "metadata": {},
   "source": [
    "# ans"
   ]
  },
  {
   "cell_type": "code",
   "execution_count": 5,
   "id": "c9ce7dcf",
   "metadata": {},
   "outputs": [
    {
     "name": "stdout",
     "output_type": "stream",
     "text": [
      "hangman('helicopter', ['o', 'e', 's']) = -e---o--e-\n",
      "hangman('tree', ['r', 't', 'e']) = tree\n",
      "hangman('Python rules', ['a', 'n', 'p', 'r', 'z']) = P----n r----\n",
      "hangman('He\"s a very naughty boy!', ['e', 'a', 'y']) = -e\"- a -e-y -a----y --y!\n"
     ]
    }
   ],
   "source": [
    "def hangman(inp_string,inp_list):\n",
    "    res = ''\n",
    "    for item in range(len(inp_string)):\n",
    "        if inp_string[item].lower() in inp_list:\n",
    "            res += inp_string[item]\n",
    "        elif inp_string[item] in '\"! ':\n",
    "            res += inp_string[item]\n",
    "        else:\n",
    "            res += '-'\n",
    "    print(f'hangman{inp_string,inp_list} = {res}')\n",
    "        \n",
    "hangman(\"helicopter\", [\"o\", \"e\", \"s\"])\n",
    "hangman(\"tree\", [\"r\", \"t\", \"e\"])\n",
    "hangman(\"Python rules\", [\"a\", \"n\", \"p\", \"r\", \"z\"])\n",
    "hangman(\"He\\\"s a very naughty boy!\", [\"e\", \"a\", \"y\"])"
   ]
  },
  {
   "cell_type": "code",
   "execution_count": null,
   "id": "ba323310",
   "metadata": {},
   "outputs": [],
   "source": []
  },
  {
   "cell_type": "markdown",
   "id": "cc037bfb",
   "metadata": {},
   "source": [
    "# q"
   ]
  },
  {
   "cell_type": "markdown",
   "id": "9dd89d60",
   "metadata": {},
   "source": [
    "4.The Collatz sequence is as follows:\n",
    "\n",
    "- Start with some given integer n.\n",
    "\n",
    "- If it is even, the next number will be n divided by 2.\n",
    "\n",
    "- If it is odd, multiply it by 3 and add 1 to make the next number.\n",
    "\n",
    "- The sequence stops when it reaches 1.\n",
    "\n",
    "According to the Collatz conjecture, it will always reach 1. If that&#39;s true, you\n",
    "\n",
    "can construct a finite sequence following the aforementioned method for any\n",
    "\n",
    "given integer.\n",
    "\n",
    "Write a function that takes in an integer n and returns the highest integer in\n",
    "\n",
    "the corresponding Collatz sequence.\n",
    "\n",
    "Examples\n",
    "\n",
    "max_collatz(10) ➞ 16\n",
    "\n",
    " Collatz sequence: 10, 5, 16, 8, 4, 2, 1\n",
    "\n",
    "max_collatz(32) ➞ 32\n",
    "\n",
    " Collatz sequence: 32, 16, 8, 4, 2, 1\n",
    "\n",
    "max_collatz(85) ➞ 256\n",
    "\n",
    " Collatz sequence: 85, 256, 128, 64, 32, 16, 8, 4, 2, 1"
   ]
  },
  {
   "cell_type": "markdown",
   "id": "9ee5547b",
   "metadata": {},
   "source": [
    "# ans"
   ]
  },
  {
   "cell_type": "code",
   "execution_count": 7,
   "id": "39be6478",
   "metadata": {},
   "outputs": [
    {
     "name": "stdout",
     "output_type": "stream",
     "text": [
      "max_collatz(10) = 16\n",
      "max_collatz(32) = 32\n",
      "max_collatz(85) = 256\n"
     ]
    }
   ],
   "source": [
    "def max_collatz(inp):\n",
    "    result = []\n",
    "    result.append(inp)\n",
    "    temp = inp\n",
    "    while True:\n",
    "        if temp % 2 == 0:\n",
    "            temp /= 2\n",
    "        else:\n",
    "            temp = (temp*3)+1\n",
    "        result.append(int(temp))\n",
    "        if temp ==1:\n",
    "            break\n",
    "            \n",
    "    x= str(result)\n",
    "    print(f'max_collatz({inp}) = {max(result)}')\n",
    "\n",
    "max_collatz(10)\n",
    "max_collatz(32)\n",
    "max_collatz(85)"
   ]
  },
  {
   "cell_type": "markdown",
   "id": "c4931c0f",
   "metadata": {},
   "source": [
    "# q"
   ]
  },
  {
   "cell_type": "markdown",
   "id": "9cb89006",
   "metadata": {},
   "source": [
    "5.Write a function that sorts a list of integers by their digit length in\n",
    "\n",
    "descending order, then settles ties by sorting numbers with the same digit\n",
    "\n",
    "length in ascending order.\n",
    "\n",
    "Examples\n",
    "\n",
    "digit_sort([77, 23, 5, 7, 101])\n",
    "\n",
    "➞ [101, 23, 77, 5, 7]\n",
    "\n",
    "digit_sort([1, 5, 9, 2, 789, 563, 444])\n",
    "\n",
    "➞ [444, 563, 789, 1, 2, 5, 9]\n",
    "\n",
    "digit_sort([53219, 3772, 564, 32, 1])\n",
    "\n",
    "➞ [53219, 3772, 564, 32, 1]"
   ]
  },
  {
   "cell_type": "markdown",
   "id": "657daea3",
   "metadata": {},
   "source": [
    "# ans"
   ]
  },
  {
   "cell_type": "code",
   "execution_count": 8,
   "id": "9c3a7bae",
   "metadata": {},
   "outputs": [
    {
     "name": "stdout",
     "output_type": "stream",
     "text": [
      "digit_sort([77, 23, 5, 7, 101]) = [101, 23, 77, 5, 7]\n",
      "digit_sort([1, 5, 9, 2, 789, 563, 444]) = [444, 563, 789, 1, 2, 5, 9]\n",
      "digit_sort([53219, 3772, 564, 32, 1]) = [53219, 3772, 564, 32, 1]\n"
     ]
    }
   ],
   "source": [
    "def digit_sort(inp):\n",
    "    max_len = len(str(max(inp)))\n",
    "    result = []\n",
    "    for item in range(max_len,0,-1):\n",
    "        temp = []\n",
    "        for i in inp:\n",
    "            if len(str(i)) == item:\n",
    "                temp.append(i)\n",
    "        result.extend(sorted(temp))\n",
    "    print(f'digit_sort({inp}) = {result}')\n",
    "    \n",
    "digit_sort([77, 23, 5, 7, 101])\n",
    "digit_sort([1, 5, 9, 2, 789, 563, 444])\n",
    "digit_sort([53219, 3772, 564, 32, 1])"
   ]
  },
  {
   "cell_type": "code",
   "execution_count": null,
   "id": "d8c4d36c",
   "metadata": {},
   "outputs": [],
   "source": []
  }
 ],
 "metadata": {
  "kernelspec": {
   "display_name": "Python 3 (ipykernel)",
   "language": "python",
   "name": "python3"
  },
  "language_info": {
   "codemirror_mode": {
    "name": "ipython",
    "version": 3
   },
   "file_extension": ".py",
   "mimetype": "text/x-python",
   "name": "python",
   "nbconvert_exporter": "python",
   "pygments_lexer": "ipython3",
   "version": "3.9.7"
  }
 },
 "nbformat": 4,
 "nbformat_minor": 5
}
