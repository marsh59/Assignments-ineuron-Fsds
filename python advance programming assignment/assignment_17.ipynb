{
 "cells": [
  {
   "cell_type": "code",
   "execution_count": null,
   "id": "6f2c57a1",
   "metadata": {},
   "outputs": [],
   "source": []
  },
  {
   "cell_type": "markdown",
   "id": "d416e2ac",
   "metadata": {},
   "source": [
    "# q"
   ]
  },
  {
   "cell_type": "markdown",
   "id": "53fe854b",
   "metadata": {},
   "source": [
    "1.Create a function that transposes a 2D matrix.\n",
    "\n",
    "Examples\n",
    "\n",
    "transpose_matrix([\n",
    "\n",
    "[1, 1, 1],\n",
    "\n",
    "[2, 2, 2],\n",
    "\n",
    "[3, 3, 3]\n",
    "\n",
    "]) ➞ [\n",
    "\n",
    "[1, 2, 3],\n",
    "\n",
    "[1, 2, 3],\n",
    "\n",
    "[1, 2, 3]\n",
    "\n",
    "]\n",
    "\n",
    "transpose_matrix([\n",
    "\n",
    "[5, 5],\n",
    "\n",
    "[6, 7],\n",
    "\n",
    "[9, 1]\n",
    "\n",
    "]) ➞ [\n",
    "\n",
    "[5, 6, 9],\n",
    "\n",
    "[5, 7, 1]\n",
    "\n",
    "]"
   ]
  },
  {
   "cell_type": "markdown",
   "id": "d0bf3b63",
   "metadata": {},
   "source": [
    "# ans"
   ]
  },
  {
   "cell_type": "code",
   "execution_count": 2,
   "id": "475ac32d",
   "metadata": {},
   "outputs": [
    {
     "name": "stdout",
     "output_type": "stream",
     "text": [
      "transpose_matrix([[1, 1, 1], [2, 2, 2], [3, 3, 3]]) = [[1, 2, 3], [1, 2, 3], [1, 2, 3]]\n",
      "transpose_matrix([[5, 5], [6, 7], [9, 1]]) = [[5, 6, 9], [5, 7, 1]]\n"
     ]
    }
   ],
   "source": [
    "def transpose_matrix(inp):\n",
    "    res = []\n",
    "    for itm_1 in range(len(inp[0])):\n",
    "        a_list = []\n",
    "        for itm_2 in inp:\n",
    "            a_list.append(itm_2[itm_1])\n",
    "        res.append(a_list)\n",
    "    print(f'transpose_matrix({inp}) = {res}')\n",
    "\n",
    "transpose_matrix([[1, 1, 1],[2, 2, 2],[3, 3, 3]])\n",
    "transpose_matrix([[5, 5],[6, 7],[9, 1]])"
   ]
  },
  {
   "cell_type": "markdown",
   "id": "e12331b5",
   "metadata": {},
   "source": [
    "# q"
   ]
  },
  {
   "cell_type": "markdown",
   "id": "96e9acb4",
   "metadata": {},
   "source": [
    "2.Create a function that determines whether a string is a valid hex code.\n",
    "\n",
    "A hex code must begin with a pound key # and is exactly 6 characters in\n",
    "\n",
    "length. Each character must be a digit from 0-9 or an alphabetic character\n",
    "\n",
    "from A-F. All alphabetic characters may be uppercase or lowercase.\n",
    "\n",
    "Examples\n",
    "\n",
    "is_valid_hex_code(&quot;#CD5C5C&quot;) ➞ True\n",
    "\n",
    "is_valid_hex_code(&quot;#EAECEE&quot;) ➞ True\n",
    "\n",
    "is_valid_hex_code(&quot;#eaecee&quot;) ➞ True\n",
    "\n",
    "is_valid_hex_code(&quot;#CD5C58C&quot;) ➞ False\n",
    "\n",
    " Length exceeds 6\n",
    "\n",
    "is_valid_hex_code(&quot;#CD5C5Z&quot;) ➞ False\n",
    "\n",
    " Not all alphabetic characters in A-F\n",
    "\n",
    "is_valid_hex_code(&quot;#CD5C&amp;C&quot;) ➞ False\n",
    "\n",
    " Contains unacceptable character\n",
    " \n",
    " is_valid_hex_code(&quot;CD5C5C&quot;) ➞ False\n",
    " \n",
    " Missing #"
   ]
  },
  {
   "cell_type": "markdown",
   "id": "4bfc26f2",
   "metadata": {},
   "source": [
    "# ans"
   ]
  },
  {
   "cell_type": "code",
   "execution_count": 3,
   "id": "544cca53",
   "metadata": {},
   "outputs": [
    {
     "name": "stdout",
     "output_type": "stream",
     "text": [
      "is_valid_hex_code(#CD5C5C) = True\n",
      "is_valid_hex_code(#EAECEE) = True\n",
      "is_valid_hex_code(#eaecee) = True\n",
      "is_valid_hex_code(#CD5C58C) = False\n",
      "is_valid_hex_code(#CD5C5Z) = False\n",
      "is_valid_hex_code(#CD5C&C) = False\n",
      "is_valid_hex_code(CD5C5C) = False\n"
     ]
    }
   ],
   "source": [
    "def is_valid_hex_code(inp):\n",
    "    res = True\n",
    "    for itm in inp:\n",
    "        if itm.lower() not in '#abcdef0123456789' or len(inp) != 7:\n",
    "            res = False\n",
    "    print(f'is_valid_hex_code({inp}) = {res}')\n",
    "\n",
    "is_valid_hex_code(\"#CD5C5C\")\n",
    "is_valid_hex_code(\"#EAECEE\")\n",
    "is_valid_hex_code(\"#eaecee\")\n",
    "is_valid_hex_code(\"#CD5C58C\")\n",
    "is_valid_hex_code(\"#CD5C5Z\")\n",
    "is_valid_hex_code(\"#CD5C&C\")\n",
    "is_valid_hex_code(\"CD5C5C\")"
   ]
  },
  {
   "cell_type": "markdown",
   "id": "6026ceba",
   "metadata": {},
   "source": [
    "# q"
   ]
  },
  {
   "cell_type": "markdown",
   "id": "de765296",
   "metadata": {},
   "source": [
    "3.Given a list of math equations (given as strings), return the percentage of\n",
    "\n",
    "correct answers as a string. Round to the nearest whole number.\n",
    "\n",
    "Examples\n",
    "\n",
    "mark_maths([&quot;2+2=4&quot;, &quot;3+2=5&quot;, &quot;10-3=3&quot;, &quot;5+5=10&quot;]) ➞ \n",
    "&quot;75%&quot;\n",
    "\n",
    "mark_maths([&quot;1-2=-2&quot;]), &quot;0%&quot;\n",
    "\n",
    "mark_maths([&quot;2+3=5&quot;, &quot;4+4=9&quot;, &quot;3-1=2&quot;]) ➞ &quot;67%&quot;\n"
   ]
  },
  {
   "cell_type": "markdown",
   "id": "8a06ddaf",
   "metadata": {},
   "source": [
    "# ans"
   ]
  },
  {
   "cell_type": "code",
   "execution_count": 4,
   "id": "42613c59",
   "metadata": {},
   "outputs": [],
   "source": [
    "import math"
   ]
  },
  {
   "cell_type": "code",
   "execution_count": 7,
   "id": "c9ce7dcf",
   "metadata": {},
   "outputs": [
    {
     "name": "stdout",
     "output_type": "stream",
     "text": [
      "mark_maths(['2+2=4', '3+2=5', '10-3=3', '5+5=10']) = 75%\n",
      "mark_maths(['1-2=-2']) = 0%\n",
      "mark_maths(['2+3=5', '4+4=9', '3-1=2']) = 67%\n"
     ]
    }
   ],
   "source": [
    "def mark_maths(inp):\n",
    "    res = []\n",
    "    for itm in inp:\n",
    "        itm = itm.split(\"=\")\n",
    "        res.append(eval(itm[0]) == int(itm[1])) \n",
    "    print(f'mark_maths({inp}) = {str(math.ceil((sum(res)/len(res))*100))}%')\n",
    "        \n",
    "mark_maths([\"2+2=4\", \"3+2=5\", \"10-3=3\", \"5+5=10\"])\n",
    "mark_maths([\"1-2=-2\"])\n",
    "mark_maths([\"2+3=5\", \"4+4=9\", \"3-1=2\"])"
   ]
  },
  {
   "cell_type": "code",
   "execution_count": null,
   "id": "ba323310",
   "metadata": {},
   "outputs": [],
   "source": []
  },
  {
   "cell_type": "markdown",
   "id": "cc037bfb",
   "metadata": {},
   "source": [
    "# q"
   ]
  },
  {
   "cell_type": "markdown",
   "id": "9dd89d60",
   "metadata": {},
   "source": [
    "4.There are two players, Alice and Bob, each with a 3-by-3 grid. A referee\n",
    "\n",
    "tells Alice to fill out one particular row in the grid (say the second row) by\n",
    "\n",
    "putting either a 1 or a 0 in each box, such that the sum of the numbers in that\n",
    "\n",
    "row is odd. The referee tells Bob to fill out one column in the grid (say the first\n",
    "\n",
    "column) by putting either a 1 or a 0 in each box, such that the sum of the\n",
    "\n",
    "numbers in that column is even.\n",
    "\n",
    "Alice and Bob win the game if Alice’s numbers give an odd sum, Bob’s give\n",
    "\n",
    "an even sum, and (most important) they’ve each written down the same\n",
    "\n",
    "number in the one square where their row and column intersect.\n",
    "\n",
    "Examples\n",
    "\n",
    "magic_square_game([2, &quot;100&quot;], [1, &quot;101&quot;]) ➞ False\n",
    "\n",
    "magic_square_game([2, &quot;001&quot;], [1, &quot;101&quot;]) ➞ True\n",
    "\n",
    "magic_square_game([3, &quot;111&quot;], [2, &quot;011&quot;]) ➞ True\n",
    "\n",
    "magic_square_game([1, &quot;010&quot;], [3, &quot;101&quot;]) ➞ False\n",
    "\n",
    " Two lists, Alice [row, &quot;her choice&quot;], Bob [column, &quot;his choice&quot;]"
   ]
  },
  {
   "cell_type": "markdown",
   "id": "9ee5547b",
   "metadata": {},
   "source": [
    "# ans"
   ]
  },
  {
   "cell_type": "code",
   "execution_count": 8,
   "id": "39be6478",
   "metadata": {},
   "outputs": [
    {
     "name": "stdout",
     "output_type": "stream",
     "text": [
      "magic_square_game([2, '100'], [1, '101']) = False\n",
      "magic_square_game([2, '001'], [1, '101']) = True\n",
      "magic_square_game([3, '111'], [2, '011']) = True\n",
      "magic_square_game([1, '010'], [3, '101']) = False\n"
     ]
    }
   ],
   "source": [
    "def magic_square_game(inp_1,inp_2):\n",
    "    res = False\n",
    "    if inp_2[1][inp_1[0]-1] == inp_1[1][inp_2[0]-1]:\n",
    "        res = True\n",
    "    print(f'magic_square_game{inp_1,inp_2} = {res}')\n",
    "    \n",
    "magic_square_game([2, \"100\"], [1, \"101\"])\n",
    "magic_square_game([2, \"001\"], [1, \"101\"]) \n",
    "magic_square_game([3, \"111\"], [2, \"011\"]) \n",
    "magic_square_game([1, \"010\"], [3, \"101\"])"
   ]
  },
  {
   "cell_type": "markdown",
   "id": "c4931c0f",
   "metadata": {},
   "source": [
    "# q"
   ]
  },
  {
   "cell_type": "markdown",
   "id": "9cb89006",
   "metadata": {},
   "source": [
    "5.From point A, an object is moving towards point B at constant velocity va\n",
    "\n",
    "(in km/hr). From point B, another object is moving towards point A at constant\n",
    "\n",
    "velocity vb (in km/hr). Knowing this and the distance between point A and B\n",
    "\n",
    "(in km), write a function that returns how much time passes until both objects\n",
    "\n",
    "meet.\n",
    "\n",
    "Format the output like this:\n",
    "\n",
    "&quot;2h 23min 34s&quot;\n",
    "\n",
    "Examples\n",
    "\n",
    "lets_meet(100, 10, 30) ➞ &quot;2h 30min 0s&quot;\n",
    "\n",
    "lets_meet(280, 70, 80) ➞ &quot;1h 52min 0s&quot;\n",
    "\n",
    "lets_meet(90, 75, 65) ➞ &quot;0h 38min 34s&quot;"
   ]
  },
  {
   "cell_type": "markdown",
   "id": "657daea3",
   "metadata": {},
   "source": [
    "# ans"
   ]
  },
  {
   "cell_type": "code",
   "execution_count": 9,
   "id": "43533d6f",
   "metadata": {},
   "outputs": [],
   "source": [
    "import math"
   ]
  },
  {
   "cell_type": "code",
   "execution_count": 10,
   "id": "9c3a7bae",
   "metadata": {},
   "outputs": [
    {
     "name": "stdout",
     "output_type": "stream",
     "text": [
      "lets_meet(100, 10, 30) = 2 h 30 min 0 s\n",
      "lets_meet(280, 70, 80) = 1 h 52 min 0 s\n",
      "lets_meet(90, 75, 65) = 0 h 38 min 34 s\n"
     ]
    }
   ],
   "source": [
    "def lets_meet(inp_dist,inp_va,inp_vb):\n",
    "    total_time = inp_dist/(inp_va+inp_vb)\n",
    "    Hours = math.floor(total_time) \n",
    "    Minutes = math.floor((total_time-Hours)*60)\n",
    "    Seconds = math.floor(((((total_time)-Hours)*60)-Minutes)*60)\n",
    "    print(f'lets_meet{inp_dist,inp_va,inp_vb} = {Hours} h {Minutes} min {Seconds} s')\n",
    "    \n",
    "lets_meet(100, 10, 30)\n",
    "lets_meet(280, 70, 80)\n",
    "lets_meet(90, 75, 65)"
   ]
  },
  {
   "cell_type": "code",
   "execution_count": null,
   "id": "82d6e11f",
   "metadata": {},
   "outputs": [],
   "source": []
  }
 ],
 "metadata": {
  "kernelspec": {
   "display_name": "Python 3 (ipykernel)",
   "language": "python",
   "name": "python3"
  },
  "language_info": {
   "codemirror_mode": {
    "name": "ipython",
    "version": 3
   },
   "file_extension": ".py",
   "mimetype": "text/x-python",
   "name": "python",
   "nbconvert_exporter": "python",
   "pygments_lexer": "ipython3",
   "version": "3.9.7"
  }
 },
 "nbformat": 4,
 "nbformat_minor": 5
}
