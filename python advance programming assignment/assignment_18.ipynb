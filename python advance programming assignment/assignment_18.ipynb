{
 "cells": [
  {
   "cell_type": "code",
   "execution_count": null,
   "id": "6f2c57a1",
   "metadata": {},
   "outputs": [],
   "source": []
  },
  {
   "cell_type": "markdown",
   "id": "d416e2ac",
   "metadata": {},
   "source": [
    "# q"
   ]
  },
  {
   "cell_type": "markdown",
   "id": "53fe854b",
   "metadata": {},
   "source": [
    "1.A robot has been given a list of movement instructions. Each instruction is\n",
    "\n",
    "either left, right, up or down, followed by a distance to move. The robot starts\n",
    "\n",
    "at [0, 0]. You want to calculate where the robot will end up and return its final\n",
    "\n",
    "position as a list.\n",
    "\n",
    "To illustrate, if the robot is given the following instructions:\n",
    "\n",
    "[&quot;right 10&quot;, &quot;up 50&quot;, &quot;left 30&quot;, &quot;down 10&quot;]\n",
    "\n",
    "It will end up 20 left and 40 up from where it started, so we return [-20, 40].\n",
    "\n",
    "Examples\n",
    "\n",
    "track_robot([&quot;right 10&quot;, &quot;up 50&quot;, &quot;left 30&quot;, &quot;down 10&quot;]) ➞ \n",
    "[-20, 40]\n",
    "\n",
    "track_robot([]) ➞ [0, 0]\n",
    "\n",
    "// If there are no instructions, the robot doesn&#39;t move.\n",
    "\n",
    "track_robot([&quot;right 100&quot;, &quot;right 100&quot;, &quot;up 500&quot;, &quot;up 10000&quot;]) \n",
    "➞ [200, 10500]"
   ]
  },
  {
   "cell_type": "markdown",
   "id": "d0bf3b63",
   "metadata": {},
   "source": [
    "# ans"
   ]
  },
  {
   "cell_type": "code",
   "execution_count": 2,
   "id": "475ac32d",
   "metadata": {},
   "outputs": [
    {
     "name": "stdout",
     "output_type": "stream",
     "text": [
      "track_robot(['right 10', 'up 50', 'left 30', 'down 10']) = [-20, 40]\n",
      "track_robot([]) = [0, 0]\n",
      "track_robot(['right 100', 'right 100', 'up 500', 'up 10000']) = [200, 10500]\n"
     ]
    }
   ],
   "source": [
    "def track_robot(inp):\n",
    "    result = [0,0]\n",
    "    for itm in inp:\n",
    "        itm = itm.split(\" \")\n",
    "        if itm[0] in ['right','left']:\n",
    "            result[0] = result[0]-int(itm[1]) if itm[0] == 'left' else result[0]+int(itm[1])\n",
    "        else:\n",
    "            result[1] = result[1]-int(itm[1]) if itm[0] == 'down' else result[1]+int(itm[1])\n",
    "    print(f'track_robot({inp}) = {result}')\n",
    "        \n",
    "track_robot([\"right 10\", \"up 50\", \"left 30\", \"down 10\"])\n",
    "track_robot([])\n",
    "track_robot([\"right 100\", \"right 100\", \"up 500\", \"up 10000\"])"
   ]
  },
  {
   "cell_type": "markdown",
   "id": "e12331b5",
   "metadata": {},
   "source": [
    "# q"
   ]
  },
  {
   "cell_type": "markdown",
   "id": "96e9acb4",
   "metadata": {},
   "source": [
    "2.Write a function that will return the longest word in a sentence. In cases\n",
    "\n",
    "where more than one word is found, return the first one.\n",
    "\n",
    "Examples\n",
    "\n",
    "find_longest(&quot;A thing of beauty is a joy forever.&quot;) ➞ &quot;forever&quot;\n",
    "\n",
    "find_longest(&quot;Forgetfulness is by all means powerless!&quot;) ➞ &quot;forgetfulness&quot;\n",
    "\n",
    "find_longest(&quot;\\&quot;Strengths\\&quot; is the longest and most commonly used word that\n",
    "\n",
    "contains only a single vowel.&quot;) ➞ &quot;strengths&quot;"
   ]
  },
  {
   "cell_type": "markdown",
   "id": "4bfc26f2",
   "metadata": {},
   "source": [
    "# ans"
   ]
  },
  {
   "cell_type": "code",
   "execution_count": 3,
   "id": "544cca53",
   "metadata": {},
   "outputs": [
    {
     "name": "stdout",
     "output_type": "stream",
     "text": [
      "find_longest(A thing of beauty is a joy forever.) = forever.\n",
      "find_longest(Forgetfulness is by all means powerless!) = forgetfulness\n",
      "find_longest(\"Strengths\" is the longest and most commonly used word that contains only a single vowel.) = \"strengths\"\n"
     ]
    }
   ],
   "source": [
    "def find_longest(inp):\n",
    "    box = []\n",
    "    for itm in inp.split(' '):\n",
    "        box.append(len(itm))\n",
    "    print(f'find_longest({inp}) = {inp.split(\" \")[box.index(max(box))].lower()}')\n",
    "        \n",
    "find_longest(\"A thing of beauty is a joy forever.\")\n",
    "find_longest(\"Forgetfulness is by all means powerless!\")\n",
    "find_longest(\"\\\"Strengths\\\" is the longest and most commonly used word that contains only a single vowel.\")"
   ]
  },
  {
   "cell_type": "markdown",
   "id": "6026ceba",
   "metadata": {},
   "source": [
    "# q"
   ]
  },
  {
   "cell_type": "markdown",
   "id": "de765296",
   "metadata": {},
   "source": [
    "3.Create a function to check if a candidate is qualified in an imaginary coding\n",
    "\n",
    "interview of an imaginary tech startup.\n",
    "\n",
    "The criteria for a candidate to be qualified in the coding interview is:\n",
    "\n",
    "1. The candidate should have complete all the questions.\n",
    "\n",
    "2. The maximum time given to complete the interview is 120 minutes.\n",
    "\n",
    "3. The maximum time given for very easy questions is 5 minutes each.\n",
    "\n",
    "4. The maximum time given for easy questions is 10 minutes each.\n",
    "\n",
    "5. The maximum time given for medium questions is 15 minutes each.\n",
    "\n",
    "6. The maximum time given for hard questions is 20 minutes each.\n",
    "\n",
    "If all the above conditions are satisfied, return &quot;qualified&quot;, else return\n",
    "\n",
    "&quot;disqualified&quot;.\n",
    "\n",
    "You will be given a list of time taken by a candidate to solve a particular\n",
    "\n",
    "question and the total time taken by the candidate to complete the interview.\n",
    "\n",
    "Given a list , in a true condition will always be in the format [very easy, very\n",
    "\n",
    "easy, easy, easy, medium, medium, hard, hard].\n",
    "\n",
    "The maximum time to complete the interview includes a buffer time of 20\n",
    "\n",
    "minutes.\n",
    "\n",
    "Examples\n",
    "\n",
    "interview([5, 5, 10, 10, 15, 15, 20, 20], 120) ➞ &quot;qualified&quot;\n",
    "\n",
    "interview([2, 3, 8, 6, 5, 12, 10, 18], 64) ➞ &quot;qualified&quot;\n",
    "\n",
    "interview([5, 5, 10, 10, 25, 15, 20, 20], 120) ➞ &quot;disqualified&quot;\n",
    "\n",
    " Exceeded the time limit for a medium question.\n",
    "\n",
    "interview([5, 5, 10, 10, 15, 15, 20], 120) ➞ &quot;disqualified&quot;\n",
    "\n",
    " Did not complete all the questions.\n",
    "\n",
    "interview([5, 5, 10, 10, 15, 15, 20, 20], 130) ➞ &quot;disqualified&quot;\n",
    "\n",
    "Solved all the questions in their respected time limits but exceeded the total\n",
    "\n",
    "time limit of the interview."
   ]
  },
  {
   "cell_type": "markdown",
   "id": "8a06ddaf",
   "metadata": {},
   "source": [
    "# ans"
   ]
  },
  {
   "cell_type": "code",
   "execution_count": 4,
   "id": "c9ce7dcf",
   "metadata": {},
   "outputs": [
    {
     "name": "stdout",
     "output_type": "stream",
     "text": [
      "interview([5, 5, 10, 10, 15, 15, 20, 20], 120) = qualified\n",
      "interview([2, 3, 8, 6, 5, 12, 10, 18], 64) = qualified\n",
      "interview([5, 5, 10, 10, 25, 15, 20, 20], 120) = disqualified\n",
      "interview([5, 5, 10, 10, 15, 15, 20], 120) = disqualified\n",
      "interview([5, 5, 10, 10, 15, 15, 20, 20], 130) = disqualified\n"
     ]
    }
   ],
   "source": [
    "def interview(inp_list, inp_time):\n",
    "    result = 'qualified'\n",
    "    if inp_time > 120 or max(inp_list[0:2]) > 5 or max(inp_list[2:4]) > 10 or max(inp_list[4:6]) > 15 or max(inp_list[6:8]) > 20 or len(inp_list) != 8:\n",
    "            result = 'disqualified'\n",
    "    print(f'interview{inp_list,inp_time} = {result}')\n",
    "    \n",
    "interview([5, 5, 10, 10, 15, 15, 20, 20], 120)\n",
    "interview([2, 3, 8, 6, 5, 12, 10, 18], 64)\n",
    "interview([5, 5, 10, 10, 25, 15, 20, 20], 120)\n",
    "interview([5, 5, 10, 10, 15, 15, 20], 120)\n",
    "interview([5, 5, 10, 10, 15, 15, 20, 20], 130)"
   ]
  },
  {
   "cell_type": "code",
   "execution_count": null,
   "id": "ba323310",
   "metadata": {},
   "outputs": [],
   "source": []
  },
  {
   "cell_type": "markdown",
   "id": "cc037bfb",
   "metadata": {},
   "source": [
    "# q"
   ]
  },
  {
   "cell_type": "markdown",
   "id": "9dd89d60",
   "metadata": {},
   "source": [
    "4.Write a function that divides a list into chunks of size n, where n is the\n",
    "\n",
    "length of each chunk.\n",
    "\n",
    "Examples\n",
    "\n",
    "chunkify([2, 3, 4, 5], 2) ➞ [[2, 3], [4, 5]]\n",
    "\n",
    "chunkify([2, 3, 4, 5, 6], 2) ➞ [[2, 3], [4, 5], [6]]\n",
    "\n",
    "chunkify([2, 3, 4, 5, 6, 7], 3) ➞ [[2, 3, 4], [5, 6, 7]]\n",
    "\n",
    "chunkify([2, 3, 4, 5, 6, 7], 1) ➞ [[2], [3], [4], [5], [6], [7]]\n",
    "\n",
    "chunkify([2, 3, 4, 5, 6, 7], 7) ➞ [[2, 3, 4, 5, 6, 7]]"
   ]
  },
  {
   "cell_type": "markdown",
   "id": "9ee5547b",
   "metadata": {},
   "source": [
    "# ans"
   ]
  },
  {
   "cell_type": "code",
   "execution_count": 5,
   "id": "39be6478",
   "metadata": {},
   "outputs": [
    {
     "name": "stdout",
     "output_type": "stream",
     "text": [
      "chunkify([2, 3, 4, 5], 2) = [[2, 3], [4, 5]]\n",
      "chunkify([2, 3, 4, 5, 6], 2) = [[2, 3], [4, 5], [6]]\n",
      "chunkify([2, 3, 4, 5, 6, 7], 3) = [[2, 3, 4], [5, 6, 7]]\n",
      "chunkify([2, 3, 4, 5, 6, 7], 1) = [[2], [3], [4], [5], [6], [7]]\n",
      "chunkify([2, 3, 4, 5, 6, 7], 7) = [[2, 3, 4, 5, 6, 7]]\n"
     ]
    }
   ],
   "source": [
    "def chunkify(inp_list,chunk_size):\n",
    "    result = []\n",
    "    for i in range(0,len(inp_list),chunk_size):\n",
    "        result.append(inp_list[i:i+chunk_size])\n",
    "    print(f'chunkify{inp_list, chunk_size} = {result}')\n",
    "    \n",
    "chunkify([2, 3, 4, 5], 2)   \n",
    "chunkify([2, 3, 4, 5, 6], 2)\n",
    "chunkify([2, 3, 4, 5, 6, 7], 3)\n",
    "chunkify([2, 3, 4, 5, 6, 7], 1)\n",
    "chunkify([2, 3, 4, 5, 6, 7], 7)"
   ]
  },
  {
   "cell_type": "markdown",
   "id": "c4931c0f",
   "metadata": {},
   "source": [
    "# q"
   ]
  },
  {
   "cell_type": "markdown",
   "id": "9cb89006",
   "metadata": {},
   "source": [
    "5.You are given a list of strings consisting of grocery items, with prices in\n",
    "\n",
    "parentheses. Return a list of prices in float format.\n",
    "\n",
    "Examples\n",
    "\n",
    "get_prices([&quot;salad ($4.99)&quot;]) ➞ [4.99]\n",
    "\n",
    "get_prices([\n",
    "\n",
    "&quot;artichokes ($1.99)&quot;,\n",
    "\n",
    "&quot;rotiserrie chicken ($5.99)&quot;,\n",
    "\n",
    "&quot;gum ($0.75)&quot;\n",
    "\n",
    "])\n",
    "\n",
    "➞ [1.99, 5.99, 0.75]\n",
    "\n",
    "get_prices([\n",
    "\n",
    "&quot;ice cream ($5.99)&quot;,\n",
    "\n",
    "&quot;banana ($0.20)&quot;,\n",
    "\n",
    "&quot;sandwich ($8.50)&quot;,\n",
    "\n",
    "&quot;soup ($1.99)&quot;\n",
    "\n",
    "])\n",
    "\n",
    "➞ [5.99, 0.2, 8.50, 1.99]"
   ]
  },
  {
   "cell_type": "markdown",
   "id": "657daea3",
   "metadata": {},
   "source": [
    "# ans"
   ]
  },
  {
   "cell_type": "code",
   "execution_count": 6,
   "id": "9c3a7bae",
   "metadata": {},
   "outputs": [
    {
     "name": "stdout",
     "output_type": "stream",
     "text": [
      "get_prices(['salad ($4.99)']) = [4.99]\n",
      "get_prices(['artichokes ($1.99)', 'rotiserrie chicken ($5.99)', 'gum ($0.75)']) = [1.99, 5.99, 0.75]\n",
      "get_prices(['ice cream ($5.99)', 'banana ($0.20)', 'sandwich ($8.50)', 'soup ($1.99)']) = [5.99, 0.2, 8.5, 1.99]\n"
     ]
    }
   ],
   "source": [
    "def get_prices(inp):\n",
    "    result = []\n",
    "    for itm in inp:\n",
    "        result.append(float((itm.split('$')[-1]).split(')')[0]))\n",
    "    print(f'get_prices({inp}) = {result}')\n",
    "        \n",
    "get_prices([\"salad ($4.99)\"])\n",
    "get_prices([\"artichokes ($1.99)\",\"rotiserrie chicken ($5.99)\",\"gum ($0.75)\"])\n",
    "get_prices([\"ice cream ($5.99)\",\"banana ($0.20)\",\"sandwich ($8.50)\",\"soup ($1.99)\"])"
   ]
  },
  {
   "cell_type": "code",
   "execution_count": null,
   "id": "e243ffbb",
   "metadata": {},
   "outputs": [],
   "source": []
  }
 ],
 "metadata": {
  "kernelspec": {
   "display_name": "Python 3 (ipykernel)",
   "language": "python",
   "name": "python3"
  },
  "language_info": {
   "codemirror_mode": {
    "name": "ipython",
    "version": 3
   },
   "file_extension": ".py",
   "mimetype": "text/x-python",
   "name": "python",
   "nbconvert_exporter": "python",
   "pygments_lexer": "ipython3",
   "version": "3.9.7"
  }
 },
 "nbformat": 4,
 "nbformat_minor": 5
}
