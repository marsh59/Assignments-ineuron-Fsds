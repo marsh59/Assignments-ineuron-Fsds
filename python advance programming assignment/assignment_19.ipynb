{
 "cells": [
  {
   "cell_type": "code",
   "execution_count": null,
   "id": "6f2c57a1",
   "metadata": {},
   "outputs": [],
   "source": []
  },
  {
   "cell_type": "markdown",
   "id": "d416e2ac",
   "metadata": {},
   "source": [
    "# q"
   ]
  },
  {
   "cell_type": "markdown",
   "id": "53fe854b",
   "metadata": {},
   "source": [
    "1.Create a checker board generator, which takes as inputs n and 2 elements\n",
    "\n",
    "to generate an n x n checkerboard with those two elements as alternating\n",
    "\n",
    "squares.\n",
    "\n",
    "Examples\n",
    "\n",
    "checker_board(2, 7, 6) ➞ [\n",
    "\n",
    "[7, 6],\n",
    "\n",
    "[6, 7]\n",
    "\n",
    "]\n",
    "\n",
    "checker_board(3, &quot;A&quot;, &quot;B&quot;) ➞ [\n",
    "\n",
    "[&quot;A&quot;, &quot;B&quot;, &quot;A&quot;],\n",
    "\n",
    "[&quot;B&quot;, &quot;A&quot;, &quot;B&quot;],\n",
    "\n",
    "[&quot;A&quot;, &quot;B&quot;, &quot;A&quot;]\n",
    "\n",
    "]\n",
    "\n",
    "checker_board(4, &quot;c&quot;, &quot;d&quot;) ➞ [\n",
    "\n",
    "[&quot;c&quot;, &quot;d&quot;, &quot;c&quot;, &quot;d&quot;],\n",
    "\n",
    "[&quot;d&quot;, &quot;c&quot;, &quot;d&quot;, &quot;c&quot;],\n",
    "\n",
    "[&quot;c&quot;, &quot;d&quot;, &quot;c&quot;, &quot;d&quot;],\n",
    "\n",
    "[&quot;d&quot;, &quot;c&quot;, &quot;d&quot;, &quot;c&quot;]\n",
    "\n",
    "]\n",
    "\n",
    "checker_board(4, &quot;c&quot;, &quot;c&quot;) ➞ &quot;invalid&quot;"
   ]
  },
  {
   "cell_type": "markdown",
   "id": "d0bf3b63",
   "metadata": {},
   "source": [
    "# ans"
   ]
  },
  {
   "cell_type": "code",
   "execution_count": 2,
   "id": "475ac32d",
   "metadata": {},
   "outputs": [
    {
     "name": "stdout",
     "output_type": "stream",
     "text": [
      "checker_board(2, 7, 6) = [[7, 6], [6, 7]]\n",
      "checker_board(3, 'A', 'B') = [['A', 'B', 'A'], ['B', 'A', 'B'], ['A', 'B', 'A']]\n",
      "checker_board(4, 'c', 'd') = [['c', 'd', 'c', 'd'], ['d', 'c', 'd', 'c'], ['c', 'd', 'c', 'd'], ['d', 'c', 'd', 'c']]\n",
      "checker_board(4, 'c', 'c') = invalid\n"
     ]
    }
   ],
   "source": [
    "def checker_board(grid_size,a,b):\n",
    "    if a != b:\n",
    "        input = [a,b]\n",
    "        result = []\n",
    "        for itm in range(grid_size):\n",
    "            result.append([])\n",
    "            for i in range(grid_size):\n",
    "                result[itm].append(input[(itm+i)%2])\n",
    "    else:\n",
    "        result = 'invalid'\n",
    "    print(f'checker_board{grid_size,a,b} = {result}')\n",
    "    \n",
    "checker_board(2, 7, 6)\n",
    "checker_board(3, \"A\", \"B\")\n",
    "checker_board(4, \"c\", \"d\")\n",
    "checker_board(4, \"c\", \"c\") "
   ]
  },
  {
   "cell_type": "markdown",
   "id": "e12331b5",
   "metadata": {},
   "source": [
    "# q"
   ]
  },
  {
   "cell_type": "markdown",
   "id": "96e9acb4",
   "metadata": {},
   "source": [
    "2.A string is an almost-palindrome if, by changing only one character, you\n",
    "\n",
    "can make it a palindrome. Create a function that returns True if a string is an\n",
    "\n",
    "almost-palindrome and False otherwise.\n",
    "\n",
    "Examples\n",
    "\n",
    "almost_palindrome(&quot;abcdcbg&quot;) ➞ True\n",
    "\n",
    " Transformed to &quot;abcdcba&quot; by changing &quot;g&quot; to &quot;a&quot;.\n",
    " \n",
    "almost_palindrome(&quot;abccia&quot;) ➞ True\n",
    "\n",
    " Transformed to &quot;abccba&quot; by changing &quot;i&quot; to &quot;b&quot;.\n",
    " \n",
    "almost_palindrome(&quot;abcdaaa&quot;) ➞ False\n",
    "\n",
    " Can&#39;t be transformed to a palindrome in exactly 1 turn.\n",
    " \n",
    "almost_palindrome(&quot;1234312&quot;) ➞ False"
   ]
  },
  {
   "cell_type": "markdown",
   "id": "4bfc26f2",
   "metadata": {},
   "source": [
    "# ans"
   ]
  },
  {
   "cell_type": "code",
   "execution_count": 3,
   "id": "544cca53",
   "metadata": {},
   "outputs": [
    {
     "name": "stdout",
     "output_type": "stream",
     "text": [
      "almost_palindrome(abcdcbg) = True\n",
      "almost_palindrome(abccia) = True\n",
      "almost_palindrome(abcdaaa) = False\n",
      "almost_palindrome(1234312) = False\n"
     ]
    }
   ],
   "source": [
    "def almost_palindrome(inp):\n",
    "    a = inp[::-1]\n",
    "    count = 0\n",
    "    for itm in range(len(inp)):\n",
    "        if inp[itm] != a[itm]:\n",
    "            count +=1\n",
    "    result = True if count == 2 else False\n",
    "    print(f'almost_palindrome({inp}) = {result}')\n",
    "    \n",
    "almost_palindrome(\"abcdcbg\")\n",
    "almost_palindrome(\"abccia\")\n",
    "almost_palindrome(\"abcdaaa\")\n",
    "almost_palindrome(\"1234312\")"
   ]
  },
  {
   "cell_type": "markdown",
   "id": "6026ceba",
   "metadata": {},
   "source": [
    "# q"
   ]
  },
  {
   "cell_type": "markdown",
   "id": "de765296",
   "metadata": {},
   "source": [
    "3.Create a function that finds how many prime numbers there are, up to the\n",
    "given integer.\n",
    "\n",
    "Examples\n",
    "\n",
    "prime_numbers(10) ➞ 4\n",
    "\n",
    " 2, 3, 5 and 7\n",
    "\n",
    "prime_numbers(20) ➞ 8\n",
    "\n",
    " 2, 3, 5, 7, 11, 13, 17 and 19\n",
    "\n",
    "prime_numbers(30) ➞ 10\n",
    "\n",
    " 2, 3, 5, 7, 11, 13, 17, 19, 23 and 29"
   ]
  },
  {
   "cell_type": "markdown",
   "id": "8a06ddaf",
   "metadata": {},
   "source": [
    "# ans"
   ]
  },
  {
   "cell_type": "code",
   "execution_count": null,
   "id": "c9ce7dcf",
   "metadata": {},
   "outputs": [],
   "source": []
  },
  {
   "cell_type": "code",
   "execution_count": null,
   "id": "ba323310",
   "metadata": {},
   "outputs": [],
   "source": []
  },
  {
   "cell_type": "markdown",
   "id": "cc037bfb",
   "metadata": {},
   "source": [
    "# q"
   ]
  },
  {
   "cell_type": "markdown",
   "id": "9dd89d60",
   "metadata": {},
   "source": [
    "4.If today was Monday, in two days, it would be Wednesday.\n",
    "\n",
    "Create a function that takes in a list of days as input and the number of days\n",
    "\n",
    "to increment by. Return a list of days after n number of days has passed.\n",
    "\n",
    "\n",
    "Examples\n",
    "\n",
    "after_n_days([&quot;Thursday&quot;, &quot;Monday&quot;], 4) ➞ [&quot;Monday&quot;, &quot;Friday&quot;]\n",
    "\n",
    "after_n_days([&quot;Sunday&quot;, &quot;Sunday&quot;, &quot;Sunday&quot;], 1) ➞ [&quot;Monday&quot;, \n",
    "&quot;Monday&quot;,\n",
    "\n",
    "&quot;Monday&quot;]\n",
    "\n",
    "after_n_days([&quot;Monday&quot;, &quot;Tuesday&quot;, &quot;Friday&quot;], 1) ➞ [&quot;Tuesday&quot;, \n",
    "&quot;Wednesday&quot;,\n",
    "\n",
    "&quot;Saturday&quot;]\n"
   ]
  },
  {
   "cell_type": "markdown",
   "id": "9ee5547b",
   "metadata": {},
   "source": [
    "# ans"
   ]
  },
  {
   "cell_type": "code",
   "execution_count": 5,
   "id": "39be6478",
   "metadata": {},
   "outputs": [
    {
     "name": "stdout",
     "output_type": "stream",
     "text": [
      "after_n_days(['Thursday', 'Monday'], 4) = ['Monday', 'Friday']\n",
      "after_n_days(['Sunday', 'Sunday', 'Sunday'], 1) = ['Monday', 'Monday', 'Monday']\n",
      "after_n_days(['Monday', 'Tuesday', 'Friday'], 1) = ['Tuesday', 'Wednesday', 'Saturday']\n"
     ]
    }
   ],
   "source": [
    "def after_n_days(inp_list,inp_num):\n",
    "    a_dict = {0:'Sunday',1:'Monday',2:'Tuesday',3:'Wednesday',4:'Thursday',5:'Friday',6:'Saturday'}\n",
    "    numb = list(a_dict.keys())\n",
    "    week_name = list(a_dict.values())\n",
    "    result = []\n",
    "    for itm in inp_list:\n",
    "        result.append(a_dict[(week_name.index(itm)+inp_num)%7])\n",
    "    print(f'after_n_days{inp_list,inp_num} = {result}')\n",
    "    \n",
    "after_n_days([\"Thursday\", \"Monday\"], 4)\n",
    "after_n_days([\"Sunday\", \"Sunday\", \"Sunday\"], 1)\n",
    "after_n_days([\"Monday\", \"Tuesday\", \"Friday\"], 1)"
   ]
  },
  {
   "cell_type": "markdown",
   "id": "c4931c0f",
   "metadata": {},
   "source": [
    "# q"
   ]
  },
  {
   "cell_type": "markdown",
   "id": "9cb89006",
   "metadata": {},
   "source": [
    "5.You are in the process of creating a chat application and want to add an\n",
    "\n",
    "anonymous name feature. This anonymous name feature will create an alias\n",
    "\n",
    "that consists of two capitalized words beginning with the same letter as the\n",
    "\n",
    "users first name.\n",
    "\n",
    "Create a function that determines if the list of users is mapped to a list of\n",
    "\n",
    "anonymous names correctly.\n",
    "\n",
    "Examples\n",
    "\n",
    "is_correct_aliases([&quot;Adrian M.&quot;, &quot;Harriet S.&quot;, &quot;Mandy T.&quot;], \n",
    "[&quot;Amazing\n",
    "Artichoke&quot;, &quot;Hopeful Hedgehog&quot;, &quot;Marvelous Mouse&quot;]) ➞ True\n",
    "\n",
    "is_correct_aliases([&quot;Rachel F.&quot;, &quot;Pam G.&quot;, &quot;Fred Z.&quot;, &quot;Nancy \n",
    "K.&quot;],\n",
    "[&quot;Reassuring Rat&quot;, &quot;Peaceful Panda&quot;, &quot;Fantastic Frog&quot;, &quot;Notable \n",
    "Nickel&quot;]) ➞\n",
    "\n",
    "True\n",
    "\n",
    "is_correct_aliases([&quot;Beth T.&quot;], [&quot;Brandishing Mimosa&quot;]) ➞ False\n",
    "\n",
    " Both words in &quot;Brandishing Mimosa&quot; should begin with a &quot;B&quot; - &quot;Brandishing\n",
    " \n",
    "Beaver&quot; would do the trick."
   ]
  },
  {
   "cell_type": "markdown",
   "id": "657daea3",
   "metadata": {},
   "source": [
    "# ans"
   ]
  },
  {
   "cell_type": "code",
   "execution_count": 7,
   "id": "9c3a7bae",
   "metadata": {},
   "outputs": [
    {
     "name": "stdout",
     "output_type": "stream",
     "text": [
      "is_correct_aliases(['Beth T.'], ['Brandishing Mimosa']) = False\n",
      "is_correct_aliases(['Adrian M.', 'Harriet S.', 'Mandy T.'], ['Amazing Artichoke', 'Hopeful Hedgehog', 'Marvelous Mouse']) = True\n",
      "is_correct_aliases(['Rachel F.', 'Pam G.', 'Fred Z.', 'Nancy K.'], ['Reassuring Rat', 'Peaceful Panda', 'Fantastic Frog', 'Notable Nickel']) = True\n"
     ]
    }
   ],
   "source": [
    "def is_correct_aliases(inp_1, inp_2):\n",
    "    result = False\n",
    "    if len(inp_1) == len(inp_2):\n",
    "        for itm in range(len(inp_1)):\n",
    "            if inp_1[itm].split(\" \")[0][0] == inp_2[itm].split(\" \")[0][0] == inp_2[itm].split(\" \")[1][0]:\n",
    "                result = True\n",
    "            else:\n",
    "                result = False\n",
    "                break\n",
    "    print(f'is_correct_aliases{inp_1,inp_2} = {result}')\n",
    "\n",
    "is_correct_aliases([\"Beth T.\"],[\"Brandishing Mimosa\"])\n",
    "is_correct_aliases([\"Adrian M.\",\"Harriet S.\",\"Mandy T.\"], [\"Amazing Artichoke\", \"Hopeful Hedgehog\", \"Marvelous Mouse\"])\n",
    "is_correct_aliases([\"Rachel F.\",\"Pam G.\",\"Fred Z.\",\"Nancy K.\"], [\"Reassuring Rat\", \"Peaceful Panda\", \"Fantastic Frog\", \"Notable Nickel\"])\n"
   ]
  },
  {
   "cell_type": "code",
   "execution_count": null,
   "id": "a6767666",
   "metadata": {},
   "outputs": [],
   "source": []
  }
 ],
 "metadata": {
  "kernelspec": {
   "display_name": "Python 3 (ipykernel)",
   "language": "python",
   "name": "python3"
  },
  "language_info": {
   "codemirror_mode": {
    "name": "ipython",
    "version": 3
   },
   "file_extension": ".py",
   "mimetype": "text/x-python",
   "name": "python",
   "nbconvert_exporter": "python",
   "pygments_lexer": "ipython3",
   "version": "3.9.7"
  }
 },
 "nbformat": 4,
 "nbformat_minor": 5
}
