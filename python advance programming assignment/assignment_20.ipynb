{
 "cells": [
  {
   "cell_type": "code",
   "execution_count": null,
   "id": "6f2c57a1",
   "metadata": {},
   "outputs": [],
   "source": []
  },
  {
   "cell_type": "markdown",
   "id": "d416e2ac",
   "metadata": {},
   "source": [
    "# q"
   ]
  },
  {
   "cell_type": "markdown",
   "id": "53fe854b",
   "metadata": {},
   "source": [
    "1.Create a function based on the input and output. Look at the examples,\n",
    "\n",
    "there is a pattern.\n",
    "\n",
    "Examples\n",
    "\n",
    "secret(&quot;p.one.two.three&quot;) ➞ &quot;&lt;p class=&#39;one two three&#39;&gt;&lt;/p&gt;&quot;\n",
    "\n",
    "secret(&quot;p.one&quot;) ➞ &quot;&lt;p class=&#39;one&#39;&gt;&lt;/p&gt;&quot;\n",
    "\n",
    "secret(&quot;p.four.five&quot;) ➞ &quot;&lt;p class=&#39;four five&#39;&gt;&lt;/p&gt;&quot;"
   ]
  },
  {
   "cell_type": "markdown",
   "id": "d0bf3b63",
   "metadata": {},
   "source": [
    "# ans"
   ]
  },
  {
   "cell_type": "code",
   "execution_count": 1,
   "id": "475ac32d",
   "metadata": {},
   "outputs": [
    {
     "name": "stdout",
     "output_type": "stream",
     "text": [
      "secret(\"p.one.two.three\") = <p class=\"one two three\"></p>\n",
      "secret(\"p.one\") = <p class=\"one\"></p>\n",
      "secret(\"p.four.five\") = <p class=\"four five\"></p>\n"
     ]
    }
   ],
   "source": [
    "def secret(inp):\n",
    "    inp_string = inp\n",
    "    inp = inp.split(\".\")\n",
    "    result = f'<{inp[0]} class=\"{\" \".join(inp[1:])}\"></{inp[0]}>'\n",
    "    print(f'secret(\"{inp_string}\") = {result}')\n",
    "    \n",
    "secret(\"p.one.two.three\")\n",
    "secret(\"p.one\")\n",
    "secret(\"p.four.five\")"
   ]
  },
  {
   "cell_type": "markdown",
   "id": "e12331b5",
   "metadata": {},
   "source": [
    "# q"
   ]
  },
  {
   "cell_type": "markdown",
   "id": "96e9acb4",
   "metadata": {},
   "source": [
    "2.Create a function which counts how many lone 1s appear in a given\n",
    "\n",
    "number. Lone means the number doesn&#39;t appear twice or more in a row.\n",
    "\n",
    "Examples\n",
    "\n",
    "count_lone_ones(101) ➞ 2\n",
    "\n",
    "count_lone_ones(1191) ➞ 1\n",
    "\n",
    "count_lone_ones(1111) ➞ 0\n",
    "\n",
    "count_lone_ones(462) ➞ 0"
   ]
  },
  {
   "cell_type": "markdown",
   "id": "4bfc26f2",
   "metadata": {},
   "source": [
    "# ans"
   ]
  },
  {
   "cell_type": "code",
   "execution_count": 2,
   "id": "d382ddf4",
   "metadata": {},
   "outputs": [],
   "source": [
    "import re"
   ]
  },
  {
   "cell_type": "code",
   "execution_count": 3,
   "id": "544cca53",
   "metadata": {},
   "outputs": [
    {
     "name": "stdout",
     "output_type": "stream",
     "text": [
      "coint_lone_ones(101) = 2\n",
      "coint_lone_ones(1191) = 1\n",
      "coint_lone_ones(1111) = 0\n",
      "coint_lone_ones(462) = 0\n"
     ]
    }
   ],
   "source": [
    "def count_lone_ones(inp):\n",
    "    pattern = r\"(?<!1)1(?!1)\" \n",
    "    result = re.findall(pattern,str(inp))\n",
    "    print(f'coint_lone_ones({inp}) = {len(result)}')\n",
    "    \n",
    "count_lone_ones(101)\n",
    "count_lone_ones(1191)\n",
    "count_lone_ones(1111)\n",
    "count_lone_ones(462)"
   ]
  },
  {
   "cell_type": "markdown",
   "id": "6026ceba",
   "metadata": {},
   "source": [
    "# q"
   ]
  },
  {
   "cell_type": "markdown",
   "id": "de765296",
   "metadata": {},
   "source": [
    "3.Write a method that accepts two integer parameters rows and cols. The\n",
    "\n",
    "output is a 2d array of numbers displayed in column-major order, meaning the\n",
    "\n",
    "numbers shown increase sequentially down each column and wrap to the top\n",
    "\n",
    "of the next column to the right once the bottom of the current column is\n",
    "\n",
    "reached.\n",
    "\n",
    "Examples\n",
    "\n",
    "printGrid(3, 6) ➞ [\n",
    "\n",
    "[1, 4, 7, 10, 13, 16],\n",
    "\n",
    "[2, 5, 8, 11, 14, 17],\n",
    "\n",
    "[3, 6, 9, 12, 15, 18]\n",
    "\n",
    "]\n",
    "printGrid(5, 3) ➞ [\n",
    "\n",
    "[1, 6, 11],\n",
    "\n",
    "[2, 7, 12],\n",
    "\n",
    "[3, 8, 13],\n",
    "\n",
    "[4, 9, 14],\n",
    "\n",
    "[5, 10, 15]\n",
    "\n",
    "]\n",
    "\n",
    "printGrid(4, 1) ➞ [\n",
    "\n",
    "[1],\n",
    "\n",
    "[2],\n",
    "\n",
    "[3],\n",
    "\n",
    "[4]\n",
    "]"
   ]
  },
  {
   "cell_type": "markdown",
   "id": "8a06ddaf",
   "metadata": {},
   "source": [
    "# ans"
   ]
  },
  {
   "cell_type": "code",
   "execution_count": 6,
   "id": "c9ce7dcf",
   "metadata": {},
   "outputs": [
    {
     "name": "stdout",
     "output_type": "stream",
     "text": [
      "printGrid(3, 6) = [[1, 4, 7, 10, 13, 16], [2, 5, 8, 11, 14, 17], [3, 6, 9, 12, 15, 18]]\n",
      "printGrid(5, 3) = [[1, 6, 11], [2, 7, 12], [3, 8, 13], [4, 9, 14], [5, 10, 15]]\n",
      "printGrid(4, 1) = [[1], [2], [3], [4]]\n"
     ]
    }
   ],
   "source": [
    "def printGrid(inp_1,inp_2):\n",
    "    result = []\n",
    "    for itm in range(inp_1):\n",
    "        box = []\n",
    "        for i in range(inp_2):\n",
    "            box.append(itm+(inp_1*i)+1)\n",
    "        result.append(box)\n",
    "    print(f'printGrid{inp_1,inp_2} = {result}')\n",
    "    \n",
    "printGrid(3, 6)\n",
    "printGrid(5, 3)  \n",
    "printGrid(4, 1)"
   ]
  },
  {
   "cell_type": "code",
   "execution_count": null,
   "id": "ba323310",
   "metadata": {},
   "outputs": [],
   "source": []
  },
  {
   "cell_type": "markdown",
   "id": "cc037bfb",
   "metadata": {},
   "source": [
    "# q"
   ]
  },
  {
   "cell_type": "markdown",
   "id": "9dd89d60",
   "metadata": {},
   "source": [
    "4.Given a list of integers, return the smallest positive integer not present in\n",
    "\n",
    "the list.\n",
    "\n",
    "Here is a representative example. Consider the list:\n",
    "\n",
    "[-2, 6, 4, 5, 7, -1, 7, 1, 3, 6, 6, -2, 9, 10, 2, 2]\n",
    "\n",
    "After reordering, the list becomes:\n",
    "\n",
    "[-2, -2, -1, 1, 2, 2, 3, 4, 5, 6, 6, 6, 7, 7, 9, 10]\n",
    "\n",
    "from which we see that the smallest missing positive integer is 8.\n",
    "\n",
    "Examples\n",
    "\n",
    "min_miss_pos([-2, 6, 4, 5, 7, -1, 1, 3, 6, -2, 9, 10, 2, 2]) ➞ 8\n",
    "\n",
    " After sorting, list becomes [-2, -2, -1, 1, 2, 2, 3, 4, 5, 6, 6, 7, 9, 10]\n",
    " \n",
    " So the smallest missing positive integer is 8\n",
    " \n",
    "min_miss_pos([5, 9, -2, 0, 1, 3, 9, 3, 8, 9]) ➞ 2\n",
    "\n",
    " After sorting, list becomes [-2, 0, 1, 3, 3, 5, 8, 9, 9, 9]\n",
    " \n",
    " So the smallest missing positive integer is 2\n",
    " \n",
    "min_miss_pos([0, 4, 4, -1, 9, 4, 5, 2, 10, 7, 6, 3, 10, 9]) ➞ 1\n",
    "\n",
    " After sorting, list becomes [-1, 0, 2, 3, 4, 4, 4, 5, 6, 7, 9, 9, 10, 10]\n",
    " \n",
    " So the smallest missing positive integer is 1"
   ]
  },
  {
   "cell_type": "markdown",
   "id": "9ee5547b",
   "metadata": {},
   "source": [
    "# ans"
   ]
  },
  {
   "cell_type": "code",
   "execution_count": 8,
   "id": "39be6478",
   "metadata": {},
   "outputs": [
    {
     "name": "stdout",
     "output_type": "stream",
     "text": [
      "min_miss_pos([-2, 6, 4, 5, 7, -1, 1, 3, 6, -2, 9, 10, 2, 2]) = [-2, -2, -1, 1, 2, 2, 3, 4, 5, 6, 6, 7, 9, 10] = 8\n",
      "min_miss_pos([5, 9, -2, 0, 1, 3, 9, 3, 8, 9]) = [-2, 0, 1, 3, 3, 5, 8, 9, 9, 9] = 2\n",
      "min_miss_pos([0, 4, 4, -1, 9, 4, 5, 2, 10, 7, 6, 3, 10, 9]) = [-1, 0, 2, 3, 4, 4, 4, 5, 6, 7, 9, 9, 10, 10] = 1\n"
     ]
    }
   ],
   "source": [
    "def min_miss_pos(inp):\n",
    "    inp_list = inp.copy()\n",
    "    inp = sorted(inp)\n",
    "    result = -1\n",
    "    for itm in range(1,max(inp)+1):\n",
    "        if itm not in inp:\n",
    "            result = itm\n",
    "            break\n",
    "    print(f'min_miss_pos({inp_list}) = {inp} = {result}')\n",
    "    \n",
    "min_miss_pos([-2, 6, 4, 5, 7, -1, 1, 3, 6, -2, 9, 10, 2, 2])\n",
    "min_miss_pos([5, 9, -2, 0, 1, 3, 9, 3, 8, 9])\n",
    "min_miss_pos([0, 4, 4, -1, 9, 4, 5, 2, 10, 7, 6, 3, 10, 9])"
   ]
  },
  {
   "cell_type": "markdown",
   "id": "c4931c0f",
   "metadata": {},
   "source": [
    "# q"
   ]
  },
  {
   "cell_type": "markdown",
   "id": "9cb89006",
   "metadata": {},
   "source": [
    "5.Google is launching a network of autonomous pizza delivery drones and\n",
    "\n",
    "wants you to create a flexible rewards system (Pizza Points™) that can be\n",
    "\n",
    "tweaked in the future. The rules are simple: if a customer has made at least N\n",
    "\n",
    "orders of at least Y price, they get a FREE pizza!\n",
    "\n",
    "Create a function that takes a dictionary of customers, a minimum number of\n",
    "\n",
    "orders and a minimum order price. Return a list of customers that are eligible\n",
    "\n",
    "for a free pizza.\n",
    "\n",
    "Examples\n",
    "\n",
    "customers = {\n",
    "\n",
    "&quot;Batman&quot;: [22, 30, 11, 17, 15, 52, 27, 12],\n",
    "\n",
    "&quot;Spider-Man&quot;: [5, 17, 30, 33, 40, 22, 26, 10, 11, 45]\n",
    "\n",
    "}\n",
    "\n",
    "pizza_points(customers, 5, 20) ➞ [&quot;Spider-Man&quot;]\n",
    "\n",
    "pizza_points(customers, 3, 10) ➞ [&quot;Batman&quot;, &quot;Spider-Man&quot;]\n",
    "\n",
    "pizza_points(customers, 5, 100) ➞ []"
   ]
  },
  {
   "cell_type": "markdown",
   "id": "657daea3",
   "metadata": {},
   "source": [
    "# ans"
   ]
  },
  {
   "cell_type": "code",
   "execution_count": 11,
   "id": "9c3a7bae",
   "metadata": {},
   "outputs": [
    {
     "name": "stdout",
     "output_type": "stream",
     "text": [
      "pizza_points('customers', 5, 20) = ['Spider-Man']\n",
      "pizza_points('customers', 3, 10) = ['Batman', 'Spider-Man']\n",
      "pizza_points('customers', 5, 100) = []\n"
     ]
    }
   ],
   "source": [
    "def pizza_points(inp_dict,min_order,min_order_price):\n",
    "    result = []\n",
    "    for itm in inp_dict.keys():\n",
    "        if len([elt for elt in inp_dict[itm] if elt > min_order_price]) > min_order:\n",
    "            result.append(itm)\n",
    "    print(f'pizza_points{\"customers\",min_order,min_order_price} = {result}')\n",
    "\n",
    "customers = {\n",
    "            \"Batman\": [22, 30, 11, 17, 15, 52, 27, 12],\n",
    "            \"Spider-Man\": [5, 17, 30, 33, 40, 22, 26, 10, 11, 45]\n",
    "              }\n",
    "\n",
    "pizza_points(customers, 5, 20)\n",
    "pizza_points(customers, 3, 10)\n",
    "pizza_points(customers, 5, 100)"
   ]
  },
  {
   "cell_type": "code",
   "execution_count": null,
   "id": "8e0cf32d",
   "metadata": {},
   "outputs": [],
   "source": []
  }
 ],
 "metadata": {
  "kernelspec": {
   "display_name": "Python 3 (ipykernel)",
   "language": "python",
   "name": "python3"
  },
  "language_info": {
   "codemirror_mode": {
    "name": "ipython",
    "version": 3
   },
   "file_extension": ".py",
   "mimetype": "text/x-python",
   "name": "python",
   "nbconvert_exporter": "python",
   "pygments_lexer": "ipython3",
   "version": "3.9.7"
  }
 },
 "nbformat": 4,
 "nbformat_minor": 5
}
