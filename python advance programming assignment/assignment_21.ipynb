{
 "cells": [
  {
   "cell_type": "code",
   "execution_count": null,
   "id": "6f2c57a1",
   "metadata": {},
   "outputs": [],
   "source": []
  },
  {
   "cell_type": "markdown",
   "id": "d416e2ac",
   "metadata": {},
   "source": [
    "# q"
   ]
  },
  {
   "cell_type": "markdown",
   "id": "53fe854b",
   "metadata": {},
   "source": [
    "1.Given a sentence, return the number of words which have the same first\n",
    "\n",
    "and last letter.\n",
    "\n",
    "Examples\n",
    "\n",
    "count_same_ends(&quot;Pop! goes the balloon&quot;) ➞ 1\n",
    "\n",
    "count_same_ends(&quot;And the crowd goes wild!&quot;) ➞ 0\n",
    "\n",
    "count_same_ends(&quot;No I am not in a gang.&quot;) ➞ 1"
   ]
  },
  {
   "cell_type": "markdown",
   "id": "d0bf3b63",
   "metadata": {},
   "source": [
    "# ans"
   ]
  },
  {
   "cell_type": "code",
   "execution_count": 1,
   "id": "475ac32d",
   "metadata": {},
   "outputs": [
    {
     "name": "stdout",
     "output_type": "stream",
     "text": [
      "count_same_ends(Pop! goes the balloon) = 1\n",
      "count_same_ends(And the crowd goes wild!) = 0\n",
      "count_same_ends(No I am not in a gang.) = 1\n"
     ]
    }
   ],
   "source": [
    "def count_same_ends(inp):\n",
    "    character = '!@#$%^&*.'\n",
    "    a_string = ''\n",
    "    result = 0\n",
    "    for itm in inp:\n",
    "        if itm not in character:\n",
    "            a_string += itm\n",
    "    for itm in a_string.split(\" \"):\n",
    "        if itm[0].lower() == itm[-1].lower():\n",
    "            if len(itm) != 1:\n",
    "                result +=1\n",
    "    print(f'count_same_ends({inp}) = {result}')\n",
    "            \n",
    "count_same_ends(\"Pop! goes the balloon\")\n",
    "count_same_ends(\"And the crowd goes wild!\")\n",
    "count_same_ends(\"No I am not in a gang.\")"
   ]
  },
  {
   "cell_type": "markdown",
   "id": "e12331b5",
   "metadata": {},
   "source": [
    "# q"
   ]
  },
  {
   "cell_type": "markdown",
   "id": "96e9acb4",
   "metadata": {},
   "source": [
    "2.The Atbash cipher is an encryption method in which each letter of a word is\n",
    "\n",
    "replaced with its &quot;mirror&quot; letter in the alphabet: A &lt;=&gt; Z; B &lt;=&gt; Y; C &lt;=&gt; \n",
    "X;\n",
    "\n",
    "etc.\n",
    "\n",
    "Create a function that takes a string and applies the Atbash cipher to it.\n",
    "\n",
    "Examples\n",
    "\n",
    "atbash(&quot;apple&quot;) ➞ &quot;zkkov&quot;\n",
    "\n",
    "atbash(&quot;Hello world!&quot;) ➞ &quot;Svool dliow!&quot;\n",
    "\n",
    "atbash(&quot;Christmas is the 25th of December&quot;) ➞ &quot;Xsirhgnzh rh gsv 25gs lu\n",
    "\n",
    "Wvxvnyvi&quot;"
   ]
  },
  {
   "cell_type": "markdown",
   "id": "4bfc26f2",
   "metadata": {},
   "source": [
    "# ans"
   ]
  },
  {
   "cell_type": "code",
   "execution_count": 2,
   "id": "544cca53",
   "metadata": {},
   "outputs": [
    {
     "name": "stdout",
     "output_type": "stream",
     "text": [
      "atbash(apple) = zkkov\n",
      "atbash(Hello world!) = Svool dliow!\n",
      "atbash(Christmas is the 25th of December) = Xsirhgnzh rh gsv 25gs lu Wvxvnyvi\n"
     ]
    }
   ],
   "source": [
    "def atbash(inp):\n",
    "    alpha = 'abcdefghijklmnopqrstuvwxyz'\n",
    "    r_alpha = 'zyxwvutsrqponmlkjihgfedcba'\n",
    "    result = ''\n",
    "    for itm in inp:\n",
    "        if itm not in \" !1234567890\":\n",
    "            result += r_alpha[alpha.index(itm.lower())].upper() if itm.isupper() else r_alpha[alpha.index(itm.lower())]\n",
    "        else:\n",
    "            result += itm\n",
    "    print(f'atbash({inp}) = {result}')\n",
    "        \n",
    "atbash(\"apple\")\n",
    "atbash(\"Hello world!\")\n",
    "atbash(\"Christmas is the 25th of December\")"
   ]
  },
  {
   "cell_type": "markdown",
   "id": "6026ceba",
   "metadata": {},
   "source": [
    "# q"
   ]
  },
  {
   "cell_type": "markdown",
   "id": "de765296",
   "metadata": {},
   "source": [
    "3.Create a class Employee that will take a full name as argument, as well as\n",
    "\n",
    "a set of none, one or more keywords. Each instance should have a name and\n",
    "\n",
    "a lastname attributes plus one more attribute for each of the keywords, if any.\n",
    "\n",
    "Examples\n",
    "\n",
    "john = Employee(&quot;John Doe&quot;)\n",
    "\n",
    "mary = Employee(&quot;Mary Major&quot;, salary=120000)\n",
    "\n",
    "richard = Employee(&quot;Richard Roe&quot;, salary=110000, height=178)\n",
    "\n",
    "giancarlo = Employee(&quot;Giancarlo Rossi&quot;, salary=115000, height=182,\n",
    "\n",
    "nationality=&quot;Italian&quot;)\n",
    "\n",
    "john.name ➞ &quot;John&quot;\n",
    "\n",
    "mary.lastname ➞ &quot;Major&quot;\n",
    "\n",
    "richard.height ➞ 178\n",
    "\n",
    "giancarlo.nationality ➞ &quot;Italian&quot;"
   ]
  },
  {
   "cell_type": "markdown",
   "id": "8a06ddaf",
   "metadata": {},
   "source": [
    "# ans"
   ]
  },
  {
   "cell_type": "code",
   "execution_count": 3,
   "id": "c9ce7dcf",
   "metadata": {},
   "outputs": [
    {
     "name": "stdout",
     "output_type": "stream",
     "text": [
      "john.name = \"John Doe\"\n",
      "mary.lastname = \"Major\"\n",
      "richard.height = 178\n",
      "giancarlo.nationality = \"Italian\"\n"
     ]
    }
   ],
   "source": [
    "class Employee:\n",
    "    def __init__(self,name=None,salary=None,height=None,nationality=None):\n",
    "        self.name = name\n",
    "        self.firstname = name.split(\" \")[0]\n",
    "        self.lastname = name.split(\" \")[1]\n",
    "        self.salary = salary\n",
    "        self.height = height\n",
    "        self.nationality = nationality\n",
    "        \n",
    "john = Employee(\"John Doe\")    \n",
    "mary = Employee(\"Mary Major\",salary=120000)\n",
    "richard = Employee(\"Richard Roe\", salary=110000, height=178)\n",
    "giancarlo = Employee(\"Giancarlo Rossi\", salary=115000, height=182, nationality=\"Italian\")\n",
    "\n",
    "print(f'john.name = \"{john.name}\"')\n",
    "print(f'mary.lastname = \"{mary.lastname}\"')\n",
    "print(f'richard.height = {richard.height}')\n",
    "print(f'giancarlo.nationality = \"{giancarlo.nationality}\"')"
   ]
  },
  {
   "cell_type": "code",
   "execution_count": null,
   "id": "ba323310",
   "metadata": {},
   "outputs": [],
   "source": []
  },
  {
   "cell_type": "markdown",
   "id": "cc037bfb",
   "metadata": {},
   "source": [
    "# q"
   ]
  },
  {
   "cell_type": "markdown",
   "id": "9dd89d60",
   "metadata": {},
   "source": [
    "4.create a function that determines whether each seat can &quot;see&quot; the front-\n",
    "\n",
    "stage. A number can &quot;see&quot; the front-stage if it is strictly greater than the\n",
    "\n",
    "number before it.\n",
    "\n",
    "Everyone can see the front-stage in the example below:\n",
    "\n",
    " FRONT STAGE\n",
    " \n",
    "[[1, 2, 3, 2, 1, 1],\n",
    "\n",
    "[2, 4, 4, 3, 2, 2],\n",
    "\n",
    "[5, 5, 5, 5, 4, 4],\n",
    "\n",
    "[6, 6, 7, 6, 5, 5]]\n",
    "\n",
    " Starting from the left, the 6 &gt; 5 &gt; 2 &gt; 1, so all numbers can see.\n",
    " \n",
    " 6 &gt; 5 &gt; 4 &gt; 2 - so all numbers can see, etc.\n",
    " \n",
    "Not everyone can see the front-stage in the example below:\n",
    "\n",
    " FRONT STAGE\n",
    " \n",
    "[[1, 2, 3, 2, 1, 1],\n",
    "\n",
    "[2, 4, 4, 3, 2, 2],\n",
    "\n",
    "[5, 5, 5, 10, 4, 4],\n",
    "\n",
    "[6, 6, 7, 6, 5, 5]]\n",
    "\n",
    " The 10 is directly in front of the 6 and blocking its view.\n",
    " \n",
    "The function should return True if every number can see the front-stage, and\n",
    "\n",
    "False if even a single number cannot.\n",
    "\n",
    "Examples\n",
    "\n",
    "can_see_stage([\n",
    "\n",
    "[1, 2, 3],\n",
    "\n",
    "[4, 5, 6],\n",
    "\n",
    "[7, 8, 9]\n",
    "\n",
    "]) ➞ True\n",
    "\n",
    "can_see_stage([\n",
    "\n",
    "[0, 0, 0],\n",
    "\n",
    "[1, 1, 1],\n",
    "\n",
    "[2, 2, 2]\n",
    "\n",
    "]) ➞ True\n",
    "\n",
    "can_see_stage([\n",
    "\n",
    "[2, 0, 0],\n",
    "\n",
    "[1, 1, 1],\n",
    "\n",
    "[2, 2, 2]\n",
    "\n",
    "]) ➞ False\n",
    "\n",
    "can_see_stage([\n",
    "\n",
    "[1, 0, 0],\n",
    "\n",
    "[1, 1, 1],\n",
    "\n",
    "[2, 2, 2]\n",
    "\n",
    "]) ➞ False\n",
    "\n",
    " Number must be strictly smaller than\n",
    " \n",
    " the number directly behind it."
   ]
  },
  {
   "cell_type": "markdown",
   "id": "9ee5547b",
   "metadata": {},
   "source": [
    "# ans"
   ]
  },
  {
   "cell_type": "code",
   "execution_count": 5,
   "id": "39be6478",
   "metadata": {},
   "outputs": [
    {
     "name": "stdout",
     "output_type": "stream",
     "text": [
      "can_see_stage([[1, 2, 3], [4, 5, 6], [7, 8, 9]]) = True\n",
      "can_see_stage([[0, 0, 0], [1, 1, 1], [2, 2, 2]]) = True\n",
      "can_see_stage([[2, 0, 0], [1, 1, 1], [2, 2, 2]]) = False\n",
      "can_see_stage([[1, 0, 0], [1, 1, 1], [2, 2, 2]]) = False\n"
     ]
    }
   ],
   "source": [
    "def can_see_stage(inp):\n",
    "    box = []\n",
    "    for elt in range(len(inp)):\n",
    "        a_list = []\n",
    "        for item in range(len(inp[elt])):\n",
    "            a_list.append(inp[item][elt])\n",
    "        box.append(a_list)\n",
    "    result = True\n",
    "    for elt in box:\n",
    "        if elt != sorted(elt) or len(elt) != len(set(elt)):\n",
    "            result = False\n",
    "            break\n",
    "    print(f'can_see_stage({inp}) = {result}')\n",
    "        \n",
    "can_see_stage([[1, 2, 3],[4, 5, 6],[7, 8, 9]])\n",
    "can_see_stage([[0, 0, 0],[1, 1, 1],[2, 2, 2]])\n",
    "can_see_stage([[2, 0, 0],[1, 1, 1],[2, 2, 2]])\n",
    "can_see_stage([[1, 0, 0],[1, 1, 1],[2, 2, 2]])"
   ]
  },
  {
   "cell_type": "markdown",
   "id": "c4931c0f",
   "metadata": {},
   "source": [
    "# q"
   ]
  },
  {
   "cell_type": "markdown",
   "id": "9cb89006",
   "metadata": {},
   "source": [
    "5.Create a Pizza class with the attributes order_number and ingredients\n",
    "\n",
    "(which is given as a list). Only the ingredients will be given as input.\n",
    "\n",
    "You should also make it so that its possible to choose a ready made pizza\n",
    "\n",
    "flavour rather than typing out the ingredients manually! As well as creating\n",
    "\n",
    "this Pizza class, hard-code the following pizza flavours.\n",
    "\n",
    "Name Ingredients\n",
    "\n",
    "hawaiian ham, pineapple\n",
    "\n",
    "meat_festival beef, meatball, bacon\n",
    "\n",
    "garden_feast spinach, olives, mushroom\n",
    "\n",
    "Examples\n",
    "\n",
    "p1 = Pizza([&quot;bacon&quot;, &quot;parmesan&quot;, &quot;ham&quot;]) # order 1\n",
    "\n",
    "p2 = Pizza.garden_feast() # order 2\n",
    "\n",
    "p1.ingredients ➞ [&quot;bacon&quot;, &quot;parmesan&quot;, &quot;ham&quot;]\n",
    "\n",
    "p2.ingredients ➞ [&quot;spinach&quot;, &quot;olives&quot;, &quot;mushroom&quot;]\n",
    "\n",
    "p1.order_number ➞ 1\n",
    "\n",
    "p2.order_number ➞ 2"
   ]
  },
  {
   "cell_type": "markdown",
   "id": "657daea3",
   "metadata": {},
   "source": [
    "# ans"
   ]
  },
  {
   "cell_type": "code",
   "execution_count": 7,
   "id": "9c3a7bae",
   "metadata": {},
   "outputs": [
    {
     "name": "stdout",
     "output_type": "stream",
     "text": [
      "p1.ingredients = ['bacon', 'parmesan', 'ham']\n",
      "p2.ingredients = ['spinach', 'olives', 'mushroom']\n",
      "p1.order_number = 1\n",
      "p2.order_number = 2\n"
     ]
    }
   ],
   "source": [
    "class Pizza:\n",
    "    order_count = 0\n",
    "    def __init__(self,ingredients=None):\n",
    "        self.ingredients = ingredients\n",
    "        self.order_number = Pizza.order_count+1\n",
    "        Pizza.order_count = self.order_number\n",
    "    def hawaiian(self):\n",
    "        self.ingredients = ['ham', 'pineapple']\n",
    "    def meat_festival(self):\n",
    "        self.ingredients = ['beef', 'meatball', 'bacon']\n",
    "    def garden_feast(self):\n",
    "        self.ingredients = ['spinach', 'olives', 'mushroom']\n",
    "        \n",
    "p1 = Pizza([\"bacon\", \"parmesan\", \"ham\"])\n",
    "p2 = Pizza()\n",
    "p2.garden_feast()\n",
    "print(f'p1.ingredients = {p1.ingredients}')\n",
    "print(f'p2.ingredients = {p2.ingredients}')\n",
    "print(f'p1.order_number = {p1.order_number}')\n",
    "print(f'p2.order_number = {p2.order_number}')"
   ]
  },
  {
   "cell_type": "code",
   "execution_count": null,
   "id": "8aa9d892",
   "metadata": {},
   "outputs": [],
   "source": []
  }
 ],
 "metadata": {
  "kernelspec": {
   "display_name": "Python 3 (ipykernel)",
   "language": "python",
   "name": "python3"
  },
  "language_info": {
   "codemirror_mode": {
    "name": "ipython",
    "version": 3
   },
   "file_extension": ".py",
   "mimetype": "text/x-python",
   "name": "python",
   "nbconvert_exporter": "python",
   "pygments_lexer": "ipython3",
   "version": "3.9.7"
  }
 },
 "nbformat": 4,
 "nbformat_minor": 5
}
