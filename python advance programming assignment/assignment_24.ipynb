{
 "cells": [
  {
   "cell_type": "code",
   "execution_count": null,
   "id": "6f2c57a1",
   "metadata": {},
   "outputs": [],
   "source": []
  },
  {
   "cell_type": "markdown",
   "id": "d416e2ac",
   "metadata": {},
   "source": [
    "# q"
   ]
  },
  {
   "cell_type": "markdown",
   "id": "53fe854b",
   "metadata": {},
   "source": [
    "1.Implement a class iterator to flatten a nested list of lists of integers. Each\n",
    "\n",
    "list element is either an integer or a list. There can be many levels of nested\n",
    "\n",
    "lists in lists.\n",
    "\n",
    "The class initializes with a nested list. It also has two methods:\n",
    "\n",
    "1. next() returns an integer in the order of appearance.\n",
    "\n",
    "2. hasNext() returns True / False regarding if all integers have been\n",
    "\n",
    "retrieved or not.\n",
    "\n",
    "Write the Class implementation for three required methods.\n",
    "\n",
    "Examples\n",
    "\n",
    "ni, actual = NestedIterator([[1, 1], 2, [1, 1]]), []\n",
    "\n",
    "\n",
    "while ni.hasNext():\n",
    "\n",
    "actual.append(ni.next())\n",
    "\n",
    "actual ➞ [1, 1, 2, 1, 1]\n",
    "\n",
    "ni, actual = NestedIterator([1, [4, [6]]]), []\n",
    "\n",
    "while ni.hasNext():\n",
    "\n",
    "actual.append(ni.next())\n",
    "\n",
    "actual ➞ [1, 4, 6]\n",
    "\n",
    "ni, actual = NestedIterator([[[]], []]), []\n",
    "\n",
    "while ni.hasNext():\n",
    "\n",
    "actual.append(ni.next())\n",
    "\n",
    "actual ➞ []"
   ]
  },
  {
   "cell_type": "markdown",
   "id": "d0bf3b63",
   "metadata": {},
   "source": [
    "# ans"
   ]
  },
  {
   "cell_type": "code",
   "execution_count": 1,
   "id": "475ac32d",
   "metadata": {},
   "outputs": [
    {
     "name": "stdout",
     "output_type": "stream",
     "text": [
      "actual = [1, 1, 2, 1, 1]\n",
      "actual = [1, 4, 6]\n",
      "actual = []\n"
     ]
    }
   ],
   "source": [
    "class NestedIterator:\n",
    "    def __init__(self,inp):\n",
    "        self.list = inp\n",
    "        self.flatten_list = []\n",
    "        self.test(self.list)\n",
    "    \n",
    "    def test(self,inp):\n",
    "        for itm in inp:\n",
    "            if isinstance(itm,int):\n",
    "                self.flatten_list.append(itm)\n",
    "            else:\n",
    "                self.test(itm)\n",
    "                \n",
    "    def hasNext(self):\n",
    "        return True if len(self.flatten_list) > 0 else False\n",
    "    \n",
    "    def next(self):\n",
    "        return self.flatten_list.pop(0)\n",
    "    \n",
    "ni, actual = NestedIterator([[1, 1], 2, [1, 1]]), []\n",
    "while ni.hasNext():\n",
    "    actual.append(ni.next())\n",
    "print(f'actual = {actual}')\n",
    "\n",
    "ni, actual = NestedIterator([1, [4, [6]]]), []\n",
    "while ni.hasNext():\n",
    "    actual.append(ni.next())\n",
    "print(f'actual = {actual}')\n",
    "\n",
    "ni, actual = NestedIterator([[[]], []]), []\n",
    "while ni.hasNext():\n",
    "    actual.append(ni.next())\n",
    "print(f'actual = {actual}')"
   ]
  },
  {
   "cell_type": "markdown",
   "id": "e12331b5",
   "metadata": {},
   "source": [
    "# q"
   ]
  },
  {
   "cell_type": "markdown",
   "id": "96e9acb4",
   "metadata": {},
   "source": [
    "2.Implement the class Shape that receives perimeter and density function\n",
    "\n",
    "into __init__ method. The list of consecutive corners defines shape of a 2-\n",
    "\n",
    "dimensional object. The density function defines the mass distribution inside\n",
    "\n",
    "the shape. To compute mass in a certain point m(x, y) = small_square *\n",
    "\n",
    "density(x, y). The __init__ method calls other internal methods that compute\n",
    "\n",
    "three characteristics of the shape:\n",
    "\n",
    "- area\n",
    "\n",
    "- total mass\n",
    "\n",
    "- center of mass (xc, yc)\n",
    "\n",
    "The computational grid has distance between two neighboring points as 2 *\n",
    "\n",
    "delta, the distance between a grid point and the perimeter wall is delta.\n",
    "\n",
    "Examples\n",
    "\n",
    "sh_ex1 = Shape([(1, 1), (3, 1), (3, 2), (1, 2)], lambda x, y: 100 + 100 * x)\n",
    "\n",
    "sh_ex1.area ➞ 2.0\n",
    "\n",
    "sh_ex1.mass ➞ 600.0\n",
    "\n",
    "sh_ex1.mass_center ➞ (2.1, 1.5)\n",
    "\n"
   ]
  },
  {
   "cell_type": "markdown",
   "id": "4bfc26f2",
   "metadata": {},
   "source": [
    "# ans"
   ]
  },
  {
   "cell_type": "code",
   "execution_count": null,
   "id": "544cca53",
   "metadata": {},
   "outputs": [],
   "source": []
  },
  {
   "cell_type": "markdown",
   "id": "6026ceba",
   "metadata": {},
   "source": [
    "# q"
   ]
  },
  {
   "cell_type": "markdown",
   "id": "de765296",
   "metadata": {},
   "source": [
    "3.Given a 3x3 matrix of a completed tic-tac-toe game, create a function that\n",
    "\n",
    "returns whether the game is a win for &quot;X&quot;, &quot;O&quot;, or a &quot;Draw&quot;, where \n",
    "&quot;X&quot; and &quot;O&quot;\n",
    "\n",
    "represent themselves on the matrix, and &quot;E&quot; represents an empty spot.\n",
    "\n",
    "Examples\n",
    "\n",
    "tic_tac_toe([\n",
    "\n",
    "[&quot;X&quot;, &quot;O&quot;, &quot;X&quot;],\n",
    "\n",
    "[&quot;O&quot;, &quot;X&quot;, &quot;O&quot;],\n",
    "\n",
    "[&quot;O&quot;, &quot;X&quot;, &quot;X&quot;]\n",
    "\n",
    "]) ➞ &quot;X&quot;\n",
    "\n",
    "tic_tac_toe([\n",
    "\n",
    "[&quot;O&quot;, &quot;O&quot;, &quot;O&quot;],\n",
    "\n",
    "[&quot;O&quot;, &quot;X&quot;, &quot;X&quot;],\n",
    "\n",
    "[&quot;E&quot;, &quot;X&quot;, &quot;X&quot;]\n",
    "\n",
    "]) ➞ &quot;O&quot;\n",
    "\n",
    "tic_tac_toe([\n",
    "\n",
    "[&quot;X&quot;, &quot;X&quot;, &quot;O&quot;],\n",
    "\n",
    "[&quot;O&quot;, &quot;O&quot;, &quot;X&quot;],\n",
    "\n",
    "[&quot;X&quot;, &quot;X&quot;, &quot;O&quot;]\n",
    "\n",
    "]) ➞ &quot;Draw&quot;"
   ]
  },
  {
   "cell_type": "markdown",
   "id": "8a06ddaf",
   "metadata": {},
   "source": [
    "# ans"
   ]
  },
  {
   "cell_type": "code",
   "execution_count": 6,
   "id": "c9ce7dcf",
   "metadata": {},
   "outputs": [
    {
     "name": "stdout",
     "output_type": "stream",
     "text": [
      "tic_tac_toe([['X', 'O', 'X'], ['O', 'X', 'O'], ['O', 'X', 'X']]) = \"X\"\n",
      "tic_tac_toe([['O', 'O', 'O'], ['O', 'X', 'X'], ['E', 'X', 'X']]) = \"O\"\n",
      "tic_tac_toe([['X', 'X', 'O'], ['O', 'O', 'X'], ['X', 'X', 'O']]) = \"Draw\"\n"
     ]
    }
   ],
   "source": [
    "def tic_tac_toe(inp):\n",
    "    result = None  \n",
    "    # Case 1 to search for horizontal match\n",
    "    for itm in inp:\n",
    "        if len(list(set(itm))) == 1:\n",
    "            result = list(set(itm))[0]\n",
    "            break\n",
    "    # Case 2 to search for vertical match   \n",
    "    if result == None:\n",
    "        for i in range(len(inp)):\n",
    "            box = []\n",
    "            for j in range(len(inp)): box.append(inp[j][i])\n",
    "            if len(list(set(box))) == 1: result = list(set(box))[0]\n",
    "    # Case 3 to search for diagonal match\n",
    "    if result == None:\n",
    "        box = []\n",
    "        for itm in [0,1,2]:\n",
    "            box.append(inp[itm][itm])\n",
    "        if len(list(set(box))) == 1: result = list(set(box))[0]\n",
    "    # Case 4 to search for reverse diagonal match\n",
    "    if result == None:\n",
    "        box = []\n",
    "        for i in [0,1,2]:\n",
    "            for j in [0,1,2]:\n",
    "                if sum([i,j]) == 2: box.append(inp[i][j])\n",
    "        if len(list(set(box))) == 1: result = list(set(box))[0]\n",
    "    # Case 5 Draw Condition\n",
    "    if result == None: result = 'Draw'\n",
    "    print(f'tic_tac_toe({inp}) = \"{result}\"')\n",
    "            \n",
    "tic_tac_toe([[\"X\", \"O\", \"X\"],[\"O\", \"X\", \"O\"],[\"O\", \"X\", \"X\"]])\n",
    "tic_tac_toe([[\"O\", \"O\", \"O\"],[\"O\",\"X\", \"X\"],[\"E\", \"X\", \"X\"]])\n",
    "tic_tac_toe([[\"X\", \"X\", \"O\"],[\"O\", \"O\", \"X\"],[\"X\", \"X\", \"O\"]])\n"
   ]
  },
  {
   "cell_type": "code",
   "execution_count": null,
   "id": "ba323310",
   "metadata": {},
   "outputs": [],
   "source": []
  },
  {
   "cell_type": "markdown",
   "id": "cc037bfb",
   "metadata": {},
   "source": [
    "# q"
   ]
  },
  {
   "cell_type": "markdown",
   "id": "9dd89d60",
   "metadata": {},
   "source": [
    "4.Your computer might have been infected by a virus! Create a function that\n",
    "\n",
    "finds the viruses in files and removes them from your computer.\n",
    "\n",
    "Examples\n",
    "\n",
    "remove_virus(&quot;PC Files: spotifysetup.exe, virus.exe, dog.jpg&quot;) ➞ &quot;PC Files:\n",
    "\n",
    "spotifysetup.exe, dog.jpg&quot;\n",
    "\n",
    "remove_virus(&quot;PC Files: antivirus.exe, cat.pdf, lethalmalware.exe,\n",
    "\n",
    "dangerousvirus.exe &quot;) ➞ &quot;PC Files: antivirus.exe, cat.pdf&quot;\n",
    "\n",
    "remove_virus(&quot;PC Files: notvirus.exe, funnycat.gif&quot;) ➞ &quot;PC Files:\n",
    "\n",
    "notvirus.exe, funnycat.gif&quot;)"
   ]
  },
  {
   "cell_type": "markdown",
   "id": "9ee5547b",
   "metadata": {},
   "source": [
    "# ans"
   ]
  },
  {
   "cell_type": "code",
   "execution_count": 7,
   "id": "c600d373",
   "metadata": {},
   "outputs": [],
   "source": [
    "import re"
   ]
  },
  {
   "cell_type": "code",
   "execution_count": 9,
   "id": "39be6478",
   "metadata": {},
   "outputs": [
    {
     "name": "stdout",
     "output_type": "stream",
     "text": [
      "remove_virus(PC Files: spotifysetup.exe, virus.exe, dog.jpg) = \"PC Files: spotifysetup.exe, dog.jpg\"\n",
      "remove_virus(PC Files: antivirus.exe, cat.pdf, lethalmalware.exe, dangerousvirus.exe ) = \"PC Files: antivirus.exe, cat.pdf\"\n",
      "remove_virus(PC Files: notvirus.exe, funnycat.gif) = \"PC Files: notvirus.exe, funnycat.gif\"\n"
     ]
    }
   ],
   "source": [
    "def remove_virus(inp):\n",
    "    a_list = [x.strip() for x in re.split(\", \",inp)]\n",
    "    result = []\n",
    "    for itm in a_list:\n",
    "        if itm not in ['virus.exe','dangerousvirus.exe','lethalmalware.exe']:\n",
    "            result.append(itm)\n",
    "    print(f'remove_virus({inp}) = \"{\", \".join(result)}\"')\n",
    "    \n",
    "remove_virus(\"PC Files: spotifysetup.exe, virus.exe, dog.jpg\")\n",
    "remove_virus(\"PC Files: antivirus.exe, cat.pdf, lethalmalware.exe, dangerousvirus.exe \")\n",
    "remove_virus(\"PC Files: notvirus.exe, funnycat.gif\")"
   ]
  },
  {
   "cell_type": "markdown",
   "id": "c4931c0f",
   "metadata": {},
   "source": [
    "# q"
   ]
  },
  {
   "cell_type": "markdown",
   "id": "9cb89006",
   "metadata": {},
   "source": [
    "5.In a video game, a meteor will fall toward the main character&#39;s home\n",
    "\n",
    "planet. Given the meteor&#39;s trajectory as a string in the form y = mx + b and\n",
    "\n",
    "the character&#39;s position as a tuple of (x, y), return True if the meteor will hit\n",
    "\n",
    "the character and False if it will not.\n",
    "\n",
    "Examples\n",
    "\n",
    "will_hit(&quot;y = 2x - 5&quot;, (0, 0)) ➞ False\n",
    "\n",
    "will_hit(&quot;y = -4x + 6&quot;, (1, 2)) ➞ True\n",
    "\n",
    "will_hit(&quot;y = 2x + 6&quot;, (3, 2)) ➞ False"
   ]
  },
  {
   "cell_type": "markdown",
   "id": "657daea3",
   "metadata": {},
   "source": [
    "# ans"
   ]
  },
  {
   "cell_type": "code",
   "execution_count": null,
   "id": "9c3a7bae",
   "metadata": {},
   "outputs": [],
   "source": []
  }
 ],
 "metadata": {
  "kernelspec": {
   "display_name": "Python 3 (ipykernel)",
   "language": "python",
   "name": "python3"
  },
  "language_info": {
   "codemirror_mode": {
    "name": "ipython",
    "version": 3
   },
   "file_extension": ".py",
   "mimetype": "text/x-python",
   "name": "python",
   "nbconvert_exporter": "python",
   "pygments_lexer": "ipython3",
   "version": "3.9.7"
  }
 },
 "nbformat": 4,
 "nbformat_minor": 5
}
