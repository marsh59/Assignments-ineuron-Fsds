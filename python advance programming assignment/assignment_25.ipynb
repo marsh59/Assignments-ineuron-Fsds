{
 "cells": [
  {
   "cell_type": "code",
   "execution_count": null,
   "id": "6f2c57a1",
   "metadata": {},
   "outputs": [],
   "source": []
  },
  {
   "cell_type": "markdown",
   "id": "d416e2ac",
   "metadata": {},
   "source": [
    "# q"
   ]
  },
  {
   "cell_type": "markdown",
   "id": "53fe854b",
   "metadata": {},
   "source": [
    "1.Write four functions that directly mutate a list:\n",
    "\n",
    "1. repeat(lst, n): Repeat lst n times.\n",
    "\n",
    "2. add(lst, x): Adds x to the end of the lst.\n",
    "\n",
    "3. remove(lst, m, n): Removes all elements between indices m and n\n",
    "\n",
    "inclusive in lst.\n",
    "\n",
    "4. concat(lst, x): concatenates lst with x (another list).\n",
    "\n",
    "Examples\n",
    "\n",
    "lst = [1, 2, 3, 4]\n",
    "\n",
    "repeat(lst, 3) ➞ [1, 2, 3, 4, 1, 2, 3, 4, 1, 2, 3, 4]\n",
    "\n",
    "add(lst, 1) ➞ [1, 2, 3, 4, 1, 2, 3, 4, 1, 2, 3, 4, 1]\n",
    "\n",
    "remove(lst, 1, 12) ➞ [1]\n",
    "\n",
    "concat(lst, [3, 4]) ➞ [1, 3, 4]"
   ]
  },
  {
   "cell_type": "markdown",
   "id": "d0bf3b63",
   "metadata": {},
   "source": [
    "# ans"
   ]
  },
  {
   "cell_type": "code",
   "execution_count": 1,
   "id": "475ac32d",
   "metadata": {},
   "outputs": [
    {
     "name": "stdout",
     "output_type": "stream",
     "text": [
      "repeat(3) = [1, 2, 3, 4, 1, 2, 3, 4, 1, 2, 3, 4]\n",
      "add(1) = [1, 2, 3, 4, 1, 2, 3, 4, 1, 2, 3, 4, 1]\n",
      "remove(lst, 1, 12) = [1]\n",
      "concat([3, 4]) = [1, 3, 4]\n"
     ]
    }
   ],
   "source": [
    "lst = [1, 2, 3, 4]\n",
    "\n",
    "def repeat(inp):\n",
    "    global lst\n",
    "    lst = lst*inp\n",
    "    return lst\n",
    "\n",
    "def add(inp):\n",
    "    global lst\n",
    "    lst.append(inp)\n",
    "    return lst\n",
    "\n",
    "def remove(start,end):\n",
    "    global lst\n",
    "    for itm in lst[start:end+1]:\n",
    "        lst.remove(itm)\n",
    "    return lst\n",
    "\n",
    "def concat(inp):\n",
    "    global lst\n",
    "    lst = lst+inp\n",
    "    return lst\n",
    "\n",
    "print(f'repeat(3) = {repeat(3)}')\n",
    "print(f'add(1) = {add(1)}')\n",
    "print(f'remove(lst, 1, 12) = {remove(1,12)}')\n",
    "print(f'concat([3, 4]) = {concat([3, 4])}')"
   ]
  },
  {
   "cell_type": "markdown",
   "id": "e12331b5",
   "metadata": {},
   "source": [
    "# q"
   ]
  },
  {
   "cell_type": "markdown",
   "id": "96e9acb4",
   "metadata": {},
   "source": [
    "2.The classic game of Mastermind is played on a tray on which the\n",
    "\n",
    "Mastermind conceals a code and the Guesser has 10 tries to guess it. The\n",
    "\n",
    "code is a sequence of 4 (or 6, sometimes more) pegs of different colors. Each\n",
    "\n",
    "guess is a corresponding sequence of 4 (or more) pegs of different colors. A\n",
    "\n",
    "guess is &quot;correct&quot; when the color of every peg in the guess exactly matches\n",
    "\n",
    "the corresponding peg in the Mastermind&#39;s code.\n",
    "\n",
    "After each guess by the Guesser, the Mastermind will give a score comprising\n",
    "\n",
    "black &amp; white pegs, not arranged in any order:\n",
    "\n",
    "- Black peg == guess peg matches the color of a code peg in the same\n",
    "position.\n",
    "\n",
    "- White peg == guess peg matches the color of a code peg in another\n",
    "position.\n",
    "\n",
    "Create a function that takes two strings, code and guess as arguments, and\n",
    "returns the score in a dictionary.\n",
    "\n",
    "- The code and guess are strings of numeric digits\n",
    "\n",
    "- The color of the pegs are represented by numeric digits\n",
    "\n",
    "- no &quot;peg&quot; may be double-scored\n",
    "\n",
    "Examples\n",
    "\n",
    "guess_score(&quot;1423&quot;, &quot;5678&quot;) ➞ {&quot;black&quot;: 0, &quot;white&quot;: 0}\n",
    "\n",
    "guess_score(&quot;1423&quot;, &quot;2222&quot;) ➞ {&quot;black&quot;: 1, &quot;white&quot;: 0}\n",
    "\n",
    "guess_score(&quot;1423&quot;, &quot;1234&quot;) ➞ {&quot;black&quot;: 1, &quot;white&quot;: 3}\n",
    "\n",
    "guess_score(&quot;1423&quot;, &quot;2211&quot;) ➞ {&quot;black&quot;: 0, &quot;white&quot;: 2}"
   ]
  },
  {
   "cell_type": "markdown",
   "id": "4bfc26f2",
   "metadata": {},
   "source": [
    "# ans"
   ]
  },
  {
   "cell_type": "code",
   "execution_count": 3,
   "id": "544cca53",
   "metadata": {},
   "outputs": [
    {
     "name": "stdout",
     "output_type": "stream",
     "text": [
      "guess_score('1423', '5678') = {'black': 0, 'white': 0}\n",
      "guess_score('1423', '2222') = {'black': 1, 'white': 0}\n",
      "guess_score('1423', '1234') = {'black': 1, 'white': 3}\n",
      "guess_score('1423', '2211') = {'black': 0, 'white': 2}\n"
     ]
    }
   ],
   "source": [
    "def guess_score(code,guess):\n",
    "    result = {\"black\":0,\"white\":0}\n",
    "    for itm in range(len(code)): \n",
    "        if code[itm] == guess[itm]:\n",
    "            result['black'] += 1\n",
    "        elif code[itm] in guess and itm != guess.index(code[itm]):\n",
    "            result['white'] += 1\n",
    "    print(f'guess_score{code,guess} = {result}')\n",
    "        \n",
    "guess_score(\"1423\", \"5678\")\n",
    "guess_score(\"1423\", \"2222\")\n",
    "guess_score(\"1423\", \"1234\") \n",
    "guess_score(\"1423\", \"2211\")"
   ]
  },
  {
   "cell_type": "markdown",
   "id": "6026ceba",
   "metadata": {},
   "source": [
    "# q"
   ]
  },
  {
   "cell_type": "markdown",
   "id": "de765296",
   "metadata": {},
   "source": [
    "3.Create a function that takes a list lst and a number N and returns a list of\n",
    "\n",
    "two integers from lst whose product equals N.\n",
    "\n",
    "Examples\n",
    "\n",
    "two_product([1, 2, -1, 4, 5], 20) ➞ [4, 5]\n",
    "\n",
    "two_product([1, 2, 3, 4, 5], 10) ➞ [2, 5]\n",
    "\n",
    "two_product([100, 12, 4, 1, 2], 15) ➞ None"
   ]
  },
  {
   "cell_type": "markdown",
   "id": "8a06ddaf",
   "metadata": {},
   "source": [
    "# ans"
   ]
  },
  {
   "cell_type": "code",
   "execution_count": 4,
   "id": "c9ce7dcf",
   "metadata": {},
   "outputs": [
    {
     "name": "stdout",
     "output_type": "stream",
     "text": [
      "two_product([1, 2, -1, 4, 5]) = [4, 5]\n",
      "two_product([1, 2, 3, 4, 5]) = [2, 5]\n",
      "two_product([100, 12, 4, 1, 2]) = None\n"
     ]
    }
   ],
   "source": [
    "def two_product(inp_list,inp_numb):\n",
    "    result = None\n",
    "    for itm_1 in inp_list:\n",
    "        for itm_2 in inp_list:\n",
    "            if itm_1*itm_2 == inp_numb:\n",
    "                result = sorted([itm_1,itm_2])\n",
    "                break\n",
    "    print(f'two_product({inp_list}) = {result}')\n",
    "    \n",
    "two_product([1, 2, -1, 4, 5], 20)\n",
    "two_product([1, 2, 3, 4, 5], 10)\n",
    "two_product([100, 12, 4, 1, 2], 15)"
   ]
  },
  {
   "cell_type": "code",
   "execution_count": null,
   "id": "ba323310",
   "metadata": {},
   "outputs": [],
   "source": []
  },
  {
   "cell_type": "markdown",
   "id": "cc037bfb",
   "metadata": {},
   "source": [
    "# q"
   ]
  },
  {
   "cell_type": "markdown",
   "id": "9dd89d60",
   "metadata": {},
   "source": [
    "4.In this challenge, sort a list containing a series of dates given as strings.\n",
    "\n",
    "Each date is given in the format DD-MM-YYYY_HH:MM:\n",
    "\n",
    "&quot;12-02-2012_13:44&quot;\n",
    "\n",
    "The priority of criteria used for sorting will be:\n",
    "\n",
    "- Year\n",
    "\n",
    "- Month\n",
    "\n",
    "- Day\n",
    "\n",
    "- Hours\n",
    "\n",
    "- Minutes\n",
    "\n",
    "Given a list lst and a string mode, implement a function that returns:\n",
    "\n",
    "- if mode is equal to &quot;ASC&quot;, the list lst sorted in ascending order.\n",
    "\n",
    "- if mode is equal to &quot;DSC&quot;, the list lst sorted in descending order.\n",
    "\n",
    "Examples\n",
    "\n",
    "sort_dates([&quot;10-02-2018_12:30&quot;, &quot;10-02-2016_12:30&quot;, &quot;10-02-2018_12:15&quot;],\n",
    "\n",
    "&quot;ASC&quot;) ➞ [&quot;10-02-2016_12:30&quot;, &quot;10-02-2018_12:15&quot;, &quot;10-02-\n",
    "2018_12:30&quot;]\n",
    "\n",
    "sort_dates([&quot;10-02-2018_12:30&quot;, &quot;10-02-2016_12:30&quot;, &quot;10-02-2018_12:15&quot;],\n",
    "\n",
    "&quot;DSC&quot;) ➞ [&quot;10-02-2018_12:30&quot;, &quot;10-02-2018_12:15&quot;, &quot;10-02-\n",
    "2016_12:30&quot;]\n",
    "\n",
    "sort_dates([&quot;09-02-2000_10:03&quot;, &quot;10-02-2000_18:29&quot;, &quot;01-01-1999_00:55&quot;],\n",
    "\n",
    "&quot;ASC&quot;) ➞ [&quot;01-01-1999_00:55&quot;, &quot;09-02-2000_10:03&quot;, &quot;10-02-\n",
    "2000_18:29&quot;]\n",
    "\n"
   ]
  },
  {
   "cell_type": "markdown",
   "id": "9ee5547b",
   "metadata": {},
   "source": [
    "# ans"
   ]
  },
  {
   "cell_type": "code",
   "execution_count": null,
   "id": "39be6478",
   "metadata": {},
   "outputs": [],
   "source": []
  },
  {
   "cell_type": "markdown",
   "id": "c4931c0f",
   "metadata": {},
   "source": [
    "# q"
   ]
  },
  {
   "cell_type": "markdown",
   "id": "9cb89006",
   "metadata": {},
   "source": [
    "5.Write a function that selects all words that have all the same vowels (in any\n",
    "\n",
    "order and/or number) as the first word, including the first word.\n",
    "\n",
    "Examples\n",
    "\n",
    "same_vowel_group([&quot;toe&quot;, &quot;ocelot&quot;, &quot;maniac&quot;]) ➞ [&quot;toe&quot;, &quot;ocelot&quot;]\n",
    "\n",
    "same_vowel_group([&quot;many&quot;, &quot;carriage&quot;, &quot;emit&quot;, &quot;apricot&quot;, &quot;animal&quot;]) ➞\n",
    "\n",
    "[&quot;many&quot;]\n",
    "\n",
    "same_vowel_group([&quot;hoops&quot;, &quot;chuff&quot;, &quot;bot&quot;, &quot;bottom&quot;]) ➞ [&quot;hoops&quot;, &quot;bot&quot;,\n",
    "\n",
    "&quot;bottom&quot;]"
   ]
  },
  {
   "cell_type": "markdown",
   "id": "657daea3",
   "metadata": {},
   "source": [
    "# ans"
   ]
  },
  {
   "cell_type": "code",
   "execution_count": 5,
   "id": "9c3a7bae",
   "metadata": {},
   "outputs": [
    {
     "name": "stdout",
     "output_type": "stream",
     "text": [
      "same_vowel_group(['toe', 'ocelot', 'maniac']) = ['toe', 'ocelot']\n",
      "same_vowel_group(['many', 'carriage', 'emit', 'apricot', 'animal']) = ['many', 'carriage', 'apricot', 'animal']\n",
      "same_vowel_group(['hoops', 'chuff', 'bot', 'bottom']) = ['hoops', 'bot', 'bottom']\n"
     ]
    }
   ],
   "source": [
    "def same_vowel_group(inp):\n",
    "    vowels = ['a','e','i','o','u']\n",
    "    lst = sorted(set([x for x in inp[0] if x in vowels]))\n",
    "    result = []\n",
    "    for itm in range(0,len(inp)):\n",
    "        vowels_in_word = [x for x in inp[itm] if x in lst]\n",
    "        if sorted(lst) == sorted(set(vowels_in_word)):\n",
    "            result.append(inp[itm])\n",
    "    print(f'same_vowel_group({inp}) = {result}')\n",
    "    \n",
    "same_vowel_group([\"toe\", \"ocelot\", \"maniac\"])\n",
    "same_vowel_group([\"many\", \"carriage\", \"emit\", \"apricot\", \"animal\"])\n",
    "same_vowel_group([\"hoops\", \"chuff\", \"bot\", \"bottom\"])"
   ]
  },
  {
   "cell_type": "markdown",
   "id": "2b58726b",
   "metadata": {},
   "source": [
    "# q"
   ]
  },
  {
   "cell_type": "markdown",
   "id": "d0a66012",
   "metadata": {},
   "source": [
    "6.Create a function that takes a list of more than three numbers and returns\n",
    "\n",
    "the Least Common Multiple (LCM).\n",
    "\n",
    "Examples\n",
    "\n",
    "lcm_of_list([1, 2, 3, 4, 5, 6, 7, 8, 9, 10]) ➞ 2520\n",
    "\n",
    "lcm_of_list([13, 6, 17, 18, 19, 20, 37]) ➞ 27965340\n",
    "\n",
    "lcm_of_list([44, 64, 12, 17, 65]) ➞ 2333760"
   ]
  },
  {
   "cell_type": "markdown",
   "id": "a67f5a36",
   "metadata": {},
   "source": [
    "# ans"
   ]
  },
  {
   "cell_type": "code",
   "execution_count": 6,
   "id": "a193211b",
   "metadata": {},
   "outputs": [],
   "source": [
    "import math"
   ]
  },
  {
   "cell_type": "code",
   "execution_count": 9,
   "id": "fd593924",
   "metadata": {},
   "outputs": [
    {
     "name": "stdout",
     "output_type": "stream",
     "text": [
      "lcm_of_list([1, 2, 3, 4, 5, 6, 7, 8, 9, 10]) = 2520\n",
      "lcm_of_list([13, 6, 17, 18, 19, 20, 37]) = 27965340\n",
      "lcm_of_list([44, 64, 12, 17, 65]) = 2333760\n"
     ]
    }
   ],
   "source": [
    "def lcm_of_list(inp):\n",
    "    result = inp[0]\n",
    "    for itm in range(1,len(inp)):\n",
    "        result = (result*inp[itm])//math.gcd(result,inp[itm])\n",
    "    print(f'lcm_of_list({inp}) = {result}')\n",
    "    \n",
    "lcm_of_list([1, 2, 3, 4, 5, 6, 7, 8, 9, 10])\n",
    "lcm_of_list([13, 6, 17, 18, 19, 20, 37])\n",
    "lcm_of_list([44, 64, 12, 17, 65])"
   ]
  },
  {
   "cell_type": "code",
   "execution_count": null,
   "id": "ff300bf1",
   "metadata": {},
   "outputs": [],
   "source": []
  }
 ],
 "metadata": {
  "kernelspec": {
   "display_name": "Python 3 (ipykernel)",
   "language": "python",
   "name": "python3"
  },
  "language_info": {
   "codemirror_mode": {
    "name": "ipython",
    "version": 3
   },
   "file_extension": ".py",
   "mimetype": "text/x-python",
   "name": "python",
   "nbconvert_exporter": "python",
   "pygments_lexer": "ipython3",
   "version": "3.9.7"
  }
 },
 "nbformat": 4,
 "nbformat_minor": 5
}
