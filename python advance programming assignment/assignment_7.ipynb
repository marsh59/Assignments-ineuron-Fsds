{
 "cells": [
  {
   "cell_type": "code",
   "execution_count": null,
   "id": "6f2c57a1",
   "metadata": {},
   "outputs": [],
   "source": []
  },
  {
   "cell_type": "markdown",
   "id": "d416e2ac",
   "metadata": {},
   "source": [
    "# q"
   ]
  },
  {
   "cell_type": "markdown",
   "id": "53fe854b",
   "metadata": {},
   "source": [
    "1.Write a function that counts how many concentric layers a rug.\n",
    "\n",
    "Examples\n",
    "\n",
    "count_layers([\n",
    "\n",
    "&quot;AAAA&quot;,\n",
    "\n",
    "&quot;ABBA&quot;,\n",
    "\n",
    "&quot;AAAA&quot;\n",
    "\n",
    "]) ➞ 2\n",
    "\n",
    "count_layers([\n",
    "\n",
    "&quot;AAAAAAAAA&quot;,\n",
    "\n",
    "&quot;ABBBBBBBA&quot;,\n",
    "\n",
    "&quot;ABBAAABBA&quot;,\n",
    "\n",
    "&quot;ABBBBBBBA&quot;,\n",
    "\n",
    "&quot;AAAAAAAAA&quot;\n",
    "\n",
    "]) ➞ 3\n",
    "\n",
    "count_layers([\n",
    "\n",
    "&quot;AAAAAAAAAAA&quot;,\n",
    "\n",
    "&quot;AABBBBBBBAA&quot;,\n",
    "\n",
    "&quot;AABCCCCCBAA&quot;,\n",
    "\n",
    "&quot;AABCAAACBAA&quot;,\n",
    "\n",
    "&quot;AABCADACBAA&quot;,\n",
    "\n",
    "&quot;AABCAAACBAA&quot;,\n",
    "\n",
    "&quot;AABCCCCCBAA&quot;,\n",
    "\n",
    "&quot;AABBBBBBBAA&quot;,\n",
    "\n",
    "&quot;AAAAAAAAAAA&quot;\n",
    "\n",
    "]) ➞ 5"
   ]
  },
  {
   "cell_type": "markdown",
   "id": "d0bf3b63",
   "metadata": {},
   "source": [
    "# ans"
   ]
  },
  {
   "cell_type": "code",
   "execution_count": 2,
   "id": "475ac32d",
   "metadata": {},
   "outputs": [
    {
     "name": "stdout",
     "output_type": "stream",
     "text": [
      "count_layers(['AAAA', 'ABBA', 'AAAA']) = 2\n",
      "count_layers(['AAAAAAAAA', 'ABBBBBBBA', 'ABBAAABBA', 'ABBBBBBBA', 'AAAAAAAAA']) = 3\n",
      "count_layers(['AAAAAAAAAAA', 'AABBBBBBBAA', 'AABCCCCCBAA', 'AABCAAACBAA', 'AABCADACBAA', 'AABCAAACBAA', 'AABCCCCCBAA', 'AABBBBBBBAA', 'AAAAAAAAAAA']) = 5\n"
     ]
    }
   ],
   "source": [
    "def count_layers(inp):\n",
    "    res = []\n",
    "    for item in inp:\n",
    "        if item not in res:\n",
    "            res.append(item)\n",
    "    print(f'count_layers({inp}) = {len(res)}')\n",
    "\n",
    "count_layers([\"AAAA\",\"ABBA\",\"AAAA\"])\n",
    "count_layers([\"AAAAAAAAA\",\"ABBBBBBBA\",\"ABBAAABBA\",\"ABBBBBBBA\",\"AAAAAAAAA\"])\n",
    "count_layers([\"AAAAAAAAAAA\",\"AABBBBBBBAA\",\"AABCCCCCBAA\",\"AABCAAACBAA\",\"AABCADACBAA\",\"AABCAAACBAA\",\"AABCCCCCBAA\",\"AABBBBBBBAA\",\"AAAAAAAAAAA\"])\n"
   ]
  },
  {
   "cell_type": "markdown",
   "id": "e12331b5",
   "metadata": {},
   "source": [
    "# q"
   ]
  },
  {
   "cell_type": "markdown",
   "id": "96e9acb4",
   "metadata": {},
   "source": [
    "2.There are many different styles of music and many albums exhibit multiple\n",
    "\n",
    "styles. Create a function that takes a list of musical styles from albums and\n",
    "\n",
    "returns how many styles are unique.\n",
    "\n",
    "Examples\n",
    "\n",
    "unique_styles([\n",
    "\n",
    "&quot;Dub,Dancehall&quot;,\n",
    "\n",
    "&quot;Industrial,Heavy Metal&quot;,\n",
    "\n",
    "&quot;Techno,Dubstep&quot;,\n",
    "\n",
    "&quot;Synth-pop,Euro-Disco&quot;,\n",
    "\n",
    "&quot;Industrial,Techno,Minimal&quot;\n",
    "\n",
    "]) ➞ 9\n",
    "\n",
    "unique_styles([\n",
    "\n",
    "&quot;Soul&quot;,\n",
    "\n",
    "&quot;House,Folk&quot;,\n",
    "\n",
    "&quot;Trance,Downtempo,Big Beat,House&quot;,\n",
    "\n",
    "&quot;Deep House&quot;,\n",
    "\n",
    "&quot;Soul&quot;\n",
    "\n",
    "]) ➞ 7"
   ]
  },
  {
   "cell_type": "markdown",
   "id": "4bfc26f2",
   "metadata": {},
   "source": [
    "# ans"
   ]
  },
  {
   "cell_type": "code",
   "execution_count": 4,
   "id": "544cca53",
   "metadata": {},
   "outputs": [
    {
     "name": "stdout",
     "output_type": "stream",
     "text": [
      "unique_styles(['Dub,Dancehall', 'Industrial,Heavy Metal', 'Techno,Dubstep', 'Synth-pop,Euro-Disco', 'Industrial,Techno,Minimal']) = 9\n",
      "unique_styles(['Soul', 'House,Folk', 'Trance,Downtempo,Big Beat,House', 'Deep House', 'Soul']) = 7\n"
     ]
    }
   ],
   "source": [
    "def unique_styles(inp):\n",
    "    res = []\n",
    "    for item in inp:\n",
    "        for item_2 in item.split(','):\n",
    "            res.append(item_2)\n",
    "    print(f'unique_styles({inp}) = {len(set(res))}')\n",
    "                \n",
    "unique_styles([\"Dub,Dancehall\",\"Industrial,Heavy Metal\",\"Techno,Dubstep\",\"Synth-pop,Euro-Disco\",\"Industrial,Techno,Minimal\"]) \n",
    "unique_styles([\"Soul\",\"House,Folk\",\"Trance,Downtempo,Big Beat,House\",\"Deep House\",\"Soul\"])"
   ]
  },
  {
   "cell_type": "markdown",
   "id": "6026ceba",
   "metadata": {},
   "source": [
    "# q"
   ]
  },
  {
   "cell_type": "markdown",
   "id": "de765296",
   "metadata": {},
   "source": [
    "3.Create a function that finds a target number in a list of prime numbers.\n",
    "\n",
    "Implement a binary search algorithm in your function. The target number will\n",
    "\n",
    "be from 2 through 97. If the target is prime then return &quot;yes&quot; else return &quot;no&quot;.\n",
    "\n",
    "Examples\n",
    "\n",
    "primes = [2, 3, 5, 7, 11, 13, 17, 19, 23, 29, 31, 37, 41, 43, 47, 53, 59, 61, 67,\n",
    "\n",
    "71, 73, 79, 83, 89, 97]\n",
    "\n",
    "\n",
    "is_prime(primes, 3) ➞ &quot;yes&quot;\n",
    "\n",
    "is_prime(primes, 4) ➞ &quot;no&quot;\n",
    "\n",
    "is_prime(primes, 67) ➞ &quot;yes&quot;\n",
    "\n",
    "is_prime(primes, 36) ➞ &quot;no&quot;"
   ]
  },
  {
   "cell_type": "markdown",
   "id": "8a06ddaf",
   "metadata": {},
   "source": [
    "# ans"
   ]
  },
  {
   "cell_type": "code",
   "execution_count": 7,
   "id": "c9ce7dcf",
   "metadata": {},
   "outputs": [
    {
     "name": "stdout",
     "output_type": "stream",
     "text": [
      "is_prime(3) = no\n",
      "is_prime(4) = no\n",
      "is_prime(67) = no\n",
      "is_prime(36) = no\n"
     ]
    }
   ],
   "source": [
    "primes = [2, 3, 5, 7, 11, 13, 17, 19, 23, 29, 31, 37, 41, 43, 47, 53, 59, 61, 67, 71, 73, 79, 83, 89, 97]\n",
    "\n",
    "def is_prime(inp_1,inp_2):\n",
    "    result = 'no'\n",
    "    start_point = 0\n",
    "    end_point = len(inp_1) - 1\n",
    "    mid_point = 0\n",
    "    while start_point <= end_point:\n",
    "        mid_point = (end_point+start_point)//2\n",
    "        if inp_1[mid_point] < inp_2:\n",
    "            start_point = mid_point + 1\n",
    "        elif inp_1[mid_point] > inp_2:\n",
    "            end_point = mid_point - 1\n",
    "        else:\n",
    "            output = 'yes'\n",
    "            break\n",
    "    print(f'is_prime({inp_2}) = {result}')\n",
    "\n",
    "is_prime(primes, 3)\n",
    "is_prime(primes, 4)\n",
    "is_prime(primes, 67)\n",
    "is_prime(primes, 36)"
   ]
  },
  {
   "cell_type": "code",
   "execution_count": null,
   "id": "ba323310",
   "metadata": {},
   "outputs": [],
   "source": []
  },
  {
   "cell_type": "markdown",
   "id": "cc037bfb",
   "metadata": {},
   "source": [
    "# q"
   ]
  },
  {
   "cell_type": "markdown",
   "id": "9dd89d60",
   "metadata": {},
   "source": [
    "4.Create a function that takes in n, a, b and returns the number of positive\n",
    "\n",
    "values raised to the nth power that lie in the range [a, b], inclusive.\n",
    "\n",
    "Examples\n",
    "\n",
    "power_ranger(2, 49, 65) ➞ 2\n",
    "\n",
    " 2 squares (n^2) lie between 49 and 65, 49 (7^2) and 64 \n",
    "(8^2)\n",
    "power_ranger(3, 1, 27) ➞ 3\n",
    "\n",
    " 3 cubes (n^3) lie between 1 and 27, 1 (1^3), 8 (2^3) and 27 (3^3)\n",
    "\n",
    "power_ranger(10, 1, 5) ➞ 1\n",
    "\n",
    " 1 value raised to the 10th power lies between 1 and 5, 1 (1^10)\n",
    "\n",
    "power_ranger(5, 31, 33) ➞ 1\n",
    "\n",
    "power_ranger(4, 250, 1300) ➞ 3"
   ]
  },
  {
   "cell_type": "markdown",
   "id": "9ee5547b",
   "metadata": {},
   "source": [
    "# ans"
   ]
  },
  {
   "cell_type": "code",
   "execution_count": 8,
   "id": "192688c4",
   "metadata": {},
   "outputs": [],
   "source": [
    "import math"
   ]
  },
  {
   "cell_type": "code",
   "execution_count": 11,
   "id": "39be6478",
   "metadata": {},
   "outputs": [
    {
     "name": "stdout",
     "output_type": "stream",
     "text": [
      "power_ranger(2, 49, 65) = 2\n",
      "power_ranger(3, 1, 27) = 3\n",
      "power_ranger(10, 1, 5) = 1\n",
      "power_ranger(5, 31, 33) = 1\n",
      "power_ranger(4, 250, 1300) = 3\n"
     ]
    }
   ],
   "source": [
    "def power_ranger(in_base,in_min,in_max):\n",
    "    output = []\n",
    "    for item in range(in_min,in_max+1):\n",
    "        root = round(math.exp(math.log(item)/in_base),1)\n",
    "        if str(root).split(\".\")[1] == '0':\n",
    "            output.append(int(root))\n",
    "    print(f'power_ranger{in_base,in_min,in_max} = {len(set(output))}')\n",
    "\n",
    "power_ranger(2, 49, 65)\n",
    "power_ranger(3, 1, 27)\n",
    "power_ranger(10, 1, 5)\n",
    "power_ranger(5, 31, 33)\n",
    "power_ranger(4, 250, 1300)"
   ]
  },
  {
   "cell_type": "markdown",
   "id": "c4931c0f",
   "metadata": {},
   "source": [
    "# q"
   ]
  },
  {
   "cell_type": "markdown",
   "id": "9cb89006",
   "metadata": {},
   "source": [
    "5.Given a number, return the difference between the maximum and minimum\n",
    "\n",
    "numbers that can be formed when the digits are rearranged.\n",
    "\n",
    "Examples\n",
    "\n",
    "rearranged_difference(972882) ➞ 760833\n",
    "\n",
    " 988722 - 227889 = 760833\n",
    "\n",
    "rearranged_difference(3320707) ➞ 7709823\n",
    "\n",
    " 7733200 - 23377 = 7709823\n",
    "\n",
    "rearranged_difference(90010) ➞ 90981\n",
    "\n",
    " 91000 - 19 = 90981\n"
   ]
  },
  {
   "cell_type": "markdown",
   "id": "657daea3",
   "metadata": {},
   "source": [
    "# ans"
   ]
  },
  {
   "cell_type": "code",
   "execution_count": 12,
   "id": "9c3a7bae",
   "metadata": {},
   "outputs": [
    {
     "name": "stdout",
     "output_type": "stream",
     "text": [
      "rearranged_difference(972882) : 988722 - 227889 = 760833\n",
      "rearranged_difference(3320707) : 7733200 - 23377 = 7709823\n",
      "rearranged_difference(90010) : 91000 - 19 = 90981\n"
     ]
    }
   ],
   "source": [
    "def rearranged_difference(inp):\n",
    "    result = []\n",
    "    for item in str(inp):\n",
    "        result.append(item)\n",
    "    min_nu = int(''.join(sorted(result))) \n",
    "    max_nu = int(''.join(sorted(result, reverse=True)))\n",
    "    print(f'rearranged_difference({inp}) : {max_nu} - {min_nu} = {max_nu-min_nu}')\n",
    "    \n",
    "rearranged_difference(972882)    \n",
    "rearranged_difference(3320707)\n",
    "rearranged_difference(90010)"
   ]
  },
  {
   "cell_type": "code",
   "execution_count": null,
   "id": "8ab7f6a8",
   "metadata": {},
   "outputs": [],
   "source": []
  }
 ],
 "metadata": {
  "kernelspec": {
   "display_name": "Python 3 (ipykernel)",
   "language": "python",
   "name": "python3"
  },
  "language_info": {
   "codemirror_mode": {
    "name": "ipython",
    "version": 3
   },
   "file_extension": ".py",
   "mimetype": "text/x-python",
   "name": "python",
   "nbconvert_exporter": "python",
   "pygments_lexer": "ipython3",
   "version": "3.9.7"
  }
 },
 "nbformat": 4,
 "nbformat_minor": 5
}
