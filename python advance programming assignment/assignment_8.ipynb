{
 "cells": [
  {
   "cell_type": "code",
   "execution_count": null,
   "id": "6f2c57a1",
   "metadata": {},
   "outputs": [],
   "source": []
  },
  {
   "cell_type": "markdown",
   "id": "d416e2ac",
   "metadata": {},
   "source": [
    "# q"
   ]
  },
  {
   "cell_type": "markdown",
   "id": "53fe854b",
   "metadata": {},
   "source": [
    "1.Given a sentence as txt, return True if any two adjacent words have this\n",
    "\n",
    "property: One word ends with a vowel, while the word immediately after\n",
    "\n",
    "begins with a vowel (a e i o u).\n",
    "\n",
    "Examples\n",
    "\n",
    "vowel_links(&quot;a very large appliance&quot;) ➞ True\n",
    "\n",
    "vowel_links(&quot;go to edabit&quot;) ➞ True\n",
    "\n",
    "vowel_links(&quot;an open fire&quot;) ➞ False\n",
    "\n",
    "vowel_links(&quot;a sudden applause&quot;) ➞ False"
   ]
  },
  {
   "cell_type": "markdown",
   "id": "d0bf3b63",
   "metadata": {},
   "source": [
    "# ans"
   ]
  },
  {
   "cell_type": "code",
   "execution_count": 1,
   "id": "475ac32d",
   "metadata": {},
   "outputs": [
    {
     "name": "stdout",
     "output_type": "stream",
     "text": [
      "vowel_links(a very large appliance) = True\n",
      "vowel_links(go to edabit) = True\n",
      "vowel_links(an open fire) = False\n",
      "vowel_links(a sudden applause) = False\n"
     ]
    }
   ],
   "source": [
    "def vowel_links(inp):\n",
    "    inp_list = inp.split(\" \")\n",
    "    vowels = ['a','e','i','o','u']\n",
    "    end,start,output = False, False,False\n",
    "    for item in range(len(inp_list)):\n",
    "        temp = True if inp_list[item][-1] in vowels else False\n",
    "        start = True if inp_list[item][0] in vowels else False\n",
    "        if start == end == True:\n",
    "            output=True\n",
    "            break\n",
    "        end=temp\n",
    "    print(f'vowel_links({inp}) = {output}')\n",
    "                \n",
    "vowel_links(\"a very large appliance\")\n",
    "vowel_links(\"go to edabit\")\n",
    "vowel_links(\"an open fire\")\n",
    "vowel_links(\"a sudden applause\")"
   ]
  },
  {
   "cell_type": "markdown",
   "id": "e12331b5",
   "metadata": {},
   "source": [
    "# q"
   ]
  },
  {
   "cell_type": "markdown",
   "id": "96e9acb4",
   "metadata": {},
   "source": [
    "2.You are given three inputs: a string, one letter, and a second letter.\n",
    "\n",
    "Write a function that returns True if every instance of the first letter occurs\n",
    "\n",
    "before every instance of the second letter.\n",
    "\n",
    "Examples\n",
    "\n",
    "first_before_second(&quot;a rabbit jumps joyfully&quot;, &quot;a&quot;, &quot;j&quot;) ➞ True\n",
    "\n",
    " Every instance of &quot;a&quot; occurs before every \n",
    "instance of &quot;j&quot;.\n",
    "\n",
    "first_before_second(&quot;knaves knew about waterfalls&quot;, &quot;k&quot;, &quot;w&quot;) ➞ True\n",
    "\n",
    "first_before_second(&quot;happy birthday&quot;, &quot;a&quot;, &quot;y&quot;) ➞ False\n",
    "\n",
    " The &quot;a&quot; in &quot;birthday&quot; occurs after the &quot;y&quot; in &quot;happy&quot;.\n",
    "\n",
    "first_before_second(&quot;precarious kangaroos&quot;, &quot;k&quot;, &quot;a&quot;) ➞ False"
   ]
  },
  {
   "cell_type": "markdown",
   "id": "4bfc26f2",
   "metadata": {},
   "source": [
    "# ans"
   ]
  },
  {
   "cell_type": "code",
   "execution_count": 2,
   "id": "544cca53",
   "metadata": {},
   "outputs": [],
   "source": [
    "def first_before_second(inp_str,inp_1,inp_2):\n",
    "    last_occur_first = inp_str.rindex(inp_1)\n",
    "    first_occur_second = inp_str.index(inp_2)\n",
    "    result = True if last_occur_first < first_occur_second else False\n",
    "    print(f'first_before_second_index({inp_str}, {inp_1}, {inp_2}) = {result}')"
   ]
  },
  {
   "cell_type": "code",
   "execution_count": 3,
   "id": "827746f5",
   "metadata": {},
   "outputs": [
    {
     "name": "stdout",
     "output_type": "stream",
     "text": [
      "first_before_second_index(a rabbit jumps joyfully, a, j) = True\n",
      "first_before_second_index(knaves knew about waterfalls, k, w) = True\n",
      "first_before_second_index(happy birthday, a, y) = False\n",
      "first_before_second_index(precarious kangaroos, k, a) = False\n"
     ]
    }
   ],
   "source": [
    "first_before_second(\"a rabbit jumps joyfully\", \"a\", \"j\")\n",
    "first_before_second(\"knaves knew about waterfalls\", \"k\", \"w\")\n",
    "first_before_second(\"happy birthday\", \"a\", \"y\")\n",
    "first_before_second(\"precarious kangaroos\", \"k\", \"a\")"
   ]
  },
  {
   "cell_type": "markdown",
   "id": "6026ceba",
   "metadata": {},
   "source": [
    "# q"
   ]
  },
  {
   "cell_type": "markdown",
   "id": "de765296",
   "metadata": {},
   "source": [
    "3.Create a function that returns the characters from a list or string r on odd or\n",
    "\n",
    "even positions, depending on the specifier s. The specifier will be &quot;odd&quot; for\n",
    "\n",
    "items on odd positions (1, 3, 5, ...) and &quot;even&quot; for items on even positions (2,\n",
    "\n",
    "4, 6, ...).\n",
    "\n",
    "Examples\n",
    "\n",
    "char_at_pos([2, 4, 6, 8, 10], &quot;even&quot;) ➞ [4, 8]\n",
    "\n",
    " 4 &amp; 8 occupy the 2nd &amp; 4th positions\n",
    "\n",
    "char_at_pos(&quot;EDABIT&quot;, &quot;odd&quot;) ➞ &quot;EAI&quot;\n",
    "\n",
    " &quot;E&quot;, &quot;A&quot; and &quot;I&quot; occupy the 1st, 3rd and 5th positions\n",
    " \n",
    " char_at_pos([&quot;A&quot;, &quot;R&quot;, &quot;B&quot;, &quot;I&quot;, &quot;T&quot;, &quot;R&quot;, \n",
    "&quot;A&quot;, &quot;R&quot;, &quot;I&quot;, &quot;L&quot;, &quot;Y&quot;], &quot;odd&quot;) ➞ [&quot;A&quot;,\n",
    "\n",
    "&quot;B&quot;, &quot;T&quot;, &quot;A&quot;, &quot;I&quot;, &quot;Y&quot;]\n"
   ]
  },
  {
   "cell_type": "markdown",
   "id": "8a06ddaf",
   "metadata": {},
   "source": [
    "# ans"
   ]
  },
  {
   "cell_type": "code",
   "execution_count": 4,
   "id": "c9ce7dcf",
   "metadata": {},
   "outputs": [
    {
     "name": "stdout",
     "output_type": "stream",
     "text": [
      "char_at_pos([2, 4, 6, 8, 10], 'even') = [4, 8]\n",
      "char_at_pos('EDABIT', 'odd') = ['E', 'A', 'I']\n",
      "char_at_pos(['A', 'R', 'B', 'I', 'T', 'R', 'A', 'R', 'I', 'L', 'Y'], 'odd') = ['A', 'B', 'T', 'A', 'I', 'Y']\n"
     ]
    }
   ],
   "source": [
    "def char_at_pos(inp,oper_type):\n",
    "    result = []\n",
    "    for item in range(len(inp)):\n",
    "        if oper_type == 'even' and (item+1)%2 == 0:\n",
    "            result.append(inp[item])\n",
    "        elif oper_type == 'odd' and (item+1)%2 != 0:\n",
    "            result.append(inp[item])            \n",
    "    print(f'char_at_pos{inp,oper_type} = {result}')\n",
    "        \n",
    "        \n",
    "char_at_pos([2, 4, 6, 8, 10], \"even\")\n",
    "char_at_pos(\"EDABIT\", \"odd\")\n",
    "char_at_pos([\"A\", \"R\", \"B\", \"I\", \"T\", \"R\", \"A\", \"R\", \"I\", \"L\", \"Y\"], \"odd\")"
   ]
  },
  {
   "cell_type": "code",
   "execution_count": null,
   "id": "ba323310",
   "metadata": {},
   "outputs": [],
   "source": []
  },
  {
   "cell_type": "markdown",
   "id": "cc037bfb",
   "metadata": {},
   "source": [
    "# q"
   ]
  },
  {
   "cell_type": "markdown",
   "id": "9dd89d60",
   "metadata": {},
   "source": [
    "4.Write a function that returns the greatest common divisor of all list\n",
    "\n",
    "elements. If the greatest common divisor is 1, return 1.\n",
    "\n",
    "Examples\n",
    "\n",
    "GCD([10, 20, 40]) ➞ 10\n",
    "\n",
    "GCD([1, 2, 3, 100]) ➞ 1\n",
    "\n",
    "GCD([1024, 192, 2048, 512]) ➞ 64"
   ]
  },
  {
   "cell_type": "markdown",
   "id": "9ee5547b",
   "metadata": {},
   "source": [
    "# ans"
   ]
  },
  {
   "cell_type": "code",
   "execution_count": 5,
   "id": "39be6478",
   "metadata": {},
   "outputs": [
    {
     "name": "stdout",
     "output_type": "stream",
     "text": [
      "GCD([10, 20, 40]) = 10\n",
      "GCD([1, 2, 3, 100]) = 1\n",
      "GCD([1024, 192, 2048, 512]) = 64\n"
     ]
    }
   ],
   "source": [
    "def GCD(inp):\n",
    "    small = min(inp)\n",
    "    gcd = -1\n",
    "    for i in range(1, small+1):\n",
    "        output = []\n",
    "        for item in inp:\n",
    "            output.append(item % i)\n",
    "        if len(set(output)) == 1 and list(set(output))[0] == 0:\n",
    "            gcd = i\n",
    "    print(f'GCD({inp}) = {gcd}')\n",
    "    \n",
    "GCD([10, 20, 40])\n",
    "GCD([1, 2, 3, 100])\n",
    "GCD([1024, 192, 2048, 512])"
   ]
  },
  {
   "cell_type": "markdown",
   "id": "c4931c0f",
   "metadata": {},
   "source": [
    "# q"
   ]
  },
  {
   "cell_type": "markdown",
   "id": "9cb89006",
   "metadata": {},
   "source": [
    "5.A number/string is a palindrome if the digits/characters are the same when\n",
    "\n",
    "read both forward and backward. Examples include &quot;racecar&quot; and 12321.\n",
    "\n",
    "Given a positive number n, check if n or the binary representation of n is\n",
    "\n",
    "palindromic. Return the following:\n",
    "\n",
    "- &quot;Decimal only.&quot; if only n is a palindrome.\n",
    "\n",
    "- &quot;Binary only.&quot; if only the binary representation of n is a palindrome.\n",
    "\n",
    "- &quot;Decimal and binary.&quot; if both are palindromes.\n",
    "\n",
    "- &quot;Neither!&quot; if neither are palindromes.\n",
    "\n",
    "Examples\n",
    "\n",
    "palindrome_type(1306031) ➞ &quot;Decimal only.&quot;\n",
    "\n",
    " decimal = 1306031\n",
    "\n",
    " binary = &quot;100111110110110101111&quot;\n",
    "\n",
    "palindrome_type(427787) ➞ &quot;Binary only.&quot;\n",
    "\n",
    " decimal = 427787\n",
    "\n",
    " binary = &quot;1101000011100001011&quot;\n",
    "\n",
    "palindrome_type(313) ➞ &quot;Decimal and binary.&quot;\n",
    "\n",
    " decimal = 313\n",
    "\n",
    " binary = 100111001\n",
    "\n",
    "palindrome_type(934) ➞ &quot;Neither!&quot;\n",
    "\n",
    " decimal = 934\n",
    "\n",
    " binary = &quot;1110100110&quot;"
   ]
  },
  {
   "cell_type": "markdown",
   "id": "657daea3",
   "metadata": {},
   "source": [
    "# ans"
   ]
  },
  {
   "cell_type": "code",
   "execution_count": 6,
   "id": "9c3a7bae",
   "metadata": {},
   "outputs": [
    {
     "name": "stdout",
     "output_type": "stream",
     "text": [
      "palindrome(1306031) = Decimal only.\n",
      "palindrome(427787) = Neither!\n",
      "palindrome(313) = Decimal and binary.\n",
      "palindrome(934) = Neither!\n"
     ]
    }
   ],
   "source": [
    "def palindrome_type(inp):\n",
    "    result = None\n",
    "    if str(inp) == str(inp)[::-1] and str(bin(inp)[2:]) == str(bin(inp)[2:])[::-1]:\n",
    "        result = 'Decimal and binary.'\n",
    "    elif str(inp) == str(inp)[::-1] and str(bin(inp)[2:]) != str(bin(inp)[2:])[::-1]:\n",
    "        result = 'Decimal only.'\n",
    "    elif str(bin(inp)[2:]) != str(bin(inp)[2:])[::-1] and str(inp) == str(inp)[::-1]:\n",
    "        result = 'Binary only.'\n",
    "    else:\n",
    "        result = 'Neither!'\n",
    "    print(f'palindrome({inp}) = {result}')\n",
    "\n",
    "palindrome_type(1306031)\n",
    "palindrome_type(427787)\n",
    "palindrome_type(313)\n",
    "palindrome_type(934)"
   ]
  },
  {
   "cell_type": "code",
   "execution_count": null,
   "id": "2cd234f9",
   "metadata": {},
   "outputs": [],
   "source": []
  }
 ],
 "metadata": {
  "kernelspec": {
   "display_name": "Python 3 (ipykernel)",
   "language": "python",
   "name": "python3"
  },
  "language_info": {
   "codemirror_mode": {
    "name": "ipython",
    "version": 3
   },
   "file_extension": ".py",
   "mimetype": "text/x-python",
   "name": "python",
   "nbconvert_exporter": "python",
   "pygments_lexer": "ipython3",
   "version": "3.9.7"
  }
 },
 "nbformat": 4,
 "nbformat_minor": 5
}
