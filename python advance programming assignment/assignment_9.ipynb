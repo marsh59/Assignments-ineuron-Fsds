{
 "cells": [
  {
   "cell_type": "code",
   "execution_count": null,
   "id": "6f2c57a1",
   "metadata": {},
   "outputs": [],
   "source": []
  },
  {
   "cell_type": "markdown",
   "id": "d416e2ac",
   "metadata": {},
   "source": [
    "# q"
   ]
  },
  {
   "cell_type": "markdown",
   "id": "53fe854b",
   "metadata": {},
   "source": [
    "1.YouTube offers different playback speed options for users. This allows\n",
    "\n",
    "users to increase or decrease the speed of the video content. Given the\n",
    "\n",
    "actual duration and playback speed of the video, calculate the playback\n",
    "\n",
    "duration of the video.\n",
    "\n",
    "Examples\n",
    "\n",
    "playback_duration(&quot;00:30:00&quot;, 2) ➞ &quot;00:15:00&quot;\n",
    "\n",
    "playback_duration(&quot;01:20:00&quot;, 1.5) ➞ &quot;00:53:20&quot;\n",
    "\n",
    "playback_duration(&quot;51:20:09&quot;, 0.5) ➞ &quot;102:40:18&quot;"
   ]
  },
  {
   "cell_type": "markdown",
   "id": "d0bf3b63",
   "metadata": {},
   "source": [
    "# ans"
   ]
  },
  {
   "cell_type": "code",
   "execution_count": 1,
   "id": "475ac32d",
   "metadata": {},
   "outputs": [
    {
     "name": "stdout",
     "output_type": "stream",
     "text": [
      "playback_duration('00:30:00', 2) = 00:15:00\n",
      "playback_duration('01:20:00', 1.5) = 00:53:20\n",
      "playback_duration('51:20:09', 0.5) = 102:40:18\n"
     ]
    }
   ],
   "source": [
    "def playback_duration(input_time,playback_speed):\n",
    "    time = input_time.split(\":\")\n",
    "    time_in_secs = (3600*int(time[0])+60*int(time[1])+int(time[2]))/playback_speed\n",
    "    f_time_in_hours = str(int(time_in_secs/3600)) if time_in_secs > 3600 else '00'\n",
    "    f_time_in_mins = str(int((time_in_secs%3600)/60)) if (time_in_secs)%3600 > 60 else '00'\n",
    "    f_time_in_secs = str(int((time_in_secs%3600)%60)) if ((time_in_secs)%3600)%60 > 0 else '00'   \n",
    "    result = f'{f_time_in_hours}:{f_time_in_mins}:{f_time_in_secs}'\n",
    "    print(f'playback_duration{input_time, playback_speed} = {result}')\n",
    "    \n",
    "playback_duration(\"00:30:00\", 2)\n",
    "playback_duration(\"01:20:00\", 1.5)\n",
    "playback_duration(\"51:20:09\", 0.5) "
   ]
  },
  {
   "cell_type": "markdown",
   "id": "e12331b5",
   "metadata": {},
   "source": [
    "# q"
   ]
  },
  {
   "cell_type": "markdown",
   "id": "96e9acb4",
   "metadata": {},
   "source": [
    "2.We needs your help to construct a building which will be a pile of n cubes.\n",
    "\n",
    "The cube at the bottom will have a volume of n^3, the cube above will have\n",
    "\n",
    "volume of (n-1)^3 and so on until the top which will have a volume of 1^3.\n",
    "\n",
    "Given the total volume m of the building, can you find the number of cubes n\n",
    "\n",
    "required for the building?\n",
    "\n",
    "In other words, you have to return an integer n such that:\n",
    "\n",
    "n^3 + (n-1)^3 + ... + 1^3 == m\n",
    "\n",
    "Return None if there is no such number.\n",
    "\n",
    "Examples\n",
    "\n",
    "pile_of_cubes(1071225) ➞ 45\n",
    "\n",
    "pile_of_cubes(4183059834009) ➞ 2022\n",
    "\n",
    "pile_of_cubes(16) ➞ None"
   ]
  },
  {
   "cell_type": "markdown",
   "id": "4bfc26f2",
   "metadata": {},
   "source": [
    "# ans"
   ]
  },
  {
   "cell_type": "code",
   "execution_count": 3,
   "id": "544cca53",
   "metadata": {},
   "outputs": [
    {
     "name": "stdout",
     "output_type": "stream",
     "text": [
      "pile_of_cubes(1071225) = 45\n",
      "pile_of_cubes(4183059834009) = 2022\n",
      "pile_of_cubes(16) = None\n"
     ]
    }
   ],
   "source": [
    "def pile_of_cubes(inp):\n",
    "    volume = 0\n",
    "    result = 0\n",
    "    for cube in range(1,inp):\n",
    "        volume += pow(cube,3)\n",
    "        if inp <= volume:\n",
    "            result = cube if inp == volume else None\n",
    "            break\n",
    "    print(f'pile_of_cubes({inp}) = {result}')\n",
    "\n",
    "pile_of_cubes(1071225)\n",
    "pile_of_cubes(4183059834009)\n",
    "pile_of_cubes(16)"
   ]
  },
  {
   "cell_type": "markdown",
   "id": "6026ceba",
   "metadata": {},
   "source": [
    "# q"
   ]
  },
  {
   "cell_type": "markdown",
   "id": "de765296",
   "metadata": {},
   "source": [
    "3.A fulcrum of a list is an integer such that all elements to the left of it and all\n",
    "\n",
    "elements to the right of it sum to the same value. Write a function that finds\n",
    "\n",
    "the fulcrum of a list.\n",
    "\n",
    "To illustrate:\n",
    "\n",
    "find_fulcrum([3, 1, 5, 2, 4, 6, -1]) ➞ 2\n",
    "\n",
    "// Since [3, 1, 5] and [4, 6, -1] both sum to 9\n",
    "\n",
    "Examples\n",
    "\n",
    "find_fulcrum([1, 2, 4, 9, 10, -10, -9, 3]) ➞ 4\n",
    "\n",
    "find_fulcrum([9, 1, 9]) ➞ 1\n",
    "\n",
    "find_fulcrum([7, -1, 0, -1, 1, 1, 2, 3]) ➞ 0\n",
    "\n",
    "find_fulcrum([8, 8, 8, 8]) ➞ -1"
   ]
  },
  {
   "cell_type": "markdown",
   "id": "8a06ddaf",
   "metadata": {},
   "source": [
    "# ans"
   ]
  },
  {
   "cell_type": "code",
   "execution_count": 4,
   "id": "c9ce7dcf",
   "metadata": {},
   "outputs": [
    {
     "name": "stdout",
     "output_type": "stream",
     "text": [
      "find_fulcrum([3, 1, 5, 2, 4, 6, -1]) = 2\n",
      "find_fulcrum([1, 2, 4, 9, 10, -10, -9, 3]) = 4\n",
      "find_fulcrum([9, 1, 9]) = 1\n",
      "find_fulcrum([7, -1, 0, -1, 1, 1, 2, 3]) = 0\n",
      "find_fulcrum([8, 8, 8, 8]) = -1\n"
     ]
    }
   ],
   "source": [
    "def find_fulcrum(inp):\n",
    "    result = -1\n",
    "    for itm in inp:\n",
    "        index_of_element =inp.index(itm)\n",
    "        if sum(inp[:index_of_element]) == sum(inp[index_of_element+1:]):\n",
    "            result = itm\n",
    "            break\n",
    "    print(f'find_fulcrum({inp}) = {result}')\n",
    "        \n",
    "find_fulcrum([3, 1, 5, 2, 4, 6, -1])\n",
    "find_fulcrum([1, 2, 4, 9, 10, -10, -9, 3])\n",
    "find_fulcrum([9, 1, 9])\n",
    "find_fulcrum([7, -1, 0, -1, 1, 1, 2, 3])\n",
    "find_fulcrum([8, 8, 8, 8])"
   ]
  },
  {
   "cell_type": "code",
   "execution_count": null,
   "id": "ba323310",
   "metadata": {},
   "outputs": [],
   "source": []
  },
  {
   "cell_type": "markdown",
   "id": "cc037bfb",
   "metadata": {},
   "source": [
    "# q"
   ]
  },
  {
   "cell_type": "markdown",
   "id": "9dd89d60",
   "metadata": {},
   "source": [
    "4.Given a list of integers representing the color of each sock, determine how\n",
    "\n",
    "many pairs of socks with matching colors there are. For example, there are 7\n",
    "\n",
    "socks with colors [1, 2, 1, 2, 1, 3, 2]. There is one pair of color 1 and one of\n",
    "\n",
    "color 2. There are three odd socks left, one of each color. The number of\n",
    "\n",
    "pairs is 2.\n",
    "\n",
    "Create a function that returns an integer representing the number of matching\n",
    "\n",
    "pairs of socks that are available.\n",
    "\n",
    "Examples\n",
    "\n",
    "sock_merchant([10, 20, 20, 10, 10, 30, 50, 10, 20]) ➞ 3\n",
    "\n",
    "sock_merchant([50, 20, 30, 90, 30, 20, 50, 20, 90]) ➞ 4\n",
    "\n",
    "sock_merchant([]) ➞ 0"
   ]
  },
  {
   "cell_type": "markdown",
   "id": "9ee5547b",
   "metadata": {},
   "source": [
    "# ans"
   ]
  },
  {
   "cell_type": "code",
   "execution_count": 5,
   "id": "39be6478",
   "metadata": {},
   "outputs": [
    {
     "name": "stdout",
     "output_type": "stream",
     "text": [
      "sock_merchant([10, 20, 20, 10, 10, 30, 50, 10, 20]) = 3\n",
      "sock_merchant([50, 20, 30, 90, 30, 20, 50, 20, 90]) = 4\n",
      "sock_merchant([]) = 0\n"
     ]
    }
   ],
   "source": [
    "def sock_merchant(inp):\n",
    "    paired_socks = {}\n",
    "    result = 0\n",
    "    for itm in inp:\n",
    "        if itm in paired_socks:\n",
    "            paired_socks[itm]+=1\n",
    "        else:\n",
    "            paired_socks[itm]=1\n",
    "    for pair in paired_socks.values():\n",
    "        result += pair//2\n",
    "    print(f'sock_merchant({inp}) = {result}')\n",
    "    \n",
    "\n",
    "sock_merchant([10, 20, 20, 10, 10, 30, 50, 10, 20])\n",
    "sock_merchant([50, 20, 30, 90, 30, 20, 50, 20, 90])\n",
    "sock_merchant([])"
   ]
  },
  {
   "cell_type": "markdown",
   "id": "c4931c0f",
   "metadata": {},
   "source": [
    "# q"
   ]
  },
  {
   "cell_type": "markdown",
   "id": "9cb89006",
   "metadata": {},
   "source": [
    "5.Create a function that takes a string containing integers as well as other\n",
    "\n",
    "characters and return the sum of the negative integers only.\n",
    "\n",
    "Examples\n",
    "\n",
    "negative_sum(&quot;-12 13%14&amp;-11&quot;) ➞ -23\n",
    "\n",
    " -12 + -11 = -23\n",
    "\n",
    "negative_sum(&quot;22 13%14&amp;-11-22 13 12&quot;) ➞ -33\n",
    "\n",
    " -11 + -22 = -33"
   ]
  },
  {
   "cell_type": "markdown",
   "id": "657daea3",
   "metadata": {},
   "source": [
    "# ans"
   ]
  },
  {
   "cell_type": "code",
   "execution_count": 6,
   "id": "3e1ef4b5",
   "metadata": {},
   "outputs": [],
   "source": [
    "import re"
   ]
  },
  {
   "cell_type": "code",
   "execution_count": 7,
   "id": "9c3a7bae",
   "metadata": {},
   "outputs": [
    {
     "name": "stdout",
     "output_type": "stream",
     "text": [
      "negative_sum(\"-12 13%14&-11\") ➞ -23\n",
      "negative_sum(\"22 13%14&-11-22 13 12\") ➞ -33\n"
     ]
    }
   ],
   "source": [
    "def negative_sum(inp):\n",
    "    pattern = '-\\d+'\n",
    "    result = sum([int(itm) for itm in re.findall(pattern,inp)])\n",
    "    print(f'negative_sum(\"{inp}\") ➞ {result}')\n",
    "    \n",
    "negative_sum(\"-12 13%14&-11\")\n",
    "negative_sum(\"22 13%14&-11-22 13 12\")"
   ]
  },
  {
   "cell_type": "code",
   "execution_count": null,
   "id": "90022090",
   "metadata": {},
   "outputs": [],
   "source": []
  }
 ],
 "metadata": {
  "kernelspec": {
   "display_name": "Python 3 (ipykernel)",
   "language": "python",
   "name": "python3"
  },
  "language_info": {
   "codemirror_mode": {
    "name": "ipython",
    "version": 3
   },
   "file_extension": ".py",
   "mimetype": "text/x-python",
   "name": "python",
   "nbconvert_exporter": "python",
   "pygments_lexer": "ipython3",
   "version": "3.9.7"
  }
 },
 "nbformat": 4,
 "nbformat_minor": 5
}
