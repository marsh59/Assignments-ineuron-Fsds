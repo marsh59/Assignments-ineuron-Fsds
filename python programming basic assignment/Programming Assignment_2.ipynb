{
 "cells": [
  {
   "cell_type": "code",
   "execution_count": null,
   "id": "6f2c57a1",
   "metadata": {},
   "outputs": [],
   "source": []
  },
  {
   "cell_type": "markdown",
   "id": "d416e2ac",
   "metadata": {},
   "source": [
    "# q"
   ]
  },
  {
   "cell_type": "markdown",
   "id": "53fe854b",
   "metadata": {},
   "source": [
    "1.Write a Python program to convert kilometers to miles?"
   ]
  },
  {
   "cell_type": "markdown",
   "id": "d0bf3b63",
   "metadata": {},
   "source": [
    "# ans"
   ]
  },
  {
   "cell_type": "code",
   "execution_count": 1,
   "id": "475ac32d",
   "metadata": {},
   "outputs": [
    {
     "data": {
      "text/plain": [
       "62.1"
      ]
     },
     "execution_count": 1,
     "metadata": {},
     "output_type": "execute_result"
    }
   ],
   "source": [
    "def conversion(dist):\n",
    "    miles = dist * 0.621\n",
    "    return miles\n",
    "\n",
    "conversion(100)"
   ]
  },
  {
   "cell_type": "markdown",
   "id": "e12331b5",
   "metadata": {},
   "source": [
    "# q"
   ]
  },
  {
   "cell_type": "markdown",
   "id": "96e9acb4",
   "metadata": {},
   "source": [
    "2.Write a Python program to convert Celsius to Fahrenheit?"
   ]
  },
  {
   "cell_type": "markdown",
   "id": "4bfc26f2",
   "metadata": {},
   "source": [
    "# ans"
   ]
  },
  {
   "cell_type": "code",
   "execution_count": 3,
   "id": "544cca53",
   "metadata": {},
   "outputs": [
    {
     "data": {
      "text/plain": [
       "68.0"
      ]
     },
     "execution_count": 3,
     "metadata": {},
     "output_type": "execute_result"
    }
   ],
   "source": [
    "def conversion(cels):\n",
    "    fahr = (cels * 1.8) + 32\n",
    "    return fahr\n",
    "conversion(20)"
   ]
  },
  {
   "cell_type": "markdown",
   "id": "6026ceba",
   "metadata": {},
   "source": [
    "# q"
   ]
  },
  {
   "cell_type": "markdown",
   "id": "de765296",
   "metadata": {},
   "source": [
    "3.Write a Python program to display calendar?"
   ]
  },
  {
   "cell_type": "markdown",
   "id": "8a06ddaf",
   "metadata": {},
   "source": [
    "# ans"
   ]
  },
  {
   "cell_type": "code",
   "execution_count": 5,
   "id": "c9ce7dcf",
   "metadata": {},
   "outputs": [
    {
     "name": "stdout",
     "output_type": "stream",
     "text": [
      "                                                                                                                                 2022\n",
      "\n",
      "                                      January                                                                                  February                                                                                  March\n",
      "   Monday     Tuesday    Wednesday    Thursday     Friday     Saturday     Sunday           Monday     Tuesday    Wednesday    Thursday     Friday     Saturday     Sunday           Monday     Tuesday    Wednesday    Thursday     Friday     Saturday     Sunday\n",
      "                                                                  1           2                            1           2           3           4           5           6                            1           2           3           4           5           6\n",
      "      3           4           5           6           7           8           9                7           8           9          10          11          12          13                7           8           9          10          11          12          13\n",
      "     10          11          12          13          14          15          16               14          15          16          17          18          19          20               14          15          16          17          18          19          20\n",
      "     17          18          19          20          21          22          23               21          22          23          24          25          26          27               21          22          23          24          25          26          27\n",
      "     24          25          26          27          28          29          30               28                                                                                       28          29          30          31\n",
      "     31\n",
      "\n",
      "                                       April                                                                                     May                                                                                      June\n",
      "   Monday     Tuesday    Wednesday    Thursday     Friday     Saturday     Sunday           Monday     Tuesday    Wednesday    Thursday     Friday     Saturday     Sunday           Monday     Tuesday    Wednesday    Thursday     Friday     Saturday     Sunday\n",
      "                                                      1           2           3                                                                                        1                                        1           2           3           4           5\n",
      "      4           5           6           7           8           9          10                2           3           4           5           6           7           8                6           7           8           9          10          11          12\n",
      "     11          12          13          14          15          16          17                9          10          11          12          13          14          15               13          14          15          16          17          18          19\n",
      "     18          19          20          21          22          23          24               16          17          18          19          20          21          22               20          21          22          23          24          25          26\n",
      "     25          26          27          28          29          30                           23          24          25          26          27          28          29               27          28          29          30\n",
      "                                                                                              30          31\n",
      "\n",
      "                                        July                                                                                    August                                                                                 September\n",
      "   Monday     Tuesday    Wednesday    Thursday     Friday     Saturday     Sunday           Monday     Tuesday    Wednesday    Thursday     Friday     Saturday     Sunday           Monday     Tuesday    Wednesday    Thursday     Friday     Saturday     Sunday\n",
      "                                                      1           2           3                1           2           3           4           5           6           7                                                    1           2           3           4\n",
      "      4           5           6           7           8           9          10                8           9          10          11          12          13          14                5           6           7           8           9          10          11\n",
      "     11          12          13          14          15          16          17               15          16          17          18          19          20          21               12          13          14          15          16          17          18\n",
      "     18          19          20          21          22          23          24               22          23          24          25          26          27          28               19          20          21          22          23          24          25\n",
      "     25          26          27          28          29          30          31               29          30          31                                                               26          27          28          29          30\n",
      "\n",
      "                                      October                                                                                  November                                                                                 December\n",
      "   Monday     Tuesday    Wednesday    Thursday     Friday     Saturday     Sunday           Monday     Tuesday    Wednesday    Thursday     Friday     Saturday     Sunday           Monday     Tuesday    Wednesday    Thursday     Friday     Saturday     Sunday\n",
      "                                                                  1           2                            1           2           3           4           5           6                                                    1           2           3           4\n",
      "      3           4           5           6           7           8           9                7           8           9          10          11          12          13                5           6           7           8           9          10          11\n",
      "     10          11          12          13          14          15          16               14          15          16          17          18          19          20               12          13          14          15          16          17          18\n",
      "     17          18          19          20          21          22          23               21          22          23          24          25          26          27               19          20          21          22          23          24          25\n",
      "     24          25          26          27          28          29          30               28          29          30                                                               26          27          28          29          30          31\n",
      "     31\n",
      "\n"
     ]
    }
   ],
   "source": [
    "import calendar\n",
    "\n",
    "def calender():   \n",
    "    print(calendar.calendar(2022,11))\n",
    "    \n",
    "calender()"
   ]
  },
  {
   "cell_type": "code",
   "execution_count": null,
   "id": "ba323310",
   "metadata": {},
   "outputs": [],
   "source": []
  },
  {
   "cell_type": "markdown",
   "id": "cc037bfb",
   "metadata": {},
   "source": [
    "# q"
   ]
  },
  {
   "cell_type": "markdown",
   "id": "9dd89d60",
   "metadata": {},
   "source": [
    "4.Write a Python program to solve quadratic equation?"
   ]
  },
  {
   "cell_type": "markdown",
   "id": "9ee5547b",
   "metadata": {},
   "source": [
    "# ans"
   ]
  },
  {
   "cell_type": "code",
   "execution_count": 7,
   "id": "39be6478",
   "metadata": {},
   "outputs": [
    {
     "name": "stdout",
     "output_type": "stream",
     "text": [
      "Enter a value: 2\n",
      "Enter b value: 3\n",
      "Enter c value: 5\n",
      "Roots are Imaginary (-0.75-1.3919410907075054j) (-0.75+1.3919410907075054j)\n"
     ]
    }
   ],
   "source": [
    "import cmath\n",
    "import math\n",
    "\n",
    "def quadarticEquationRoots(a,b,c):\n",
    "    \n",
    "    discriminant = b*b-4*a*c\n",
    "    \n",
    "    if discriminant == 0:\n",
    "        r1 = -b/2*a\n",
    "        r2 = -b/2*a\n",
    "        print(\"Roots are Real\",r1,r2)\n",
    "    elif discriminant > 0:\n",
    "        r1 = (-b-math.sqrt(discriminant))/(2 * a)\n",
    "        r2 = (-b+math.sqrt(discriminant))/(2 * a)\n",
    "        print(\"Roots are Real and different\",r1,r2)\n",
    "    else:\n",
    "        r1 = (-b-cmath.sqrt(discriminant))/(2 * a)\n",
    "        r2 = (-b+cmath.sqrt(discriminant))/(2 * a)\n",
    "        print(\"Roots are Imaginary\",r1,r2)\n",
    "\n",
    "\n",
    "a = int(input('Enter a value: '))\n",
    "b = int(input('Enter b value: '))\n",
    "c = int(input('Enter c value: '))\n",
    "\n",
    "quadarticEquationRoots(a,b,c)"
   ]
  },
  {
   "cell_type": "markdown",
   "id": "c4931c0f",
   "metadata": {},
   "source": [
    "# q"
   ]
  },
  {
   "cell_type": "markdown",
   "id": "9cb89006",
   "metadata": {},
   "source": [
    "5.Write a Python program to swap two variables without temp variable?"
   ]
  },
  {
   "cell_type": "markdown",
   "id": "657daea3",
   "metadata": {},
   "source": [
    "# ans"
   ]
  },
  {
   "cell_type": "code",
   "execution_count": 15,
   "id": "9c3a7bae",
   "metadata": {},
   "outputs": [
    {
     "name": "stdout",
     "output_type": "stream",
     "text": [
      "After swapping, the varaiables are 4 and 9\n"
     ]
    }
   ],
   "source": [
    "a = 9\n",
    "b = 4\n",
    "\n",
    "a,b = b,a\n",
    "print(\"After swapping, the varaiables are\",str(a) +' and '+ str(b))\n"
   ]
  },
  {
   "cell_type": "code",
   "execution_count": null,
   "id": "59577276",
   "metadata": {},
   "outputs": [],
   "source": []
  }
 ],
 "metadata": {
  "kernelspec": {
   "display_name": "Python 3 (ipykernel)",
   "language": "python",
   "name": "python3"
  },
  "language_info": {
   "codemirror_mode": {
    "name": "ipython",
    "version": 3
   },
   "file_extension": ".py",
   "mimetype": "text/x-python",
   "name": "python",
   "nbconvert_exporter": "python",
   "pygments_lexer": "ipython3",
   "version": "3.9.7"
  }
 },
 "nbformat": 4,
 "nbformat_minor": 5
}
