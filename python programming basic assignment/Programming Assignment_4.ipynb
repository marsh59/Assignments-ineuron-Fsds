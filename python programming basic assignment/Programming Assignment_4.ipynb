{
 "cells": [
  {
   "cell_type": "code",
   "execution_count": null,
   "id": "6f2c57a1",
   "metadata": {},
   "outputs": [],
   "source": []
  },
  {
   "cell_type": "markdown",
   "id": "d416e2ac",
   "metadata": {},
   "source": [
    "# q"
   ]
  },
  {
   "cell_type": "markdown",
   "id": "53fe854b",
   "metadata": {},
   "source": [
    "1.Write a Python Program to Find the Factorial of a Number?"
   ]
  },
  {
   "cell_type": "markdown",
   "id": "d0bf3b63",
   "metadata": {},
   "source": [
    "# ans"
   ]
  },
  {
   "cell_type": "code",
   "execution_count": 1,
   "id": "475ac32d",
   "metadata": {},
   "outputs": [
    {
     "name": "stdout",
     "output_type": "stream",
     "text": [
      "Enter a number: 5\n",
      "The Factorial of 5 is 120\n"
     ]
    }
   ],
   "source": [
    "def factorial(num):\n",
    "    if num < 1:\n",
    "        return 1\n",
    "    else:\n",
    "        return num*factorial(num-1)\n",
    "num = int(input('Enter a number: '))\n",
    "value = factorial(num)\n",
    "print(f'The Factorial of {num} is {value}')"
   ]
  },
  {
   "cell_type": "markdown",
   "id": "e12331b5",
   "metadata": {},
   "source": [
    "# q"
   ]
  },
  {
   "cell_type": "markdown",
   "id": "96e9acb4",
   "metadata": {},
   "source": [
    "2.Write a Python Program to Display the multiplication Table?"
   ]
  },
  {
   "cell_type": "markdown",
   "id": "4bfc26f2",
   "metadata": {},
   "source": [
    "# ans"
   ]
  },
  {
   "cell_type": "code",
   "execution_count": 2,
   "id": "544cca53",
   "metadata": {},
   "outputs": [
    {
     "name": "stdout",
     "output_type": "stream",
     "text": [
      "Enter a number: 4\n",
      "Enter no of entries: 5\n",
      "4 X 1 = 4\n",
      "4 X 2 = 8\n",
      "4 X 3 = 12\n",
      "4 X 4 = 16\n",
      "4 X 5 = 20\n"
     ]
    }
   ],
   "source": [
    "def generateTable(base,entries):\n",
    "    for x in range(1,entries+1):\n",
    "        print(f'{base} X {x} = {base*x}')\n",
    "\n",
    "base = int(input('Enter a number: '))\n",
    "entries = int(input('Enter no of entries: '))\n",
    "generateTable(base,entries)"
   ]
  },
  {
   "cell_type": "markdown",
   "id": "6026ceba",
   "metadata": {},
   "source": [
    "# q"
   ]
  },
  {
   "cell_type": "markdown",
   "id": "de765296",
   "metadata": {},
   "source": [
    "3.Write a Python Program to Print the Fibonacci sequence?"
   ]
  },
  {
   "cell_type": "markdown",
   "id": "8a06ddaf",
   "metadata": {},
   "source": [
    "# ans"
   ]
  },
  {
   "cell_type": "code",
   "execution_count": 4,
   "id": "c9ce7dcf",
   "metadata": {},
   "outputs": [
    {
     "name": "stdout",
     "output_type": "stream",
     "text": [
      "How many numbers?: 8\n",
      "0 1 1 2 3 5 8 13 "
     ]
    }
   ],
   "source": [
    "times = int(input(\"How many numbers?: \"))\n",
    "n1, n2 = 0, 1\n",
    "count = 0\n",
    "if times <= 0:\n",
    "   print(\"Please enter a positive integer\")\n",
    "elif times == 1:\n",
    "   print(\"Fibonacci sequence upto\",times,\":\")\n",
    "   print(n1)\n",
    "else:\n",
    "   while count < times:\n",
    "       print(n1 , end=\" \")\n",
    "       nth = n1 + n2\n",
    "       n1 = n2\n",
    "       n2 = nth\n",
    "       count += 1"
   ]
  },
  {
   "cell_type": "code",
   "execution_count": null,
   "id": "ba323310",
   "metadata": {},
   "outputs": [],
   "source": []
  },
  {
   "cell_type": "markdown",
   "id": "cc037bfb",
   "metadata": {},
   "source": [
    "# q"
   ]
  },
  {
   "cell_type": "markdown",
   "id": "9dd89d60",
   "metadata": {},
   "source": [
    "4.Write a Python Program to Check Armstrong Number?"
   ]
  },
  {
   "cell_type": "markdown",
   "id": "9ee5547b",
   "metadata": {},
   "source": [
    "# ans"
   ]
  },
  {
   "cell_type": "code",
   "execution_count": 6,
   "id": "39be6478",
   "metadata": {},
   "outputs": [
    {
     "name": "stdout",
     "output_type": "stream",
     "text": [
      "Enter a number: 153\n",
      "153 is a Armstrong Number\n",
      "Enter a number: 98\n",
      "98 is a Not Armstrong Number\n"
     ]
    }
   ],
   "source": [
    "def check_Armstrong_Number():\n",
    "    num = input('Enter a number: ')\n",
    "    sum = 0\n",
    "    for char in range(len(num)):\n",
    "        sum = sum + pow(int(num[char]),3)\n",
    "    if sum == int(num):\n",
    "        print(f'{num} is a Armstrong Number')\n",
    "    else:\n",
    "        print(f'{num} is a Not Armstrong Number')\n",
    "\n",
    "for x in range(2):\n",
    "    check_Armstrong_Number()"
   ]
  },
  {
   "cell_type": "markdown",
   "id": "c4931c0f",
   "metadata": {},
   "source": [
    "# q"
   ]
  },
  {
   "cell_type": "markdown",
   "id": "9cb89006",
   "metadata": {},
   "source": [
    "5.Write a Python Program to Find Armstrong Number in an Interval?"
   ]
  },
  {
   "cell_type": "markdown",
   "id": "657daea3",
   "metadata": {},
   "source": [
    "# ans"
   ]
  },
  {
   "cell_type": "code",
   "execution_count": 7,
   "id": "9c3a7bae",
   "metadata": {},
   "outputs": [
    {
     "name": "stdout",
     "output_type": "stream",
     "text": [
      "Enter the Start of the Interval: 2\n",
      "Enter the End of the Interval: 10000\n",
      "The Armstrong numbers between 2 and 10000 are [153, 370, 371, 407]\n"
     ]
    }
   ],
   "source": [
    "def checkArmstrongNumber(in_num, storage):\n",
    "    sum = 0\n",
    "    for char in range(len(in_num)):\n",
    "        sum = sum + pow(int(in_num[char]),3)\n",
    "    if sum == int(in_num):\n",
    "        storage.append(int(in_num))\n",
    "\n",
    "start_interval = int(input('Enter the Start of the Interval: '))\n",
    "end_interval = int(input('Enter the End of the Interval: '))\n",
    "list_of_armstrong = []\n",
    "\n",
    "if start_interval > end_interval:\n",
    "    print(\"Start Interval Cannot be Greater than End Interval\")\n",
    "else:\n",
    "    for number in range(start_interval,end_interval+1):\n",
    "        checkArmstrongNumber(str(number),list_of_armstrong)\n",
    "    print(f'The Armstrong numbers between {start_interval} and {end_interval} are {list_of_armstrong}')"
   ]
  },
  {
   "cell_type": "markdown",
   "id": "31cc8aa9",
   "metadata": {},
   "source": [
    "6.Write a Python Program to Find the Sum of Natural Numbers?"
   ]
  },
  {
   "cell_type": "code",
   "execution_count": 9,
   "id": "3a18b1b3",
   "metadata": {},
   "outputs": [
    {
     "name": "stdout",
     "output_type": "stream",
     "text": [
      "enter number: 8\n",
      "36.0\n"
     ]
    }
   ],
   "source": [
    "num = int(input(\"enter number: \"))\n",
    "sum = num*(num+1)/2\n",
    "print(sum)"
   ]
  },
  {
   "cell_type": "code",
   "execution_count": null,
   "id": "9854a29f",
   "metadata": {},
   "outputs": [],
   "source": []
  }
 ],
 "metadata": {
  "kernelspec": {
   "display_name": "Python 3 (ipykernel)",
   "language": "python",
   "name": "python3"
  },
  "language_info": {
   "codemirror_mode": {
    "name": "ipython",
    "version": 3
   },
   "file_extension": ".py",
   "mimetype": "text/x-python",
   "name": "python",
   "nbconvert_exporter": "python",
   "pygments_lexer": "ipython3",
   "version": "3.9.7"
  }
 },
 "nbformat": 4,
 "nbformat_minor": 5
}
