{
 "cells": [
  {
   "cell_type": "code",
   "execution_count": null,
   "id": "6f2c57a1",
   "metadata": {},
   "outputs": [],
   "source": []
  },
  {
   "cell_type": "markdown",
   "id": "d416e2ac",
   "metadata": {},
   "source": [
    "# q"
   ]
  },
  {
   "cell_type": "markdown",
   "id": "53fe854b",
   "metadata": {},
   "source": [
    "1.Write a Python Program to find sum of array?"
   ]
  },
  {
   "cell_type": "markdown",
   "id": "d0bf3b63",
   "metadata": {},
   "source": [
    "# ans"
   ]
  },
  {
   "cell_type": "code",
   "execution_count": 1,
   "id": "475ac32d",
   "metadata": {},
   "outputs": [
    {
     "name": "stdout",
     "output_type": "stream",
     "text": [
      "enter a array: [4,7,8,9]\n",
      "The sum of [4, 7, 8, 9] is 28\n"
     ]
    }
   ],
   "source": [
    "def sum_Of_Array():\n",
    "    arr = eval(input(\"enter a array: \"))\n",
    "    print(f'The sum of {arr} is {sum(arr)}')\n",
    "\n",
    "sum_Of_Array()"
   ]
  },
  {
   "cell_type": "markdown",
   "id": "e12331b5",
   "metadata": {},
   "source": [
    "# q"
   ]
  },
  {
   "cell_type": "markdown",
   "id": "96e9acb4",
   "metadata": {},
   "source": [
    "2.Write a Python Program to find largest element in an array?"
   ]
  },
  {
   "cell_type": "markdown",
   "id": "4bfc26f2",
   "metadata": {},
   "source": [
    "# ans"
   ]
  },
  {
   "cell_type": "code",
   "execution_count": 2,
   "id": "544cca53",
   "metadata": {},
   "outputs": [
    {
     "name": "stdout",
     "output_type": "stream",
     "text": [
      "Enter a array:  [4,89,6657,42385]\n",
      "The Largest Element in [4, 89, 6657, 42385] is 42385\n"
     ]
    }
   ],
   "source": [
    "def largest_element_array():\n",
    "    arr = eval(input(\"Enter a array:  \"))\n",
    "    print(f\"The Largest Element in {arr} is {sorted(arr, reverse=True)[0]}\")\n",
    "    \n",
    "largest_element_array()"
   ]
  },
  {
   "cell_type": "markdown",
   "id": "6026ceba",
   "metadata": {},
   "source": [
    "# q"
   ]
  },
  {
   "cell_type": "markdown",
   "id": "de765296",
   "metadata": {},
   "source": [
    "3.Write a Python Program for array rotation?"
   ]
  },
  {
   "cell_type": "markdown",
   "id": "8a06ddaf",
   "metadata": {},
   "source": [
    "# ans"
   ]
  },
  {
   "cell_type": "code",
   "execution_count": 3,
   "id": "c9ce7dcf",
   "metadata": {},
   "outputs": [
    {
     "name": "stdout",
     "output_type": "stream",
     "text": [
      "enter a array: [1,2,3,4,5]\n",
      "The Reverse of Array is [5, 4, 3, 2, 1]\n"
     ]
    }
   ],
   "source": [
    "def rotate_array():\n",
    "    arr = eval(input(\"enter a array: \"))\n",
    "    print(f\"The Reverse of Array is {arr[::-1]}\")\n",
    "    \n",
    "rotate_array()"
   ]
  },
  {
   "cell_type": "code",
   "execution_count": null,
   "id": "ba323310",
   "metadata": {},
   "outputs": [],
   "source": []
  },
  {
   "cell_type": "markdown",
   "id": "cc037bfb",
   "metadata": {},
   "source": [
    "# q"
   ]
  },
  {
   "cell_type": "markdown",
   "id": "9dd89d60",
   "metadata": {},
   "source": [
    "4.Write a Python Program to Split the array and add the first part to the end?"
   ]
  },
  {
   "cell_type": "markdown",
   "id": "9ee5547b",
   "metadata": {},
   "source": [
    "# ans"
   ]
  },
  {
   "cell_type": "code",
   "execution_count": 4,
   "id": "39be6478",
   "metadata": {},
   "outputs": [
    {
     "name": "stdout",
     "output_type": "stream",
     "text": [
      "enter the array: [2,4,6]\n",
      "The Sum of First and Last Elements of Array is 8\n"
     ]
    }
   ],
   "source": [
    "def splitting_array():\n",
    "    arr = eval(input(\"enter the array: \"))\n",
    "    print(f\"The Sum of First and Last Elements of Array is {arr[0]+arr[-1]}\")\n",
    "    \n",
    "splitting_array()"
   ]
  },
  {
   "cell_type": "markdown",
   "id": "c4931c0f",
   "metadata": {},
   "source": [
    "# q"
   ]
  },
  {
   "cell_type": "markdown",
   "id": "9cb89006",
   "metadata": {},
   "source": [
    "5.Write a Python Program to check if given array is Monotonic?"
   ]
  },
  {
   "cell_type": "markdown",
   "id": "657daea3",
   "metadata": {},
   "source": [
    "# ans"
   ]
  },
  {
   "cell_type": "code",
   "execution_count": 5,
   "id": "9c3a7bae",
   "metadata": {},
   "outputs": [
    {
     "name": "stdout",
     "output_type": "stream",
     "text": [
      "Enter the Array: [1,2,3,4]\n",
      "Array [1, 2, 3, 4] is Monotonic\n",
      "Enter the Array: [5,6,9,1]\n",
      "Array [5, 6, 9, 1] is Not Monotonic\n"
     ]
    }
   ],
   "source": [
    "def monotonic_array_check():\n",
    "    arr = eval(input(\"Enter the Array: \"))\n",
    "    if(all(arr[i]<=arr[i+1] for i in range(len(arr)-1)) or all(arr[i]>=arr[i+1] for i in range(len(arr)-1))):\n",
    "        print(f'Array {arr} is Monotonic')\n",
    "    else:\n",
    "        print(f'Array {arr} is Not Monotonic')\n",
    "\n",
    "monotonic_array_check()\n",
    "monotonic_array_check()"
   ]
  },
  {
   "cell_type": "code",
   "execution_count": null,
   "id": "fb177913",
   "metadata": {},
   "outputs": [],
   "source": []
  }
 ],
 "metadata": {
  "kernelspec": {
   "display_name": "Python 3 (ipykernel)",
   "language": "python",
   "name": "python3"
  },
  "language_info": {
   "codemirror_mode": {
    "name": "ipython",
    "version": 3
   },
   "file_extension": ".py",
   "mimetype": "text/x-python",
   "name": "python",
   "nbconvert_exporter": "python",
   "pygments_lexer": "ipython3",
   "version": "3.9.7"
  }
 },
 "nbformat": 4,
 "nbformat_minor": 5
}
