{
 "cells": [
  {
   "cell_type": "code",
   "execution_count": null,
   "id": "475ac32d",
   "metadata": {},
   "outputs": [],
   "source": []
  },
  {
   "cell_type": "markdown",
   "id": "e12331b5",
   "metadata": {},
   "source": [
    "# q"
   ]
  },
  {
   "cell_type": "markdown",
   "id": "96e9acb4",
   "metadata": {},
   "source": [
    "1.Write a Python program to check if the given number is a Disarium Number?"
   ]
  },
  {
   "cell_type": "markdown",
   "id": "4bfc26f2",
   "metadata": {},
   "source": [
    "# ans"
   ]
  },
  {
   "cell_type": "code",
   "execution_count": 9,
   "id": "544cca53",
   "metadata": {},
   "outputs": [
    {
     "name": "stdout",
     "output_type": "stream",
     "text": [
      "Enter a Number: 100\n",
      "100 is a Not Disarium Number\n",
      "Enter a Number: 89\n",
      "89 is a Disarium Number\n"
     ]
    }
   ],
   "source": [
    "def disarium_numb_checker():\n",
    "    num = input('Enter a Number: ')\n",
    "    sum_is = 0\n",
    "    for i in range(len(num)):\n",
    "        sum_is = sum_is + int(num[i])**(i+1)\n",
    "    if sum_is == int(num):\n",
    "        print(f'{num} is a Disarium Number')\n",
    "    else:\n",
    "        print(f'{num} is a Not Disarium Number') \n",
    "\n",
    "disarium_numb_checker()\n",
    "disarium_numb_checker()"
   ]
  },
  {
   "cell_type": "markdown",
   "id": "6026ceba",
   "metadata": {},
   "source": [
    "# q"
   ]
  },
  {
   "cell_type": "markdown",
   "id": "de765296",
   "metadata": {},
   "source": [
    "2.Write a Python program to print all disarium numbers between 1 to 100?"
   ]
  },
  {
   "cell_type": "markdown",
   "id": "8a06ddaf",
   "metadata": {},
   "source": [
    "# ans"
   ]
  },
  {
   "cell_type": "code",
   "execution_count": 10,
   "id": "c9ce7dcf",
   "metadata": {},
   "outputs": [
    {
     "name": "stdout",
     "output_type": "stream",
     "text": [
      "[0, 1, 2, 3, 4, 5, 6, 7, 8, 9, 89, 135, 175, 518, 598]\n"
     ]
    }
   ],
   "source": [
    "def print_disarium_num(x):\n",
    "    a = str(x)\n",
    "    a.split()\n",
    "    lis = []\n",
    "    for i in range(0,len(a)):\n",
    "        p = pow(int(a[i]),i+1) \n",
    "        lis.append(p)\n",
    "    if sum(lis) == x:\n",
    "        box.append(x)\n",
    "box = []      \n",
    "for i in range(0,1000):\n",
    "    print_disarium_num(i)\n",
    "print(box)"
   ]
  },
  {
   "cell_type": "code",
   "execution_count": null,
   "id": "ba323310",
   "metadata": {},
   "outputs": [],
   "source": []
  },
  {
   "cell_type": "markdown",
   "id": "cc037bfb",
   "metadata": {},
   "source": [
    "# q"
   ]
  },
  {
   "cell_type": "markdown",
   "id": "9dd89d60",
   "metadata": {},
   "source": [
    "3.Write a Python program to check if the given number is Happy Number?"
   ]
  },
  {
   "cell_type": "markdown",
   "id": "9ee5547b",
   "metadata": {},
   "source": [
    "# ans"
   ]
  },
  {
   "cell_type": "code",
   "execution_count": 14,
   "id": "39be6478",
   "metadata": {},
   "outputs": [
    {
     "name": "stdout",
     "output_type": "stream",
     "text": [
      "Enter a Number: 1\n",
      "1 is a Happy Number\n",
      "Enter a Number: 50\n",
      "50 is not a Happy Number\n"
     ]
    }
   ],
   "source": [
    "def check_happy_number():\n",
    "    input_num = input('Enter a Number: ')\n",
    "    input_num_duplicate = input_num\n",
    "    trackNumber = set()   \n",
    "    while True:\n",
    "        if input_num != '1' and str(input_num) not in trackNumber:\n",
    "            trackNumber.add(input_num)\n",
    "            sum = 0\n",
    "            for ele in range(len((input_num))):\n",
    "                sum = sum + int(input_num[ele])**2\n",
    "            input_num = str(sum)\n",
    "        elif str(input_num) in trackNumber:\n",
    "            print(f'{input_num_duplicate} is not a Happy Number')\n",
    "            break\n",
    "        else:\n",
    "            print(f'{input_num_duplicate} is a Happy Number')\n",
    "            break\n",
    "\n",
    "check_happy_number()\n",
    "check_happy_number()"
   ]
  },
  {
   "cell_type": "markdown",
   "id": "c4931c0f",
   "metadata": {},
   "source": [
    "# q"
   ]
  },
  {
   "cell_type": "markdown",
   "id": "9cb89006",
   "metadata": {},
   "source": [
    "4.Write a Python program to print all happy numbers between 1 and 100?"
   ]
  },
  {
   "cell_type": "markdown",
   "id": "657daea3",
   "metadata": {},
   "source": [
    "# ans"
   ]
  },
  {
   "cell_type": "code",
   "execution_count": 15,
   "id": "9c3a7bae",
   "metadata": {},
   "outputs": [
    {
     "name": "stdout",
     "output_type": "stream",
     "text": [
      "The Happy Numbers between 0 and 200 are [1, 7, 10, 13, 19, 23, 28, 31, 32, 44, 49, 68, 70, 79, 82, 86, 91, 94, 97, 100, 103, 109, 129, 130, 133, 139, 167, 176, 188, 190, 192, 193]\n"
     ]
    }
   ],
   "source": [
    "def print_happy_number(start=0,end=100):\n",
    "    lis = []\n",
    "    for input_num in range(start,end+1):\n",
    "        input_num = str(input_num)\n",
    "        inum_holder = input_num\n",
    "        trackNumber = set()   \n",
    "        while True:\n",
    "            if input_num != '1' and str(input_num) not in trackNumber:\n",
    "                trackNumber.add(input_num)\n",
    "                sum = 0\n",
    "                for i in range(len((input_num))):\n",
    "                    sum = sum + int(input_num[i])**2\n",
    "                input_num = str(sum)\n",
    "            elif str(input_num) in trackNumber:\n",
    "                break\n",
    "            else:\n",
    "                lis.append(int(inum_holder))\n",
    "                break\n",
    "    print(f'The Happy Numbers between {start} and {end} are {lis}')\n",
    "    \n",
    "print_happy_number(0,200)"
   ]
  },
  {
   "cell_type": "markdown",
   "id": "996af9ef",
   "metadata": {},
   "source": [
    "# q"
   ]
  },
  {
   "cell_type": "markdown",
   "id": "51f3923e",
   "metadata": {},
   "source": [
    "5.Write a Python program to determine whether the given number is a Harshad Number?"
   ]
  },
  {
   "cell_type": "markdown",
   "id": "16bd3a0d",
   "metadata": {},
   "source": [
    "# ans"
   ]
  },
  {
   "cell_type": "code",
   "execution_count": 16,
   "id": "281292df",
   "metadata": {},
   "outputs": [
    {
     "name": "stdout",
     "output_type": "stream",
     "text": [
      "Enter a Number: 8\n",
      "8 is a Harshad Number\n",
      "Enter a Number: 121\n",
      "121 is a Not Harshad Number\n"
     ]
    }
   ],
   "source": [
    "def checker():\n",
    "    input_num = input('Enter a Number: ')\n",
    "    sum = 0\n",
    "    for item in range(len(input_num)):\n",
    "        sum = sum + int(input_num[item])\n",
    "    if int(input_num)%sum == 0:\n",
    "        print(f'{input_num} is a Harshad Number')\n",
    "    else:\n",
    "        print(f'{input_num} is a Not Harshad Number')\n",
    "        \n",
    "checker()\n",
    "checker()"
   ]
  },
  {
   "cell_type": "markdown",
   "id": "f1c16db3",
   "metadata": {},
   "source": [
    "# q"
   ]
  },
  {
   "cell_type": "markdown",
   "id": "50b224b5",
   "metadata": {},
   "source": [
    "6.Write a Python program to print all pronic numbers between 1 and 100?"
   ]
  },
  {
   "cell_type": "markdown",
   "id": "d2f40cb7",
   "metadata": {},
   "source": [
    "# ans"
   ]
  },
  {
   "cell_type": "code",
   "execution_count": 18,
   "id": "4cfafda5",
   "metadata": {},
   "outputs": [
    {
     "name": "stdout",
     "output_type": "stream",
     "text": [
      "[0, 2, 6, 12, 20, 30, 42, 56, 72, 90, 110, 132, 156, 182, 210, 240, 272, 306, 342, 380, 420, 462, 506, 552, 600, 650, 702, 756, 812, 870, 930, 992, 1056, 1122, 1190, 1260, 1332, 1406, 1482, 1560, 1640, 1722, 1806, 1892, 1980, 2070, 2162, 2256, 2352, 2450, 2550]\n"
     ]
    }
   ],
   "source": [
    "def pronic_numbers(start=0,end=50):\n",
    "    result = []\n",
    "    for elt in range(start,end+1):\n",
    "        result.append((elt)*(elt+1))\n",
    "    print(result)\n",
    "                   \n",
    "pronic_numbers()"
   ]
  },
  {
   "cell_type": "code",
   "execution_count": null,
   "id": "e505baed",
   "metadata": {},
   "outputs": [],
   "source": []
  }
 ],
 "metadata": {
  "kernelspec": {
   "display_name": "Python 3 (ipykernel)",
   "language": "python",
   "name": "python3"
  },
  "language_info": {
   "codemirror_mode": {
    "name": "ipython",
    "version": 3
   },
   "file_extension": ".py",
   "mimetype": "text/x-python",
   "name": "python",
   "nbconvert_exporter": "python",
   "pygments_lexer": "ipython3",
   "version": "3.9.7"
  }
 },
 "nbformat": 4,
 "nbformat_minor": 5
}
