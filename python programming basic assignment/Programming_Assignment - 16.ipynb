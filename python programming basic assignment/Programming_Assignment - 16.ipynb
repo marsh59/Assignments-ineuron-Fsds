{
 "cells": [
  {
   "cell_type": "code",
   "execution_count": null,
   "id": "6f2c57a1",
   "metadata": {},
   "outputs": [],
   "source": []
  },
  {
   "cell_type": "markdown",
   "id": "d416e2ac",
   "metadata": {},
   "source": [
    "# q"
   ]
  },
  {
   "cell_type": "markdown",
   "id": "53fe854b",
   "metadata": {},
   "source": [
    "Question1.Write a function that stutters a word as if someone is struggling to read it. The\n",
    "first two letters are repeated twice with an ellipsis ... and space after each, and then the\n",
    "word is pronounced with a question mark ?.\n",
    "\n",
    "Examples\n",
    "\n",
    "stutter(&quot;incredible&quot;) ➞ &quot;in... in... incredible?&quot;\n",
    "\n",
    "stutter(&quot;enthusiastic&quot;) ➞ &quot;en... en... enthusiastic?&quot;\n",
    "\n",
    "stutter(&quot;outstanding&quot;) ➞ &quot;ou... ou... outstanding?&quot;\n",
    "\n",
    "\n",
    "Hint :- Assume all input is in lower case and at least two characters long."
   ]
  },
  {
   "cell_type": "markdown",
   "id": "d0bf3b63",
   "metadata": {},
   "source": [
    "# ans"
   ]
  },
  {
   "cell_type": "code",
   "execution_count": 1,
   "id": "475ac32d",
   "metadata": {},
   "outputs": [
    {
     "name": "stdout",
     "output_type": "stream",
     "text": [
      "enter a word:incredible\n",
      "incredible ➞ in... in... incredible?\n",
      "enter a word:enthusiastic\n",
      "enthusiastic ➞ en... en... enthusiastic?\n",
      "enter a word:outstanding\n",
      "outstanding ➞ ou... ou... outstanding?\n"
     ]
    }
   ],
   "source": [
    "def stutters_word():\n",
    "    user_input = input('enter a word:')\n",
    "    result = user_input.replace(user_input[0:2],((user_input[0:2]+'... ')*2)+ user_input[0:2])  +'?'\n",
    "    print(f'{user_input} ➞ {result}')\n",
    "\n",
    "for i in range(3):\n",
    "    stutters_word()"
   ]
  },
  {
   "cell_type": "markdown",
   "id": "e12331b5",
   "metadata": {},
   "source": [
    "# q"
   ]
  },
  {
   "cell_type": "markdown",
   "id": "96e9acb4",
   "metadata": {},
   "source": [
    "Question 2.Create a function that takes an angle in radians and returns the corresponding\n",
    "angle in degrees rounded to one decimal place.\n",
    "\n",
    "Examples\n",
    "\n",
    "radians_to_degrees(1) ➞ 57.3\n",
    "\n",
    "radians_to_degrees(20) ➞ 1145.9\n",
    "\n",
    "radians_to_degrees(50) ➞ 2864.8"
   ]
  },
  {
   "cell_type": "markdown",
   "id": "4bfc26f2",
   "metadata": {},
   "source": [
    "# ans"
   ]
  },
  {
   "cell_type": "code",
   "execution_count": 3,
   "id": "3bcfd97c",
   "metadata": {},
   "outputs": [],
   "source": [
    "import math"
   ]
  },
  {
   "cell_type": "code",
   "execution_count": 6,
   "id": "544cca53",
   "metadata": {},
   "outputs": [
    {
     "name": "stdout",
     "output_type": "stream",
     "text": [
      "enter a radian: 2\n",
      "2 radian = 114.59155902616465 degrees\n",
      "enter a radian: 6\n",
      "6 radian = 343.77467707849394 degrees\n",
      "enter a radian: 7\n",
      "7 radian = 401.07045659157626 degrees\n"
     ]
    }
   ],
   "source": [
    "def radian_to_degree():\n",
    "    user_input = int(input('enter a radian: '))\n",
    "    result = (180/math.pi)*user_input\n",
    "    print(f'{user_input} radian = {result} degrees')\n",
    "\n",
    "for i in range(3):\n",
    "    radian_to_degree()"
   ]
  },
  {
   "cell_type": "markdown",
   "id": "6026ceba",
   "metadata": {},
   "source": [
    "# q"
   ]
  },
  {
   "cell_type": "markdown",
   "id": "de765296",
   "metadata": {},
   "source": [
    "Question 3.In this challenge, establish if a given integer num is a Curzon number. If 1 plus\n",
    "2 elevated to num is exactly divisible by 1 plus 2 multiplied by num, then num is a Curzon\n",
    "number.\n",
    "\n",
    "Given a non-negative integer num, implement a function that returns True if num is a Curzon\n",
    "number, or False otherwise.\n",
    "\n",
    "Examples\n",
    "\n",
    "is_curzon(5) ➞ True\n",
    "# 2 ** 5 + 1 = 33\n",
    "# 2 * 5 + 1 = 11\n",
    "# 33 is a multiple of 11\n",
    "\n",
    "\n",
    "\n",
    "is_curzon(10) ➞ False\n",
    "\n",
    "# 2 ** 10 + 1 = 1025\n",
    "# 2 * 10 + 1 = 21\n",
    "# 1025 is not a multiple of 21\n",
    "\n",
    "\n",
    "\n",
    "is_curzon(14) ➞ True\n",
    "# 2 ** 14 + 1 = 16385\n",
    "# 2 * 14 + 1 = 29\n",
    "# 16385 is a multiple of 29"
   ]
  },
  {
   "cell_type": "markdown",
   "id": "8a06ddaf",
   "metadata": {},
   "source": [
    "# ans"
   ]
  },
  {
   "cell_type": "code",
   "execution_count": 7,
   "id": "c9ce7dcf",
   "metadata": {},
   "outputs": [
    {
     "name": "stdout",
     "output_type": "stream",
     "text": [
      "Enter a number: 5\n",
      "5 is a curzon number\n",
      "Enter a number: 10\n",
      "10 is not a curzon number\n",
      "Enter a number: 14\n",
      "14 is a curzon number\n",
      "Enter a number: 12\n",
      "12 is not a curzon number\n"
     ]
    }
   ],
   "source": [
    "def check_curzon():\n",
    "    user_input = int(input(\"Enter a number: \"))\n",
    "    if (pow(2,user_input)+1) % ((2*user_input)+1) == 0:\n",
    "        print(f'{user_input} is a curzon number')\n",
    "    else:\n",
    "        print(f'{user_input} is not a curzon number')\n",
    "\n",
    "for i in range(4):\n",
    "    check_curzon()"
   ]
  },
  {
   "cell_type": "code",
   "execution_count": null,
   "id": "ba323310",
   "metadata": {},
   "outputs": [],
   "source": []
  },
  {
   "cell_type": "markdown",
   "id": "cc037bfb",
   "metadata": {},
   "source": [
    "# q"
   ]
  },
  {
   "cell_type": "markdown",
   "id": "9dd89d60",
   "metadata": {},
   "source": [
    "Question 4.Given the side length x find the area of a hexagon.\n",
    "\n",
    "Examples\n",
    "\n",
    "area_of_hexagon(1) ➞ 2.6\n",
    "\n",
    "area_of_hexagon(2) ➞ 10.4\n",
    "\n",
    "area_of_hexagon(3) ➞ 23.4"
   ]
  },
  {
   "cell_type": "markdown",
   "id": "9ee5547b",
   "metadata": {},
   "source": [
    "# ans"
   ]
  },
  {
   "cell_type": "code",
   "execution_count": 8,
   "id": "222ca116",
   "metadata": {},
   "outputs": [],
   "source": [
    "import math"
   ]
  },
  {
   "cell_type": "code",
   "execution_count": 11,
   "id": "39be6478",
   "metadata": {},
   "outputs": [
    {
     "name": "stdout",
     "output_type": "stream",
     "text": [
      "enter the side length of a hexagon: 1\n",
      "Area for hexagon of sidelength 1 = 2.598\n",
      "enter the side length of a hexagon: 2\n",
      "Area for hexagon of sidelength 2 = 10.392\n",
      "enter the side length of a hexagon: 4\n",
      "Area for hexagon of sidelength 4 = 41.569\n"
     ]
    }
   ],
   "source": [
    "def  area_hexagon():\n",
    "    user_input = int(input('enter the side length of a hexagon: '))\n",
    "    result = ((3*math.sqrt(3))/2)*(pow(user_input,2))\n",
    "    print(f'Area for hexagon of sidelength {user_input} = {result:.3f}')\n",
    "    \n",
    "for i in range(3):\n",
    "    area_hexagon()"
   ]
  },
  {
   "cell_type": "markdown",
   "id": "c4931c0f",
   "metadata": {},
   "source": [
    "# q"
   ]
  },
  {
   "cell_type": "markdown",
   "id": "9cb89006",
   "metadata": {},
   "source": [
    "Question 5.Create a function that returns a base-2 (binary) representation of a base-10\n",
    "(decimal) string number. To convert is simple: ((2) means base-2 and (10) means base-10)\n",
    "010101001(2) = 1 + 8 + 32 + 128.\n",
    "\n",
    "Going from right to left, the value of the most right bit is 1, now from that every bit to the left\n",
    "will be x2 the value, value of an 8 bit binary numbers are (256, 128, 64, 32, 16, 8, 4, 2, 1).\n",
    "\n",
    "Examples\n",
    "\n",
    "binary(1) ➞ &quot;1&quot;\n",
    "# 1*1 = 1\n",
    "\n",
    "binary(5) ➞ &quot;101&quot;\n",
    "# 1*1 + 1*4 = 5\n",
    "\n",
    "binary(10) ➞ &quot;1010&quot;\n",
    "# 1*2 + 1*8 = 10"
   ]
  },
  {
   "cell_type": "markdown",
   "id": "657daea3",
   "metadata": {},
   "source": [
    "# ans"
   ]
  },
  {
   "cell_type": "code",
   "execution_count": 12,
   "id": "9c3a7bae",
   "metadata": {},
   "outputs": [
    {
     "name": "stdout",
     "output_type": "stream",
     "text": [
      "Enter a number: 1\n",
      "Binary of 1 = 1\n",
      "Enter a number: 5\n",
      "Binary of 5 = 101\n",
      "Enter a number: 10\n",
      "Binary of 10 = 1010\n"
     ]
    }
   ],
   "source": [
    "def convert_binary():\n",
    "    user_inp = int(input(\"Enter a number: \"))\n",
    "    result = bin(user_inp).replace('0b','') \n",
    "    print(f'Binary of {user_inp} = {result}')\n",
    "\n",
    "for i in range(3):\n",
    "    convert_binary()"
   ]
  },
  {
   "cell_type": "code",
   "execution_count": null,
   "id": "59ae0fcc",
   "metadata": {},
   "outputs": [],
   "source": []
  }
 ],
 "metadata": {
  "kernelspec": {
   "display_name": "Python 3 (ipykernel)",
   "language": "python",
   "name": "python3"
  },
  "language_info": {
   "codemirror_mode": {
    "name": "ipython",
    "version": 3
   },
   "file_extension": ".py",
   "mimetype": "text/x-python",
   "name": "python",
   "nbconvert_exporter": "python",
   "pygments_lexer": "ipython3",
   "version": "3.9.7"
  }
 },
 "nbformat": 4,
 "nbformat_minor": 5
}
