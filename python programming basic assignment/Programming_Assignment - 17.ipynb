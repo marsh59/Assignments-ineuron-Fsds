{
 "cells": [
  {
   "cell_type": "code",
   "execution_count": null,
   "id": "6f2c57a1",
   "metadata": {},
   "outputs": [],
   "source": []
  },
  {
   "cell_type": "markdown",
   "id": "d416e2ac",
   "metadata": {},
   "source": [
    "# q"
   ]
  },
  {
   "cell_type": "markdown",
   "id": "53fe854b",
   "metadata": {},
   "source": [
    "Question1.Create a function that takes three arguments a, b, c and returns the sum of the\n",
    "numbers that are evenly divided by c from the range a, b inclusive.\n",
    "\n",
    "Examples\n",
    "\n",
    "evenly_divisible(1, 10, 20) ➞ 0\n",
    "# No number between 1 and 10 can be evenly divided by 20.\n",
    "\n",
    "evenly_divisible(1, 10, 2) ➞ 30\n",
    "# 2 + 4 + 6 + 8 + 10 = 30\n",
    "\n",
    "evenly_divisible(1, 10, 3) ➞ 18\n",
    "# 3 + 6 + 9 = 18"
   ]
  },
  {
   "cell_type": "markdown",
   "id": "d0bf3b63",
   "metadata": {},
   "source": [
    "# ans"
   ]
  },
  {
   "cell_type": "code",
   "execution_count": 1,
   "id": "475ac32d",
   "metadata": {},
   "outputs": [
    {
     "name": "stdout",
     "output_type": "stream",
     "text": [
      "(1, 10, 20) = 0\n",
      "(1, 10, 2) = 30\n",
      "(1, 10, 3) = 18\n"
     ]
    }
   ],
   "source": [
    "def even_divisible(a,b,c):\n",
    "    box = []\n",
    "    for num in range(a,b+1):\n",
    "        if num % c == 0:\n",
    "            box.append(num)\n",
    "    print(f'{a,b,c} = {sum(box)}')\n",
    "\n",
    "even_divisible(1,10,20)\n",
    "even_divisible(1,10,2)\n",
    "even_divisible(1,10,3)"
   ]
  },
  {
   "cell_type": "markdown",
   "id": "e12331b5",
   "metadata": {},
   "source": [
    "# q"
   ]
  },
  {
   "cell_type": "markdown",
   "id": "96e9acb4",
   "metadata": {},
   "source": [
    "Question2.Create a function that returns True if a given inequality expression is correct and\n",
    "False otherwise.\n",
    "\n",
    "Examples\n",
    "\n",
    "correct_signs(&quot;3 &lt; 7 &lt; 11&quot;) ➞ True\n",
    "\n",
    "correct_signs(&quot;13 &gt; 44 &gt; 33 &gt; 1&quot;) ➞ False\n",
    "\n",
    "correct_signs(&quot;1 &lt; 2 &lt; 6 &lt; 9 &gt; 3&quot;) ➞ True"
   ]
  },
  {
   "cell_type": "markdown",
   "id": "4bfc26f2",
   "metadata": {},
   "source": [
    "# ans"
   ]
  },
  {
   "cell_type": "code",
   "execution_count": 4,
   "id": "544cca53",
   "metadata": {},
   "outputs": [
    {
     "name": "stdout",
     "output_type": "stream",
     "text": [
      "enter the inequality: 3 < 7 < 11\n",
      "3 < 7 < 11 = True\n",
      "enter the inequality: 13 > 44 > 33 > 1\n",
      "13 > 44 > 33 > 1 = False\n",
      "enter the inequality: 1 < 2 < 6 < 9 > 3\n",
      "1 < 2 < 6 < 9 > 3 = True\n"
     ]
    }
   ],
   "source": [
    "def checker_inequality():\n",
    "    user_inp = input('enter the inequality: ')\n",
    "    result = eval(user_inp)\n",
    "    print(f'{user_inp} = {result}')\n",
    "\n",
    "for i in range(3):\n",
    "    checker_inequality()"
   ]
  },
  {
   "cell_type": "markdown",
   "id": "6026ceba",
   "metadata": {},
   "source": [
    "# q"
   ]
  },
  {
   "cell_type": "markdown",
   "id": "de765296",
   "metadata": {},
   "source": [
    "Question3.Create a function that replaces all the vowels in a string with a specified character.\n",
    "\n",
    "Examples\n",
    "\n",
    "replace_vowels(&quot;the aardvark&quot;, &quot;#&quot;) ➞ &quot;th# ##rdv#rk&quot;\n",
    "\n",
    "replace_vowels(&quot;minnie mouse&quot;, &quot;?&quot;) ➞ &quot;m?nn?? m??s?&quot;\n",
    "\n",
    "replace_vowels(&quot;shakespeare&quot;, &quot;*&quot;) ➞ &quot;sh*k*sp**r*&quot;"
   ]
  },
  {
   "cell_type": "markdown",
   "id": "8a06ddaf",
   "metadata": {},
   "source": [
    "# ans"
   ]
  },
  {
   "cell_type": "code",
   "execution_count": 5,
   "id": "c9ce7dcf",
   "metadata": {},
   "outputs": [
    {
     "name": "stdout",
     "output_type": "stream",
     "text": [
      "string: the aardvark\n",
      "Replacement character: #\n",
      "the aardvark # = th# ##rdv#rk\n",
      "string: minnie mouse\n",
      "Replacement character: ?\n",
      "minnie mouse ? = m?nn?? m??s?\n",
      "string: shakespeare\n",
      "Replacement character: *\n",
      "shakespeare * = sh*k*sp**r*\n"
     ]
    }
   ],
   "source": [
    "def replace_vowels():\n",
    "    vowels = ['a','e','i','o','u','A','E','I','O','U']\n",
    "    user = input(\"string: \")\n",
    "    user_copy = user\n",
    "    char = input('Replacement character: ')\n",
    "    for ele in user:\n",
    "        if ele in vowels:\n",
    "            user = user.replace(ele,char)\n",
    "    print(f'{user_copy} {char} = {user}')\n",
    "            \n",
    "for x in range(3):\n",
    "    replace_vowels()"
   ]
  },
  {
   "cell_type": "code",
   "execution_count": null,
   "id": "ba323310",
   "metadata": {},
   "outputs": [],
   "source": []
  },
  {
   "cell_type": "markdown",
   "id": "cc037bfb",
   "metadata": {},
   "source": [
    "# q"
   ]
  },
  {
   "cell_type": "markdown",
   "id": "9dd89d60",
   "metadata": {},
   "source": [
    "Question4.Write a function that calculates the factorial of a number recursively.\n",
    "\n",
    "Examples\n",
    "\n",
    "factorial(5) ➞ 120\n",
    "\n",
    "factorial(3) ➞ 6\n",
    "\n",
    "factorial(1) ➞ 1\n",
    "\n",
    "factorial(0) ➞ 1"
   ]
  },
  {
   "cell_type": "markdown",
   "id": "9ee5547b",
   "metadata": {},
   "source": [
    "# ans"
   ]
  },
  {
   "cell_type": "code",
   "execution_count": 6,
   "id": "39be6478",
   "metadata": {},
   "outputs": [
    {
     "name": "stdout",
     "output_type": "stream",
     "text": [
      "factorial(5) = 120\n",
      "factorial(3) = 6\n",
      "factorial(1) = 1\n",
      "factorial(0) = 1\n"
     ]
    }
   ],
   "source": [
    "def factorial(n):\n",
    "    if n==0:\n",
    "        return 1\n",
    "    return n * factorial(n-1)\n",
    "\n",
    "print(f'factorial(5) = {factorial(5)}')\n",
    "print(f'factorial(3) = {factorial(3)}')\n",
    "print(f'factorial(1) = {factorial(1)}')\n",
    "print(f'factorial(0) = {factorial(0)}')"
   ]
  },
  {
   "cell_type": "markdown",
   "id": "c4931c0f",
   "metadata": {},
   "source": [
    "# q"
   ]
  },
  {
   "cell_type": "markdown",
   "id": "9cb89006",
   "metadata": {},
   "source": [
    "Question 5:Hamming distance is the number of characters that differ between two strings.\n",
    "\n",
    "To illustrate:\n",
    "\n",
    "String1: &quot;abcbba&quot;\n",
    "\n",
    "String2: &quot;abcbda&quot;\n",
    "\n",
    "Hamming Distance: 1 - &quot;b&quot; vs. &quot;d&quot; is the only difference.\n",
    "\n",
    "Create a function that computes the hamming distance between two strings.\n",
    "Examples\n",
    "\n",
    "hamming_distance(&quot;abcde&quot;, &quot;bcdef&quot;) ➞ 5\n",
    "\n",
    "hamming_distance(&quot;abcde&quot;, &quot;abcde&quot;) ➞ 0\n",
    "\n",
    "hamming_distance(&quot;strong&quot;, &quot;strung&quot;) ➞ 1"
   ]
  },
  {
   "cell_type": "markdown",
   "id": "657daea3",
   "metadata": {},
   "source": [
    "# ans"
   ]
  },
  {
   "cell_type": "code",
   "execution_count": 7,
   "id": "9c3a7bae",
   "metadata": {},
   "outputs": [
    {
     "name": "stdout",
     "output_type": "stream",
     "text": [
      "Enter the string 1: abcde\n",
      "Enter the string 2: bcdef\n",
      "hamning distance = 5\n",
      "Enter the string 1: abcde\n",
      "Enter the string 2: abcde\n",
      "hamning distance = 0\n",
      "Enter the string 1: strong\n",
      "Enter the string 2: strung\n",
      "hamning distance = 1\n"
     ]
    }
   ],
   "source": [
    "def hamming_distance():\n",
    "    user_1 = input('Enter the string 1: ')\n",
    "    user_2 = input('Enter the string 2: ')\n",
    "    if len(user_1) == len(user_2):\n",
    "        count = 0\n",
    "        for i in range(len(user_1)):\n",
    "            if user_1[i] != user_2[i]:\n",
    "                count = count+1\n",
    "        print(f'hamning distance = {count}')\n",
    "    else:\n",
    "        print('Both strings must be of same length')\n",
    "\n",
    "for x in range(3):\n",
    "    hamming_distance()"
   ]
  },
  {
   "cell_type": "code",
   "execution_count": null,
   "id": "2e474c4e",
   "metadata": {},
   "outputs": [],
   "source": []
  }
 ],
 "metadata": {
  "kernelspec": {
   "display_name": "Python 3 (ipykernel)",
   "language": "python",
   "name": "python3"
  },
  "language_info": {
   "codemirror_mode": {
    "name": "ipython",
    "version": 3
   },
   "file_extension": ".py",
   "mimetype": "text/x-python",
   "name": "python",
   "nbconvert_exporter": "python",
   "pygments_lexer": "ipython3",
   "version": "3.9.7"
  }
 },
 "nbformat": 4,
 "nbformat_minor": 5
}
