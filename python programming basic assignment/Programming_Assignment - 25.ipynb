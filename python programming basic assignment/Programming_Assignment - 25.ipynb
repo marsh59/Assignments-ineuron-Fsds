{
 "cells": [
  {
   "cell_type": "code",
   "execution_count": null,
   "id": "6f2c57a1",
   "metadata": {},
   "outputs": [],
   "source": []
  },
  {
   "cell_type": "markdown",
   "id": "d416e2ac",
   "metadata": {},
   "source": [
    "# q"
   ]
  },
  {
   "cell_type": "markdown",
   "id": "53fe854b",
   "metadata": {},
   "source": [
    "Question1:Create a function that takes three integer arguments (a, b, c) and returns the amount of\n",
    "\n",
    "integers which are of equal value.\n",
    "\n",
    "Examples\n",
    "\n",
    "equal(3, 4, 3) ➞ 2\n",
    "\n",
    "equal(1, 1, 1) ➞ 3\n",
    "\n",
    "equal(3, 4, 1) ➞ 0\n",
    "\n",
    "Notes\n",
    "\n",
    "Your function must return 0, 2 or 3."
   ]
  },
  {
   "cell_type": "markdown",
   "id": "d0bf3b63",
   "metadata": {},
   "source": [
    "# ans"
   ]
  },
  {
   "cell_type": "code",
   "execution_count": 1,
   "id": "475ac32d",
   "metadata": {},
   "outputs": [
    {
     "name": "stdout",
     "output_type": "stream",
     "text": [
      "(3, 4, 3) = 0\n",
      "(1, 1, 1) = 3\n",
      "(3, 4, 1) = 0\n"
     ]
    }
   ],
   "source": [
    "def equal(a,b,c):\n",
    "    if a==b==c:\n",
    "        print(f'{a,b,c} = {3}')\n",
    "    elif a==b or b==c:\n",
    "        print(f'{a,b,c} = {2}')\n",
    "    else:\n",
    "        print(f'{a,b,c} = {0}')\n",
    "\n",
    "equal(3, 4, 3)\n",
    "equal(1, 1, 1)\n",
    "equal(3, 4, 1)"
   ]
  },
  {
   "cell_type": "markdown",
   "id": "e12331b5",
   "metadata": {},
   "source": [
    "# q"
   ]
  },
  {
   "cell_type": "markdown",
   "id": "96e9acb4",
   "metadata": {},
   "source": [
    "Question2:Write a function that converts a dictionary into a list of keys-values tuples.\n",
    "\n",
    "Examples\n",
    "\n",
    "dict_to_list({\n",
    "\n",
    "&quot;D&quot;: 1,\n",
    "\n",
    "&quot;B&quot;: 2,\n",
    "\n",
    "&quot;C&quot;: 3\n",
    "\n",
    "}) ➞ [(&quot;B&quot;, 2), (&quot;C&quot;, 3), (&quot;D&quot;, 1)]\n",
    "\n",
    "dict_to_list({\n",
    "\n",
    "&quot;likes&quot;: 2,\n",
    "\n",
    "&quot;dislikes&quot;: 3,\n",
    "\n",
    "&quot;followers&quot;: 10\n",
    "\n",
    "}) ➞ [(&quot;dislikes&quot;, 3), (&quot;followers&quot;, 10), (&quot;likes&quot;, 2)]\n",
    "\n",
    "Notes\n",
    "\n",
    "Return the elements in the list in alphabetical order."
   ]
  },
  {
   "cell_type": "markdown",
   "id": "4bfc26f2",
   "metadata": {},
   "source": [
    "# ans"
   ]
  },
  {
   "cell_type": "code",
   "execution_count": 2,
   "id": "544cca53",
   "metadata": {},
   "outputs": [
    {
     "name": "stdout",
     "output_type": "stream",
     "text": [
      "{'D': 1, 'B': 2, 'C': 3} = [('D', 1), ('B', 2), ('C', 3)]\n",
      "{'likes': 2, 'dislikes': 3, 'followers': 10} = [('likes', 2), ('dislikes', 3), ('followers', 10)]\n"
     ]
    }
   ],
   "source": [
    "def dict_to_list(inp):\n",
    "    res = []\n",
    "    for keys,values in inp.items():\n",
    "        res.append((keys,values))\n",
    "    print(f'{inp} = {res}')\n",
    "                   \n",
    "dict_to_list({\"D\": 1,\"B\": 2,\"C\": 3})\n",
    "dict_to_list({\"likes\": 2,\"dislikes\": 3,\"followers\": 10})"
   ]
  },
  {
   "cell_type": "markdown",
   "id": "6026ceba",
   "metadata": {},
   "source": [
    "# q"
   ]
  },
  {
   "cell_type": "markdown",
   "id": "de765296",
   "metadata": {},
   "source": [
    "Question3:Write a function that creates a dictionary with each (key, value) pair being the (lower case,\n",
    "\n",
    "upper case) versions of a letter, respectively.\n",
    "\n",
    "Examples\n",
    "\n",
    "mapping([&quot;p&quot;, &quot;s&quot;]) ➞ { &quot;p&quot;: &quot;P&quot;, &quot;s&quot;: &quot;S&quot; }\n",
    "\n",
    "mapping([&quot;a&quot;, &quot;b&quot;, &quot;c&quot;]) ➞ { &quot;a&quot;: &quot;A&quot;, &quot;b&quot;: &quot;B&quot;, &quot;c&quot;: &quot;C&quot; }\n",
    "\n",
    "mapping([&quot;a&quot;, &quot;v&quot;, &quot;y&quot;, &quot;z&quot;]) ➞ { &quot;a&quot;: &quot;A&quot;, &quot;v&quot;: &quot;V&quot;, &quot;y&quot;: &quot;Y&quot;, &quot;z&quot;: &quot;Z&quot; }\n",
    "\n",
    "Notes\n",
    "\n",
    "All of the letters in the input list will always be lowercase."
   ]
  },
  {
   "cell_type": "markdown",
   "id": "8a06ddaf",
   "metadata": {},
   "source": [
    "# ans"
   ]
  },
  {
   "cell_type": "code",
   "execution_count": 4,
   "id": "c9ce7dcf",
   "metadata": {},
   "outputs": [
    {
     "name": "stdout",
     "output_type": "stream",
     "text": [
      "['p', 's'] = {'p': 'P', 's': 'S'}\n",
      "['a', 'b', 'c'] = {'a': 'A', 'b': 'B', 'c': 'C'}\n",
      "['a', 'v', 'y', 'z'] = {'a': 'A', 'v': 'V', 'y': 'Y', 'z': 'Z'}\n"
     ]
    }
   ],
   "source": [
    "def mapping(inp):\n",
    "    res = {}\n",
    "    for ele in inp:\n",
    "        res[ele] = ele.upper()\n",
    "    print(f'{inp} = {res}')\n",
    "    \n",
    "mapping([\"p\", \"s\"])\n",
    "mapping([\"a\", \"b\", \"c\"])\n",
    "mapping([\"a\", \"v\", \"y\", \"z\"])"
   ]
  },
  {
   "cell_type": "code",
   "execution_count": null,
   "id": "ba323310",
   "metadata": {},
   "outputs": [],
   "source": []
  },
  {
   "cell_type": "markdown",
   "id": "cc037bfb",
   "metadata": {},
   "source": [
    "# q"
   ]
  },
  {
   "cell_type": "markdown",
   "id": "9dd89d60",
   "metadata": {},
   "source": [
    "Question4:Write a function, that replaces all vowels in a string with a specified vowel.\n",
    "\n",
    "Examples\n",
    "\n",
    "vow_replace(&quot;apples and bananas&quot;, &quot;u&quot;) ➞ &quot;upplus und bununus&quot;\n",
    "\n",
    "vow_replace(&quot;cheese casserole&quot;, &quot;o&quot;) ➞ &quot;chooso cossorolo&quot;\n",
    "\n",
    "vow_replace(&quot;stuffed jalapeno poppers&quot;, &quot;e&quot;) ➞ &quot;steffed jelepene \n",
    "peppers&quot;\n",
    "\n",
    "Notes\n",
    "\n",
    "All words will be lowercase. Y is not considered a vowel."
   ]
  },
  {
   "cell_type": "markdown",
   "id": "9ee5547b",
   "metadata": {},
   "source": [
    "# ans"
   ]
  },
  {
   "cell_type": "code",
   "execution_count": 5,
   "id": "39be6478",
   "metadata": {},
   "outputs": [
    {
     "name": "stdout",
     "output_type": "stream",
     "text": [
      "apples and bananas = upplus und bununus\n",
      "cheese casserole = chooso cossorolo\n",
      "stuffed jalapeno poppers = steffed jelepene peppers\n"
     ]
    }
   ],
   "source": [
    "def vow_replace(inp,vow_charact):\n",
    "    vowels = ['a','e','i','o','u']\n",
    "    res = ''\n",
    "    for ele in inp:\n",
    "        if ele in vowels:\n",
    "            res += vow_charact\n",
    "        else:\n",
    "            res += ele\n",
    "    print(f'{inp} = {res}')\n",
    "        \n",
    "vow_replace(\"apples and bananas\", \"u\")\n",
    "vow_replace(\"cheese casserole\", \"o\")\n",
    "vow_replace(\"stuffed jalapeno poppers\", \"e\")"
   ]
  },
  {
   "cell_type": "markdown",
   "id": "c4931c0f",
   "metadata": {},
   "source": [
    "# q"
   ]
  },
  {
   "cell_type": "markdown",
   "id": "9cb89006",
   "metadata": {},
   "source": [
    "Question5:Create a function that takes a string as input and capitalizes a letter if its ASCII code is even\n",
    "\n",
    "and returns its lower case version if its ASCII code is odd.\n",
    "\n",
    "Examples\n",
    "\n",
    "ascii_capitalize(&quot;to be or not to be!&quot;) ➞ &quot;To Be oR NoT To Be!&quot;\n",
    "\n",
    "ascii_capitalize(&quot;THE LITTLE MERMAID&quot;) ➞ &quot;THe LiTTLe meRmaiD&quot;\n",
    "\n",
    "ascii_capitalize(&quot;Oh what a beautiful morning.&quot;) ➞ &quot;oH wHaT a BeauTiFuL\n",
    "\n",
    "moRNiNg.&quot;"
   ]
  },
  {
   "cell_type": "markdown",
   "id": "657daea3",
   "metadata": {},
   "source": [
    "# ans"
   ]
  },
  {
   "cell_type": "code",
   "execution_count": 6,
   "id": "9c3a7bae",
   "metadata": {},
   "outputs": [
    {
     "name": "stdout",
     "output_type": "stream",
     "text": [
      "to be or not to be! = To Be oR NoT To Be!\n",
      "THE LITTLE MERMAID = THe LiTTLe meRmaiD\n",
      "Oh what a beautiful morning. = oH wHaT a BeauTiFuL moRNiNg.\n"
     ]
    }
   ],
   "source": [
    "def ascii_capitalize(inp):\n",
    "    res = ''\n",
    "    for ele in inp.lower():\n",
    "        if (ord(ele)%2 == 0):\n",
    "            res += ele.upper()\n",
    "        else:\n",
    "            res += ele\n",
    "    print(f'{inp} = {res}')\n",
    "        \n",
    "ascii_capitalize(\"to be or not to be!\")\n",
    "ascii_capitalize(\"THE LITTLE MERMAID\")\n",
    "ascii_capitalize(\"Oh what a beautiful morning.\")"
   ]
  },
  {
   "cell_type": "code",
   "execution_count": null,
   "id": "224c2112",
   "metadata": {},
   "outputs": [],
   "source": []
  }
 ],
 "metadata": {
  "kernelspec": {
   "display_name": "Python 3 (ipykernel)",
   "language": "python",
   "name": "python3"
  },
  "language_info": {
   "codemirror_mode": {
    "name": "ipython",
    "version": 3
   },
   "file_extension": ".py",
   "mimetype": "text/x-python",
   "name": "python",
   "nbconvert_exporter": "python",
   "pygments_lexer": "ipython3",
   "version": "3.9.7"
  }
 },
 "nbformat": 4,
 "nbformat_minor": 5
}
