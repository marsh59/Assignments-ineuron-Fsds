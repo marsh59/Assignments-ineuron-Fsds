{
 "cells": [
  {
   "cell_type": "code",
   "execution_count": null,
   "id": "6f2c57a1",
   "metadata": {},
   "outputs": [],
   "source": []
  },
  {
   "cell_type": "markdown",
   "id": "d416e2ac",
   "metadata": {},
   "source": [
    "# q"
   ]
  },
  {
   "cell_type": "markdown",
   "id": "53fe854b",
   "metadata": {},
   "source": [
    "1.Write a Python program to find sum of elements in list?"
   ]
  },
  {
   "cell_type": "markdown",
   "id": "d0bf3b63",
   "metadata": {},
   "source": [
    "# ans"
   ]
  },
  {
   "cell_type": "code",
   "execution_count": 2,
   "id": "475ac32d",
   "metadata": {},
   "outputs": [
    {
     "name": "stdout",
     "output_type": "stream",
     "text": [
      "enter the no of entries you want in a list: 5\n",
      "enter a number: 6\n",
      "enter a number: 4\n",
      "enter a number: 2\n",
      "enter a number: 3\n",
      "enter a number: 5\n",
      "sum of elements: 20\n"
     ]
    }
   ],
   "source": [
    "def list_sum():\n",
    "    user_input = int(input('enter the no of entries you want in a list: '))\n",
    "    final_list= []\n",
    "    for i in range(user_input):\n",
    "        final_list.append(int(input('enter a number: ')))\n",
    "    print(f'sum of elements: {sum(final_list)}')\n",
    "\n",
    "list_sum()"
   ]
  },
  {
   "cell_type": "markdown",
   "id": "e12331b5",
   "metadata": {},
   "source": [
    "# q"
   ]
  },
  {
   "cell_type": "markdown",
   "id": "96e9acb4",
   "metadata": {},
   "source": [
    "2.Write a Python program to Multiply all numbers in the list?"
   ]
  },
  {
   "cell_type": "markdown",
   "id": "4bfc26f2",
   "metadata": {},
   "source": [
    "# ans"
   ]
  },
  {
   "cell_type": "code",
   "execution_count": 4,
   "id": "544cca53",
   "metadata": {},
   "outputs": [
    {
     "name": "stdout",
     "output_type": "stream",
     "text": [
      "enter the no of entries you want in a list: 4\n",
      "enter a number: 1\n",
      "enter a number: 2\n",
      "enter a number: 3\n",
      "enter a number: 4\n",
      "24\n"
     ]
    }
   ],
   "source": [
    "def list_multiplication():\n",
    "    user_input = int(input('enter the no of entries you want in a list: '))\n",
    "    result = []\n",
    "    a = 1\n",
    "    for i in range(user_input):\n",
    "        result.append(int(input('enter a number: ')))\n",
    "    for i in result:\n",
    "        a = a * i\n",
    "    print(a)\n",
    "\n",
    "list_multiplication()"
   ]
  },
  {
   "cell_type": "markdown",
   "id": "6026ceba",
   "metadata": {},
   "source": [
    "# q"
   ]
  },
  {
   "cell_type": "markdown",
   "id": "de765296",
   "metadata": {},
   "source": [
    "3.Write a Python program to find smallest number in a list?"
   ]
  },
  {
   "cell_type": "markdown",
   "id": "8a06ddaf",
   "metadata": {},
   "source": [
    "# ans"
   ]
  },
  {
   "cell_type": "code",
   "execution_count": 7,
   "id": "c9ce7dcf",
   "metadata": {},
   "outputs": [
    {
     "name": "stdout",
     "output_type": "stream",
     "text": [
      "enter the number of elements in a list: 4\n",
      "enter a element: 1\n",
      "enter a element: 2\n",
      "enter a element: 366\n",
      "enter a element: 99\n",
      "The smallest element in [1, 2, 366, 99] is 1\n"
     ]
    }
   ],
   "source": [
    "def smallest_number():\n",
    "    user_input = int(input('enter the number of elements in a list: '))\n",
    "    result = []\n",
    "    for i in range(user_input):\n",
    "        result.append(int(input('enter a element: ')))\n",
    "    print(f'The smallest element in {result} is {sorted(result)[0]}')\n",
    "    \n",
    "smallest_number()"
   ]
  },
  {
   "cell_type": "code",
   "execution_count": null,
   "id": "ba323310",
   "metadata": {},
   "outputs": [],
   "source": []
  },
  {
   "cell_type": "markdown",
   "id": "cc037bfb",
   "metadata": {},
   "source": [
    "# q"
   ]
  },
  {
   "cell_type": "markdown",
   "id": "9dd89d60",
   "metadata": {},
   "source": [
    "4.Write a Python program to find largest number in a list?"
   ]
  },
  {
   "cell_type": "markdown",
   "id": "9ee5547b",
   "metadata": {},
   "source": [
    "# ans"
   ]
  },
  {
   "cell_type": "code",
   "execution_count": 9,
   "id": "39be6478",
   "metadata": {},
   "outputs": [
    {
     "name": "stdout",
     "output_type": "stream",
     "text": [
      "enter the no of elements in a list: 4\n",
      "enter a element: 10\n",
      "enter a element: 100\n",
      "enter a element: 1000\n",
      "enter a element: 100000\n",
      "the largest element in [10, 100, 1000, 100000] is 100000\n"
     ]
    }
   ],
   "source": [
    "def largest_number():\n",
    "    user_input = int(input('enter the no of elements in a list: '))\n",
    "    result = []\n",
    "    for i in range(user_input):\n",
    "        result.append(int(input('enter a element: ')))\n",
    "    print(f'the largest element in {result} is {sorted(result, reverse=True)[0]}')\n",
    "\n",
    "largest_number()"
   ]
  },
  {
   "cell_type": "markdown",
   "id": "c4931c0f",
   "metadata": {},
   "source": [
    "# q"
   ]
  },
  {
   "cell_type": "markdown",
   "id": "9cb89006",
   "metadata": {},
   "source": [
    "5.Write a Python program to find second largest number in a list?"
   ]
  },
  {
   "cell_type": "markdown",
   "id": "657daea3",
   "metadata": {},
   "source": [
    "# ans"
   ]
  },
  {
   "cell_type": "code",
   "execution_count": 10,
   "id": "9c3a7bae",
   "metadata": {},
   "outputs": [
    {
     "name": "stdout",
     "output_type": "stream",
     "text": [
      "enter the no of elements in a list: 4\n",
      "enter a element: 5\n",
      "enter a element: 10\n",
      "enter a element: 15\n",
      "enter a element: 25\n",
      "the second largest element in [5, 10, 15, 25] is 15\n"
     ]
    }
   ],
   "source": [
    "def second_largest_number():\n",
    "    user_input = int(input('enter the no of elements in a list: '))\n",
    "    result = []\n",
    "    for i in range(user_input):\n",
    "        result.append(int(input('enter a element: ')))\n",
    "    print(f'the second largest element in {result} is {sorted(result, reverse=True)[1]}')\n",
    "\n",
    "second_largest_number()"
   ]
  },
  {
   "cell_type": "markdown",
   "id": "2b58726b",
   "metadata": {},
   "source": [
    "# q"
   ]
  },
  {
   "cell_type": "markdown",
   "id": "d0a66012",
   "metadata": {},
   "source": [
    "6.Write a Python program to find N largest elements from a list?"
   ]
  },
  {
   "cell_type": "markdown",
   "id": "a67f5a36",
   "metadata": {},
   "source": [
    "# ans"
   ]
  },
  {
   "cell_type": "code",
   "execution_count": 11,
   "id": "fd593924",
   "metadata": {},
   "outputs": [
    {
     "name": "stdout",
     "output_type": "stream",
     "text": [
      "enter the no of elements in a list: 3\n",
      "enter a element: 2\n",
      "enter a element: 4\n",
      "enter a element: 6\n",
      "the 4 largest element in [2, 4, 6] is [6, 4, 2]\n"
     ]
    }
   ],
   "source": [
    "def n_largest_element(a):\n",
    "    user_input = int(input('enter the no of elements in a list: '))\n",
    "    result = []\n",
    "    for ele in range(user_input):\n",
    "        result.append(int(input('enter a element: ')))\n",
    "    print(f'the {a} largest element in {result} is {sorted(result, reverse=True)[0:a]}')\n",
    "\n",
    "n_largest_element(4)"
   ]
  },
  {
   "cell_type": "markdown",
   "id": "31af1f11",
   "metadata": {},
   "source": [
    "# q"
   ]
  },
  {
   "cell_type": "markdown",
   "id": "7e0045e0",
   "metadata": {},
   "source": [
    "7.Write a Python program to print even numbers in a list?"
   ]
  },
  {
   "cell_type": "markdown",
   "id": "c1d3fbca",
   "metadata": {},
   "source": [
    "# ans"
   ]
  },
  {
   "cell_type": "code",
   "execution_count": 12,
   "id": "5dc4e725",
   "metadata": {},
   "outputs": [
    {
     "name": "stdout",
     "output_type": "stream",
     "text": [
      "enter the no of elements in a list: 5\n",
      "Enter a Element: 12\n",
      "Enter a Element: 11\n",
      "Enter a Element: 88\n",
      "Enter a Element: 96\n",
      "Enter a Element: 5\n",
      "the even elements in [12, 11, 88, 96, 5] are [12, 88, 96]\n"
     ]
    }
   ],
   "source": [
    "def even_numbers_print():\n",
    "    user_input = int(input('enter the no of elements in a list: '))\n",
    "    result = []\n",
    "    even_list = []\n",
    "    for i in range(user_input):\n",
    "        result.append(int(input('Enter a Element: ')))\n",
    "    for i in result:\n",
    "        if i%2 == 0:\n",
    "            even_list.append(i)\n",
    "    print(f'the even elements in {result} are {even_list}')\n",
    "\n",
    "even_numbers_print()"
   ]
  },
  {
   "cell_type": "markdown",
   "id": "5ed3893d",
   "metadata": {},
   "source": [
    "# q"
   ]
  },
  {
   "cell_type": "markdown",
   "id": "55073c1a",
   "metadata": {},
   "source": [
    "8.Write a Python program to print odd numbers in a List?"
   ]
  },
  {
   "cell_type": "markdown",
   "id": "a0322055",
   "metadata": {},
   "source": [
    "# ans"
   ]
  },
  {
   "cell_type": "code",
   "execution_count": 15,
   "id": "d27df073",
   "metadata": {},
   "outputs": [
    {
     "name": "stdout",
     "output_type": "stream",
     "text": [
      "enter the no of elements in a list: 6\n",
      "enter a element: 1\n",
      "enter a element: 2\n",
      "enter a element: 3\n",
      "enter a element: 4\n",
      "enter a element: 5\n",
      "enter a element: 6\n",
      "the even elements in [1, 2, 3, 4, 5, 6] are [1, 3, 5]\n"
     ]
    }
   ],
   "source": [
    "def print_odd_numbers():\n",
    "    user_input = int(input('enter the no of elements in a list: '))\n",
    "    result = []\n",
    "    odd_list = []\n",
    "    for i in range(user_input):\n",
    "        result.append(int(input('enter a element: ')))\n",
    "    for i in result:\n",
    "        if i%2 != 0:\n",
    "            odd_list.append(i)\n",
    "    print(f'the even elements in {result} are {odd_list}')\n",
    "\n",
    "print_odd_numbers()"
   ]
  },
  {
   "cell_type": "markdown",
   "id": "3e5fbd0a",
   "metadata": {},
   "source": [
    "# q"
   ]
  },
  {
   "cell_type": "markdown",
   "id": "ac103c2c",
   "metadata": {},
   "source": [
    "9.Write a Python program to Remove empty List from List?"
   ]
  },
  {
   "cell_type": "markdown",
   "id": "9adb1d2d",
   "metadata": {},
   "source": [
    "# ans"
   ]
  },
  {
   "cell_type": "code",
   "execution_count": 17,
   "id": "2866d620",
   "metadata": {},
   "outputs": [
    {
     "name": "stdout",
     "output_type": "stream",
     "text": [
      "enter all elements of the list: [1,22,56,[],98]\n",
      "there is an empty list in [1, 22, 56, [], 98] at position 3\n",
      "the list after removing [] is [1, 22, 56, 98]\n"
     ]
    }
   ],
   "source": [
    "def remove_empty_list():\n",
    "    user_input = eval(input('enter all elements of the list: '))\n",
    "    if [] in user_input:\n",
    "        print(f'there is an empty list in {user_input} at position {user_input.index([])}')\n",
    "        user_input.remove([])\n",
    "        print(f'the list after removing [] is {user_input}')\n",
    "    else:\n",
    "        print(f'there is no [] list in the list {user_input}')\n",
    "        \n",
    "remove_empty_list()"
   ]
  },
  {
   "cell_type": "markdown",
   "id": "62eed827",
   "metadata": {},
   "source": [
    "# q"
   ]
  },
  {
   "cell_type": "markdown",
   "id": "cab7fd42",
   "metadata": {},
   "source": [
    "10.Write a Python program to Cloning or Copying a list?"
   ]
  },
  {
   "cell_type": "markdown",
   "id": "e4231e95",
   "metadata": {},
   "source": [
    "# ans"
   ]
  },
  {
   "cell_type": "code",
   "execution_count": null,
   "id": "1b563c71",
   "metadata": {},
   "outputs": [],
   "source": [
    "import copy"
   ]
  },
  {
   "cell_type": "code",
   "execution_count": 18,
   "id": "8e0cf32d",
   "metadata": {},
   "outputs": [
    {
     "name": "stdout",
     "output_type": "stream",
     "text": [
      "enter a list[2,4,6,8,9]\n",
      "[2, 4, 6, 8, 9] 1666914200768\n",
      "[2, 4, 6, 8, 9] 1666916212800\n"
     ]
    }
   ],
   "source": [
    "def cloning_copying_list():\n",
    "    user_input = eval(input('enter a list'))\n",
    "    print(user_input, id(user_input))\n",
    "    cloned_list = user_input.copy()\n",
    "    print(cloned_list, id(cloned_list))\n",
    "\n",
    "cloning_copying_list()"
   ]
  },
  {
   "cell_type": "markdown",
   "id": "8879b699",
   "metadata": {},
   "source": [
    "# q"
   ]
  },
  {
   "cell_type": "markdown",
   "id": "32087d32",
   "metadata": {},
   "source": [
    "11.Write a Python program to Count occurrences of an element in a list?"
   ]
  },
  {
   "cell_type": "markdown",
   "id": "0b7beeed",
   "metadata": {},
   "source": [
    "# ans"
   ]
  },
  {
   "cell_type": "code",
   "execution_count": 20,
   "id": "4e24bc96",
   "metadata": {},
   "outputs": [
    {
     "name": "stdout",
     "output_type": "stream",
     "text": [
      "enter the elements of the list: [1,1,1,1,1,1,2,5,6,9,3]\n",
      "enter the element to find: 1\n",
      "There are 6 occurences of 1 in [1, 1, 1, 1, 1, 1, 2, 5, 6, 9, 3]\n"
     ]
    }
   ],
   "source": [
    "def count_occurences():\n",
    "    user_input = eval(input('enter the elements of the list: '))\n",
    "    next_input = eval(input('enter the element to find: '))\n",
    "    count = 0\n",
    "    if next_input in user_input:\n",
    "        for i in user_input:\n",
    "            if i == next_input:\n",
    "                count = count+1\n",
    "    print(f'There are {count} occurences of {next_input} in {user_input}')\n",
    "    \n",
    "count_occurences()"
   ]
  },
  {
   "cell_type": "code",
   "execution_count": null,
   "id": "c31137c7",
   "metadata": {},
   "outputs": [],
   "source": []
  }
 ],
 "metadata": {
  "kernelspec": {
   "display_name": "Python 3 (ipykernel)",
   "language": "python",
   "name": "python3"
  },
  "language_info": {
   "codemirror_mode": {
    "name": "ipython",
    "version": 3
   },
   "file_extension": ".py",
   "mimetype": "text/x-python",
   "name": "python",
   "nbconvert_exporter": "python",
   "pygments_lexer": "ipython3",
   "version": "3.9.7"
  }
 },
 "nbformat": 4,
 "nbformat_minor": 5
}
