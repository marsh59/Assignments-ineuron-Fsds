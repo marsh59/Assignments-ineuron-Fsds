{
 "cells": [
  {
   "cell_type": "code",
   "execution_count": null,
   "id": "6f2c57a1",
   "metadata": {},
   "outputs": [],
   "source": []
  },
  {
   "cell_type": "markdown",
   "id": "d416e2ac",
   "metadata": {},
   "source": [
    "# q"
   ]
  },
  {
   "cell_type": "markdown",
   "id": "53fe854b",
   "metadata": {},
   "source": [
    "1.Write a Python program to find words which are greater than given length k?"
   ]
  },
  {
   "cell_type": "markdown",
   "id": "d0bf3b63",
   "metadata": {},
   "source": [
    "# ans"
   ]
  },
  {
   "cell_type": "code",
   "execution_count": 2,
   "id": "475ac32d",
   "metadata": {},
   "outputs": [
    {
     "name": "stdout",
     "output_type": "stream",
     "text": [
      "enter string: sun is moving down\n",
      "enter the length of the string: 3\n",
      "moving,down\n"
     ]
    }
   ],
   "source": [
    "def finding_words():\n",
    "    user_input = input(\"enter string: \")\n",
    "    next_input = int(input('enter the length of the string: '))\n",
    "    result = []\n",
    "    for string in user_input.split(\" \"):\n",
    "        if len(string) > next_input:\n",
    "            result.append(string)\n",
    "    print(','.join(result))\n",
    "\n",
    "finding_words()"
   ]
  },
  {
   "cell_type": "markdown",
   "id": "e12331b5",
   "metadata": {},
   "source": [
    "# q"
   ]
  },
  {
   "cell_type": "markdown",
   "id": "96e9acb4",
   "metadata": {},
   "source": [
    "2.Write a Python program for removing i-th character from a string?"
   ]
  },
  {
   "cell_type": "markdown",
   "id": "4bfc26f2",
   "metadata": {},
   "source": [
    "# ans"
   ]
  },
  {
   "cell_type": "code",
   "execution_count": 5,
   "id": "544cca53",
   "metadata": {},
   "outputs": [
    {
     "name": "stdout",
     "output_type": "stream",
     "text": [
      "enter a string: universe\n",
      "enter the ith character: 1\n",
      "uiverse\n"
     ]
    }
   ],
   "source": [
    "def remove_character():\n",
    "    user_input = input(\"enter a string: \")\n",
    "    char_input = int(input(\"enter the ith character: \"))\n",
    "    result = ''\n",
    "    for i in range(len(user_input)):\n",
    "        if i != char_input:\n",
    "            result= result + user_input[i]\n",
    "    print(result)\n",
    "    \n",
    "remove_character()"
   ]
  },
  {
   "cell_type": "markdown",
   "id": "6026ceba",
   "metadata": {},
   "source": [
    "# q"
   ]
  },
  {
   "cell_type": "markdown",
   "id": "de765296",
   "metadata": {},
   "source": [
    "3.Write a Python program to split and join a string?"
   ]
  },
  {
   "cell_type": "markdown",
   "id": "8a06ddaf",
   "metadata": {},
   "source": [
    "# ans"
   ]
  },
  {
   "cell_type": "code",
   "execution_count": 6,
   "id": "c9ce7dcf",
   "metadata": {},
   "outputs": [
    {
     "name": "stdout",
     "output_type": "stream",
     "text": [
      "enter the string: lion is running and leaping\n",
      "split string: ['lion', 'is', 'running', 'and', 'leaping']\n",
      "join string: lion is running and leaping\n"
     ]
    }
   ],
   "source": [
    "def split_join_string():\n",
    "    user_input = input('enter the string: ')\n",
    "    print(f\"split string: {user_input.split(' ')}\")\n",
    "    print(f\"join string: {' '.join(user_input.split(' '))}\")\n",
    "\n",
    "split_join_string()"
   ]
  },
  {
   "cell_type": "code",
   "execution_count": null,
   "id": "ba323310",
   "metadata": {},
   "outputs": [],
   "source": []
  },
  {
   "cell_type": "markdown",
   "id": "cc037bfb",
   "metadata": {},
   "source": [
    "# q"
   ]
  },
  {
   "cell_type": "markdown",
   "id": "9dd89d60",
   "metadata": {},
   "source": [
    "4.Write a Python to check if a given string is binary string or not?"
   ]
  },
  {
   "cell_type": "markdown",
   "id": "9ee5547b",
   "metadata": {},
   "source": [
    "# ans"
   ]
  },
  {
   "cell_type": "code",
   "execution_count": 9,
   "id": "39be6478",
   "metadata": {},
   "outputs": [
    {
     "name": "stdout",
     "output_type": "stream",
     "text": [
      "enter the string: 6546\n",
      "6546 is not a binary string\n",
      "enter the string: 001001\n",
      "001001 is a binary string\n"
     ]
    }
   ],
   "source": [
    "def check_binary():\n",
    "    user_input = input('enter the string: ')\n",
    "    a = 0\n",
    "    for i in user_input:\n",
    "        if i in ['0','1']:\n",
    "            a = 1\n",
    "            continue\n",
    "        else:\n",
    "            a = 0\n",
    "            break\n",
    "    if a==1:\n",
    "        statement='is a binary string'\n",
    "        print(f'{user_input} {statement}')\n",
    "    else:\n",
    "        statement='is not a binary string'\n",
    "        print(f'{user_input} {statement}')\n",
    "\n",
    "check_binary()\n",
    "check_binary()"
   ]
  },
  {
   "cell_type": "markdown",
   "id": "c4931c0f",
   "metadata": {},
   "source": [
    "# q"
   ]
  },
  {
   "cell_type": "markdown",
   "id": "9cb89006",
   "metadata": {},
   "source": [
    "5.Write a Python program to find uncommon words from two Strings?"
   ]
  },
  {
   "cell_type": "markdown",
   "id": "657daea3",
   "metadata": {},
   "source": [
    "# ans"
   ]
  },
  {
   "cell_type": "code",
   "execution_count": 16,
   "id": "9c3a7bae",
   "metadata": {},
   "outputs": [
    {
     "name": "stdout",
     "output_type": "stream",
     "text": [
      "enter the string 1: generating content is brilliant\n",
      "enter the string 2: generating itself is superb\n",
      "{'itself', 'content', 'superb', 'brilliant'}\n"
     ]
    }
   ],
   "source": [
    "def finding_uncommon_words():\n",
    "    user_input_1 = set(input(\"enter the string 1: \").split(' '))\n",
    "    user_input_2 = set(input(\"enter the string 2: \").split(' '))\n",
    "    result = (user_input_1.union(user_input_2)).difference(user_input_1.intersection(user_input_2))\n",
    "    print(result)\n",
    "\n",
    "finding_uncommon_words()"
   ]
  },
  {
   "cell_type": "markdown",
   "id": "2b58726b",
   "metadata": {},
   "source": [
    "# q"
   ]
  },
  {
   "cell_type": "markdown",
   "id": "d0a66012",
   "metadata": {},
   "source": [
    "6.Write a Python to find all duplicate characters in string?"
   ]
  },
  {
   "cell_type": "markdown",
   "id": "a67f5a36",
   "metadata": {},
   "source": [
    "# ans"
   ]
  },
  {
   "cell_type": "code",
   "execution_count": 18,
   "id": "fd593924",
   "metadata": {},
   "outputs": [
    {
     "name": "stdout",
     "output_type": "stream",
     "text": [
      "enter the string: yeah cat is meowing\n",
      "duplicate characters are: ['i', 'a', 'e', ' ']\n"
     ]
    }
   ],
   "source": [
    "def find_duplicate_characters():\n",
    "    user_input = input('enter the string: ')\n",
    "    non_duplicate_list = []\n",
    "    duplicate_list = []\n",
    "    for i in user_input:\n",
    "        if i not in non_duplicate_list:\n",
    "            non_duplicate_list.append(i)\n",
    "        else:\n",
    "            duplicate_list.append(i)\n",
    "    print(f'duplicate characters are: {list(set(duplicate_list))}')\n",
    "        \n",
    "find_duplicate_characters()"
   ]
  },
  {
   "cell_type": "markdown",
   "id": "31af1f11",
   "metadata": {},
   "source": [
    "# q"
   ]
  },
  {
   "cell_type": "markdown",
   "id": "7e0045e0",
   "metadata": {},
   "source": [
    "7.Write a Python Program to check if a string contains any special character?"
   ]
  },
  {
   "cell_type": "markdown",
   "id": "c1d3fbca",
   "metadata": {},
   "source": [
    "# ans"
   ]
  },
  {
   "cell_type": "code",
   "execution_count": 19,
   "id": "bfe4bb5d",
   "metadata": {},
   "outputs": [
    {
     "name": "stdout",
     "output_type": "stream",
     "text": [
      "Enter the string: % is percentage\n",
      "There are 1 special characters in % is percentage which are ['%']\n",
      "Enter the string: _ is underscore\n",
      "There are 1 special characters in _ is underscore which are ['_']\n"
     ]
    }
   ],
   "source": [
    "def check_special_character():\n",
    "    charact = '[@_!#$%^&*()<>?/\\|}{~:]'\n",
    "    user_input = input('Enter the string: ')\n",
    "    count = 0\n",
    "    result= []\n",
    "    for i in user_input:\n",
    "        if i in charact:\n",
    "            result.append(i)\n",
    "            count = count+1\n",
    "    print(f'There are {count} special characters in {user_input} which are {result}')\n",
    "            \n",
    "        \n",
    "check_special_character()\n",
    "check_special_character()"
   ]
  },
  {
   "cell_type": "code",
   "execution_count": null,
   "id": "27be723b",
   "metadata": {},
   "outputs": [],
   "source": []
  }
 ],
 "metadata": {
  "kernelspec": {
   "display_name": "Python 3 (ipykernel)",
   "language": "python",
   "name": "python3"
  },
  "language_info": {
   "codemirror_mode": {
    "name": "ipython",
    "version": 3
   },
   "file_extension": ".py",
   "mimetype": "text/x-python",
   "name": "python",
   "nbconvert_exporter": "python",
   "pygments_lexer": "ipython3",
   "version": "3.9.7"
  }
 },
 "nbformat": 4,
 "nbformat_minor": 5
}
