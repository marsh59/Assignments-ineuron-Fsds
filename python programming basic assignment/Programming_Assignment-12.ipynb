{
 "cells": [
  {
   "cell_type": "code",
   "execution_count": null,
   "id": "6f2c57a1",
   "metadata": {},
   "outputs": [],
   "source": []
  },
  {
   "cell_type": "markdown",
   "id": "d416e2ac",
   "metadata": {},
   "source": [
    "# q"
   ]
  },
  {
   "cell_type": "markdown",
   "id": "53fe854b",
   "metadata": {},
   "source": [
    "1.Write a Python program to Extract Unique values dictionary values?"
   ]
  },
  {
   "cell_type": "markdown",
   "id": "d0bf3b63",
   "metadata": {},
   "source": [
    "# ans"
   ]
  },
  {
   "cell_type": "code",
   "execution_count": 1,
   "id": "475ac32d",
   "metadata": {},
   "outputs": [
    {
     "name": "stdout",
     "output_type": "stream",
     "text": [
      "dict_values(['bike', 'car', 'ship', 'boat', 'bike', 'submarine', 'car'])\n",
      "unique values: ['ship', 'submarine', 'boat', 'car', 'bike']\n"
     ]
    }
   ],
   "source": [
    "dict_1= {1:'bike',2:'car',3:'ship',4:'boat',5:'bike',6:'submarine',7:'car'}\n",
    "print(dict_1.values())\n",
    "print(f'unique values: {list(set(dict_1.values()))}')"
   ]
  },
  {
   "cell_type": "markdown",
   "id": "e12331b5",
   "metadata": {},
   "source": [
    "# q"
   ]
  },
  {
   "cell_type": "markdown",
   "id": "96e9acb4",
   "metadata": {},
   "source": [
    "2.Write a Python program to find the sum of all items in a dictionary?"
   ]
  },
  {
   "cell_type": "markdown",
   "id": "4bfc26f2",
   "metadata": {},
   "source": [
    "# ans"
   ]
  },
  {
   "cell_type": "code",
   "execution_count": 4,
   "id": "544cca53",
   "metadata": {},
   "outputs": [
    {
     "name": "stdout",
     "output_type": "stream",
     "text": [
      "total sum of grocery is:  267\n"
     ]
    }
   ],
   "source": [
    "a = {'chocolate':7,'nuts':90,'orange':30,'pineapple':40,'coconut':100}\n",
    "print('total sum of grocery is: ',sum(a.values()))"
   ]
  },
  {
   "cell_type": "markdown",
   "id": "6026ceba",
   "metadata": {},
   "source": [
    "# q"
   ]
  },
  {
   "cell_type": "markdown",
   "id": "de765296",
   "metadata": {},
   "source": [
    "3.Write a Python program to Merging two Dictionaries?"
   ]
  },
  {
   "cell_type": "markdown",
   "id": "8a06ddaf",
   "metadata": {},
   "source": [
    "# ans"
   ]
  },
  {
   "cell_type": "code",
   "execution_count": 9,
   "id": "c9ce7dcf",
   "metadata": {},
   "outputs": [
    {
     "name": "stdout",
     "output_type": "stream",
     "text": [
      "{'material_1': 'glass', 'material_2': ['wine', 'gun']}\n"
     ]
    }
   ],
   "source": [
    "item_1 = {'material_1':'glass'}\n",
    "item_2 = {'material_2':['wine','gun']}\n",
    "item_1.update(item_2)\n",
    "print(item_1)"
   ]
  },
  {
   "cell_type": "code",
   "execution_count": null,
   "id": "ba323310",
   "metadata": {},
   "outputs": [],
   "source": []
  },
  {
   "cell_type": "markdown",
   "id": "cc037bfb",
   "metadata": {},
   "source": [
    "# q"
   ]
  },
  {
   "cell_type": "markdown",
   "id": "9dd89d60",
   "metadata": {},
   "source": [
    "4.Write a Python program to convert key-values list to flat dictionary?"
   ]
  },
  {
   "cell_type": "markdown",
   "id": "9ee5547b",
   "metadata": {},
   "source": [
    "# ans"
   ]
  },
  {
   "cell_type": "code",
   "execution_count": 10,
   "id": "39be6478",
   "metadata": {},
   "outputs": [
    {
     "data": {
      "text/plain": [
       "{'bike': 'yamaha', 'boat': 'lambhorgini'}"
      ]
     },
     "execution_count": 10,
     "metadata": {},
     "output_type": "execute_result"
    }
   ],
   "source": [
    "a = [('bike','yamaha'),('boat','lambhorgini')]\n",
    "dict(a)"
   ]
  },
  {
   "cell_type": "markdown",
   "id": "c4931c0f",
   "metadata": {},
   "source": [
    "# q"
   ]
  },
  {
   "cell_type": "markdown",
   "id": "9cb89006",
   "metadata": {},
   "source": [
    "5.Write a Python program to insertion at the beginning in OrderedDict?"
   ]
  },
  {
   "cell_type": "markdown",
   "id": "657daea3",
   "metadata": {},
   "source": [
    "# ans"
   ]
  },
  {
   "cell_type": "code",
   "execution_count": 13,
   "id": "f4f4f8e7",
   "metadata": {},
   "outputs": [],
   "source": [
    "from collections import OrderedDict"
   ]
  },
  {
   "cell_type": "code",
   "execution_count": 18,
   "id": "9c3a7bae",
   "metadata": {},
   "outputs": [
    {
     "name": "stdout",
     "output_type": "stream",
     "text": [
      "OrderedDict([('one', '1'), ('two', '2'), ('three', '3')])\n",
      "OrderedDict([('one', '1'), ('two', '2'), ('three', '3'), ('four', '4')])\n",
      "OrderedDict([('four', '4'), ('one', '1'), ('two', '2'), ('three', '3')])\n"
     ]
    }
   ],
   "source": [
    "a = OrderedDict({'one':'1','two':'2','three':'3'})\n",
    "print(a)\n",
    "b={'four':'4'}\n",
    "a.update(b)\n",
    "print(a)\n",
    "a.move_to_end('four', last = False)\n",
    "print(a)"
   ]
  },
  {
   "cell_type": "markdown",
   "id": "2b58726b",
   "metadata": {},
   "source": [
    "# q"
   ]
  },
  {
   "cell_type": "markdown",
   "id": "d0a66012",
   "metadata": {},
   "source": [
    "6.Write a Python program to check order of character in string using OrderedDict()?"
   ]
  },
  {
   "cell_type": "markdown",
   "id": "a67f5a36",
   "metadata": {},
   "source": [
    "# ans"
   ]
  },
  {
   "cell_type": "code",
   "execution_count": 19,
   "id": "fd593924",
   "metadata": {},
   "outputs": [
    {
     "name": "stdout",
     "output_type": "stream",
     "text": [
      "{'c': 0, 'b': 1}\n",
      "OrderedDict([('b', 1), ('c', 0)])\n"
     ]
    }
   ],
   "source": [
    "from collections import OrderedDict\n",
    "\n",
    "a = {'c':0,'b':1}\n",
    "print(a)\n",
    "\n",
    "result = OrderedDict(dict(sorted(a.items())))\n",
    "print(result)"
   ]
  },
  {
   "cell_type": "markdown",
   "id": "31af1f11",
   "metadata": {},
   "source": [
    "# q"
   ]
  },
  {
   "cell_type": "markdown",
   "id": "7e0045e0",
   "metadata": {},
   "source": [
    "7.Write a Python program to sort Python Dictionaries by Key or Value?"
   ]
  },
  {
   "cell_type": "markdown",
   "id": "c1d3fbca",
   "metadata": {},
   "source": [
    "# ans"
   ]
  },
  {
   "cell_type": "code",
   "execution_count": 21,
   "id": "5dc4e725",
   "metadata": {},
   "outputs": [
    {
     "name": "stdout",
     "output_type": "stream",
     "text": [
      "{'alpha': 7, 'beta': 0, 'delta': 3, 'gamma': 6}\n",
      "{'beta': 0, 'delta': 3, 'gamma': 6, 'alpha': 7}\n"
     ]
    }
   ],
   "source": [
    "dict_1 = {'alpha':7,'beta':0,'gamma':6,'delta':3}\n",
    "\n",
    "def dict_sorter(a,sort_type):\n",
    "    if sort_type == 'key':\n",
    "        print(dict(sorted(a.items(), key=lambda x:x[0], reverse=False)))\n",
    "    else:\n",
    "        print(dict(sorted(a.items(), key=lambda x:x[1], reverse=False)))\n",
    "        \n",
    "dict_sorter(dict_1,'key')        \n",
    "dict_sorter(dict_1,'value')"
   ]
  },
  {
   "cell_type": "code",
   "execution_count": null,
   "id": "01e6e3b9",
   "metadata": {},
   "outputs": [],
   "source": []
  }
 ],
 "metadata": {
  "kernelspec": {
   "display_name": "Python 3 (ipykernel)",
   "language": "python",
   "name": "python3"
  },
  "language_info": {
   "codemirror_mode": {
    "name": "ipython",
    "version": 3
   },
   "file_extension": ".py",
   "mimetype": "text/x-python",
   "name": "python",
   "nbconvert_exporter": "python",
   "pygments_lexer": "ipython3",
   "version": "3.9.7"
  }
 },
 "nbformat": 4,
 "nbformat_minor": 5
}
